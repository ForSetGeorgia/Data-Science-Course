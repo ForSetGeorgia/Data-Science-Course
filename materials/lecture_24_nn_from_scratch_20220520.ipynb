{
 "cells": [
  {
   "cell_type": "markdown",
   "id": "9fea24d5",
   "metadata": {},
   "source": [
    "## Imports"
   ]
  },
  {
   "cell_type": "code",
   "execution_count": 1,
   "id": "8564079a",
   "metadata": {
    "ExecuteTime": {
     "end_time": "2022-05-19T19:43:58.691356Z",
     "start_time": "2022-05-19T19:43:57.330781Z"
    }
   },
   "outputs": [],
   "source": [
    "import numpy as np\n",
    "import pandas as pd\n",
    "\n",
    "from matplotlib import pyplot as plt\n",
    "import seaborn as sns\n",
    "\n",
    "from sklearn.metrics import confusion_matrix, ConfusionMatrixDisplay, classification_report"
   ]
  },
  {
   "cell_type": "code",
   "execution_count": 2,
   "id": "fcc75a80",
   "metadata": {
    "ExecuteTime": {
     "end_time": "2022-05-19T19:43:58.752901Z",
     "start_time": "2022-05-19T19:43:58.692356Z"
    }
   },
   "outputs": [
    {
     "data": {
      "text/html": [
       "<div>\n",
       "<style scoped>\n",
       "    .dataframe tbody tr th:only-of-type {\n",
       "        vertical-align: middle;\n",
       "    }\n",
       "\n",
       "    .dataframe tbody tr th {\n",
       "        vertical-align: top;\n",
       "    }\n",
       "\n",
       "    .dataframe thead th {\n",
       "        text-align: right;\n",
       "    }\n",
       "</style>\n",
       "<table border=\"1\" class=\"dataframe\">\n",
       "  <thead>\n",
       "    <tr style=\"text-align: right;\">\n",
       "      <th></th>\n",
       "      <th>sepal length (cm)</th>\n",
       "      <th>sepal width (cm)</th>\n",
       "      <th>petal length (cm)</th>\n",
       "      <th>petal width (cm)</th>\n",
       "      <th>target</th>\n",
       "      <th>target_name</th>\n",
       "    </tr>\n",
       "  </thead>\n",
       "  <tbody>\n",
       "    <tr>\n",
       "      <th>0</th>\n",
       "      <td>5.1</td>\n",
       "      <td>3.5</td>\n",
       "      <td>1.4</td>\n",
       "      <td>0.2</td>\n",
       "      <td>0</td>\n",
       "      <td>setosa</td>\n",
       "    </tr>\n",
       "    <tr>\n",
       "      <th>1</th>\n",
       "      <td>4.9</td>\n",
       "      <td>3.0</td>\n",
       "      <td>1.4</td>\n",
       "      <td>0.2</td>\n",
       "      <td>0</td>\n",
       "      <td>setosa</td>\n",
       "    </tr>\n",
       "    <tr>\n",
       "      <th>2</th>\n",
       "      <td>4.7</td>\n",
       "      <td>3.2</td>\n",
       "      <td>1.3</td>\n",
       "      <td>0.2</td>\n",
       "      <td>0</td>\n",
       "      <td>setosa</td>\n",
       "    </tr>\n",
       "    <tr>\n",
       "      <th>3</th>\n",
       "      <td>4.6</td>\n",
       "      <td>3.1</td>\n",
       "      <td>1.5</td>\n",
       "      <td>0.2</td>\n",
       "      <td>0</td>\n",
       "      <td>setosa</td>\n",
       "    </tr>\n",
       "    <tr>\n",
       "      <th>4</th>\n",
       "      <td>5.0</td>\n",
       "      <td>3.6</td>\n",
       "      <td>1.4</td>\n",
       "      <td>0.2</td>\n",
       "      <td>0</td>\n",
       "      <td>setosa</td>\n",
       "    </tr>\n",
       "  </tbody>\n",
       "</table>\n",
       "</div>"
      ],
      "text/plain": [
       "   sepal length (cm)  sepal width (cm)  petal length (cm)  petal width (cm)  \\\n",
       "0                5.1               3.5                1.4               0.2   \n",
       "1                4.9               3.0                1.4               0.2   \n",
       "2                4.7               3.2                1.3               0.2   \n",
       "3                4.6               3.1                1.5               0.2   \n",
       "4                5.0               3.6                1.4               0.2   \n",
       "\n",
       "   target target_name  \n",
       "0       0      setosa  \n",
       "1       0      setosa  \n",
       "2       0      setosa  \n",
       "3       0      setosa  \n",
       "4       0      setosa  "
      ]
     },
     "execution_count": 2,
     "metadata": {},
     "output_type": "execute_result"
    }
   ],
   "source": [
    "from sklearn.datasets import load_iris\n",
    "\n",
    "iris = load_iris()\n",
    "\n",
    "iris_data = iris['data']\n",
    "iris_target = iris['target']\n",
    "\n",
    "iris_df = pd.DataFrame(iris['data'], columns=iris['feature_names'])\n",
    "\n",
    "iris_df['target'] = iris_target\n",
    "\n",
    "iris_df['target_name'] = iris_df['target'].map(dict(enumerate(iris['target_names'])))\n",
    "\n",
    "iris_df['target_name'] = iris_df['target_name'].astype('category')\n",
    "\n",
    "iris_df.head()"
   ]
  },
  {
   "cell_type": "code",
   "execution_count": 3,
   "id": "55d2c640",
   "metadata": {
    "ExecuteTime": {
     "end_time": "2022-05-19T19:43:58.768717Z",
     "start_time": "2022-05-19T19:43:58.755496Z"
    }
   },
   "outputs": [],
   "source": [
    "bin_iris_df = iris_df[iris_df['target_name'] != 'setosa']\n",
    "\n",
    "response = 'target'\n",
    "predictors = ['petal width (cm)', 'petal length (cm)']\n",
    "\n",
    "X = bin_iris_df[predictors].values\n",
    "y = (bin_iris_df[response] == 2).astype(np.int32).values.reshape(-1, 1)"
   ]
  },
  {
   "cell_type": "code",
   "execution_count": 4,
   "id": "334b113a",
   "metadata": {
    "ExecuteTime": {
     "end_time": "2022-05-19T19:43:58.784800Z",
     "start_time": "2022-05-19T19:43:58.770753Z"
    }
   },
   "outputs": [
    {
     "data": {
      "text/plain": [
       "((100, 2), (100, 1))"
      ]
     },
     "execution_count": 4,
     "metadata": {},
     "output_type": "execute_result"
    }
   ],
   "source": [
    "X.shape, y.shape"
   ]
  },
  {
   "cell_type": "markdown",
   "id": "e32118fb",
   "metadata": {},
   "source": [
    "## Modelling"
   ]
  },
  {
   "cell_type": "markdown",
   "id": "8f031ac2",
   "metadata": {},
   "source": [
    "### Sigmoid"
   ]
  },
  {
   "cell_type": "code",
   "execution_count": 5,
   "id": "775a62d9",
   "metadata": {
    "ExecuteTime": {
     "end_time": "2022-05-19T19:43:58.800832Z",
     "start_time": "2022-05-19T19:43:58.785819Z"
    }
   },
   "outputs": [],
   "source": [
    "def sigmoid(z):\n",
    "    return 1 / (1 + np.exp(-z))"
   ]
  },
  {
   "cell_type": "markdown",
   "id": "a51f8063",
   "metadata": {},
   "source": [
    "### Weights and Biases Init"
   ]
  },
  {
   "cell_type": "code",
   "execution_count": 6,
   "id": "1ece2cbd",
   "metadata": {
    "ExecuteTime": {
     "end_time": "2022-05-19T19:43:58.816942Z",
     "start_time": "2022-05-19T19:43:58.801919Z"
    }
   },
   "outputs": [],
   "source": [
    "def initialize_with_zeros(dim):\n",
    "    return np.zeros((dim, 1)), 0"
   ]
  },
  {
   "cell_type": "code",
   "execution_count": 7,
   "id": "d80e7f40",
   "metadata": {
    "ExecuteTime": {
     "end_time": "2022-05-19T19:43:58.832945Z",
     "start_time": "2022-05-19T19:43:58.818815Z"
    }
   },
   "outputs": [],
   "source": [
    "w, b = initialize_with_zeros(X.shape[1])"
   ]
  },
  {
   "cell_type": "code",
   "execution_count": 8,
   "id": "a8aad079",
   "metadata": {
    "ExecuteTime": {
     "end_time": "2022-05-19T19:43:58.848968Z",
     "start_time": "2022-05-19T19:43:58.834219Z"
    }
   },
   "outputs": [
    {
     "data": {
      "text/plain": [
       "(100, 2)"
      ]
     },
     "execution_count": 8,
     "metadata": {},
     "output_type": "execute_result"
    }
   ],
   "source": [
    "X.shape"
   ]
  },
  {
   "cell_type": "code",
   "execution_count": 9,
   "id": "16021633",
   "metadata": {
    "ExecuteTime": {
     "end_time": "2022-05-19T19:43:58.864373Z",
     "start_time": "2022-05-19T19:43:58.850797Z"
    }
   },
   "outputs": [
    {
     "data": {
      "text/plain": [
       "(2, 1)"
      ]
     },
     "execution_count": 9,
     "metadata": {},
     "output_type": "execute_result"
    }
   ],
   "source": [
    "w.shape"
   ]
  },
  {
   "cell_type": "markdown",
   "id": "553f6fc4",
   "metadata": {},
   "source": [
    "### Forward-Backward Propagation"
   ]
  },
  {
   "cell_type": "markdown",
   "id": "8990bb75",
   "metadata": {},
   "source": [
    "Forward Propagation:\n",
    "- start with $X$\n",
    "- compute $A = \\sigma(X \\times w+ b) = (a^{(1)}, a^{(2)}, ..., a^{(m-1)}, a^{(m)})$\n",
    "- calculate the cost function: $J = -\\frac{1}{m}\\sum_{i=1}^{m}y^{(i)}\\log(a^{(i)})+(1-y^{(i)})\\log(1-a^{(i)})$\n",
    "\n",
    "partial deritavite formulas: \n",
    "\n",
    "$$ \\frac{\\partial J}{\\partial w} = \\frac{1}{m}X^T(A-Y)$$\n",
    "$$ \\frac{\\partial J}{\\partial b} = \\frac{1}{m} \\sum_{i=1}^m (a^{(i)}-y^{(i)})$$"
   ]
  },
  {
   "cell_type": "code",
   "execution_count": 10,
   "id": "5cefa97b",
   "metadata": {
    "ExecuteTime": {
     "end_time": "2022-05-19T19:43:58.880001Z",
     "start_time": "2022-05-19T19:43:58.866365Z"
    }
   },
   "outputs": [],
   "source": [
    "m = X.shape[0]\n",
    "\n",
    "A = sigmoid(np.dot(X, w) + b)\n",
    "cost = -(np.sum(y * np.log(A) + (1-y) * np.log(1-A))) / m\n",
    "\n",
    "dw = np.dot(X.T, (A-y)) / m\n",
    "db = np.sum(A-y) / m\n",
    "\n",
    "grads = {\"dw\": dw, \"db\": db}"
   ]
  },
  {
   "cell_type": "code",
   "execution_count": 11,
   "id": "589da9ae",
   "metadata": {
    "ExecuteTime": {
     "end_time": "2022-05-19T19:43:58.895837Z",
     "start_time": "2022-05-19T19:43:58.881840Z"
    }
   },
   "outputs": [
    {
     "data": {
      "text/plain": [
       "((2, 1), (2, 1))"
      ]
     },
     "execution_count": 11,
     "metadata": {},
     "output_type": "execute_result"
    }
   ],
   "source": [
    "dw.shape, w.shape"
   ]
  },
  {
   "cell_type": "code",
   "execution_count": 12,
   "id": "048c7a8a",
   "metadata": {
    "ExecuteTime": {
     "end_time": "2022-05-19T19:43:58.911749Z",
     "start_time": "2022-05-19T19:43:58.897833Z"
    }
   },
   "outputs": [
    {
     "data": {
      "text/plain": [
       "((100, 1), 0.6931471805599453)"
      ]
     },
     "execution_count": 12,
     "metadata": {},
     "output_type": "execute_result"
    }
   ],
   "source": [
    "A.shape, cost"
   ]
  },
  {
   "cell_type": "code",
   "execution_count": 13,
   "id": "00a2a41b",
   "metadata": {
    "ExecuteTime": {
     "end_time": "2022-05-19T19:43:58.927098Z",
     "start_time": "2022-05-19T19:43:58.913399Z"
    }
   },
   "outputs": [],
   "source": [
    "def propagate(w, b, X, Y):\n",
    "    m = X.shape[0]\n",
    "\n",
    "    A = sigmoid(np.dot(X, w) + b)\n",
    "    cost = -(np.sum(y * np.log(A) + (1-y) * np.log(1-A))) / m\n",
    "\n",
    "    dw = np.dot(X.T, (A-y)) / m\n",
    "    db = np.sum(A-y) / m\n",
    "\n",
    "    grads = {\"dw\": dw, \"db\": db}\n",
    "    \n",
    "    return grads, cost"
   ]
  },
  {
   "cell_type": "code",
   "execution_count": null,
   "id": "4524540a",
   "metadata": {},
   "outputs": [],
   "source": []
  },
  {
   "cell_type": "markdown",
   "id": "e2e4c5ce",
   "metadata": {},
   "source": [
    "### Optimize"
   ]
  },
  {
   "cell_type": "code",
   "execution_count": 14,
   "id": "d08f910e",
   "metadata": {
    "ExecuteTime": {
     "end_time": "2022-05-19T19:43:58.942596Z",
     "start_time": "2022-05-19T19:43:58.928094Z"
    }
   },
   "outputs": [],
   "source": [
    "def optimize(w, b, X, y, num_iterations, learning_rate, print_cost=False):\n",
    "    costs = []\n",
    "    \n",
    "    for i in range(num_iterations):\n",
    "        grads, cost = propagate(w, b, X, y)\n",
    "        \n",
    "        # derivatives\n",
    "        dw = grads[\"dw\"]\n",
    "        db = grads[\"db\"]\n",
    "        \n",
    "        # update weights and biases\n",
    "        w = w - learning_rate * dw\n",
    "        b = b - learning_rate * db\n",
    "        \n",
    "        if i % 100 == 0:\n",
    "            costs.append(cost)\n",
    "        \n",
    "        if print_cost and i % 100 == 0:\n",
    "            print (\"Cost after iteration %i: %f\" %(i, cost))\n",
    "    \n",
    "    params = {\"w\": w, \"b\": b}\n",
    "    grads = {\"dw\": dw, \"db\": db}\n",
    "    \n",
    "    return params, grads, costs"
   ]
  },
  {
   "cell_type": "markdown",
   "id": "d4e8277d",
   "metadata": {},
   "source": [
    "### Predict"
   ]
  },
  {
   "cell_type": "code",
   "execution_count": 15,
   "id": "8e88d5a7",
   "metadata": {
    "ExecuteTime": {
     "end_time": "2022-05-19T19:43:58.958556Z",
     "start_time": "2022-05-19T19:43:58.943739Z"
    }
   },
   "outputs": [],
   "source": [
    "def predict(w, b, X, edge=0.5):\n",
    "    m = X.shape[0]\n",
    "    A = sigmoid(np.dot(X, w) + b)\n",
    "    y_pred = np.where(A > edge, 1, 0)\n",
    "    return y_pred"
   ]
  },
  {
   "cell_type": "markdown",
   "id": "f570e3f8",
   "metadata": {},
   "source": [
    "### Final Model"
   ]
  },
  {
   "cell_type": "code",
   "execution_count": 16,
   "id": "5f6b6ec0",
   "metadata": {
    "ExecuteTime": {
     "end_time": "2022-05-19T19:43:58.973572Z",
     "start_time": "2022-05-19T19:43:58.960457Z"
    }
   },
   "outputs": [],
   "source": [
    "def model(X_train, y_train, X_test, y_test, num_iterations=1000, learning_rate=0.5, print_cost=False):\n",
    "    # initialize parameters with zeros\n",
    "    w, b = initialize_with_zeros(X_train.shape[1])\n",
    "\n",
    "    # Gradient descent\n",
    "    parameters, grads, costs = optimize(w, b, X_train, y_train, num_iterations, learning_rate, print_cost)\n",
    "    \n",
    "    w = parameters[\"w\"]\n",
    "    b = parameters[\"b\"]\n",
    "    \n",
    "    # Predict \n",
    "    y_pred_test = predict(w, b, X_test)\n",
    "    y_pred_train = predict(w, b, X_train)\n",
    "\n",
    "    # Print Errors\n",
    "    train_error = 100 - np.mean(np.abs(y_pred_train - y_train)) * 100\n",
    "    test_error = 100 - np.mean(np.abs(y_pred_test - y_test)) * 100\n",
    "    print(f\"train accuracy: {train_error:.2f} %\")\n",
    "    print(f\"test accuracy: {train_error:.2f} %\")\n",
    "\n",
    "    d = {\"costs\": costs,\n",
    "         \"y_pred_test\": y_pred_test, \n",
    "         \"y_pred_train\" : y_pred_train, \n",
    "         \"w\" : w, \n",
    "         \"b\" : b,\n",
    "         \"learning_rate\" : learning_rate,\n",
    "         \"num_iterations\": num_iterations}\n",
    "    \n",
    "    return d"
   ]
  },
  {
   "cell_type": "code",
   "execution_count": 17,
   "id": "2899d8fa",
   "metadata": {
    "ExecuteTime": {
     "end_time": "2022-05-19T19:43:59.020001Z",
     "start_time": "2022-05-19T19:43:58.975456Z"
    }
   },
   "outputs": [
    {
     "name": "stdout",
     "output_type": "stream",
     "text": [
      "Cost after iteration 0: 0.693147\n",
      "Cost after iteration 100: 0.808687\n",
      "Cost after iteration 200: 0.537897\n",
      "Cost after iteration 300: 0.284322\n",
      "Cost after iteration 400: 0.254466\n",
      "Cost after iteration 500: 0.239208\n",
      "Cost after iteration 600: 0.226993\n",
      "Cost after iteration 700: 0.216957\n",
      "Cost after iteration 800: 0.208540\n",
      "Cost after iteration 900: 0.201362\n",
      "train accuracy: 95.00 %\n",
      "test accuracy: 95.00 %\n"
     ]
    }
   ],
   "source": [
    "d = model(X, y, X, y, print_cost=True)"
   ]
  },
  {
   "cell_type": "code",
   "execution_count": 18,
   "id": "4217b8e7",
   "metadata": {
    "ExecuteTime": {
     "end_time": "2022-05-19T19:43:59.035159Z",
     "start_time": "2022-05-19T19:43:59.021001Z"
    }
   },
   "outputs": [],
   "source": [
    "y_pred = d[\"y_pred_test\"]"
   ]
  },
  {
   "cell_type": "code",
   "execution_count": 19,
   "id": "46a424c6",
   "metadata": {
    "ExecuteTime": {
     "end_time": "2022-05-19T19:43:59.143359Z",
     "start_time": "2022-05-19T19:43:59.035661Z"
    }
   },
   "outputs": [
    {
     "data": {
      "image/png": "[encoded data removed]",
      "text/plain": [
       "<Figure size 432x288 with 2 Axes>"
      ]
     },
     "metadata": {
      "needs_background": "light"
     },
     "output_type": "display_data"
    }
   ],
   "source": [
    "cm = confusion_matrix(y, y_pred)\n",
    "disp = ConfusionMatrixDisplay(confusion_matrix=cm)\n",
    "disp.plot()\n",
    "plt.show()"
   ]
  },
  {
   "cell_type": "code",
   "execution_count": 20,
   "id": "9b5feac7",
   "metadata": {
    "ExecuteTime": {
     "end_time": "2022-05-19T19:43:59.159350Z",
     "start_time": "2022-05-19T19:43:59.145274Z"
    }
   },
   "outputs": [
    {
     "name": "stdout",
     "output_type": "stream",
     "text": [
      "              precision    recall  f1-score   support\n",
      "\n",
      "           0       0.94      0.96      0.95        50\n",
      "           1       0.96      0.94      0.95        50\n",
      "\n",
      "    accuracy                           0.95       100\n",
      "   macro avg       0.95      0.95      0.95       100\n",
      "weighted avg       0.95      0.95      0.95       100\n",
      "\n"
     ]
    }
   ],
   "source": [
    "print(classification_report(y, y_pred))"
   ]
  }
 ],
 "metadata": {
  "kernelspec": {
   "display_name": "Python 3 (ipykernel)",
   "language": "python",
   "name": "python3"
  },
  "language_info": {
   "codemirror_mode": {
    "name": "ipython",
    "version": 3
   },
   "file_extension": ".py",
   "mimetype": "text/x-python",
   "name": "python",
   "nbconvert_exporter": "python",
   "pygments_lexer": "ipython3",
   "version": "3.9.7"
  },
  "toc": {
   "base_numbering": 1,
   "nav_menu": {},
   "number_sections": true,
   "sideBar": true,
   "skip_h1_title": false,
   "title_cell": "Table of Contents",
   "title_sidebar": "Contents",
   "toc_cell": false,
   "toc_position": {},
   "toc_section_display": true,
   "toc_window_display": true
  }
 },
 "nbformat": 4,
 "nbformat_minor": 5
}
