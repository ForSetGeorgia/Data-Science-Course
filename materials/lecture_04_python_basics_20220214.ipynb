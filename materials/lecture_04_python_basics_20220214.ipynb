{
 "cells": [
  {
   "cell_type": "markdown",
   "metadata": {},
   "source": [
    "# Python Basics"
   ]
  },
  {
   "cell_type": "markdown",
   "metadata": {},
   "source": [
    "## Basics"
   ]
  },
  {
   "cell_type": "markdown",
   "metadata": {},
   "source": [
    "### Primitive Operators\n",
    "Python can be used as a calculator"
   ]
  },
  {
   "cell_type": "code",
   "execution_count": 1,
   "metadata": {
    "ExecuteTime": {
     "end_time": "2022-02-14T17:30:44.941312Z",
     "start_time": "2022-02-14T17:30:44.917645Z"
    }
   },
   "outputs": [
    {
     "data": {
      "text/plain": [
       "9"
      ]
     },
     "execution_count": 1,
     "metadata": {},
     "output_type": "execute_result"
    }
   ],
   "source": [
    "4+5"
   ]
  },
  {
   "cell_type": "code",
   "execution_count": 2,
   "metadata": {
    "ExecuteTime": {
     "end_time": "2022-02-14T17:30:44.956869Z",
     "start_time": "2022-02-14T17:30:44.943604Z"
    }
   },
   "outputs": [
    {
     "data": {
      "text/plain": [
       "5"
      ]
     },
     "execution_count": 2,
     "metadata": {},
     "output_type": "execute_result"
    }
   ],
   "source": [
    "7-2"
   ]
  },
  {
   "cell_type": "code",
   "execution_count": 3,
   "metadata": {
    "ExecuteTime": {
     "end_time": "2022-02-14T17:30:44.972991Z",
     "start_time": "2022-02-14T17:30:44.958612Z"
    }
   },
   "outputs": [
    {
     "data": {
      "text/plain": [
       "27"
      ]
     },
     "execution_count": 3,
     "metadata": {},
     "output_type": "execute_result"
    }
   ],
   "source": [
    "3*9"
   ]
  },
  {
   "cell_type": "code",
   "execution_count": 4,
   "metadata": {
    "ExecuteTime": {
     "end_time": "2022-02-14T17:30:44.988083Z",
     "start_time": "2022-02-14T17:30:44.975026Z"
    }
   },
   "outputs": [
    {
     "data": {
      "text/plain": [
       "4.5"
      ]
     },
     "execution_count": 4,
     "metadata": {},
     "output_type": "execute_result"
    }
   ],
   "source": [
    "9/2"
   ]
  },
  {
   "cell_type": "markdown",
   "metadata": {},
   "source": [
    "`//` is a floor division operator\n",
    "\n",
    "`9 // 2 = 4`"
   ]
  },
  {
   "cell_type": "code",
   "execution_count": 5,
   "metadata": {
    "ExecuteTime": {
     "end_time": "2022-02-14T17:30:45.004064Z",
     "start_time": "2022-02-14T17:30:44.990082Z"
    }
   },
   "outputs": [
    {
     "data": {
      "text/plain": [
       "4"
      ]
     },
     "execution_count": 5,
     "metadata": {},
     "output_type": "execute_result"
    }
   ],
   "source": [
    "9//2"
   ]
  },
  {
   "cell_type": "markdown",
   "metadata": {},
   "source": [
    "`%` is a modulus operator, it returns remainder from division\n",
    "\n",
    "`9 % 2 = 1`"
   ]
  },
  {
   "cell_type": "code",
   "execution_count": 6,
   "metadata": {
    "ExecuteTime": {
     "end_time": "2022-02-14T17:30:45.018793Z",
     "start_time": "2022-02-14T17:30:45.005061Z"
    }
   },
   "outputs": [
    {
     "data": {
      "text/plain": [
       "1"
      ]
     },
     "execution_count": 6,
     "metadata": {},
     "output_type": "execute_result"
    }
   ],
   "source": [
    "9%2"
   ]
  },
  {
   "cell_type": "markdown",
   "metadata": {},
   "source": [
    "`**` is an exponentiation (power) operator\n",
    "\n",
    "`2 ** 5 = 32`"
   ]
  },
  {
   "cell_type": "code",
   "execution_count": null,
   "metadata": {},
   "outputs": [],
   "source": []
  },
  {
   "cell_type": "code",
   "execution_count": 7,
   "metadata": {
    "ExecuteTime": {
     "end_time": "2022-02-14T17:30:45.034113Z",
     "start_time": "2022-02-14T17:30:45.020793Z"
    }
   },
   "outputs": [
    {
     "data": {
      "text/plain": [
       "32"
      ]
     },
     "execution_count": 7,
     "metadata": {},
     "output_type": "execute_result"
    }
   ],
   "source": [
    "2**5"
   ]
  },
  {
   "cell_type": "code",
   "execution_count": 8,
   "metadata": {
    "ExecuteTime": {
     "end_time": "2022-02-14T17:30:45.050039Z",
     "start_time": "2022-02-14T17:30:45.036076Z"
    }
   },
   "outputs": [
    {
     "data": {
      "text/plain": [
       "125"
      ]
     },
     "execution_count": 8,
     "metadata": {},
     "output_type": "execute_result"
    }
   ],
   "source": [
    "5**3"
   ]
  },
  {
   "cell_type": "code",
   "execution_count": 9,
   "metadata": {
    "ExecuteTime": {
     "end_time": "2022-02-14T17:30:45.064972Z",
     "start_time": "2022-02-14T17:30:45.051915Z"
    }
   },
   "outputs": [
    {
     "data": {
      "text/plain": [
       "1.4142135623730951"
      ]
     },
     "execution_count": 9,
     "metadata": {},
     "output_type": "execute_result"
    }
   ],
   "source": [
    "2 ** (1/2)"
   ]
  },
  {
   "cell_type": "code",
   "execution_count": 10,
   "metadata": {
    "ExecuteTime": {
     "end_time": "2022-02-14T17:30:45.080111Z",
     "start_time": "2022-02-14T17:30:45.066607Z"
    }
   },
   "outputs": [
    {
     "data": {
      "text/plain": [
       "2.154434690031884"
      ]
     },
     "execution_count": 10,
     "metadata": {},
     "output_type": "execute_result"
    }
   ],
   "source": [
    "10 ** (1/3)"
   ]
  },
  {
   "cell_type": "code",
   "execution_count": 11,
   "metadata": {
    "ExecuteTime": {
     "end_time": "2022-02-14T17:30:45.095537Z",
     "start_time": "2022-02-14T17:30:45.081278Z"
    }
   },
   "outputs": [
    {
     "data": {
      "text/plain": [
       "4.0"
      ]
     },
     "execution_count": 11,
     "metadata": {},
     "output_type": "execute_result"
    }
   ],
   "source": [
    "16 ** (1/2)"
   ]
  },
  {
   "cell_type": "code",
   "execution_count": 12,
   "metadata": {
    "ExecuteTime": {
     "end_time": "2022-02-14T17:30:45.111447Z",
     "start_time": "2022-02-14T17:30:45.098451Z"
    }
   },
   "outputs": [
    {
     "data": {
      "text/plain": [
       "2.0"
      ]
     },
     "execution_count": 12,
     "metadata": {},
     "output_type": "execute_result"
    }
   ],
   "source": [
    "8**(1/3)"
   ]
  },
  {
   "cell_type": "code",
   "execution_count": 13,
   "metadata": {
    "ExecuteTime": {
     "end_time": "2022-02-14T17:30:45.126992Z",
     "start_time": "2022-02-14T17:30:45.112890Z"
    }
   },
   "outputs": [
    {
     "data": {
      "text/plain": [
       "5.0"
      ]
     },
     "execution_count": 13,
     "metadata": {},
     "output_type": "execute_result"
    }
   ],
   "source": [
    "125 ** (1/3)"
   ]
  },
  {
   "cell_type": "code",
   "execution_count": 14,
   "metadata": {
    "ExecuteTime": {
     "end_time": "2022-02-14T17:30:45.142123Z",
     "start_time": "2022-02-14T17:30:45.128121Z"
    }
   },
   "outputs": [
    {
     "data": {
      "text/plain": [
       "4.029999999999999"
      ]
     },
     "execution_count": 14,
     "metadata": {},
     "output_type": "execute_result"
    }
   ],
   "source": [
    "2.01 + 2.02"
   ]
  },
  {
   "cell_type": "markdown",
   "metadata": {},
   "source": [
    "### print()\n",
    "In Python `print()` function tells the program to display given argument(s)"
   ]
  },
  {
   "cell_type": "code",
   "execution_count": 15,
   "metadata": {
    "ExecuteTime": {
     "end_time": "2022-02-14T17:30:45.157432Z",
     "start_time": "2022-02-14T17:30:45.143340Z"
    }
   },
   "outputs": [
    {
     "name": "stdout",
     "output_type": "stream",
     "text": [
      "\n"
     ]
    }
   ],
   "source": [
    "print()"
   ]
  },
  {
   "cell_type": "code",
   "execution_count": 16,
   "metadata": {
    "ExecuteTime": {
     "end_time": "2022-02-14T17:30:45.172603Z",
     "start_time": "2022-02-14T17:30:45.158604Z"
    }
   },
   "outputs": [
    {
     "name": "stdout",
     "output_type": "stream",
     "text": [
      "Hello, World!\n"
     ]
    }
   ],
   "source": [
    "print(\"Hello, World!\")"
   ]
  },
  {
   "cell_type": "code",
   "execution_count": 17,
   "metadata": {
    "ExecuteTime": {
     "end_time": "2022-02-14T17:30:45.188510Z",
     "start_time": "2022-02-14T17:30:45.173603Z"
    }
   },
   "outputs": [
    {
     "name": "stdout",
     "output_type": "stream",
     "text": [
      "Hello, World!\n"
     ]
    }
   ],
   "source": [
    "print('Hello, World!')"
   ]
  },
  {
   "cell_type": "code",
   "execution_count": 18,
   "metadata": {
    "ExecuteTime": {
     "end_time": "2022-02-14T17:30:45.203725Z",
     "start_time": "2022-02-14T17:30:45.189511Z"
    }
   },
   "outputs": [
    {
     "name": "stdout",
     "output_type": "stream",
     "text": [
      "Hello, World! this is second argument 42\n"
     ]
    }
   ],
   "source": [
    "print(\"Hello, World!\", \"this is second argument\", 42)"
   ]
  },
  {
   "cell_type": "markdown",
   "metadata": {},
   "source": [
    "by default `print()` has new line (`\\n`) at the end, but can also take `end` optional argument"
   ]
  },
  {
   "cell_type": "code",
   "execution_count": 19,
   "metadata": {
    "ExecuteTime": {
     "end_time": "2022-02-14T17:30:45.219882Z",
     "start_time": "2022-02-14T17:30:45.204724Z"
    }
   },
   "outputs": [
    {
     "name": "stdout",
     "output_type": "stream",
     "text": [
      "1\n",
      "2\n",
      "five\n"
     ]
    }
   ],
   "source": [
    "print(1)\n",
    "print(2)\n",
    "print('five')"
   ]
  },
  {
   "cell_type": "code",
   "execution_count": 20,
   "metadata": {
    "ExecuteTime": {
     "end_time": "2022-02-14T17:30:45.236029Z",
     "start_time": "2022-02-14T17:30:45.220909Z"
    }
   },
   "outputs": [
    {
     "name": "stdout",
     "output_type": "stream",
     "text": [
      "1 _ +2five\n",
      "six\n"
     ]
    }
   ],
   "source": [
    "print(1, end = ' _ +')\n",
    "print(2, end = '')\n",
    "print('five')\n",
    "print('six')"
   ]
  },
  {
   "cell_type": "markdown",
   "metadata": {},
   "source": [
    " `\\` with other characters: `\\'`- ', `\\\"` - \", `\\n` - new line, `\\t`- tab,"
   ]
  },
  {
   "cell_type": "code",
   "execution_count": 21,
   "metadata": {
    "ExecuteTime": {
     "end_time": "2022-02-14T17:30:45.251058Z",
     "start_time": "2022-02-14T17:30:45.238043Z"
    }
   },
   "outputs": [
    {
     "name": "stdout",
     "output_type": "stream",
     "text": [
      "this is second \" argument\n"
     ]
    }
   ],
   "source": [
    "print(\"this is second \\\" argument\")"
   ]
  },
  {
   "cell_type": "code",
   "execution_count": 22,
   "metadata": {
    "ExecuteTime": {
     "end_time": "2022-02-14T17:30:45.267189Z",
     "start_time": "2022-02-14T17:30:45.252092Z"
    }
   },
   "outputs": [
    {
     "name": "stdout",
     "output_type": "stream",
     "text": [
      "this is second \" argument\n"
     ]
    }
   ],
   "source": [
    "print('this is second \" argument')"
   ]
  },
  {
   "cell_type": "code",
   "execution_count": 23,
   "metadata": {
    "ExecuteTime": {
     "end_time": "2022-02-14T17:30:45.282408Z",
     "start_time": "2022-02-14T17:30:45.268380Z"
    }
   },
   "outputs": [
    {
     "name": "stdout",
     "output_type": "stream",
     "text": [
      "this is second ' argument\n"
     ]
    }
   ],
   "source": [
    "print('this is second \\' argument')"
   ]
  },
  {
   "cell_type": "code",
   "execution_count": 24,
   "metadata": {
    "ExecuteTime": {
     "end_time": "2022-02-14T17:30:45.298461Z",
     "start_time": "2022-02-14T17:30:45.284378Z"
    }
   },
   "outputs": [
    {
     "name": "stdout",
     "output_type": "stream",
     "text": [
      "this is second ' argument\n"
     ]
    }
   ],
   "source": [
    "print(\"this is second ' argument\")"
   ]
  },
  {
   "cell_type": "code",
   "execution_count": 25,
   "metadata": {
    "ExecuteTime": {
     "end_time": "2022-02-14T17:30:45.313614Z",
     "start_time": "2022-02-14T17:30:45.300385Z"
    }
   },
   "outputs": [
    {
     "name": "stdout",
     "output_type": "stream",
     "text": [
      "\\\"\n"
     ]
    }
   ],
   "source": [
    "print(\"\\\\\\\"\")"
   ]
  },
  {
   "cell_type": "code",
   "execution_count": 26,
   "metadata": {
    "ExecuteTime": {
     "end_time": "2022-02-14T17:30:45.328631Z",
     "start_time": "2022-02-14T17:30:45.314660Z"
    }
   },
   "outputs": [
    {
     "name": "stdout",
     "output_type": "stream",
     "text": [
      "Hello, \"world\"\n"
     ]
    }
   ],
   "source": [
    "print(\"Hello, \\\"world\\\"\")"
   ]
  },
  {
   "cell_type": "code",
   "execution_count": 27,
   "metadata": {
    "ExecuteTime": {
     "end_time": "2022-02-14T17:30:45.344634Z",
     "start_time": "2022-02-14T17:30:45.329614Z"
    }
   },
   "outputs": [
    {
     "name": "stdout",
     "output_type": "stream",
     "text": [
      "abc'gsdghsgs\n",
      "some\ttext with\n",
      "new line \n",
      "\n",
      "\n",
      "\n",
      "IS HERE\n"
     ]
    }
   ],
   "source": [
    "print('abc\\'gsdghsgs')\n",
    "print('some\\ttext with\\nnew line \\n\\n\\n\\nIS HERE')"
   ]
  },
  {
   "cell_type": "markdown",
   "metadata": {},
   "source": [
    "### Primitive Datatypes"
   ]
  },
  {
   "cell_type": "code",
   "execution_count": 28,
   "metadata": {
    "ExecuteTime": {
     "end_time": "2022-02-14T17:30:45.360616Z",
     "start_time": "2022-02-14T17:30:45.345630Z"
    }
   },
   "outputs": [],
   "source": [
    "a = 6 # integer\n",
    "b = 7.5 # float\n",
    "c = True\n",
    "d = \"some text\"\n",
    "e = None"
   ]
  },
  {
   "cell_type": "code",
   "execution_count": 29,
   "metadata": {
    "ExecuteTime": {
     "end_time": "2022-02-14T17:30:45.376730Z",
     "start_time": "2022-02-14T17:30:45.362615Z"
    }
   },
   "outputs": [
    {
     "data": {
      "text/plain": [
       "6"
      ]
     },
     "execution_count": 29,
     "metadata": {},
     "output_type": "execute_result"
    }
   ],
   "source": [
    "a"
   ]
  },
  {
   "cell_type": "code",
   "execution_count": 30,
   "metadata": {
    "ExecuteTime": {
     "end_time": "2022-02-14T17:30:45.392627Z",
     "start_time": "2022-02-14T17:30:45.377779Z"
    }
   },
   "outputs": [
    {
     "data": {
      "text/plain": [
       "7.5"
      ]
     },
     "execution_count": 30,
     "metadata": {},
     "output_type": "execute_result"
    }
   ],
   "source": [
    "b"
   ]
  },
  {
   "cell_type": "code",
   "execution_count": 31,
   "metadata": {
    "ExecuteTime": {
     "end_time": "2022-02-14T17:30:45.407874Z",
     "start_time": "2022-02-14T17:30:45.393777Z"
    }
   },
   "outputs": [
    {
     "data": {
      "text/plain": [
       "'some text'"
      ]
     },
     "execution_count": 31,
     "metadata": {},
     "output_type": "execute_result"
    }
   ],
   "source": [
    "d"
   ]
  },
  {
   "cell_type": "code",
   "execution_count": 32,
   "metadata": {
    "ExecuteTime": {
     "end_time": "2022-02-14T17:30:45.423314Z",
     "start_time": "2022-02-14T17:30:45.409707Z"
    }
   },
   "outputs": [
    {
     "name": "stdout",
     "output_type": "stream",
     "text": [
      "some text\n"
     ]
    }
   ],
   "source": [
    "print(d)"
   ]
  },
  {
   "cell_type": "markdown",
   "metadata": {},
   "source": [
    "#### type()\n",
    "`type()` function returns the type of an object."
   ]
  },
  {
   "cell_type": "code",
   "execution_count": 33,
   "metadata": {
    "ExecuteTime": {
     "end_time": "2022-02-14T17:30:45.439294Z",
     "start_time": "2022-02-14T17:30:45.424215Z"
    }
   },
   "outputs": [
    {
     "data": {
      "text/plain": [
       "int"
      ]
     },
     "execution_count": 33,
     "metadata": {},
     "output_type": "execute_result"
    }
   ],
   "source": [
    "type(12)"
   ]
  },
  {
   "cell_type": "code",
   "execution_count": 34,
   "metadata": {
    "ExecuteTime": {
     "end_time": "2022-02-14T17:30:45.454509Z",
     "start_time": "2022-02-14T17:30:45.440869Z"
    }
   },
   "outputs": [
    {
     "data": {
      "text/plain": [
       "int"
      ]
     },
     "execution_count": 34,
     "metadata": {},
     "output_type": "execute_result"
    }
   ],
   "source": [
    "type(a)"
   ]
  },
  {
   "cell_type": "code",
   "execution_count": 35,
   "metadata": {
    "ExecuteTime": {
     "end_time": "2022-02-14T17:30:45.470472Z",
     "start_time": "2022-02-14T17:30:45.455472Z"
    }
   },
   "outputs": [
    {
     "data": {
      "text/plain": [
       "float"
      ]
     },
     "execution_count": 35,
     "metadata": {},
     "output_type": "execute_result"
    }
   ],
   "source": [
    "type(3.4)"
   ]
  },
  {
   "cell_type": "code",
   "execution_count": 36,
   "metadata": {
    "ExecuteTime": {
     "end_time": "2022-02-14T17:30:45.485979Z",
     "start_time": "2022-02-14T17:30:45.471472Z"
    }
   },
   "outputs": [
    {
     "data": {
      "text/plain": [
       "float"
      ]
     },
     "execution_count": 36,
     "metadata": {},
     "output_type": "execute_result"
    }
   ],
   "source": [
    "type(b)"
   ]
  },
  {
   "cell_type": "code",
   "execution_count": 37,
   "metadata": {
    "ExecuteTime": {
     "end_time": "2022-02-14T17:30:45.501338Z",
     "start_time": "2022-02-14T17:30:45.487209Z"
    }
   },
   "outputs": [
    {
     "data": {
      "text/plain": [
       "str"
      ]
     },
     "execution_count": 37,
     "metadata": {},
     "output_type": "execute_result"
    }
   ],
   "source": [
    "type('Hello, World!')"
   ]
  },
  {
   "cell_type": "code",
   "execution_count": 38,
   "metadata": {
    "ExecuteTime": {
     "end_time": "2022-02-14T17:30:45.517288Z",
     "start_time": "2022-02-14T17:30:45.503208Z"
    }
   },
   "outputs": [
    {
     "data": {
      "text/plain": [
       "bool"
      ]
     },
     "execution_count": 38,
     "metadata": {},
     "output_type": "execute_result"
    }
   ],
   "source": [
    "type(True)"
   ]
  },
  {
   "cell_type": "code",
   "execution_count": 39,
   "metadata": {
    "ExecuteTime": {
     "end_time": "2022-02-14T17:30:45.532312Z",
     "start_time": "2022-02-14T17:30:45.519209Z"
    }
   },
   "outputs": [
    {
     "data": {
      "text/plain": [
       "NoneType"
      ]
     },
     "execution_count": 39,
     "metadata": {},
     "output_type": "execute_result"
    }
   ],
   "source": [
    "type(None)"
   ]
  },
  {
   "cell_type": "code",
   "execution_count": 40,
   "metadata": {
    "ExecuteTime": {
     "end_time": "2022-02-14T17:30:45.547623Z",
     "start_time": "2022-02-14T17:30:45.533601Z"
    }
   },
   "outputs": [
    {
     "data": {
      "text/plain": [
       "(6, 7.5, True)"
      ]
     },
     "execution_count": 40,
     "metadata": {},
     "output_type": "execute_result"
    }
   ],
   "source": [
    "a, b, c"
   ]
  },
  {
   "cell_type": "code",
   "execution_count": 41,
   "metadata": {
    "ExecuteTime": {
     "end_time": "2022-02-14T17:30:45.562781Z",
     "start_time": "2022-02-14T17:30:45.551784Z"
    }
   },
   "outputs": [
    {
     "data": {
      "text/plain": [
       "(int, float, bool, str, NoneType)"
      ]
     },
     "execution_count": 41,
     "metadata": {},
     "output_type": "execute_result"
    }
   ],
   "source": [
    "type(a), type(b), type(c), type(d), type(e)"
   ]
  },
  {
   "cell_type": "code",
   "execution_count": 42,
   "metadata": {
    "ExecuteTime": {
     "end_time": "2022-02-14T17:30:45.578778Z",
     "start_time": "2022-02-14T17:30:45.563761Z"
    }
   },
   "outputs": [
    {
     "name": "stdout",
     "output_type": "stream",
     "text": [
      "<class 'int'> <class 'int'> <class 'float'>\n",
      "<class 'int'> <class 'int'> <class 'float'>\n"
     ]
    }
   ],
   "source": [
    "a=5\n",
    "b=7\n",
    "d=1.7\n",
    "a_type = type(a)\n",
    "b_type = type(b)\n",
    "d_type = type(d)\n",
    "\n",
    "print(type(a), type(b), type(d))\n",
    "print(a_type, b_type, d_type)"
   ]
  },
  {
   "cell_type": "code",
   "execution_count": 43,
   "metadata": {
    "ExecuteTime": {
     "end_time": "2022-02-14T17:30:45.594910Z",
     "start_time": "2022-02-14T17:30:45.580738Z"
    }
   },
   "outputs": [],
   "source": [
    "a, b, c, d = 1.0, 6, 9, 0"
   ]
  },
  {
   "cell_type": "code",
   "execution_count": 44,
   "metadata": {
    "ExecuteTime": {
     "end_time": "2022-02-14T17:30:45.610592Z",
     "start_time": "2022-02-14T17:30:45.596591Z"
    }
   },
   "outputs": [
    {
     "data": {
      "text/plain": [
       "float"
      ]
     },
     "execution_count": 44,
     "metadata": {},
     "output_type": "execute_result"
    }
   ],
   "source": [
    "type(a)"
   ]
  },
  {
   "cell_type": "code",
   "execution_count": 45,
   "metadata": {
    "ExecuteTime": {
     "end_time": "2022-02-14T17:30:45.625644Z",
     "start_time": "2022-02-14T17:30:45.611589Z"
    }
   },
   "outputs": [],
   "source": [
    "b_type = type(b)"
   ]
  },
  {
   "cell_type": "code",
   "execution_count": 46,
   "metadata": {
    "ExecuteTime": {
     "end_time": "2022-02-14T17:30:45.641262Z",
     "start_time": "2022-02-14T17:30:45.627175Z"
    }
   },
   "outputs": [
    {
     "data": {
      "text/plain": [
       "int"
      ]
     },
     "execution_count": 46,
     "metadata": {},
     "output_type": "execute_result"
    }
   ],
   "source": [
    "type(d)"
   ]
  },
  {
   "cell_type": "code",
   "execution_count": 47,
   "metadata": {
    "ExecuteTime": {
     "end_time": "2022-02-14T17:30:45.656686Z",
     "start_time": "2022-02-14T17:30:45.642597Z"
    }
   },
   "outputs": [],
   "source": [
    "c=9"
   ]
  },
  {
   "cell_type": "code",
   "execution_count": 48,
   "metadata": {
    "ExecuteTime": {
     "end_time": "2022-02-14T17:30:45.688681Z",
     "start_time": "2022-02-14T17:30:45.658606Z"
    }
   },
   "outputs": [
    {
     "data": {
      "text/plain": [
       "9"
      ]
     },
     "execution_count": 48,
     "metadata": {},
     "output_type": "execute_result"
    }
   ],
   "source": [
    "c"
   ]
  },
  {
   "cell_type": "code",
   "execution_count": 49,
   "metadata": {
    "ExecuteTime": {
     "end_time": "2022-02-14T17:30:45.704755Z",
     "start_time": "2022-02-14T17:30:45.690606Z"
    }
   },
   "outputs": [
    {
     "data": {
      "text/plain": [
       "bool"
      ]
     },
     "execution_count": 49,
     "metadata": {},
     "output_type": "execute_result"
    }
   ],
   "source": [
    "e=True\n",
    "type(e)"
   ]
  },
  {
   "cell_type": "code",
   "execution_count": 50,
   "metadata": {
    "ExecuteTime": {
     "end_time": "2022-02-14T17:30:45.720148Z",
     "start_time": "2022-02-14T17:30:45.706065Z"
    }
   },
   "outputs": [
    {
     "data": {
      "text/plain": [
       "bool"
      ]
     },
     "execution_count": 50,
     "metadata": {},
     "output_type": "execute_result"
    }
   ],
   "source": [
    "type(e)"
   ]
  },
  {
   "cell_type": "code",
   "execution_count": 51,
   "metadata": {
    "ExecuteTime": {
     "end_time": "2022-02-14T17:30:45.735455Z",
     "start_time": "2022-02-14T17:30:45.721377Z"
    }
   },
   "outputs": [],
   "source": [
    "some_text = \"abcd\""
   ]
  },
  {
   "cell_type": "code",
   "execution_count": 52,
   "metadata": {
    "ExecuteTime": {
     "end_time": "2022-02-14T17:30:45.751452Z",
     "start_time": "2022-02-14T17:30:45.736478Z"
    }
   },
   "outputs": [
    {
     "data": {
      "text/plain": [
       "NoneType"
      ]
     },
     "execution_count": 52,
     "metadata": {},
     "output_type": "execute_result"
    }
   ],
   "source": [
    "f=None\n",
    "type(f)"
   ]
  },
  {
   "cell_type": "code",
   "execution_count": 53,
   "metadata": {
    "ExecuteTime": {
     "end_time": "2022-02-14T17:30:45.767465Z",
     "start_time": "2022-02-14T17:30:45.752481Z"
    }
   },
   "outputs": [
    {
     "data": {
      "text/plain": [
       "NoneType"
      ]
     },
     "execution_count": 53,
     "metadata": {},
     "output_type": "execute_result"
    }
   ],
   "source": [
    "type(f)\n",
    "# Comment"
   ]
  },
  {
   "cell_type": "code",
   "execution_count": 54,
   "metadata": {
    "ExecuteTime": {
     "end_time": "2022-02-14T17:30:45.783538Z",
     "start_time": "2022-02-14T17:30:45.768414Z"
    }
   },
   "outputs": [
    {
     "data": {
      "text/plain": [
       "NoneType"
      ]
     },
     "execution_count": 54,
     "metadata": {},
     "output_type": "execute_result"
    }
   ],
   "source": [
    "new_var=None\n",
    "type(new_var)"
   ]
  },
  {
   "cell_type": "code",
   "execution_count": 55,
   "metadata": {
    "ExecuteTime": {
     "end_time": "2022-02-14T17:30:45.798906Z",
     "start_time": "2022-02-14T17:30:45.784716Z"
    }
   },
   "outputs": [
    {
     "data": {
      "text/plain": [
       "NoneType"
      ]
     },
     "execution_count": 55,
     "metadata": {},
     "output_type": "execute_result"
    }
   ],
   "source": [
    "type(new_var)"
   ]
  },
  {
   "cell_type": "code",
   "execution_count": 56,
   "metadata": {
    "ExecuteTime": {
     "end_time": "2022-02-14T17:30:45.814563Z",
     "start_time": "2022-02-14T17:30:45.800414Z"
    }
   },
   "outputs": [
    {
     "name": "stdout",
     "output_type": "stream",
     "text": [
      "None\n"
     ]
    }
   ],
   "source": [
    "print(new_var)"
   ]
  },
  {
   "cell_type": "code",
   "execution_count": 57,
   "metadata": {
    "ExecuteTime": {
     "end_time": "2022-02-14T17:30:45.829706Z",
     "start_time": "2022-02-14T17:30:45.815625Z"
    }
   },
   "outputs": [],
   "source": [
    "new_var"
   ]
  },
  {
   "cell_type": "code",
   "execution_count": 58,
   "metadata": {
    "ExecuteTime": {
     "end_time": "2022-02-14T17:30:45.845729Z",
     "start_time": "2022-02-14T17:30:45.830659Z"
    }
   },
   "outputs": [],
   "source": [
    "None"
   ]
  },
  {
   "cell_type": "code",
   "execution_count": 59,
   "metadata": {
    "ExecuteTime": {
     "end_time": "2022-02-14T17:30:45.861105Z",
     "start_time": "2022-02-14T17:30:45.847626Z"
    }
   },
   "outputs": [],
   "source": [
    "a = 5\n",
    "type(a)\n",
    "c = 6735"
   ]
  },
  {
   "cell_type": "code",
   "execution_count": 60,
   "metadata": {
    "ExecuteTime": {
     "end_time": "2022-02-14T17:30:45.876327Z",
     "start_time": "2022-02-14T17:30:45.862381Z"
    }
   },
   "outputs": [
    {
     "data": {
      "text/plain": [
       "int"
      ]
     },
     "execution_count": 60,
     "metadata": {},
     "output_type": "execute_result"
    }
   ],
   "source": [
    "type(a)"
   ]
  },
  {
   "cell_type": "markdown",
   "metadata": {},
   "source": [
    "## Strings"
   ]
  },
  {
   "cell_type": "code",
   "execution_count": 61,
   "metadata": {
    "ExecuteTime": {
     "end_time": "2022-02-14T17:30:45.892357Z",
     "start_time": "2022-02-14T17:30:45.878241Z"
    }
   },
   "outputs": [],
   "source": [
    "str_a=\"Lorem ipsum dolor sit amet\"\n",
    "str_b=\"consectetur adipiscing elit, sed do eiusmod tempor\""
   ]
  },
  {
   "cell_type": "code",
   "execution_count": 62,
   "metadata": {
    "ExecuteTime": {
     "end_time": "2022-02-14T17:30:45.907607Z",
     "start_time": "2022-02-14T17:30:45.893370Z"
    }
   },
   "outputs": [],
   "source": [
    "a=\"any text\""
   ]
  },
  {
   "cell_type": "code",
   "execution_count": 63,
   "metadata": {
    "ExecuteTime": {
     "end_time": "2022-02-14T17:30:45.922988Z",
     "start_time": "2022-02-14T17:30:45.909606Z"
    }
   },
   "outputs": [
    {
     "name": "stdout",
     "output_type": "stream",
     "text": [
      "Lorem ipsum dolor sit amet\n"
     ]
    }
   ],
   "source": [
    "print(str_a)"
   ]
  },
  {
   "cell_type": "code",
   "execution_count": 64,
   "metadata": {
    "ExecuteTime": {
     "end_time": "2022-02-14T17:30:45.938266Z",
     "start_time": "2022-02-14T17:30:45.925142Z"
    }
   },
   "outputs": [
    {
     "data": {
      "text/plain": [
       "'Lorem ipsum dolor sit amet'"
      ]
     },
     "execution_count": 64,
     "metadata": {},
     "output_type": "execute_result"
    }
   ],
   "source": [
    "str_a"
   ]
  },
  {
   "cell_type": "code",
   "execution_count": 65,
   "metadata": {
    "ExecuteTime": {
     "end_time": "2022-02-14T17:30:45.954282Z",
     "start_time": "2022-02-14T17:30:45.939909Z"
    }
   },
   "outputs": [],
   "source": [
    "a = 6\n"
   ]
  },
  {
   "cell_type": "code",
   "execution_count": 66,
   "metadata": {
    "ExecuteTime": {
     "end_time": "2022-02-14T17:30:45.970037Z",
     "start_time": "2022-02-14T17:30:45.955440Z"
    }
   },
   "outputs": [],
   "source": [
    "a = 4.3"
   ]
  },
  {
   "cell_type": "markdown",
   "metadata": {},
   "source": [
    "### len()"
   ]
  },
  {
   "cell_type": "code",
   "execution_count": 67,
   "metadata": {
    "ExecuteTime": {
     "end_time": "2022-02-14T17:30:45.985590Z",
     "start_time": "2022-02-14T17:30:45.971693Z"
    }
   },
   "outputs": [
    {
     "data": {
      "text/plain": [
       "26"
      ]
     },
     "execution_count": 67,
     "metadata": {},
     "output_type": "execute_result"
    }
   ],
   "source": [
    "len(str_a)"
   ]
  },
  {
   "cell_type": "code",
   "execution_count": 68,
   "metadata": {
    "ExecuteTime": {
     "end_time": "2022-02-14T17:30:46.001676Z",
     "start_time": "2022-02-14T17:30:45.986590Z"
    }
   },
   "outputs": [
    {
     "data": {
      "text/plain": [
       "'Lorem ipsum dolor sit amet'"
      ]
     },
     "execution_count": 68,
     "metadata": {},
     "output_type": "execute_result"
    }
   ],
   "source": [
    "str_a"
   ]
  },
  {
   "cell_type": "code",
   "execution_count": 69,
   "metadata": {
    "ExecuteTime": {
     "end_time": "2022-02-14T17:30:46.017692Z",
     "start_time": "2022-02-14T17:30:46.002706Z"
    }
   },
   "outputs": [
    {
     "name": "stdout",
     "output_type": "stream",
     "text": [
      "some text other text\n"
     ]
    }
   ],
   "source": [
    "print(\"some text \" + \"other text\")"
   ]
  },
  {
   "cell_type": "code",
   "execution_count": 70,
   "metadata": {
    "ExecuteTime": {
     "end_time": "2022-02-14T17:30:46.033953Z",
     "start_time": "2022-02-14T17:30:46.019694Z"
    }
   },
   "outputs": [],
   "source": [
    "a = 6"
   ]
  },
  {
   "cell_type": "code",
   "execution_count": 71,
   "metadata": {
    "ExecuteTime": {
     "end_time": "2022-02-14T17:30:46.049118Z",
     "start_time": "2022-02-14T17:30:46.034985Z"
    }
   },
   "outputs": [],
   "source": [
    "ab_52352_gsksglk =5"
   ]
  },
  {
   "cell_type": "code",
   "execution_count": 72,
   "metadata": {
    "ExecuteTime": {
     "end_time": "2022-02-14T17:30:46.064268Z",
     "start_time": "2022-02-14T17:30:46.050181Z"
    }
   },
   "outputs": [
    {
     "data": {
      "text/plain": [
       "6"
      ]
     },
     "execution_count": 72,
     "metadata": {},
     "output_type": "execute_result"
    }
   ],
   "source": [
    "a\n"
   ]
  },
  {
   "cell_type": "code",
   "execution_count": null,
   "metadata": {
    "ExecuteTime": {
     "end_time": "2022-02-14T17:18:12.721719Z",
     "start_time": "2022-02-14T17:18:12.324220Z"
    }
   },
   "outputs": [],
   "source": []
  },
  {
   "cell_type": "markdown",
   "metadata": {},
   "source": [
    "## `id()` function\n"
   ]
  },
  {
   "cell_type": "code",
   "execution_count": 73,
   "metadata": {
    "ExecuteTime": {
     "end_time": "2022-02-14T17:30:46.080254Z",
     "start_time": "2022-02-14T17:30:46.066184Z"
    }
   },
   "outputs": [
    {
     "name": "stdout",
     "output_type": "stream",
     "text": [
      "5 78.5\n",
      "2054908766640 2054985746416\n"
     ]
    }
   ],
   "source": [
    "r = 5\n",
    "\n",
    "area = 3.14 * r ** 2\n",
    "print(r, area)\n",
    "print(id(r), id(area))"
   ]
  },
  {
   "cell_type": "code",
   "execution_count": 74,
   "metadata": {
    "ExecuteTime": {
     "end_time": "2022-02-14T17:30:46.095182Z",
     "start_time": "2022-02-14T17:30:46.081181Z"
    }
   },
   "outputs": [
    {
     "name": "stdout",
     "output_type": "stream",
     "text": [
      "2054908766800 2054985746416\n"
     ]
    }
   ],
   "source": [
    "r = 10\n",
    "print(id(r), id(area))"
   ]
  },
  {
   "cell_type": "code",
   "execution_count": 75,
   "metadata": {
    "ExecuteTime": {
     "end_time": "2022-02-14T17:30:46.111255Z",
     "start_time": "2022-02-14T17:30:46.096795Z"
    }
   },
   "outputs": [
    {
     "name": "stdout",
     "output_type": "stream",
     "text": [
      "10 78.5\n",
      "2054908766800 2054985746416\n"
     ]
    }
   ],
   "source": [
    "print(r, area)\n",
    "print(id(r), id(area))"
   ]
  },
  {
   "cell_type": "code",
   "execution_count": 76,
   "metadata": {
    "ExecuteTime": {
     "end_time": "2022-02-14T17:30:46.126129Z",
     "start_time": "2022-02-14T17:30:46.113130Z"
    }
   },
   "outputs": [],
   "source": [
    "area = 3.14 * r ** 2"
   ]
  },
  {
   "cell_type": "code",
   "execution_count": 77,
   "metadata": {
    "ExecuteTime": {
     "end_time": "2022-02-14T17:30:46.141299Z",
     "start_time": "2022-02-14T17:30:46.127132Z"
    }
   },
   "outputs": [
    {
     "name": "stdout",
     "output_type": "stream",
     "text": [
      "10 314.0\n",
      "2054908766800 2054985974416\n"
     ]
    }
   ],
   "source": [
    "print(r, area)\n",
    "print(id(r), id(area))"
   ]
  },
  {
   "cell_type": "code",
   "execution_count": 78,
   "metadata": {
    "ExecuteTime": {
     "end_time": "2022-02-14T17:30:46.156280Z",
     "start_time": "2022-02-14T17:30:46.142123Z"
    }
   },
   "outputs": [
    {
     "name": "stdout",
     "output_type": "stream",
     "text": [
      "20.7 2054985975248\n"
     ]
    }
   ],
   "source": [
    "x=20.7\n",
    "print(x,id(x))\n"
   ]
  },
  {
   "cell_type": "code",
   "execution_count": 79,
   "metadata": {
    "ExecuteTime": {
     "end_time": "2022-02-14T17:30:46.172309Z",
     "start_time": "2022-02-14T17:30:46.157309Z"
    }
   },
   "outputs": [
    {
     "name": "stdout",
     "output_type": "stream",
     "text": [
      "20.7 2054985975248\n"
     ]
    }
   ],
   "source": [
    "print(x,id(x))"
   ]
  },
  {
   "cell_type": "code",
   "execution_count": 80,
   "metadata": {
    "ExecuteTime": {
     "end_time": "2022-02-14T17:30:46.187284Z",
     "start_time": "2022-02-14T17:30:46.173249Z"
    }
   },
   "outputs": [
    {
     "name": "stdout",
     "output_type": "stream",
     "text": [
      "12 2054908766864\n"
     ]
    }
   ],
   "source": [
    "x = 12\n",
    "print(x,id(x))"
   ]
  },
  {
   "cell_type": "code",
   "execution_count": 81,
   "metadata": {
    "ExecuteTime": {
     "end_time": "2022-02-14T17:30:46.202685Z",
     "start_time": "2022-02-14T17:30:46.188301Z"
    }
   },
   "outputs": [
    {
     "name": "stdout",
     "output_type": "stream",
     "text": [
      "12 2054908766864\n"
     ]
    }
   ],
   "source": [
    "x = 12\n",
    "print(x,id(x))"
   ]
  },
  {
   "cell_type": "code",
   "execution_count": 82,
   "metadata": {
    "ExecuteTime": {
     "end_time": "2022-02-14T17:30:46.218077Z",
     "start_time": "2022-02-14T17:30:46.205093Z"
    }
   },
   "outputs": [
    {
     "name": "stdout",
     "output_type": "stream",
     "text": [
      "100000 2054985975760\n"
     ]
    }
   ],
   "source": [
    "x = 100000\n",
    "print(x,id(x))"
   ]
  },
  {
   "cell_type": "code",
   "execution_count": 83,
   "metadata": {
    "ExecuteTime": {
     "end_time": "2022-02-14T17:30:46.233031Z",
     "start_time": "2022-02-14T17:30:46.219013Z"
    }
   },
   "outputs": [
    {
     "name": "stdout",
     "output_type": "stream",
     "text": [
      "100000 2054985975888\n"
     ]
    }
   ],
   "source": [
    "x = 100000\n",
    "print(x,id(x))"
   ]
  },
  {
   "cell_type": "markdown",
   "metadata": {},
   "source": [
    "## Other Operators"
   ]
  },
  {
   "cell_type": "code",
   "execution_count": 84,
   "metadata": {
    "ExecuteTime": {
     "end_time": "2022-02-14T17:30:46.248293Z",
     "start_time": "2022-02-14T17:30:46.234220Z"
    }
   },
   "outputs": [
    {
     "name": "stdout",
     "output_type": "stream",
     "text": [
      "5\n",
      "10\n",
      "13\n"
     ]
    }
   ],
   "source": [
    "r = 5\n",
    "print(r)\n",
    "r = 10\n",
    "print(r)\n",
    "r = r + 3\n",
    "print(r)"
   ]
  },
  {
   "cell_type": "code",
   "execution_count": 85,
   "metadata": {
    "ExecuteTime": {
     "end_time": "2022-02-14T17:30:46.263774Z",
     "start_time": "2022-02-14T17:30:46.250215Z"
    }
   },
   "outputs": [
    {
     "name": "stdout",
     "output_type": "stream",
     "text": [
      "10\n",
      "13\n"
     ]
    }
   ],
   "source": [
    "r = 10\n",
    "print(r)\n",
    "r += 3\n",
    "print(r)\n",
    "# -=\n",
    "# *=\n",
    "# /="
   ]
  },
  {
   "cell_type": "markdown",
   "metadata": {},
   "source": [
    "## Control Flow"
   ]
  },
  {
   "cell_type": "markdown",
   "metadata": {},
   "source": [
    "### Comparison Operators"
   ]
  },
  {
   "cell_type": "markdown",
   "metadata": {},
   "source": [
    "**Equal** operator is `==`"
   ]
  },
  {
   "cell_type": "code",
   "execution_count": 86,
   "metadata": {
    "ExecuteTime": {
     "end_time": "2022-02-14T17:30:46.279842Z",
     "start_time": "2022-02-14T17:30:46.270773Z"
    }
   },
   "outputs": [],
   "source": [
    "a = 6\n",
    "b = 1\n",
    "c = 6"
   ]
  },
  {
   "cell_type": "code",
   "execution_count": 87,
   "metadata": {
    "ExecuteTime": {
     "end_time": "2022-02-14T17:30:46.295022Z",
     "start_time": "2022-02-14T17:30:46.281024Z"
    }
   },
   "outputs": [
    {
     "data": {
      "text/plain": [
       "False"
      ]
     },
     "execution_count": 87,
     "metadata": {},
     "output_type": "execute_result"
    }
   ],
   "source": [
    "5==6"
   ]
  },
  {
   "cell_type": "code",
   "execution_count": 88,
   "metadata": {
    "ExecuteTime": {
     "end_time": "2022-02-14T17:30:46.311021Z",
     "start_time": "2022-02-14T17:30:46.297021Z"
    }
   },
   "outputs": [
    {
     "data": {
      "text/plain": [
       "True"
      ]
     },
     "execution_count": 88,
     "metadata": {},
     "output_type": "execute_result"
    }
   ],
   "source": [
    "5==5"
   ]
  },
  {
   "cell_type": "code",
   "execution_count": 89,
   "metadata": {
    "ExecuteTime": {
     "end_time": "2022-02-14T17:30:46.326094Z",
     "start_time": "2022-02-14T17:30:46.313020Z"
    }
   },
   "outputs": [
    {
     "data": {
      "text/plain": [
       "False"
      ]
     },
     "execution_count": 89,
     "metadata": {},
     "output_type": "execute_result"
    }
   ],
   "source": [
    "a == b"
   ]
  },
  {
   "cell_type": "code",
   "execution_count": 90,
   "metadata": {
    "ExecuteTime": {
     "end_time": "2022-02-14T17:30:46.340890Z",
     "start_time": "2022-02-14T17:30:46.327214Z"
    }
   },
   "outputs": [
    {
     "data": {
      "text/plain": [
       "True"
      ]
     },
     "execution_count": 90,
     "metadata": {},
     "output_type": "execute_result"
    }
   ],
   "source": [
    "a == c"
   ]
  },
  {
   "cell_type": "code",
   "execution_count": null,
   "metadata": {},
   "outputs": [],
   "source": []
  },
  {
   "cell_type": "markdown",
   "metadata": {},
   "source": [
    "**Not Equal** operator is `!=`"
   ]
  },
  {
   "cell_type": "code",
   "execution_count": 91,
   "metadata": {
    "ExecuteTime": {
     "end_time": "2022-02-14T17:30:46.356538Z",
     "start_time": "2022-02-14T17:30:46.342384Z"
    }
   },
   "outputs": [
    {
     "data": {
      "text/plain": [
       "True"
      ]
     },
     "execution_count": 91,
     "metadata": {},
     "output_type": "execute_result"
    }
   ],
   "source": [
    "5!=2"
   ]
  },
  {
   "cell_type": "code",
   "execution_count": 92,
   "metadata": {
    "ExecuteTime": {
     "end_time": "2022-02-14T17:30:46.372120Z",
     "start_time": "2022-02-14T17:30:46.358100Z"
    }
   },
   "outputs": [
    {
     "data": {
      "text/plain": [
       "False"
      ]
     },
     "execution_count": 92,
     "metadata": {},
     "output_type": "execute_result"
    }
   ],
   "source": [
    "5!=5"
   ]
  },
  {
   "cell_type": "markdown",
   "metadata": {},
   "source": [
    "More comparisons"
   ]
  },
  {
   "cell_type": "code",
   "execution_count": 93,
   "metadata": {
    "ExecuteTime": {
     "end_time": "2022-02-14T17:30:46.387703Z",
     "start_time": "2022-02-14T17:30:46.373267Z"
    }
   },
   "outputs": [
    {
     "data": {
      "text/plain": [
       "True"
      ]
     },
     "execution_count": 93,
     "metadata": {},
     "output_type": "execute_result"
    }
   ],
   "source": [
    "3<5"
   ]
  },
  {
   "cell_type": "code",
   "execution_count": 94,
   "metadata": {
    "ExecuteTime": {
     "end_time": "2022-02-14T17:30:46.403259Z",
     "start_time": "2022-02-14T17:30:46.388727Z"
    }
   },
   "outputs": [
    {
     "data": {
      "text/plain": [
       "True"
      ]
     },
     "execution_count": 94,
     "metadata": {},
     "output_type": "execute_result"
    }
   ],
   "source": [
    "4>3"
   ]
  },
  {
   "cell_type": "code",
   "execution_count": 95,
   "metadata": {
    "ExecuteTime": {
     "end_time": "2022-02-14T17:30:46.418339Z",
     "start_time": "2022-02-14T17:30:46.404370Z"
    }
   },
   "outputs": [
    {
     "data": {
      "text/plain": [
       "True"
      ]
     },
     "execution_count": 95,
     "metadata": {},
     "output_type": "execute_result"
    }
   ],
   "source": [
    "4<=6"
   ]
  },
  {
   "cell_type": "code",
   "execution_count": 96,
   "metadata": {
    "ExecuteTime": {
     "end_time": "2022-02-14T17:30:46.434338Z",
     "start_time": "2022-02-14T17:30:46.420245Z"
    }
   },
   "outputs": [
    {
     "data": {
      "text/plain": [
       "True"
      ]
     },
     "execution_count": 96,
     "metadata": {},
     "output_type": "execute_result"
    }
   ],
   "source": [
    "7>=7"
   ]
  },
  {
   "cell_type": "markdown",
   "metadata": {},
   "source": [
    "### Boolean Operators"
   ]
  },
  {
   "cell_type": "code",
   "execution_count": 97,
   "metadata": {
    "ExecuteTime": {
     "end_time": "2022-02-14T17:30:46.450319Z",
     "start_time": "2022-02-14T17:30:46.435318Z"
    }
   },
   "outputs": [
    {
     "data": {
      "text/plain": [
       "(True, False)"
      ]
     },
     "execution_count": 97,
     "metadata": {},
     "output_type": "execute_result"
    }
   ],
   "source": [
    "True, False"
   ]
  },
  {
   "cell_type": "code",
   "execution_count": 98,
   "metadata": {
    "ExecuteTime": {
     "end_time": "2022-02-14T17:30:46.466431Z",
     "start_time": "2022-02-14T17:30:46.452329Z"
    }
   },
   "outputs": [
    {
     "data": {
      "text/plain": [
       "15"
      ]
     },
     "execution_count": 98,
     "metadata": {},
     "output_type": "execute_result"
    }
   ],
   "source": [
    "15"
   ]
  },
  {
   "cell_type": "code",
   "execution_count": 99,
   "metadata": {
    "ExecuteTime": {
     "end_time": "2022-02-14T17:30:46.481866Z",
     "start_time": "2022-02-14T17:30:46.467748Z"
    }
   },
   "outputs": [
    {
     "data": {
      "text/plain": [
       "True"
      ]
     },
     "execution_count": 99,
     "metadata": {},
     "output_type": "execute_result"
    }
   ],
   "source": [
    "not False"
   ]
  },
  {
   "cell_type": "code",
   "execution_count": 100,
   "metadata": {
    "ExecuteTime": {
     "end_time": "2022-02-14T17:30:46.497021Z",
     "start_time": "2022-02-14T17:30:46.482960Z"
    }
   },
   "outputs": [
    {
     "data": {
      "text/plain": [
       "False"
      ]
     },
     "execution_count": 100,
     "metadata": {},
     "output_type": "execute_result"
    }
   ],
   "source": [
    "not 5==5"
   ]
  },
  {
   "cell_type": "code",
   "execution_count": 101,
   "metadata": {
    "ExecuteTime": {
     "end_time": "2022-02-14T17:30:46.513045Z",
     "start_time": "2022-02-14T17:30:46.498921Z"
    }
   },
   "outputs": [
    {
     "data": {
      "text/plain": [
       "False"
      ]
     },
     "execution_count": 101,
     "metadata": {},
     "output_type": "execute_result"
    }
   ],
   "source": [
    "True and False"
   ]
  },
  {
   "cell_type": "code",
   "execution_count": 102,
   "metadata": {
    "ExecuteTime": {
     "end_time": "2022-02-14T17:30:46.528370Z",
     "start_time": "2022-02-14T17:30:46.514146Z"
    }
   },
   "outputs": [
    {
     "data": {
      "text/plain": [
       "False"
      ]
     },
     "execution_count": 102,
     "metadata": {},
     "output_type": "execute_result"
    }
   ],
   "source": [
    "not (True or False)"
   ]
  },
  {
   "cell_type": "code",
   "execution_count": null,
   "metadata": {},
   "outputs": [],
   "source": []
  },
  {
   "cell_type": "markdown",
   "metadata": {},
   "source": [
    "### Sets of Conditions"
   ]
  },
  {
   "cell_type": "code",
   "execution_count": 103,
   "metadata": {
    "ExecuteTime": {
     "end_time": "2022-02-14T17:30:46.543549Z",
     "start_time": "2022-02-14T17:30:46.529387Z"
    }
   },
   "outputs": [
    {
     "data": {
      "text/plain": [
       "True"
      ]
     },
     "execution_count": 103,
     "metadata": {},
     "output_type": "execute_result"
    }
   ],
   "source": [
    "not (True and False) or False"
   ]
  },
  {
   "cell_type": "code",
   "execution_count": 104,
   "metadata": {
    "ExecuteTime": {
     "end_time": "2022-02-14T17:30:46.558758Z",
     "start_time": "2022-02-14T17:30:46.544758Z"
    }
   },
   "outputs": [
    {
     "data": {
      "text/plain": [
       "True"
      ]
     },
     "execution_count": 104,
     "metadata": {},
     "output_type": "execute_result"
    }
   ],
   "source": [
    "(5 != 6) and (4 > 3)"
   ]
  },
  {
   "cell_type": "markdown",
   "metadata": {},
   "source": [
    "### `if` statement"
   ]
  },
  {
   "cell_type": "code",
   "execution_count": 105,
   "metadata": {
    "ExecuteTime": {
     "end_time": "2022-02-14T17:30:46.574911Z",
     "start_time": "2022-02-14T17:30:46.560756Z"
    }
   },
   "outputs": [],
   "source": [
    "   a   = 3\n",
    "b = 5 "
   ]
  },
  {
   "cell_type": "code",
   "execution_count": 106,
   "metadata": {
    "ExecuteTime": {
     "end_time": "2022-02-14T17:30:46.590087Z",
     "start_time": "2022-02-14T17:30:46.576132Z"
    }
   },
   "outputs": [
    {
     "name": "stdout",
     "output_type": "stream",
     "text": [
      "if is finished\n"
     ]
    }
   ],
   "source": [
    "if a > b:\n",
    "    print(\"a is greater\")\n",
    "    print(\"ending if\")\n",
    "    \n",
    "    c = 5\n",
    "    print('declared c')\n",
    "    \n",
    "print(\"if is finished\")"
   ]
  },
  {
   "cell_type": "code",
   "execution_count": 107,
   "metadata": {
    "ExecuteTime": {
     "end_time": "2022-02-14T17:30:46.606242Z",
     "start_time": "2022-02-14T17:30:46.591754Z"
    }
   },
   "outputs": [
    {
     "name": "stdout",
     "output_type": "stream",
     "text": [
      "before 'if' statement\n",
      "a is less than b\n",
      "other print\n",
      "123\n",
      "after 'if' statement\n"
     ]
    }
   ],
   "source": [
    "a, b, c, d = 1, 6, 9, 0\n",
    "\n",
    "print('before \\'if\\' statement')\n",
    "if a < b:\n",
    "    print(\"a is less than b\")\n",
    "    print(\"other print\")\n",
    "    \n",
    "    \n",
    "    print(123)\n",
    "\n",
    "print('after \\'if\\' statement')"
   ]
  },
  {
   "cell_type": "markdown",
   "metadata": {},
   "source": [
    "### `else` and `elif` statements"
   ]
  },
  {
   "cell_type": "code",
   "execution_count": 108,
   "metadata": {
    "ExecuteTime": {
     "end_time": "2022-02-14T17:30:46.621746Z",
     "start_time": "2022-02-14T17:30:46.607742Z"
    }
   },
   "outputs": [
    {
     "name": "stdout",
     "output_type": "stream",
     "text": [
      "a is not less than b\n",
      "this is ELSE part\n",
      "finished if\n"
     ]
    }
   ],
   "source": [
    "a=7\n",
    "b=1\n",
    "if a < b:\n",
    "    print(\"a is less than b\")\n",
    "    print(\"other print\")\n",
    "else:\n",
    "    print(\"a is not less than b\")\n",
    "    print(\"this is ELSE part\")\n",
    "print('finished if')"
   ]
  },
  {
   "cell_type": "code",
   "execution_count": 109,
   "metadata": {
    "ExecuteTime": {
     "end_time": "2022-02-14T17:30:46.636823Z",
     "start_time": "2022-02-14T17:30:46.622748Z"
    }
   },
   "outputs": [
    {
     "name": "stdout",
     "output_type": "stream",
     "text": [
      "a is less to 4\n",
      "done\n"
     ]
    }
   ],
   "source": [
    "a = 3\n",
    "f = 14\n",
    "if a>4:\n",
    "    print(\"a is greater than 4\")\n",
    "    b=7\n",
    "elif f==4:\n",
    "    print(\"f is equal to 4\")\n",
    "    b=9\n",
    "else:\n",
    "    print(\"a is less to 4\")\n",
    "    c=3\n",
    "\n",
    "print(\"done\")"
   ]
  },
  {
   "cell_type": "markdown",
   "metadata": {},
   "source": [
    "### Nested `if` Statements"
   ]
  },
  {
   "cell_type": "code",
   "execution_count": 110,
   "metadata": {
    "ExecuteTime": {
     "end_time": "2022-02-14T17:30:46.652498Z",
     "start_time": "2022-02-14T17:30:46.638254Z"
    }
   },
   "outputs": [
    {
     "name": "stdout",
     "output_type": "stream",
     "text": [
      "a is not less than b\n",
      "this is ELSE part\n"
     ]
    }
   ],
   "source": [
    "a=6\n",
    "if a < b:\n",
    "    print(\"a is less than b\")\n",
    "    print(\"other print\")\n",
    "    if c > d:\n",
    "        print(\"also c is greater than d\")\n",
    "    print(\"c compared to d\")\n",
    "elif a==b:\n",
    "    print(\"A is equal to b\")\n",
    "else:\n",
    "    print(\"a is not less than b\")\n",
    "    print(\"this is ELSE part\")"
   ]
  },
  {
   "cell_type": "markdown",
   "metadata": {},
   "source": [
    "## Comments"
   ]
  },
  {
   "cell_type": "markdown",
   "metadata": {},
   "source": [
    "### Single Line Comments"
   ]
  },
  {
   "cell_type": "code",
   "execution_count": 111,
   "metadata": {
    "ExecuteTime": {
     "end_time": "2022-02-14T17:30:46.667831Z",
     "start_time": "2022-02-14T17:30:46.653614Z"
    }
   },
   "outputs": [
    {
     "name": "stdout",
     "output_type": "stream",
     "text": [
      "5\n"
     ]
    }
   ],
   "source": [
    "# this is single line comment\n",
    "a = 5 # declare a variable\n",
    "# a = 10\n",
    "# \n",
    "print(a) # printed a"
   ]
  },
  {
   "cell_type": "markdown",
   "metadata": {},
   "source": [
    "### Multi Line Comments"
   ]
  },
  {
   "cell_type": "code",
   "execution_count": 112,
   "metadata": {
    "ExecuteTime": {
     "end_time": "2022-02-14T17:30:46.683680Z",
     "start_time": "2022-02-14T17:30:46.668638Z"
    }
   },
   "outputs": [
    {
     "data": {
      "text/plain": [
       "'this is\\nmultiline\\ncomment, which often is used as a documentation\\n'"
      ]
     },
     "execution_count": 112,
     "metadata": {},
     "output_type": "execute_result"
    }
   ],
   "source": [
    "\"\"\"this is\n",
    "multiline\n",
    "comment, which often is used as a documentation\n",
    "\"\"\"\n",
    "\n",
    "# again single line comment"
   ]
  },
  {
   "cell_type": "code",
   "execution_count": 113,
   "metadata": {
    "ExecuteTime": {
     "end_time": "2022-02-14T17:30:46.699757Z",
     "start_time": "2022-02-14T17:30:46.684668Z"
    }
   },
   "outputs": [
    {
     "data": {
      "text/plain": [
       "'hello, wolrd'"
      ]
     },
     "execution_count": 113,
     "metadata": {},
     "output_type": "execute_result"
    }
   ],
   "source": [
    "\"hello, wolrd\""
   ]
  },
  {
   "cell_type": "code",
   "execution_count": 114,
   "metadata": {
    "ExecuteTime": {
     "end_time": "2022-02-14T17:30:46.715033Z",
     "start_time": "2022-02-14T17:30:46.701656Z"
    }
   },
   "outputs": [
    {
     "data": {
      "text/plain": [
       "'\\nthis is another multi-line comment\\n'"
      ]
     },
     "execution_count": 114,
     "metadata": {},
     "output_type": "execute_result"
    }
   ],
   "source": [
    "'''\n",
    "this is another multi-line comment\n",
    "'''"
   ]
  },
  {
   "cell_type": "code",
   "execution_count": 115,
   "metadata": {
    "ExecuteTime": {
     "end_time": "2022-02-14T17:30:46.731029Z",
     "start_time": "2022-02-14T17:30:46.715951Z"
    }
   },
   "outputs": [
    {
     "name": "stdout",
     "output_type": "stream",
     "text": [
      "\n"
     ]
    }
   ],
   "source": [
    "print()"
   ]
  },
  {
   "cell_type": "code",
   "execution_count": 116,
   "metadata": {
    "ExecuteTime": {
     "end_time": "2022-02-14T17:30:46.746659Z",
     "start_time": "2022-02-14T17:30:46.731952Z"
    }
   },
   "outputs": [
    {
     "name": "stdout",
     "output_type": "stream",
     "text": [
      "\n"
     ]
    }
   ],
   "source": [
    "print() # something"
   ]
  },
  {
   "cell_type": "code",
   "execution_count": 117,
   "metadata": {
    "ExecuteTime": {
     "end_time": "2022-02-14T17:30:46.762662Z",
     "start_time": "2022-02-14T17:30:46.748576Z"
    }
   },
   "outputs": [
    {
     "name": "stdout",
     "output_type": "stream",
     "text": [
      "#something\n"
     ]
    }
   ],
   "source": [
    "print(\"#something\")"
   ]
  },
  {
   "cell_type": "code",
   "execution_count": null,
   "metadata": {
    "ExecuteTime": {
     "end_time": "2022-02-04T15:56:05.859574Z",
     "start_time": "2022-02-04T15:56:05.841653Z"
    }
   },
   "outputs": [],
   "source": []
  },
  {
   "cell_type": "markdown",
   "metadata": {},
   "source": [
    "## While Loop"
   ]
  },
  {
   "cell_type": "code",
   "execution_count": null,
   "metadata": {
    "ExecuteTime": {
     "end_time": "2022-02-14T17:18:12.775779Z",
     "start_time": "2022-02-14T17:18:12.775779Z"
    }
   },
   "outputs": [],
   "source": []
  },
  {
   "cell_type": "code",
   "execution_count": 118,
   "metadata": {
    "ExecuteTime": {
     "end_time": "2022-02-14T17:30:46.778659Z",
     "start_time": "2022-02-14T17:30:46.764578Z"
    }
   },
   "outputs": [
    {
     "name": "stdout",
     "output_type": "stream",
     "text": [
      "hello\n"
     ]
    }
   ],
   "source": [
    "counter = 0\n",
    "if counter < 10:\n",
    "    print('hello')"
   ]
  },
  {
   "cell_type": "code",
   "execution_count": 119,
   "metadata": {
    "ExecuteTime": {
     "end_time": "2022-02-14T17:30:46.794658Z",
     "start_time": "2022-02-14T17:30:46.780575Z"
    }
   },
   "outputs": [
    {
     "name": "stdout",
     "output_type": "stream",
     "text": [
      "0 hello\n",
      "1.3 hello\n",
      "2.6 hello\n",
      "3.9000000000000004 hello\n",
      "5.2 hello\n",
      "6.5 hello\n",
      "7.8 hello\n",
      "9.1 hello\n"
     ]
    }
   ],
   "source": [
    "counter = 0\n",
    "while counter < 10:\n",
    "    print(counter, 'hello')\n",
    "    counter = counter + 1.3\n",
    "    # print(counter, 'end of block')"
   ]
  },
  {
   "cell_type": "code",
   "execution_count": 120,
   "metadata": {
    "ExecuteTime": {
     "end_time": "2022-02-14T17:30:46.810474Z",
     "start_time": "2022-02-14T17:30:46.796345Z"
    }
   },
   "outputs": [
    {
     "name": "stdout",
     "output_type": "stream",
     "text": [
      "1 is odd\n",
      "2 is even\n",
      "3 is odd\n",
      "4 is even\n",
      "5 is odd\n",
      "6 is even\n",
      "7 is odd\n",
      "8 is even\n",
      "9 is odd\n",
      "10 is even\n"
     ]
    }
   ],
   "source": [
    "n = 1\n",
    "while n <= 10:\n",
    "    if n % 2 == 0:\n",
    "        print(n, \"is even\")\n",
    "    else:\n",
    "        print(n, \"is odd\")\n",
    "    n += 1"
   ]
  },
  {
   "cell_type": "code",
   "execution_count": null,
   "metadata": {},
   "outputs": [],
   "source": []
  },
  {
   "cell_type": "code",
   "execution_count": null,
   "metadata": {},
   "outputs": [],
   "source": []
  },
  {
   "cell_type": "markdown",
   "metadata": {},
   "source": [
    "## Functions\n",
    "DRY - Don't Repeat Yourself"
   ]
  },
  {
   "cell_type": "markdown",
   "metadata": {},
   "source": [
    "### without arguments"
   ]
  },
  {
   "cell_type": "code",
   "execution_count": 121,
   "metadata": {
    "ExecuteTime": {
     "end_time": "2022-02-14T17:30:46.825943Z",
     "start_time": "2022-02-14T17:30:46.811669Z"
    }
   },
   "outputs": [],
   "source": [
    "# print\n",
    "# len\n",
    "# id\n",
    "# type"
   ]
  },
  {
   "cell_type": "code",
   "execution_count": 122,
   "metadata": {
    "ExecuteTime": {
     "end_time": "2022-02-14T17:30:46.840921Z",
     "start_time": "2022-02-14T17:30:46.826920Z"
    }
   },
   "outputs": [
    {
     "name": "stdout",
     "output_type": "stream",
     "text": [
      "7\n"
     ]
    }
   ],
   "source": [
    "a = 4\n",
    "b = 3\n",
    "total = a + b\n",
    "print(total)"
   ]
  },
  {
   "cell_type": "code",
   "execution_count": 123,
   "metadata": {
    "ExecuteTime": {
     "end_time": "2022-02-14T17:30:46.856983Z",
     "start_time": "2022-02-14T17:30:46.842921Z"
    }
   },
   "outputs": [
    {
     "name": "stdout",
     "output_type": "stream",
     "text": [
      "7\n"
     ]
    }
   ],
   "source": [
    "a = 4\n",
    "b = 3\n",
    "total = a + b\n",
    "print(total)"
   ]
  },
  {
   "cell_type": "code",
   "execution_count": 124,
   "metadata": {
    "ExecuteTime": {
     "end_time": "2022-02-14T17:30:46.872887Z",
     "start_time": "2022-02-14T17:30:46.858864Z"
    }
   },
   "outputs": [
    {
     "name": "stdout",
     "output_type": "stream",
     "text": [
      "7\n"
     ]
    }
   ],
   "source": [
    "# DEFine\n",
    "def add_two_nums():\n",
    "    a = 4\n",
    "    b = 3\n",
    "    total = a + b\n",
    "    print(total)\n",
    "add_two_nums()"
   ]
  },
  {
   "cell_type": "code",
   "execution_count": 125,
   "metadata": {
    "ExecuteTime": {
     "end_time": "2022-02-14T17:30:46.889019Z",
     "start_time": "2022-02-14T17:30:46.875245Z"
    }
   },
   "outputs": [
    {
     "name": "stdout",
     "output_type": "stream",
     "text": [
      "7\n"
     ]
    }
   ],
   "source": [
    "add_two_nums()"
   ]
  },
  {
   "cell_type": "markdown",
   "metadata": {},
   "source": [
    "### with arguments"
   ]
  },
  {
   "cell_type": "code",
   "execution_count": 126,
   "metadata": {
    "ExecuteTime": {
     "end_time": "2022-02-14T17:30:46.905021Z",
     "start_time": "2022-02-14T17:30:46.891241Z"
    }
   },
   "outputs": [
    {
     "name": "stdout",
     "output_type": "stream",
     "text": [
      "5 this is x\n",
      "11 this is y\n"
     ]
    }
   ],
   "source": [
    "def func_b(x):\n",
    "    y = x + 6\n",
    "    print(x, \"this is x\")\n",
    "    print(y, \"this is y\")\n",
    "\n",
    "func_b(5)"
   ]
  },
  {
   "cell_type": "code",
   "execution_count": 127,
   "metadata": {
    "ExecuteTime": {
     "end_time": "2022-02-14T17:30:46.920415Z",
     "start_time": "2022-02-14T17:30:46.906615Z"
    }
   },
   "outputs": [
    {
     "name": "stdout",
     "output_type": "stream",
     "text": [
      "1 this is x\n",
      "7 this is y\n"
     ]
    }
   ],
   "source": [
    "func_b(1)"
   ]
  },
  {
   "cell_type": "code",
   "execution_count": 128,
   "metadata": {
    "ExecuteTime": {
     "end_time": "2022-02-14T17:30:46.935793Z",
     "start_time": "2022-02-14T17:30:46.921933Z"
    }
   },
   "outputs": [
    {
     "name": "stdout",
     "output_type": "stream",
     "text": [
      "sum of arguments is 7\n"
     ]
    }
   ],
   "source": [
    "# DEFine\n",
    "def add_two_nums(a, b):\n",
    "    total = a + b\n",
    "    print('sum of arguments is', total)\n",
    "add_two_nums(3, 4)"
   ]
  },
  {
   "cell_type": "code",
   "execution_count": null,
   "metadata": {},
   "outputs": [],
   "source": []
  },
  {
   "cell_type": "markdown",
   "metadata": {},
   "source": [
    "### with `return`"
   ]
  },
  {
   "cell_type": "code",
   "execution_count": 129,
   "metadata": {
    "ExecuteTime": {
     "end_time": "2022-02-14T17:30:46.951748Z",
     "start_time": "2022-02-14T17:30:46.936793Z"
    }
   },
   "outputs": [
    {
     "data": {
      "text/plain": [
       "7"
      ]
     },
     "execution_count": 129,
     "metadata": {},
     "output_type": "execute_result"
    }
   ],
   "source": [
    "3 + 4"
   ]
  },
  {
   "cell_type": "code",
   "execution_count": 130,
   "metadata": {
    "ExecuteTime": {
     "end_time": "2022-02-14T17:30:46.966849Z",
     "start_time": "2022-02-14T17:30:46.953901Z"
    }
   },
   "outputs": [
    {
     "name": "stdout",
     "output_type": "stream",
     "text": [
      "4\n"
     ]
    }
   ],
   "source": [
    "def returning_two_nums_sum(a, b):\n",
    "    total = a + b\n",
    "    return total\n",
    "\n",
    "c = returning_two_nums_sum(3, 1)\n",
    "print(c)"
   ]
  },
  {
   "cell_type": "code",
   "execution_count": 131,
   "metadata": {
    "ExecuteTime": {
     "end_time": "2022-02-14T17:30:46.982397Z",
     "start_time": "2022-02-14T17:30:46.969136Z"
    }
   },
   "outputs": [
    {
     "name": "stdout",
     "output_type": "stream",
     "text": [
      "John Smith\n"
     ]
    }
   ],
   "source": [
    "def full_name(first_name, last_name):\n",
    "    f = first_name + \" \" + last_name\n",
    "    return f\n",
    "\n",
    "fname = 'John'\n",
    "lname = 'Smith'\n",
    "full = full_name(fname, lname)\n",
    "print(full)"
   ]
  },
  {
   "cell_type": "code",
   "execution_count": 132,
   "metadata": {
    "ExecuteTime": {
     "end_time": "2022-02-14T17:30:46.998312Z",
     "start_time": "2022-02-14T17:30:46.984323Z"
    }
   },
   "outputs": [
    {
     "name": "stdout",
     "output_type": "stream",
     "text": [
      "0 this is x\n",
      "6 this is y\n",
      "\n",
      "0 this is x\n",
      "6 this is y\n",
      "\n",
      "1.7 this is x\n",
      "7.7 this is y\n"
     ]
    }
   ],
   "source": [
    "def func_c(x=0):\n",
    "    y = x + 6\n",
    "    print(x,\"this is x\")\n",
    "    print(y, \"this is y\")\n",
    "\n",
    "func_c()\n",
    "print()\n",
    "func_c(0)\n",
    "print()\n",
    "func_c(1.7)"
   ]
  },
  {
   "cell_type": "code",
   "execution_count": 133,
   "metadata": {
    "ExecuteTime": {
     "end_time": "2022-02-14T17:30:47.013570Z",
     "start_time": "2022-02-14T17:30:47.001320Z"
    }
   },
   "outputs": [
    {
     "name": "stdout",
     "output_type": "stream",
     "text": [
      "2 this is x\n",
      "3 this is y\n",
      "6\n",
      "23\n"
     ]
    }
   ],
   "source": [
    "z3=7\n",
    "def func_d(x=0,y=0):\n",
    "    print(x,\"this is x\")\n",
    "    print(y, \"this is y\")\n",
    "    z4=6\n",
    "    print(z4)\n",
    "    return x+ y*z3\n",
    "\n",
    "z = func_d(2,3)\n",
    "print(z)\n",
    "# print(z4)"
   ]
  },
  {
   "cell_type": "code",
   "execution_count": 134,
   "metadata": {
    "ExecuteTime": {
     "end_time": "2022-02-14T17:30:47.028691Z",
     "start_time": "2022-02-14T17:30:47.016498Z"
    }
   },
   "outputs": [
    {
     "name": "stdout",
     "output_type": "stream",
     "text": [
      "0 this is x\n",
      "0 this is y\n",
      "6\n",
      "0\n"
     ]
    }
   ],
   "source": [
    "z2= func_d(0)\n",
    "print(z2)"
   ]
  },
  {
   "cell_type": "code",
   "execution_count": 135,
   "metadata": {
    "ExecuteTime": {
     "end_time": "2022-02-14T17:30:47.044771Z",
     "start_time": "2022-02-14T17:30:47.030815Z"
    }
   },
   "outputs": [
    {
     "name": "stdout",
     "output_type": "stream",
     "text": [
      "5 this is x\n",
      "0 this is y\n",
      "6\n",
      "5\n"
     ]
    }
   ],
   "source": [
    "z2= func_d(5)\n",
    "print(z2)"
   ]
  },
  {
   "cell_type": "code",
   "execution_count": 136,
   "metadata": {
    "ExecuteTime": {
     "end_time": "2022-02-14T17:30:47.060691Z",
     "start_time": "2022-02-14T17:30:47.047695Z"
    }
   },
   "outputs": [],
   "source": [
    "def new_func(a=0,b=9):\n",
    "    print(a,b)\n",
    "#     return None"
   ]
  },
  {
   "cell_type": "code",
   "execution_count": 137,
   "metadata": {
    "ExecuteTime": {
     "end_time": "2022-02-14T17:30:47.076691Z",
     "start_time": "2022-02-14T17:30:47.062694Z"
    }
   },
   "outputs": [
    {
     "name": "stdout",
     "output_type": "stream",
     "text": [
      "0 9\n"
     ]
    }
   ],
   "source": [
    "new_func()"
   ]
  },
  {
   "cell_type": "code",
   "execution_count": 138,
   "metadata": {
    "ExecuteTime": {
     "end_time": "2022-02-14T17:30:47.092667Z",
     "start_time": "2022-02-14T17:30:47.078691Z"
    }
   },
   "outputs": [
    {
     "name": "stdout",
     "output_type": "stream",
     "text": [
      "5 9\n"
     ]
    }
   ],
   "source": [
    "new_func(5)"
   ]
  },
  {
   "cell_type": "code",
   "execution_count": 139,
   "metadata": {
    "ExecuteTime": {
     "end_time": "2022-02-14T17:30:47.108760Z",
     "start_time": "2022-02-14T17:30:47.093667Z"
    }
   },
   "outputs": [
    {
     "name": "stdout",
     "output_type": "stream",
     "text": [
      "6 8\n"
     ]
    }
   ],
   "source": [
    "new_func(6,8)\n",
    "a=10"
   ]
  },
  {
   "cell_type": "code",
   "execution_count": 140,
   "metadata": {
    "ExecuteTime": {
     "end_time": "2022-02-14T17:30:47.124242Z",
     "start_time": "2022-02-14T17:30:47.110128Z"
    }
   },
   "outputs": [],
   "source": [
    "def new_add(a,b):\n",
    "    a = a + 3\n",
    "    return a + b"
   ]
  },
  {
   "cell_type": "code",
   "execution_count": 141,
   "metadata": {
    "ExecuteTime": {
     "end_time": "2022-02-14T17:30:47.139605Z",
     "start_time": "2022-02-14T17:30:47.125499Z"
    }
   },
   "outputs": [],
   "source": [
    "# c = new_add(\"Zero\",7)\n",
    "# print(c)"
   ]
  },
  {
   "cell_type": "code",
   "execution_count": 142,
   "metadata": {
    "ExecuteTime": {
     "end_time": "2022-02-14T17:30:47.154986Z",
     "start_time": "2022-02-14T17:30:47.141796Z"
    }
   },
   "outputs": [],
   "source": [
    "# print(xyz)"
   ]
  },
  {
   "cell_type": "code",
   "execution_count": 143,
   "metadata": {
    "ExecuteTime": {
     "end_time": "2022-02-14T17:30:47.170910Z",
     "start_time": "2022-02-14T17:30:47.157047Z"
    }
   },
   "outputs": [
    {
     "name": "stdout",
     "output_type": "stream",
     "text": [
      "5.0\n"
     ]
    }
   ],
   "source": [
    "def solve_hyp(a,b):\n",
    "    c = (a ** 2 + b ** 2) ** (1/2)\n",
    "    return c\n",
    "\n",
    "hyp = solve_hyp(3,4)\n",
    "print(hyp)"
   ]
  },
  {
   "cell_type": "code",
   "execution_count": 144,
   "metadata": {
    "ExecuteTime": {
     "end_time": "2022-02-14T17:30:47.186714Z",
     "start_time": "2022-02-14T17:30:47.172953Z"
    }
   },
   "outputs": [
    {
     "data": {
      "text/plain": [
       "13.0"
      ]
     },
     "execution_count": 144,
     "metadata": {},
     "output_type": "execute_result"
    }
   ],
   "source": [
    "solve_hyp(5,12)"
   ]
  },
  {
   "cell_type": "markdown",
   "metadata": {},
   "source": [
    "## Type Conversion"
   ]
  },
  {
   "cell_type": "code",
   "execution_count": 145,
   "metadata": {
    "ExecuteTime": {
     "end_time": "2022-02-14T17:30:47.202462Z",
     "start_time": "2022-02-14T17:30:47.189158Z"
    }
   },
   "outputs": [
    {
     "data": {
      "text/plain": [
       "float"
      ]
     },
     "execution_count": 145,
     "metadata": {},
     "output_type": "execute_result"
    }
   ],
   "source": [
    "type(6 + 1.5)"
   ]
  },
  {
   "cell_type": "code",
   "execution_count": 146,
   "metadata": {
    "ExecuteTime": {
     "end_time": "2022-02-14T17:30:47.218064Z",
     "start_time": "2022-02-14T17:30:47.204410Z"
    }
   },
   "outputs": [
    {
     "data": {
      "text/plain": [
       "'JohnSmith'"
      ]
     },
     "execution_count": 146,
     "metadata": {},
     "output_type": "execute_result"
    }
   ],
   "source": [
    "\"John\" + \"Smith\""
   ]
  },
  {
   "cell_type": "code",
   "execution_count": 147,
   "metadata": {
    "ExecuteTime": {
     "end_time": "2022-02-14T17:30:47.234076Z",
     "start_time": "2022-02-14T17:30:47.220135Z"
    }
   },
   "outputs": [
    {
     "data": {
      "text/plain": [
       "'zero7'"
      ]
     },
     "execution_count": 147,
     "metadata": {},
     "output_type": "execute_result"
    }
   ],
   "source": [
    "a = 7\n",
    "\"zero\" + str(a)"
   ]
  },
  {
   "cell_type": "code",
   "execution_count": 148,
   "metadata": {
    "ExecuteTime": {
     "end_time": "2022-02-14T17:30:47.249511Z",
     "start_time": "2022-02-14T17:30:47.235095Z"
    }
   },
   "outputs": [
    {
     "data": {
      "text/plain": [
       "'7zero'"
      ]
     },
     "execution_count": 148,
     "metadata": {},
     "output_type": "execute_result"
    }
   ],
   "source": [
    "str(a) + \"zero\""
   ]
  },
  {
   "cell_type": "code",
   "execution_count": 149,
   "metadata": {
    "ExecuteTime": {
     "end_time": "2022-02-14T17:30:47.265541Z",
     "start_time": "2022-02-14T17:30:47.250450Z"
    }
   },
   "outputs": [
    {
     "data": {
      "text/plain": [
       "str"
      ]
     },
     "execution_count": 149,
     "metadata": {},
     "output_type": "execute_result"
    }
   ],
   "source": [
    "type('7.5')"
   ]
  },
  {
   "cell_type": "code",
   "execution_count": 150,
   "metadata": {
    "ExecuteTime": {
     "end_time": "2022-02-14T17:30:47.281628Z",
     "start_time": "2022-02-14T17:30:47.268438Z"
    }
   },
   "outputs": [
    {
     "data": {
      "text/plain": [
       "7.5"
      ]
     },
     "execution_count": 150,
     "metadata": {},
     "output_type": "execute_result"
    }
   ],
   "source": [
    "float('7.5')"
   ]
  },
  {
   "cell_type": "code",
   "execution_count": 151,
   "metadata": {
    "ExecuteTime": {
     "end_time": "2022-02-14T17:30:47.297616Z",
     "start_time": "2022-02-14T17:30:47.283810Z"
    }
   },
   "outputs": [
    {
     "data": {
      "text/plain": [
       "12"
      ]
     },
     "execution_count": 151,
     "metadata": {},
     "output_type": "execute_result"
    }
   ],
   "source": [
    "int('12')"
   ]
  },
  {
   "cell_type": "code",
   "execution_count": 152,
   "metadata": {
    "ExecuteTime": {
     "end_time": "2022-02-14T17:30:47.313609Z",
     "start_time": "2022-02-14T17:30:47.298527Z"
    }
   },
   "outputs": [
    {
     "data": {
      "text/plain": [
       "7"
      ]
     },
     "execution_count": 152,
     "metadata": {},
     "output_type": "execute_result"
    }
   ],
   "source": [
    "int(7.9)"
   ]
  },
  {
   "cell_type": "code",
   "execution_count": null,
   "metadata": {},
   "outputs": [],
   "source": []
  },
  {
   "cell_type": "code",
   "execution_count": null,
   "metadata": {},
   "outputs": [],
   "source": []
  },
  {
   "cell_type": "markdown",
   "metadata": {},
   "source": [
    "## Lists"
   ]
  },
  {
   "cell_type": "code",
   "execution_count": 153,
   "metadata": {
    "ExecuteTime": {
     "end_time": "2022-02-14T17:30:47.329001Z",
     "start_time": "2022-02-14T17:30:47.315789Z"
    }
   },
   "outputs": [],
   "source": [
    "num1 = 10\n",
    "num2 = 20\n",
    "num3 = 30\n",
    "num4 = 40"
   ]
  },
  {
   "cell_type": "code",
   "execution_count": 154,
   "metadata": {
    "ExecuteTime": {
     "end_time": "2022-02-14T17:30:47.344296Z",
     "start_time": "2022-02-14T17:30:47.330083Z"
    }
   },
   "outputs": [],
   "source": [
    "list_a = [10,20,30,40,50,60,70,80]"
   ]
  },
  {
   "cell_type": "code",
   "execution_count": 155,
   "metadata": {
    "ExecuteTime": {
     "end_time": "2022-02-14T17:30:47.360285Z",
     "start_time": "2022-02-14T17:30:47.346236Z"
    }
   },
   "outputs": [
    {
     "name": "stdout",
     "output_type": "stream",
     "text": [
      "[10, 20, 30, 40, 50, 60, 70, 80]\n"
     ]
    }
   ],
   "source": [
    "print(list_a)"
   ]
  },
  {
   "cell_type": "code",
   "execution_count": 156,
   "metadata": {
    "ExecuteTime": {
     "end_time": "2022-02-14T17:30:47.376254Z",
     "start_time": "2022-02-14T17:30:47.362315Z"
    }
   },
   "outputs": [
    {
     "data": {
      "text/plain": [
       "[10, 20, 30, 40, 50, 60, 70, 80]"
      ]
     },
     "execution_count": 156,
     "metadata": {},
     "output_type": "execute_result"
    }
   ],
   "source": [
    "list_a"
   ]
  },
  {
   "cell_type": "code",
   "execution_count": 157,
   "metadata": {
    "ExecuteTime": {
     "end_time": "2022-02-14T17:30:47.392285Z",
     "start_time": "2022-02-14T17:30:47.378214Z"
    }
   },
   "outputs": [
    {
     "data": {
      "text/plain": [
       "8"
      ]
     },
     "execution_count": 157,
     "metadata": {},
     "output_type": "execute_result"
    }
   ],
   "source": [
    "len(list_a)"
   ]
  },
  {
   "cell_type": "code",
   "execution_count": 158,
   "metadata": {
    "ExecuteTime": {
     "end_time": "2022-02-14T17:30:47.407655Z",
     "start_time": "2022-02-14T17:30:47.393206Z"
    }
   },
   "outputs": [],
   "source": [
    "li_b=[\"a\",\"b\",'c','d','e',\"f\"]"
   ]
  },
  {
   "cell_type": "code",
   "execution_count": 159,
   "metadata": {
    "ExecuteTime": {
     "end_time": "2022-02-14T17:30:47.423477Z",
     "start_time": "2022-02-14T17:30:47.410461Z"
    }
   },
   "outputs": [
    {
     "name": "stdout",
     "output_type": "stream",
     "text": [
      "['a', 'b', 'c', 'd', 'e', 'f']\n"
     ]
    }
   ],
   "source": [
    "print(li_b)"
   ]
  },
  {
   "cell_type": "code",
   "execution_count": 160,
   "metadata": {
    "ExecuteTime": {
     "end_time": "2022-02-14T17:30:47.438421Z",
     "start_time": "2022-02-14T17:30:47.425340Z"
    }
   },
   "outputs": [],
   "source": [
    "empty_list = []"
   ]
  },
  {
   "cell_type": "code",
   "execution_count": 161,
   "metadata": {
    "ExecuteTime": {
     "end_time": "2022-02-14T17:30:47.453264Z",
     "start_time": "2022-02-14T17:30:47.440354Z"
    }
   },
   "outputs": [
    {
     "name": "stdout",
     "output_type": "stream",
     "text": [
      "[]\n"
     ]
    }
   ],
   "source": [
    "print(empty_list)"
   ]
  },
  {
   "cell_type": "code",
   "execution_count": 162,
   "metadata": {
    "ExecuteTime": {
     "end_time": "2022-02-14T17:30:47.468575Z",
     "start_time": "2022-02-14T17:30:47.455185Z"
    }
   },
   "outputs": [],
   "source": [
    "li_c=[1,2,3,\"a\",[10,50,\"x\"],\"bc\",[],\"def\",9]"
   ]
  },
  {
   "cell_type": "markdown",
   "metadata": {},
   "source": [
    "### Indexing"
   ]
  },
  {
   "cell_type": "code",
   "execution_count": 163,
   "metadata": {
    "ExecuteTime": {
     "end_time": "2022-02-14T17:30:47.484294Z",
     "start_time": "2022-02-14T17:30:47.470195Z"
    }
   },
   "outputs": [
    {
     "data": {
      "text/plain": [
       "8"
      ]
     },
     "execution_count": 163,
     "metadata": {},
     "output_type": "execute_result"
    }
   ],
   "source": [
    "len(list_a)"
   ]
  },
  {
   "cell_type": "code",
   "execution_count": 164,
   "metadata": {
    "ExecuteTime": {
     "end_time": "2022-02-14T17:30:47.500014Z",
     "start_time": "2022-02-14T17:30:47.486195Z"
    }
   },
   "outputs": [
    {
     "data": {
      "text/plain": [
       "[10, 20, 30, 40, 50, 60, 70, 80]"
      ]
     },
     "execution_count": 164,
     "metadata": {},
     "output_type": "execute_result"
    }
   ],
   "source": [
    "list_a"
   ]
  },
  {
   "cell_type": "code",
   "execution_count": 165,
   "metadata": {
    "ExecuteTime": {
     "end_time": "2022-02-14T17:30:47.515988Z",
     "start_time": "2022-02-14T17:30:47.500908Z"
    }
   },
   "outputs": [
    {
     "data": {
      "text/plain": [
       "10"
      ]
     },
     "execution_count": 165,
     "metadata": {},
     "output_type": "execute_result"
    }
   ],
   "source": [
    "list_a[0]"
   ]
  },
  {
   "cell_type": "code",
   "execution_count": 166,
   "metadata": {
    "ExecuteTime": {
     "end_time": "2022-02-14T17:30:47.532009Z",
     "start_time": "2022-02-14T17:30:47.516908Z"
    }
   },
   "outputs": [
    {
     "data": {
      "text/plain": [
       "80"
      ]
     },
     "execution_count": 166,
     "metadata": {},
     "output_type": "execute_result"
    }
   ],
   "source": [
    "list_a[7]"
   ]
  },
  {
   "cell_type": "code",
   "execution_count": 167,
   "metadata": {
    "ExecuteTime": {
     "end_time": "2022-02-14T17:30:47.547580Z",
     "start_time": "2022-02-14T17:30:47.532913Z"
    }
   },
   "outputs": [
    {
     "data": {
      "text/plain": [
       "10"
      ]
     },
     "execution_count": 167,
     "metadata": {},
     "output_type": "execute_result"
    }
   ],
   "source": [
    "list_a[0]"
   ]
  },
  {
   "cell_type": "code",
   "execution_count": 168,
   "metadata": {
    "ExecuteTime": {
     "end_time": "2022-02-14T17:30:47.562698Z",
     "start_time": "2022-02-14T17:30:47.548699Z"
    }
   },
   "outputs": [
    {
     "name": "stdout",
     "output_type": "stream",
     "text": [
      "[1, 2, 3, 'a', [10, 50, 'x'], 'bc', [], 'def', 9]\n",
      "50\n"
     ]
    }
   ],
   "source": [
    "print(li_c)\n",
    "print(li_c[4][1])"
   ]
  },
  {
   "cell_type": "code",
   "execution_count": 169,
   "metadata": {
    "ExecuteTime": {
     "end_time": "2022-02-14T17:30:47.577920Z",
     "start_time": "2022-02-14T17:30:47.564920Z"
    }
   },
   "outputs": [
    {
     "name": "stdout",
     "output_type": "stream",
     "text": [
      "x\n"
     ]
    }
   ],
   "source": [
    "print(li_c[4][-1])"
   ]
  },
  {
   "cell_type": "markdown",
   "metadata": {},
   "source": [
    "#### Negative index"
   ]
  },
  {
   "cell_type": "code",
   "execution_count": 170,
   "metadata": {
    "ExecuteTime": {
     "end_time": "2022-02-14T17:30:47.593920Z",
     "start_time": "2022-02-14T17:30:47.579921Z"
    }
   },
   "outputs": [
    {
     "data": {
      "text/plain": [
       "['a', 'b', 'c', 'd', 'e', 'f']"
      ]
     },
     "execution_count": 170,
     "metadata": {},
     "output_type": "execute_result"
    }
   ],
   "source": [
    "li_b"
   ]
  },
  {
   "cell_type": "code",
   "execution_count": 171,
   "metadata": {
    "ExecuteTime": {
     "end_time": "2022-02-14T17:30:47.609519Z",
     "start_time": "2022-02-14T17:30:47.596286Z"
    }
   },
   "outputs": [
    {
     "data": {
      "text/plain": [
       "'f'"
      ]
     },
     "execution_count": 171,
     "metadata": {},
     "output_type": "execute_result"
    }
   ],
   "source": [
    "li_b[-1]"
   ]
  },
  {
   "cell_type": "code",
   "execution_count": 172,
   "metadata": {
    "ExecuteTime": {
     "end_time": "2022-02-14T17:30:47.625585Z",
     "start_time": "2022-02-14T17:30:47.611519Z"
    }
   },
   "outputs": [
    {
     "name": "stdout",
     "output_type": "stream",
     "text": [
      "z\n",
      "True\n"
     ]
    }
   ],
   "source": [
    "li_c[3]='z'\n",
    "print(li_c[3])\n",
    "li_c[3]=True\n",
    "print(li_c[3])"
   ]
  },
  {
   "cell_type": "code",
   "execution_count": 173,
   "metadata": {
    "ExecuteTime": {
     "end_time": "2022-02-14T17:30:47.641682Z",
     "start_time": "2022-02-14T17:30:47.627611Z"
    }
   },
   "outputs": [
    {
     "data": {
      "text/plain": [
       "[1, 2, 3, True, [10, 50, 'x'], 'bc', [], 'def', 9]"
      ]
     },
     "execution_count": 173,
     "metadata": {},
     "output_type": "execute_result"
    }
   ],
   "source": [
    "li_c"
   ]
  },
  {
   "cell_type": "markdown",
   "metadata": {},
   "source": [
    "### len()"
   ]
  },
  {
   "cell_type": "code",
   "execution_count": 174,
   "metadata": {
    "ExecuteTime": {
     "end_time": "2022-02-14T17:30:47.657113Z",
     "start_time": "2022-02-14T17:30:47.642864Z"
    }
   },
   "outputs": [
    {
     "data": {
      "text/plain": [
       "8"
      ]
     },
     "execution_count": 174,
     "metadata": {},
     "output_type": "execute_result"
    }
   ],
   "source": [
    "len(list_a)"
   ]
  },
  {
   "cell_type": "code",
   "execution_count": 175,
   "metadata": {
    "ExecuteTime": {
     "end_time": "2022-02-14T17:30:47.672225Z",
     "start_time": "2022-02-14T17:30:47.658779Z"
    }
   },
   "outputs": [
    {
     "data": {
      "text/plain": [
       "list"
      ]
     },
     "execution_count": 175,
     "metadata": {},
     "output_type": "execute_result"
    }
   ],
   "source": [
    "li = list([3,6,7])\n",
    "type(li)"
   ]
  },
  {
   "cell_type": "code",
   "execution_count": 176,
   "metadata": {
    "ExecuteTime": {
     "end_time": "2022-02-14T17:30:47.687512Z",
     "start_time": "2022-02-14T17:30:47.673131Z"
    }
   },
   "outputs": [
    {
     "data": {
      "text/plain": [
       "list"
      ]
     },
     "execution_count": 176,
     "metadata": {},
     "output_type": "execute_result"
    }
   ],
   "source": [
    "li_a = [4, \"b\", [3, 7, 6], 1, 9]\n",
    "type(li_a)"
   ]
  },
  {
   "cell_type": "code",
   "execution_count": 177,
   "metadata": {
    "ExecuteTime": {
     "end_time": "2022-02-14T17:30:47.703252Z",
     "start_time": "2022-02-14T17:30:47.689240Z"
    }
   },
   "outputs": [
    {
     "name": "stdout",
     "output_type": "stream",
     "text": [
      "[4, 'b', [3, 7, 6], 1, 9]\n"
     ]
    }
   ],
   "source": [
    "print(li_a)"
   ]
  },
  {
   "cell_type": "code",
   "execution_count": null,
   "metadata": {},
   "outputs": [],
   "source": []
  },
  {
   "cell_type": "markdown",
   "metadata": {},
   "source": [
    "### Adding and Changing Elements"
   ]
  },
  {
   "cell_type": "code",
   "execution_count": 178,
   "metadata": {
    "ExecuteTime": {
     "end_time": "2022-02-14T17:30:47.735254Z",
     "start_time": "2022-02-14T17:30:47.718252Z"
    }
   },
   "outputs": [
    {
     "data": {
      "text/plain": [
       "['a', 'b', 'c', 'd', 'e', 'f', 10, 20, 30, 40, 50, 60, 70, 80]"
      ]
     },
     "execution_count": 178,
     "metadata": {},
     "output_type": "execute_result"
    }
   ],
   "source": [
    "li_b+list_a"
   ]
  },
  {
   "cell_type": "code",
   "execution_count": 179,
   "metadata": {
    "ExecuteTime": {
     "end_time": "2022-02-14T17:30:47.750662Z",
     "start_time": "2022-02-14T17:30:47.738253Z"
    }
   },
   "outputs": [],
   "source": [
    "li_b = li_b + ['g']"
   ]
  },
  {
   "cell_type": "code",
   "execution_count": 180,
   "metadata": {
    "ExecuteTime": {
     "end_time": "2022-02-14T17:30:47.766284Z",
     "start_time": "2022-02-14T17:30:47.752902Z"
    }
   },
   "outputs": [
    {
     "data": {
      "text/plain": [
       "['a', 'b', 'c', 'd', 'e', 'f', 'g']"
      ]
     },
     "execution_count": 180,
     "metadata": {},
     "output_type": "execute_result"
    }
   ],
   "source": [
    "li_b"
   ]
  },
  {
   "cell_type": "markdown",
   "metadata": {},
   "source": [
    "#### Changing Elements"
   ]
  },
  {
   "cell_type": "code",
   "execution_count": null,
   "metadata": {},
   "outputs": [],
   "source": []
  },
  {
   "cell_type": "markdown",
   "metadata": {},
   "source": [
    "#### `.append()`"
   ]
  },
  {
   "cell_type": "code",
   "execution_count": 181,
   "metadata": {
    "ExecuteTime": {
     "end_time": "2022-02-14T17:30:47.781365Z",
     "start_time": "2022-02-14T17:30:47.768407Z"
    }
   },
   "outputs": [],
   "source": [
    "li_b=[\"a\",\"b\",'c','d','e',\"f\"]"
   ]
  },
  {
   "cell_type": "code",
   "execution_count": 182,
   "metadata": {
    "ExecuteTime": {
     "end_time": "2022-02-14T17:30:47.796862Z",
     "start_time": "2022-02-14T17:30:47.782480Z"
    }
   },
   "outputs": [
    {
     "name": "stdout",
     "output_type": "stream",
     "text": [
      "['a', 'b', 'c', 'd', 'e', 'f', 'h']\n"
     ]
    }
   ],
   "source": [
    "li_b.append('h')\n",
    "print(li_b)"
   ]
  },
  {
   "cell_type": "markdown",
   "metadata": {},
   "source": [
    "#### `.extend()`"
   ]
  },
  {
   "cell_type": "code",
   "execution_count": 183,
   "metadata": {
    "ExecuteTime": {
     "end_time": "2022-02-14T17:30:47.812670Z",
     "start_time": "2022-02-14T17:30:47.798652Z"
    }
   },
   "outputs": [
    {
     "name": "stdout",
     "output_type": "stream",
     "text": [
      "['a', 'b', 'c', 'd', 'e', 'f', 'h', 'i', 'j']\n"
     ]
    }
   ],
   "source": [
    "li_b.extend(['i', 'j'])\n",
    "print(li_b)"
   ]
  },
  {
   "cell_type": "markdown",
   "metadata": {},
   "source": [
    "#### `.insert()`"
   ]
  },
  {
   "cell_type": "code",
   "execution_count": 184,
   "metadata": {
    "ExecuteTime": {
     "end_time": "2022-02-14T17:30:47.828309Z",
     "start_time": "2022-02-14T17:30:47.814592Z"
    }
   },
   "outputs": [],
   "source": [
    "li_b.insert(3, 'z')"
   ]
  },
  {
   "cell_type": "code",
   "execution_count": 185,
   "metadata": {
    "ExecuteTime": {
     "end_time": "2022-02-14T17:30:47.843887Z",
     "start_time": "2022-02-14T17:30:47.830551Z"
    }
   },
   "outputs": [
    {
     "name": "stdout",
     "output_type": "stream",
     "text": [
      "['a', 'b', 'c', 'z', 'd', 'e', 'f', 'h', 'i', 'j']\n"
     ]
    }
   ],
   "source": [
    "print(li_b)"
   ]
  },
  {
   "cell_type": "markdown",
   "metadata": {},
   "source": [
    "#### `.pop()`"
   ]
  },
  {
   "cell_type": "code",
   "execution_count": 186,
   "metadata": {
    "ExecuteTime": {
     "end_time": "2022-02-14T17:30:47.859576Z",
     "start_time": "2022-02-14T17:30:47.844884Z"
    }
   },
   "outputs": [
    {
     "data": {
      "text/plain": [
       "'j'"
      ]
     },
     "execution_count": 186,
     "metadata": {},
     "output_type": "execute_result"
    }
   ],
   "source": [
    "li_b.pop()"
   ]
  },
  {
   "cell_type": "code",
   "execution_count": 187,
   "metadata": {
    "ExecuteTime": {
     "end_time": "2022-02-14T17:30:47.874692Z",
     "start_time": "2022-02-14T17:30:47.862594Z"
    }
   },
   "outputs": [],
   "source": [
    "last_elem = li_b.pop()"
   ]
  },
  {
   "cell_type": "code",
   "execution_count": 188,
   "metadata": {
    "ExecuteTime": {
     "end_time": "2022-02-14T17:30:47.890243Z",
     "start_time": "2022-02-14T17:30:47.876413Z"
    }
   },
   "outputs": [
    {
     "data": {
      "text/plain": [
       "['a', 'b', 'c', 'z', 'd', 'e', 'f', 'h']"
      ]
     },
     "execution_count": 188,
     "metadata": {},
     "output_type": "execute_result"
    }
   ],
   "source": [
    "li_b"
   ]
  },
  {
   "cell_type": "code",
   "execution_count": 189,
   "metadata": {
    "ExecuteTime": {
     "end_time": "2022-02-14T17:30:47.906370Z",
     "start_time": "2022-02-14T17:30:47.892255Z"
    }
   },
   "outputs": [
    {
     "data": {
      "text/plain": [
       "'i'"
      ]
     },
     "execution_count": 189,
     "metadata": {},
     "output_type": "execute_result"
    }
   ],
   "source": [
    "last_elem"
   ]
  },
  {
   "cell_type": "code",
   "execution_count": 190,
   "metadata": {
    "ExecuteTime": {
     "end_time": "2022-02-14T17:30:47.921979Z",
     "start_time": "2022-02-14T17:30:47.908056Z"
    }
   },
   "outputs": [],
   "source": [
    "first = li_b.pop(0)"
   ]
  },
  {
   "cell_type": "code",
   "execution_count": 191,
   "metadata": {
    "ExecuteTime": {
     "end_time": "2022-02-14T17:30:47.937119Z",
     "start_time": "2022-02-14T17:30:47.923756Z"
    }
   },
   "outputs": [
    {
     "data": {
      "text/plain": [
       "'a'"
      ]
     },
     "execution_count": 191,
     "metadata": {},
     "output_type": "execute_result"
    }
   ],
   "source": [
    "first"
   ]
  },
  {
   "cell_type": "code",
   "execution_count": 192,
   "metadata": {
    "ExecuteTime": {
     "end_time": "2022-02-14T17:30:47.952254Z",
     "start_time": "2022-02-14T17:30:47.939099Z"
    }
   },
   "outputs": [
    {
     "data": {
      "text/plain": [
       "['b', 'c', 'z', 'd', 'e', 'f', 'h']"
      ]
     },
     "execution_count": 192,
     "metadata": {},
     "output_type": "execute_result"
    }
   ],
   "source": [
    "li_b"
   ]
  },
  {
   "cell_type": "markdown",
   "metadata": {},
   "source": [
    "### Remove and Delete"
   ]
  },
  {
   "cell_type": "markdown",
   "metadata": {},
   "source": [
    "#### `.remove()`"
   ]
  },
  {
   "cell_type": "code",
   "execution_count": 193,
   "metadata": {
    "ExecuteTime": {
     "end_time": "2022-02-14T17:30:47.967548Z",
     "start_time": "2022-02-14T17:30:47.954519Z"
    }
   },
   "outputs": [],
   "source": [
    "li_b.remove('b')"
   ]
  },
  {
   "cell_type": "code",
   "execution_count": 194,
   "metadata": {
    "ExecuteTime": {
     "end_time": "2022-02-14T17:30:47.983388Z",
     "start_time": "2022-02-14T17:30:47.969691Z"
    }
   },
   "outputs": [
    {
     "data": {
      "text/plain": [
       "['c', 'z', 'd', 'e', 'f', 'h']"
      ]
     },
     "execution_count": 194,
     "metadata": {},
     "output_type": "execute_result"
    }
   ],
   "source": [
    "li_b"
   ]
  },
  {
   "cell_type": "markdown",
   "metadata": {},
   "source": [
    "#### `del`"
   ]
  },
  {
   "cell_type": "code",
   "execution_count": 195,
   "metadata": {
    "ExecuteTime": {
     "end_time": "2022-02-14T17:30:47.999132Z",
     "start_time": "2022-02-14T17:30:47.985930Z"
    }
   },
   "outputs": [],
   "source": [
    "del li_b[2]"
   ]
  },
  {
   "cell_type": "code",
   "execution_count": 196,
   "metadata": {
    "ExecuteTime": {
     "end_time": "2022-02-14T17:30:48.014338Z",
     "start_time": "2022-02-14T17:30:48.001163Z"
    }
   },
   "outputs": [
    {
     "data": {
      "text/plain": [
       "['c', 'z', 'e', 'f', 'h']"
      ]
     },
     "execution_count": 196,
     "metadata": {},
     "output_type": "execute_result"
    }
   ],
   "source": [
    "li_b"
   ]
  },
  {
   "cell_type": "markdown",
   "metadata": {},
   "source": [
    "### Slicing"
   ]
  },
  {
   "cell_type": "code",
   "execution_count": 197,
   "metadata": {
    "ExecuteTime": {
     "end_time": "2022-02-14T17:30:48.029851Z",
     "start_time": "2022-02-14T17:30:48.016979Z"
    }
   },
   "outputs": [],
   "source": [
    "li_b=[\"a\",\"b\",'c','d','e',\"f\"]"
   ]
  },
  {
   "cell_type": "code",
   "execution_count": 198,
   "metadata": {
    "ExecuteTime": {
     "end_time": "2022-02-14T17:30:48.045594Z",
     "start_time": "2022-02-14T17:30:48.031681Z"
    }
   },
   "outputs": [
    {
     "data": {
      "text/plain": [
       "['a', 'b', 'c']"
      ]
     },
     "execution_count": 198,
     "metadata": {},
     "output_type": "execute_result"
    }
   ],
   "source": [
    "li_b[0:3]"
   ]
  },
  {
   "cell_type": "code",
   "execution_count": 199,
   "metadata": {
    "ExecuteTime": {
     "end_time": "2022-02-14T17:30:48.061241Z",
     "start_time": "2022-02-14T17:30:48.046720Z"
    }
   },
   "outputs": [
    {
     "data": {
      "text/plain": [
       "['b', 'c', 'd']"
      ]
     },
     "execution_count": 199,
     "metadata": {},
     "output_type": "execute_result"
    }
   ],
   "source": [
    "li_b[1:4]"
   ]
  },
  {
   "cell_type": "code",
   "execution_count": 200,
   "metadata": {
    "ExecuteTime": {
     "end_time": "2022-02-14T17:30:48.076942Z",
     "start_time": "2022-02-14T17:30:48.063243Z"
    }
   },
   "outputs": [
    {
     "data": {
      "text/plain": [
       "['a', 'b', 'c', 'd']"
      ]
     },
     "execution_count": 200,
     "metadata": {},
     "output_type": "execute_result"
    }
   ],
   "source": [
    "li_b[:4]"
   ]
  },
  {
   "cell_type": "code",
   "execution_count": 201,
   "metadata": {
    "ExecuteTime": {
     "end_time": "2022-02-14T17:30:48.092942Z",
     "start_time": "2022-02-14T17:30:48.079943Z"
    }
   },
   "outputs": [
    {
     "data": {
      "text/plain": [
       "['d', 'e', 'f']"
      ]
     },
     "execution_count": 201,
     "metadata": {},
     "output_type": "execute_result"
    }
   ],
   "source": [
    "li_b[3:]"
   ]
  },
  {
   "cell_type": "code",
   "execution_count": 202,
   "metadata": {
    "ExecuteTime": {
     "end_time": "2022-02-14T17:30:48.109140Z",
     "start_time": "2022-02-14T17:30:48.095942Z"
    }
   },
   "outputs": [
    {
     "data": {
      "text/plain": [
       "['a', 'c']"
      ]
     },
     "execution_count": 202,
     "metadata": {},
     "output_type": "execute_result"
    }
   ],
   "source": [
    "li_b[0:3:2]"
   ]
  },
  {
   "cell_type": "code",
   "execution_count": 203,
   "metadata": {
    "ExecuteTime": {
     "end_time": "2022-02-14T17:30:48.125060Z",
     "start_time": "2022-02-14T17:30:48.110957Z"
    }
   },
   "outputs": [
    {
     "data": {
      "text/plain": [
       "['a', 'c', 'e']"
      ]
     },
     "execution_count": 203,
     "metadata": {},
     "output_type": "execute_result"
    }
   ],
   "source": [
    "li_b[::2]"
   ]
  },
  {
   "cell_type": "code",
   "execution_count": 204,
   "metadata": {
    "ExecuteTime": {
     "end_time": "2022-02-14T17:30:48.140268Z",
     "start_time": "2022-02-14T17:30:48.129093Z"
    }
   },
   "outputs": [
    {
     "data": {
      "text/plain": [
       "['f', 'd', 'b']"
      ]
     },
     "execution_count": 204,
     "metadata": {},
     "output_type": "execute_result"
    }
   ],
   "source": [
    "li_b[::-2]"
   ]
  },
  {
   "cell_type": "code",
   "execution_count": 205,
   "metadata": {
    "ExecuteTime": {
     "end_time": "2022-02-14T17:30:48.154904Z",
     "start_time": "2022-02-14T17:30:48.142852Z"
    }
   },
   "outputs": [
    {
     "data": {
      "text/plain": [
       "['f', 'e', 'd', 'c', 'b', 'a']"
      ]
     },
     "execution_count": 205,
     "metadata": {},
     "output_type": "execute_result"
    }
   ],
   "source": [
    "li_b[::-1]"
   ]
  },
  {
   "cell_type": "markdown",
   "metadata": {},
   "source": [
    "### Cloning"
   ]
  },
  {
   "cell_type": "code",
   "execution_count": 206,
   "metadata": {
    "ExecuteTime": {
     "end_time": "2022-02-14T17:30:48.170331Z",
     "start_time": "2022-02-14T17:30:48.156876Z"
    }
   },
   "outputs": [
    {
     "data": {
      "text/plain": [
       "2055002990528"
      ]
     },
     "execution_count": 206,
     "metadata": {},
     "output_type": "execute_result"
    }
   ],
   "source": [
    "list_a = [1,2]\n",
    "id(list_a)"
   ]
  },
  {
   "cell_type": "code",
   "execution_count": 207,
   "metadata": {
    "ExecuteTime": {
     "end_time": "2022-02-14T17:30:48.185766Z",
     "start_time": "2022-02-14T17:30:48.173018Z"
    }
   },
   "outputs": [
    {
     "name": "stdout",
     "output_type": "stream",
     "text": [
      "2055002990528\n"
     ]
    }
   ],
   "source": [
    "list_a.append(3)\n",
    "print(id(list_a))"
   ]
  },
  {
   "cell_type": "code",
   "execution_count": 208,
   "metadata": {
    "ExecuteTime": {
     "end_time": "2022-02-14T17:30:48.201138Z",
     "start_time": "2022-02-14T17:30:48.187859Z"
    }
   },
   "outputs": [
    {
     "name": "stdout",
     "output_type": "stream",
     "text": [
      "2054986116160\n"
     ]
    }
   ],
   "source": [
    "list_a = list_a + [4]\n",
    "print(id(list_a))"
   ]
  },
  {
   "cell_type": "code",
   "execution_count": 209,
   "metadata": {
    "ExecuteTime": {
     "end_time": "2022-02-14T17:30:48.217012Z",
     "start_time": "2022-02-14T17:30:48.203061Z"
    }
   },
   "outputs": [
    {
     "name": "stdout",
     "output_type": "stream",
     "text": [
      "2054986116160\n"
     ]
    }
   ],
   "source": [
    "list_a += [4]\n",
    "print(id(list_a))"
   ]
  },
  {
   "cell_type": "code",
   "execution_count": null,
   "metadata": {},
   "outputs": [],
   "source": []
  },
  {
   "cell_type": "code",
   "execution_count": 210,
   "metadata": {
    "ExecuteTime": {
     "end_time": "2022-02-14T17:30:48.232341Z",
     "start_time": "2022-02-14T17:30:48.219106Z"
    }
   },
   "outputs": [
    {
     "name": "stdout",
     "output_type": "stream",
     "text": [
      "2055003037824\n"
     ]
    }
   ],
   "source": [
    "list_a = list_a[:4]\n",
    "print(id(list_a))"
   ]
  },
  {
   "cell_type": "code",
   "execution_count": 211,
   "metadata": {
    "ExecuteTime": {
     "end_time": "2022-02-14T17:30:48.247482Z",
     "start_time": "2022-02-14T17:30:48.235378Z"
    }
   },
   "outputs": [
    {
     "name": "stdout",
     "output_type": "stream",
     "text": [
      "[6, 8, 9]\n"
     ]
    }
   ],
   "source": [
    "list_a = [7,8,9]\n",
    "list_b = list_a\n",
    "list_a[0] = 6\n",
    "print(list_b)"
   ]
  },
  {
   "cell_type": "markdown",
   "metadata": {},
   "source": [
    "#### `[:]`"
   ]
  },
  {
   "cell_type": "code",
   "execution_count": 212,
   "metadata": {
    "ExecuteTime": {
     "end_time": "2022-02-14T17:30:48.263271Z",
     "start_time": "2022-02-14T17:30:48.250259Z"
    }
   },
   "outputs": [
    {
     "data": {
      "text/plain": [
       "2054908766672"
      ]
     },
     "execution_count": 212,
     "metadata": {},
     "output_type": "execute_result"
    }
   ],
   "source": [
    "id(list_a[0])"
   ]
  },
  {
   "cell_type": "code",
   "execution_count": 213,
   "metadata": {
    "ExecuteTime": {
     "end_time": "2022-02-14T17:30:48.309439Z",
     "start_time": "2022-02-14T17:30:48.265308Z"
    }
   },
   "outputs": [
    {
     "name": "stdout",
     "output_type": "stream",
     "text": [
      "2054908766672 2055003267328\n"
     ]
    }
   ],
   "source": [
    "print(id(list_a[0]), id(list_a))"
   ]
  },
  {
   "cell_type": "code",
   "execution_count": 214,
   "metadata": {
    "ExecuteTime": {
     "end_time": "2022-02-14T17:30:48.324733Z",
     "start_time": "2022-02-14T17:30:48.312461Z"
    }
   },
   "outputs": [
    {
     "name": "stdout",
     "output_type": "stream",
     "text": [
      "2054908766672 2055003271616\n"
     ]
    }
   ],
   "source": [
    "list_a = list_a + [5]\n",
    "print(id(list_a[0]), id(list_a))"
   ]
  },
  {
   "cell_type": "code",
   "execution_count": 215,
   "metadata": {
    "ExecuteTime": {
     "end_time": "2022-02-14T17:30:48.340025Z",
     "start_time": "2022-02-14T17:30:48.327043Z"
    }
   },
   "outputs": [
    {
     "name": "stdout",
     "output_type": "stream",
     "text": [
      "[7, 8, 9]\n"
     ]
    }
   ],
   "source": [
    "list_a = [7,8,9]\n",
    "list_b = list_a[:]\n",
    "list_a[0] = 6\n",
    "print(list_b)"
   ]
  },
  {
   "cell_type": "markdown",
   "metadata": {},
   "source": [
    "#### `.copy()`"
   ]
  },
  {
   "cell_type": "code",
   "execution_count": 216,
   "metadata": {
    "ExecuteTime": {
     "end_time": "2022-02-14T17:30:48.355952Z",
     "start_time": "2022-02-14T17:30:48.341951Z"
    }
   },
   "outputs": [
    {
     "name": "stdout",
     "output_type": "stream",
     "text": [
      "[7, 8, 9]\n"
     ]
    }
   ],
   "source": [
    "list_a = [7,8,9]\n",
    "list_b = list_a.copy()\n",
    "list_a[0] = 6\n",
    "print(list_b)"
   ]
  },
  {
   "cell_type": "markdown",
   "metadata": {},
   "source": [
    "### Sorting"
   ]
  },
  {
   "cell_type": "markdown",
   "metadata": {},
   "source": [
    "#### `sorted()`"
   ]
  },
  {
   "cell_type": "code",
   "execution_count": 217,
   "metadata": {
    "ExecuteTime": {
     "end_time": "2022-02-14T17:30:48.370993Z",
     "start_time": "2022-02-14T17:30:48.357952Z"
    }
   },
   "outputs": [],
   "source": [
    "list_a = [9, 4, 7, 1]\n",
    "sorted_a = sorted(list_a)"
   ]
  },
  {
   "cell_type": "code",
   "execution_count": 218,
   "metadata": {
    "ExecuteTime": {
     "end_time": "2022-02-14T17:30:48.386992Z",
     "start_time": "2022-02-14T17:30:48.372995Z"
    }
   },
   "outputs": [
    {
     "data": {
      "text/plain": [
       "[9, 4, 7, 1]"
      ]
     },
     "execution_count": 218,
     "metadata": {},
     "output_type": "execute_result"
    }
   ],
   "source": [
    "list_a"
   ]
  },
  {
   "cell_type": "code",
   "execution_count": 219,
   "metadata": {
    "ExecuteTime": {
     "end_time": "2022-02-14T17:30:48.403075Z",
     "start_time": "2022-02-14T17:30:48.388995Z"
    }
   },
   "outputs": [
    {
     "data": {
      "text/plain": [
       "[1, 4, 7, 9]"
      ]
     },
     "execution_count": 219,
     "metadata": {},
     "output_type": "execute_result"
    }
   ],
   "source": [
    "sorted_a"
   ]
  },
  {
   "cell_type": "code",
   "execution_count": 220,
   "metadata": {
    "ExecuteTime": {
     "end_time": "2022-02-14T17:30:48.419122Z",
     "start_time": "2022-02-14T17:30:48.404195Z"
    }
   },
   "outputs": [
    {
     "data": {
      "text/plain": [
       "[9, 7, 4, 1]"
      ]
     },
     "execution_count": 220,
     "metadata": {},
     "output_type": "execute_result"
    }
   ],
   "source": [
    "sorted(list_a, reverse=True)"
   ]
  },
  {
   "cell_type": "markdown",
   "metadata": {},
   "source": [
    "#### `.sort()`"
   ]
  },
  {
   "cell_type": "code",
   "execution_count": 221,
   "metadata": {
    "ExecuteTime": {
     "end_time": "2022-02-14T17:30:48.434306Z",
     "start_time": "2022-02-14T17:30:48.422444Z"
    }
   },
   "outputs": [],
   "source": [
    "list_a = [9, 4, 7, 1]\n",
    "list_a.sort(reverse=True)"
   ]
  },
  {
   "cell_type": "code",
   "execution_count": 222,
   "metadata": {
    "ExecuteTime": {
     "end_time": "2022-02-14T17:30:48.449017Z",
     "start_time": "2022-02-14T17:30:48.436462Z"
    }
   },
   "outputs": [
    {
     "data": {
      "text/plain": [
       "[9, 7, 4, 1]"
      ]
     },
     "execution_count": 222,
     "metadata": {},
     "output_type": "execute_result"
    }
   ],
   "source": [
    "list_a"
   ]
  },
  {
   "cell_type": "code",
   "execution_count": 223,
   "metadata": {
    "ExecuteTime": {
     "end_time": "2022-02-14T17:30:48.464642Z",
     "start_time": "2022-02-14T17:30:48.450638Z"
    }
   },
   "outputs": [
    {
     "data": {
      "text/plain": [
       "['', 'D', 'EA', 'EFG', 'HIJK', 'a', 'bc']"
      ]
     },
     "execution_count": 223,
     "metadata": {},
     "output_type": "execute_result"
    }
   ],
   "source": [
    "list_alpha = [\"a\", \"bc\", \"D\", \"EFG\", \"\", \"HIJK\", \"EA\"]\n",
    "sorted(list_alpha)"
   ]
  },
  {
   "cell_type": "markdown",
   "metadata": {},
   "source": [
    "## Tuple"
   ]
  },
  {
   "cell_type": "code",
   "execution_count": 224,
   "metadata": {
    "ExecuteTime": {
     "end_time": "2022-02-14T17:30:48.480135Z",
     "start_time": "2022-02-14T17:30:48.465639Z"
    }
   },
   "outputs": [],
   "source": [
    "# - `()`\n",
    "# > immutable"
   ]
  },
  {
   "cell_type": "code",
   "execution_count": 225,
   "metadata": {
    "ExecuteTime": {
     "end_time": "2022-02-14T17:30:48.495474Z",
     "start_time": "2022-02-14T17:30:48.481166Z"
    }
   },
   "outputs": [],
   "source": [
    "tuple_a=(1,3,5, \"a\", None, True)"
   ]
  },
  {
   "cell_type": "code",
   "execution_count": 226,
   "metadata": {
    "ExecuteTime": {
     "end_time": "2022-02-14T17:30:48.510759Z",
     "start_time": "2022-02-14T17:30:48.497473Z"
    }
   },
   "outputs": [
    {
     "data": {
      "text/plain": [
       "3"
      ]
     },
     "execution_count": 226,
     "metadata": {},
     "output_type": "execute_result"
    }
   ],
   "source": [
    "tuple_a[1]"
   ]
  },
  {
   "cell_type": "code",
   "execution_count": 227,
   "metadata": {
    "ExecuteTime": {
     "end_time": "2022-02-14T17:30:48.526758Z",
     "start_time": "2022-02-14T17:30:48.512759Z"
    }
   },
   "outputs": [],
   "source": [
    "# tuple_a[1]=5"
   ]
  },
  {
   "cell_type": "code",
   "execution_count": 228,
   "metadata": {
    "ExecuteTime": {
     "end_time": "2022-02-14T17:30:48.541758Z",
     "start_time": "2022-02-14T17:30:48.527758Z"
    }
   },
   "outputs": [],
   "source": [
    "empty_tuple = ()"
   ]
  },
  {
   "cell_type": "code",
   "execution_count": 229,
   "metadata": {
    "ExecuteTime": {
     "end_time": "2022-02-14T17:30:48.557440Z",
     "start_time": "2022-02-14T17:30:48.543440Z"
    }
   },
   "outputs": [
    {
     "data": {
      "text/plain": [
       "(3, 5)"
      ]
     },
     "execution_count": 229,
     "metadata": {},
     "output_type": "execute_result"
    }
   ],
   "source": [
    "tuple_a[1:3]"
   ]
  },
  {
   "cell_type": "code",
   "execution_count": 230,
   "metadata": {
    "ExecuteTime": {
     "end_time": "2022-02-14T17:30:48.573441Z",
     "start_time": "2022-02-14T17:30:48.558442Z"
    }
   },
   "outputs": [],
   "source": [
    "tuple_b = (1,2,3)"
   ]
  },
  {
   "cell_type": "code",
   "execution_count": 231,
   "metadata": {
    "ExecuteTime": {
     "end_time": "2022-02-14T17:30:48.589439Z",
     "start_time": "2022-02-14T17:30:48.575441Z"
    }
   },
   "outputs": [],
   "source": [
    "a, b, c = tuple_b"
   ]
  },
  {
   "cell_type": "code",
   "execution_count": 232,
   "metadata": {
    "ExecuteTime": {
     "end_time": "2022-02-14T17:30:48.605075Z",
     "start_time": "2022-02-14T17:30:48.592061Z"
    }
   },
   "outputs": [
    {
     "name": "stdout",
     "output_type": "stream",
     "text": [
      "1\n",
      "2\n",
      "3\n"
     ]
    }
   ],
   "source": [
    "print(a)\n",
    "print(b)\n",
    "print(c)"
   ]
  },
  {
   "cell_type": "code",
   "execution_count": 233,
   "metadata": {
    "ExecuteTime": {
     "end_time": "2022-02-14T17:30:48.620550Z",
     "start_time": "2022-02-14T17:30:48.608445Z"
    }
   },
   "outputs": [
    {
     "data": {
      "text/plain": [
       "4"
      ]
     },
     "execution_count": 233,
     "metadata": {},
     "output_type": "execute_result"
    }
   ],
   "source": [
    "b ** 2"
   ]
  },
  {
   "cell_type": "code",
   "execution_count": null,
   "metadata": {
    "ExecuteTime": {
     "end_time": "2022-02-11T16:21:03.276368Z",
     "start_time": "2022-02-11T16:21:03.244071Z"
    }
   },
   "outputs": [],
   "source": []
  },
  {
   "cell_type": "code",
   "execution_count": 234,
   "metadata": {
    "ExecuteTime": {
     "end_time": "2022-02-14T17:30:48.636587Z",
     "start_time": "2022-02-14T17:30:48.622466Z"
    }
   },
   "outputs": [],
   "source": [
    "# print(m)\n",
    "# print(n)"
   ]
  },
  {
   "cell_type": "code",
   "execution_count": 235,
   "metadata": {
    "ExecuteTime": {
     "end_time": "2022-02-14T17:30:48.652484Z",
     "start_time": "2022-02-14T17:30:48.638655Z"
    }
   },
   "outputs": [
    {
     "data": {
      "text/plain": [
       "[1, 2, 3]"
      ]
     },
     "execution_count": 235,
     "metadata": {},
     "output_type": "execute_result"
    }
   ],
   "source": [
    "list_b = list(tuple_b)\n",
    "list_b"
   ]
  },
  {
   "cell_type": "code",
   "execution_count": 236,
   "metadata": {
    "ExecuteTime": {
     "end_time": "2022-02-14T17:30:48.667939Z",
     "start_time": "2022-02-14T17:30:48.653952Z"
    }
   },
   "outputs": [
    {
     "data": {
      "text/plain": [
       "list"
      ]
     },
     "execution_count": 236,
     "metadata": {},
     "output_type": "execute_result"
    }
   ],
   "source": [
    "type(list_b)"
   ]
  },
  {
   "cell_type": "code",
   "execution_count": 237,
   "metadata": {
    "ExecuteTime": {
     "end_time": "2022-02-14T17:30:48.683069Z",
     "start_time": "2022-02-14T17:30:48.669614Z"
    }
   },
   "outputs": [],
   "source": [
    "x,y,z = list_b"
   ]
  },
  {
   "cell_type": "code",
   "execution_count": 238,
   "metadata": {
    "ExecuteTime": {
     "end_time": "2022-02-14T17:30:48.699070Z",
     "start_time": "2022-02-14T17:30:48.685055Z"
    }
   },
   "outputs": [
    {
     "name": "stdout",
     "output_type": "stream",
     "text": [
      "1 2 3\n"
     ]
    }
   ],
   "source": [
    "print(x,y,z)"
   ]
  },
  {
   "cell_type": "code",
   "execution_count": 239,
   "metadata": {
    "ExecuteTime": {
     "end_time": "2022-02-14T17:30:48.714071Z",
     "start_time": "2022-02-14T17:30:48.700054Z"
    }
   },
   "outputs": [
    {
     "name": "stdout",
     "output_type": "stream",
     "text": [
      "1\n",
      "2\n",
      "3\n"
     ]
    }
   ],
   "source": [
    "print(x)\n",
    "print(y)\n",
    "print(z)"
   ]
  },
  {
   "cell_type": "code",
   "execution_count": 240,
   "metadata": {
    "ExecuteTime": {
     "end_time": "2022-02-14T17:30:48.730131Z",
     "start_time": "2022-02-14T17:30:48.715054Z"
    }
   },
   "outputs": [],
   "source": [
    "tuple_d = 3,4,5"
   ]
  },
  {
   "cell_type": "code",
   "execution_count": 241,
   "metadata": {
    "ExecuteTime": {
     "end_time": "2022-02-14T17:30:48.746056Z",
     "start_time": "2022-02-14T17:30:48.731060Z"
    }
   },
   "outputs": [
    {
     "data": {
      "text/plain": [
       "(3, 4, 5)"
      ]
     },
     "execution_count": 241,
     "metadata": {},
     "output_type": "execute_result"
    }
   ],
   "source": [
    "tuple_d"
   ]
  },
  {
   "cell_type": "code",
   "execution_count": 242,
   "metadata": {
    "ExecuteTime": {
     "end_time": "2022-02-14T17:30:48.762058Z",
     "start_time": "2022-02-14T17:30:48.747057Z"
    }
   },
   "outputs": [
    {
     "name": "stdout",
     "output_type": "stream",
     "text": [
      "34 abc None\n"
     ]
    }
   ],
   "source": [
    "print(34, \"abc\", None)"
   ]
  },
  {
   "cell_type": "code",
   "execution_count": 243,
   "metadata": {
    "ExecuteTime": {
     "end_time": "2022-02-14T17:30:48.777669Z",
     "start_time": "2022-02-14T17:30:48.764411Z"
    }
   },
   "outputs": [],
   "source": [
    "new_tuple = (1,2) + (3,4,5)"
   ]
  },
  {
   "cell_type": "code",
   "execution_count": 244,
   "metadata": {
    "ExecuteTime": {
     "end_time": "2022-02-14T17:30:48.793209Z",
     "start_time": "2022-02-14T17:30:48.779137Z"
    }
   },
   "outputs": [
    {
     "data": {
      "text/plain": [
       "(1, 2, 3, 4, 5)"
      ]
     },
     "execution_count": 244,
     "metadata": {},
     "output_type": "execute_result"
    }
   ],
   "source": [
    "new_tuple"
   ]
  },
  {
   "cell_type": "code",
   "execution_count": 245,
   "metadata": {
    "ExecuteTime": {
     "end_time": "2022-02-14T17:30:48.809103Z",
     "start_time": "2022-02-14T17:30:48.794344Z"
    }
   },
   "outputs": [],
   "source": [
    "# new_tuple[2] = 7"
   ]
  },
  {
   "cell_type": "code",
   "execution_count": 246,
   "metadata": {
    "ExecuteTime": {
     "end_time": "2022-02-14T17:30:48.824797Z",
     "start_time": "2022-02-14T17:30:48.811200Z"
    }
   },
   "outputs": [],
   "source": [
    "new_tuple = new_tuple[:2] + (7,) + new_tuple[3:]"
   ]
  },
  {
   "cell_type": "markdown",
   "metadata": {},
   "source": [
    "## Strings 2"
   ]
  },
  {
   "cell_type": "markdown",
   "metadata": {},
   "source": [
    "### `input()`"
   ]
  },
  {
   "cell_type": "code",
   "execution_count": 247,
   "metadata": {
    "ExecuteTime": {
     "end_time": "2022-02-14T17:30:48.840379Z",
     "start_time": "2022-02-14T17:30:48.825812Z"
    }
   },
   "outputs": [],
   "source": [
    "# some_text = input(\"enter some text\")"
   ]
  },
  {
   "cell_type": "code",
   "execution_count": 248,
   "metadata": {
    "ExecuteTime": {
     "end_time": "2022-02-14T17:30:48.855659Z",
     "start_time": "2022-02-14T17:30:48.841653Z"
    }
   },
   "outputs": [],
   "source": [
    "# print(some_text)"
   ]
  },
  {
   "cell_type": "code",
   "execution_count": 249,
   "metadata": {
    "ExecuteTime": {
     "end_time": "2022-02-14T17:30:48.871661Z",
     "start_time": "2022-02-14T17:30:48.857658Z"
    }
   },
   "outputs": [],
   "source": [
    "# num = input('enter number')\n",
    "\n",
    "# type(num)\n",
    "\n",
    "# float(num)"
   ]
  },
  {
   "cell_type": "markdown",
   "metadata": {},
   "source": [
    "### Indexing and Slicing"
   ]
  },
  {
   "cell_type": "code",
   "execution_count": null,
   "metadata": {},
   "outputs": [],
   "source": []
  },
  {
   "cell_type": "markdown",
   "metadata": {},
   "source": [
    "### `.split()`"
   ]
  },
  {
   "cell_type": "code",
   "execution_count": 250,
   "metadata": {
    "ExecuteTime": {
     "end_time": "2022-02-14T17:30:48.886928Z",
     "start_time": "2022-02-14T17:30:48.874683Z"
    }
   },
   "outputs": [],
   "source": [
    "str_a = 'Quick Fox jumps over the Lazy Dog'"
   ]
  },
  {
   "cell_type": "code",
   "execution_count": 251,
   "metadata": {
    "ExecuteTime": {
     "end_time": "2022-02-14T17:30:48.903010Z",
     "start_time": "2022-02-14T17:30:48.888030Z"
    }
   },
   "outputs": [
    {
     "data": {
      "text/plain": [
       "['Quick', 'Fox', 'jumps', 'over', 'the', 'Lazy', 'Dog']"
      ]
     },
     "execution_count": 251,
     "metadata": {},
     "output_type": "execute_result"
    }
   ],
   "source": [
    "words = str_a.split()\n",
    "words"
   ]
  },
  {
   "cell_type": "markdown",
   "metadata": {},
   "source": [
    "### `.join()`"
   ]
  },
  {
   "cell_type": "code",
   "execution_count": 252,
   "metadata": {
    "ExecuteTime": {
     "end_time": "2022-02-14T17:30:48.919118Z",
     "start_time": "2022-02-14T17:30:48.904302Z"
    }
   },
   "outputs": [
    {
     "data": {
      "text/plain": [
       "'Quick, Fox, jumps, over, the, Lazy, Dog'"
      ]
     },
     "execution_count": 252,
     "metadata": {},
     "output_type": "execute_result"
    }
   ],
   "source": [
    "with_comma = ', '.join(words)\n",
    "with_comma"
   ]
  },
  {
   "cell_type": "markdown",
   "metadata": {},
   "source": [
    "### `.title()`, `.lower()`, `.upper()`"
   ]
  },
  {
   "cell_type": "code",
   "execution_count": 253,
   "metadata": {
    "ExecuteTime": {
     "end_time": "2022-02-14T17:30:48.934551Z",
     "start_time": "2022-02-14T17:30:48.920839Z"
    }
   },
   "outputs": [
    {
     "data": {
      "text/plain": [
       "'Quick Fox Jumps Over The Lazy Dog'"
      ]
     },
     "execution_count": 253,
     "metadata": {},
     "output_type": "execute_result"
    }
   ],
   "source": [
    "str_a.title()"
   ]
  },
  {
   "cell_type": "code",
   "execution_count": 254,
   "metadata": {
    "ExecuteTime": {
     "end_time": "2022-02-14T17:30:48.950375Z",
     "start_time": "2022-02-14T17:30:48.937143Z"
    }
   },
   "outputs": [
    {
     "data": {
      "text/plain": [
       "'quick fox jumps over the lazy dog'"
      ]
     },
     "execution_count": 254,
     "metadata": {},
     "output_type": "execute_result"
    }
   ],
   "source": [
    "str_a.lower()"
   ]
  },
  {
   "cell_type": "code",
   "execution_count": 255,
   "metadata": {
    "ExecuteTime": {
     "end_time": "2022-02-14T17:30:48.965981Z",
     "start_time": "2022-02-14T17:30:48.951416Z"
    }
   },
   "outputs": [
    {
     "data": {
      "text/plain": [
       "'QUICK FOX JUMPS OVER THE LAZY DOG'"
      ]
     },
     "execution_count": 255,
     "metadata": {},
     "output_type": "execute_result"
    }
   ],
   "source": [
    "str_a.upper()"
   ]
  },
  {
   "cell_type": "markdown",
   "metadata": {},
   "source": [
    "### `.replace()`"
   ]
  },
  {
   "cell_type": "code",
   "execution_count": 256,
   "metadata": {
    "ExecuteTime": {
     "end_time": "2022-02-14T17:30:48.981330Z",
     "start_time": "2022-02-14T17:30:48.968108Z"
    }
   },
   "outputs": [
    {
     "data": {
      "text/plain": [
       "'Quick_Fox_jumps_over_the_Lazy_Dog'"
      ]
     },
     "execution_count": 256,
     "metadata": {},
     "output_type": "execute_result"
    }
   ],
   "source": [
    "with_comma.replace(', ', '_')"
   ]
  },
  {
   "cell_type": "code",
   "execution_count": 257,
   "metadata": {
    "ExecuteTime": {
     "end_time": "2022-02-14T17:30:48.996566Z",
     "start_time": "2022-02-14T17:30:48.982698Z"
    }
   },
   "outputs": [
    {
     "data": {
      "text/plain": [
       "'Quick, Fx, jumps, ver, the, Lazy, Dg'"
      ]
     },
     "execution_count": 257,
     "metadata": {},
     "output_type": "execute_result"
    }
   ],
   "source": [
    "with_comma.replace('o', '')"
   ]
  },
  {
   "cell_type": "markdown",
   "metadata": {},
   "source": [
    "### Format"
   ]
  },
  {
   "cell_type": "code",
   "execution_count": 258,
   "metadata": {
    "ExecuteTime": {
     "end_time": "2022-02-14T17:30:49.011820Z",
     "start_time": "2022-02-14T17:30:48.998447Z"
    }
   },
   "outputs": [],
   "source": [
    "# %d - integer\n",
    "# %s - string\n",
    "# %f - float"
   ]
  },
  {
   "cell_type": "code",
   "execution_count": 259,
   "metadata": {
    "ExecuteTime": {
     "end_time": "2022-02-14T17:30:49.027276Z",
     "start_time": "2022-02-14T17:30:49.014285Z"
    }
   },
   "outputs": [
    {
     "data": {
      "text/plain": [
       "'2 is prime number, but 9.000000 is not!!!'"
      ]
     },
     "execution_count": 259,
     "metadata": {},
     "output_type": "execute_result"
    }
   ],
   "source": [
    "num1 = 2\n",
    "num2 = 9.0\n",
    "txt = \"!!!\"\n",
    "\n",
    "'%d is prime number, but %f is not%s' % (num1, num2, txt)"
   ]
  },
  {
   "cell_type": "code",
   "execution_count": 260,
   "metadata": {
    "ExecuteTime": {
     "end_time": "2022-02-14T17:30:49.042773Z",
     "start_time": "2022-02-14T17:30:49.029781Z"
    }
   },
   "outputs": [],
   "source": [
    "# '%d is %d ' % 3"
   ]
  },
  {
   "cell_type": "code",
   "execution_count": 261,
   "metadata": {
    "ExecuteTime": {
     "end_time": "2022-02-14T17:30:49.058144Z",
     "start_time": "2022-02-14T17:30:49.045063Z"
    }
   },
   "outputs": [
    {
     "data": {
      "text/plain": [
       "'2 is prime number, but 9.0 is not !!!'"
      ]
     },
     "execution_count": 261,
     "metadata": {},
     "output_type": "execute_result"
    }
   ],
   "source": [
    "f'{num1} is prime number, but {num2} is not {txt}'"
   ]
  },
  {
   "cell_type": "markdown",
   "metadata": {},
   "source": [
    "## For Loop"
   ]
  },
  {
   "cell_type": "code",
   "execution_count": null,
   "metadata": {},
   "outputs": [],
   "source": []
  },
  {
   "cell_type": "markdown",
   "metadata": {},
   "source": [
    "### Iterating over a list"
   ]
  },
  {
   "cell_type": "code",
   "execution_count": 262,
   "metadata": {
    "ExecuteTime": {
     "end_time": "2022-02-14T17:30:49.073252Z",
     "start_time": "2022-02-14T17:30:49.059227Z"
    }
   },
   "outputs": [
    {
     "name": "stdout",
     "output_type": "stream",
     "text": [
      "a\n",
      "this is inside for loop\n",
      "b\n",
      "this is inside for loop\n",
      "c\n",
      "this is inside for loop\n",
      "d\n",
      "this is inside for loop\n",
      "e\n",
      "this is inside for loop\n",
      "f\n",
      "this is inside for loop\n",
      "for loop is over\n"
     ]
    }
   ],
   "source": [
    "li_b=[\"a\",\"b\",'c','d','e',\"f\"]\n",
    "for e in li_b:\n",
    "    print(e)\n",
    "    print(\"this is inside for loop\")\n",
    "\n",
    "\n",
    "print(\"for loop is over\")"
   ]
  },
  {
   "cell_type": "code",
   "execution_count": 263,
   "metadata": {
    "ExecuteTime": {
     "end_time": "2022-02-14T17:30:49.088994Z",
     "start_time": "2022-02-14T17:30:49.075994Z"
    }
   },
   "outputs": [
    {
     "data": {
      "text/plain": [
       "'d'"
      ]
     },
     "execution_count": 263,
     "metadata": {},
     "output_type": "execute_result"
    }
   ],
   "source": [
    "li_b[3]"
   ]
  },
  {
   "cell_type": "markdown",
   "metadata": {},
   "source": [
    "### `range()`"
   ]
  },
  {
   "cell_type": "code",
   "execution_count": 264,
   "metadata": {
    "ExecuteTime": {
     "end_time": "2022-02-14T17:30:49.104700Z",
     "start_time": "2022-02-14T17:30:49.092702Z"
    }
   },
   "outputs": [
    {
     "name": "stdout",
     "output_type": "stream",
     "text": [
      "0\n",
      "1\n",
      "2\n",
      "3\n",
      "4\n"
     ]
    }
   ],
   "source": [
    "for i in range(5):\n",
    "    print(i)"
   ]
  },
  {
   "cell_type": "code",
   "execution_count": 265,
   "metadata": {
    "ExecuteTime": {
     "end_time": "2022-02-14T17:30:49.120700Z",
     "start_time": "2022-02-14T17:30:49.108427Z"
    }
   },
   "outputs": [
    {
     "name": "stdout",
     "output_type": "stream",
     "text": [
      "-5\n",
      "-4\n",
      "-3\n",
      "-2\n",
      "-1\n",
      "0\n",
      "1\n",
      "2\n"
     ]
    }
   ],
   "source": [
    "for i in range(-5,3):\n",
    "    print(i)"
   ]
  },
  {
   "cell_type": "code",
   "execution_count": 266,
   "metadata": {
    "ExecuteTime": {
     "end_time": "2022-02-14T17:30:49.135718Z",
     "start_time": "2022-02-14T17:30:49.122558Z"
    }
   },
   "outputs": [
    {
     "name": "stdout",
     "output_type": "stream",
     "text": [
      "-5\n",
      "-2\n",
      "1\n"
     ]
    }
   ],
   "source": [
    "for i in range(-5,3,3):\n",
    "    print(i)"
   ]
  },
  {
   "cell_type": "code",
   "execution_count": null,
   "metadata": {},
   "outputs": [],
   "source": []
  },
  {
   "cell_type": "code",
   "execution_count": 267,
   "metadata": {
    "ExecuteTime": {
     "end_time": "2022-02-14T17:30:49.150642Z",
     "start_time": "2022-02-14T17:30:49.137799Z"
    }
   },
   "outputs": [
    {
     "name": "stdout",
     "output_type": "stream",
     "text": [
      "a inside loop\n",
      "this is B\n",
      "c inside loop\n",
      "d inside loop\n",
      "here is E\n"
     ]
    }
   ],
   "source": [
    "li_b=[\"a\",\"b\",'c','d','e',\"f\",\"g\"]\n",
    "for i in range(len(li_b)):\n",
    "    if li_b[i]=='b':\n",
    "        print(\"this is B\")\n",
    "        continue\n",
    "    elif li_b[i]=='e':\n",
    "        print(\"here is E\")\n",
    "        break\n",
    "    print(li_b[i], \"inside loop\")"
   ]
  },
  {
   "cell_type": "code",
   "execution_count": 268,
   "metadata": {
    "ExecuteTime": {
     "end_time": "2022-02-14T17:30:49.166748Z",
     "start_time": "2022-02-14T17:30:49.152621Z"
    }
   },
   "outputs": [
    {
     "name": "stdout",
     "output_type": "stream",
     "text": [
      "4\n",
      "b\n",
      "[3, 7, 6]\n",
      "1\n",
      "9\n"
     ]
    }
   ],
   "source": [
    "for i in li_a:\n",
    "    print(i)"
   ]
  },
  {
   "cell_type": "code",
   "execution_count": 269,
   "metadata": {
    "ExecuteTime": {
     "end_time": "2022-02-14T17:30:49.182827Z",
     "start_time": "2022-02-14T17:30:49.168014Z"
    }
   },
   "outputs": [
    {
     "name": "stdout",
     "output_type": "stream",
     "text": [
      "4\n",
      "b\n",
      "[3, 7, 6]\n",
      "1\n",
      "9\n"
     ]
    }
   ],
   "source": [
    "for j in range(len(li_a)):\n",
    "    print(li_a[j])"
   ]
  },
  {
   "cell_type": "code",
   "execution_count": 270,
   "metadata": {
    "ExecuteTime": {
     "end_time": "2022-02-14T17:30:49.198467Z",
     "start_time": "2022-02-14T17:30:49.184536Z"
    }
   },
   "outputs": [
    {
     "data": {
      "text/plain": [
       "5"
      ]
     },
     "execution_count": 270,
     "metadata": {},
     "output_type": "execute_result"
    }
   ],
   "source": [
    "len(li_a)"
   ]
  },
  {
   "cell_type": "markdown",
   "metadata": {},
   "source": [
    "### enumerate()"
   ]
  },
  {
   "cell_type": "code",
   "execution_count": 271,
   "metadata": {
    "ExecuteTime": {
     "end_time": "2022-02-14T17:30:49.213611Z",
     "start_time": "2022-02-14T17:30:49.200699Z"
    }
   },
   "outputs": [
    {
     "name": "stdout",
     "output_type": "stream",
     "text": [
      "0 a\n",
      "1 b\n",
      "2 c\n",
      "3 d\n",
      "4 e\n",
      "5 f\n",
      "6 g\n"
     ]
    }
   ],
   "source": [
    "for i, e in enumerate(li_b):\n",
    "    print(i, e)"
   ]
  },
  {
   "cell_type": "markdown",
   "metadata": {},
   "source": [
    "### Iterating over a string"
   ]
  },
  {
   "cell_type": "code",
   "execution_count": 272,
   "metadata": {
    "ExecuteTime": {
     "end_time": "2022-02-14T17:30:49.229698Z",
     "start_time": "2022-02-14T17:30:49.214600Z"
    }
   },
   "outputs": [
    {
     "name": "stdout",
     "output_type": "stream",
     "text": [
      "h\n",
      "e\n",
      "l\n",
      "l\n",
      "o\n",
      ",\n",
      " \n",
      "w\n",
      "o\n",
      "r\n",
      "l\n",
      "d\n",
      "!\n"
     ]
    }
   ],
   "source": [
    "iter_string = 'hello, world!'\n",
    "for c in iter_string:\n",
    "    print(c)"
   ]
  },
  {
   "cell_type": "markdown",
   "metadata": {},
   "source": [
    "### `break` statement"
   ]
  },
  {
   "cell_type": "code",
   "execution_count": null,
   "metadata": {},
   "outputs": [],
   "source": []
  },
  {
   "cell_type": "markdown",
   "metadata": {},
   "source": [
    "### `continue` statement"
   ]
  },
  {
   "cell_type": "code",
   "execution_count": null,
   "metadata": {},
   "outputs": [],
   "source": []
  },
  {
   "cell_type": "markdown",
   "metadata": {},
   "source": [
    "### List Comprehesion"
   ]
  },
  {
   "cell_type": "code",
   "execution_count": 273,
   "metadata": {
    "ExecuteTime": {
     "end_time": "2022-02-14T17:30:49.245160Z",
     "start_time": "2022-02-14T17:30:49.230798Z"
    }
   },
   "outputs": [
    {
     "data": {
      "text/plain": [
       "[1, 9, 25, 49, 81, 121]"
      ]
     },
     "execution_count": 273,
     "metadata": {},
     "output_type": "execute_result"
    }
   ],
   "source": [
    "lst_a = []\n",
    "for i in range(1, 12, 2):\n",
    "    lst_a.append(i**2)\n",
    "lst_a"
   ]
  },
  {
   "cell_type": "code",
   "execution_count": 274,
   "metadata": {
    "ExecuteTime": {
     "end_time": "2022-02-14T17:30:49.261138Z",
     "start_time": "2022-02-14T17:30:49.246264Z"
    }
   },
   "outputs": [
    {
     "data": {
      "text/plain": [
       "[1, 9, 25, 49, 81, 121]"
      ]
     },
     "execution_count": 274,
     "metadata": {},
     "output_type": "execute_result"
    }
   ],
   "source": [
    "lst_a = [i**2 for i in range(1, 12, 2)]\n",
    "lst_a"
   ]
  },
  {
   "cell_type": "code",
   "execution_count": 275,
   "metadata": {
    "ExecuteTime": {
     "end_time": "2022-02-14T17:30:49.277189Z",
     "start_time": "2022-02-14T17:30:49.262149Z"
    }
   },
   "outputs": [
    {
     "data": {
      "text/plain": [
       "[1, 4, 9, 16, 25, 36, 49, 64, 81, 100, 121]"
      ]
     },
     "execution_count": 275,
     "metadata": {},
     "output_type": "execute_result"
    }
   ],
   "source": [
    "lst_a = [i**2 for i in range(1, 12) ]\n",
    "lst_a"
   ]
  },
  {
   "cell_type": "code",
   "execution_count": 276,
   "metadata": {
    "ExecuteTime": {
     "end_time": "2022-02-14T17:30:49.292345Z",
     "start_time": "2022-02-14T17:30:49.278292Z"
    }
   },
   "outputs": [
    {
     "data": {
      "text/plain": [
       "[0, 1, 4, 9, 16, 25, 36, 49, 64, 81, 100, 121]"
      ]
     },
     "execution_count": 276,
     "metadata": {},
     "output_type": "execute_result"
    }
   ],
   "source": [
    "lst_a = [i**2 for i in range(12) ]\n",
    "lst_a"
   ]
  },
  {
   "cell_type": "code",
   "execution_count": 277,
   "metadata": {
    "ExecuteTime": {
     "end_time": "2022-02-14T17:30:49.307839Z",
     "start_time": "2022-02-14T17:30:49.293624Z"
    }
   },
   "outputs": [
    {
     "data": {
      "text/plain": [
       "[4, 16, 36, 64, 100]"
      ]
     },
     "execution_count": 277,
     "metadata": {},
     "output_type": "execute_result"
    }
   ],
   "source": [
    "lst_b = []\n",
    "for a in range(1,12):\n",
    "    if a % 2 == 0:\n",
    "        lst_b.append(a**2)\n",
    "lst_b"
   ]
  },
  {
   "cell_type": "code",
   "execution_count": 278,
   "metadata": {
    "ExecuteTime": {
     "end_time": "2022-02-14T17:30:49.323225Z",
     "start_time": "2022-02-14T17:30:49.310124Z"
    }
   },
   "outputs": [
    {
     "data": {
      "text/plain": [
       "[4, 16, 36, 64, 100]"
      ]
     },
     "execution_count": 278,
     "metadata": {},
     "output_type": "execute_result"
    }
   ],
   "source": [
    "lst_b = [a**2 for a in range(1,12) if a % 2 == 0]\n",
    "lst_b"
   ]
  },
  {
   "cell_type": "code",
   "execution_count": 279,
   "metadata": {
    "ExecuteTime": {
     "end_time": "2022-02-14T17:30:49.338776Z",
     "start_time": "2022-02-14T17:30:49.324648Z"
    }
   },
   "outputs": [
    {
     "data": {
      "text/plain": [
       "[12, 15, 18, 21, 24, 27, 30]"
      ]
     },
     "execution_count": 279,
     "metadata": {},
     "output_type": "execute_result"
    }
   ],
   "source": [
    "lst = [i for i in range(1, 32) if i % 3 == 0 and i > 10]\n",
    "lst"
   ]
  },
  {
   "cell_type": "markdown",
   "metadata": {},
   "source": [
    "## Dictionaries"
   ]
  },
  {
   "cell_type": "code",
   "execution_count": 280,
   "metadata": {
    "ExecuteTime": {
     "end_time": "2022-02-14T17:30:49.353708Z",
     "start_time": "2022-02-14T17:30:49.339801Z"
    }
   },
   "outputs": [
    {
     "data": {
      "text/plain": [
       "1"
      ]
     },
     "execution_count": 280,
     "metadata": {},
     "output_type": "execute_result"
    }
   ],
   "source": [
    "list_a = [1,2,3,4,5]\n",
    "list_a[0]"
   ]
  },
  {
   "cell_type": "code",
   "execution_count": 281,
   "metadata": {
    "ExecuteTime": {
     "end_time": "2022-02-14T17:30:49.369115Z",
     "start_time": "2022-02-14T17:30:49.355082Z"
    }
   },
   "outputs": [],
   "source": [
    "# list_a['b']"
   ]
  },
  {
   "cell_type": "code",
   "execution_count": 282,
   "metadata": {
    "ExecuteTime": {
     "end_time": "2022-02-14T17:30:49.384352Z",
     "start_time": "2022-02-14T17:30:49.371351Z"
    }
   },
   "outputs": [],
   "source": [
    "dict_a={\"one\":1, \"two\":20, \"tree\":3, \"four\":4, \"five\":5}"
   ]
  },
  {
   "cell_type": "code",
   "execution_count": 283,
   "metadata": {
    "ExecuteTime": {
     "end_time": "2022-02-14T17:30:49.400092Z",
     "start_time": "2022-02-14T17:30:49.386381Z"
    }
   },
   "outputs": [
    {
     "data": {
      "text/plain": [
       "{'one': 1, 'two': 20, 'tree': 3, 'four': 4, 'five': 5}"
      ]
     },
     "execution_count": 283,
     "metadata": {},
     "output_type": "execute_result"
    }
   ],
   "source": [
    "dict_a"
   ]
  },
  {
   "cell_type": "code",
   "execution_count": 284,
   "metadata": {
    "ExecuteTime": {
     "end_time": "2022-02-14T17:30:49.415112Z",
     "start_time": "2022-02-14T17:30:49.401114Z"
    }
   },
   "outputs": [
    {
     "data": {
      "text/plain": [
       "dict"
      ]
     },
     "execution_count": 284,
     "metadata": {},
     "output_type": "execute_result"
    }
   ],
   "source": [
    "type(dict_a)"
   ]
  },
  {
   "cell_type": "code",
   "execution_count": 285,
   "metadata": {
    "ExecuteTime": {
     "end_time": "2022-02-14T17:30:49.430350Z",
     "start_time": "2022-02-14T17:30:49.416352Z"
    }
   },
   "outputs": [
    {
     "data": {
      "text/plain": [
       "20"
      ]
     },
     "execution_count": 285,
     "metadata": {},
     "output_type": "execute_result"
    }
   ],
   "source": [
    "dict_a[\"two\"]"
   ]
  },
  {
   "cell_type": "code",
   "execution_count": 286,
   "metadata": {
    "ExecuteTime": {
     "end_time": "2022-02-14T17:30:49.446348Z",
     "start_time": "2022-02-14T17:30:49.431350Z"
    }
   },
   "outputs": [],
   "source": [
    "# dict_a[\"abc\"]"
   ]
  },
  {
   "cell_type": "markdown",
   "metadata": {},
   "source": [
    "### `.get()`"
   ]
  },
  {
   "cell_type": "code",
   "execution_count": 287,
   "metadata": {
    "ExecuteTime": {
     "end_time": "2022-02-14T17:30:49.462287Z",
     "start_time": "2022-02-14T17:30:49.447347Z"
    }
   },
   "outputs": [
    {
     "data": {
      "text/plain": [
       "20"
      ]
     },
     "execution_count": 287,
     "metadata": {},
     "output_type": "execute_result"
    }
   ],
   "source": [
    "dict_a.get(\"two\")"
   ]
  },
  {
   "cell_type": "code",
   "execution_count": 288,
   "metadata": {
    "ExecuteTime": {
     "end_time": "2022-02-14T17:30:49.478284Z",
     "start_time": "2022-02-14T17:30:49.464291Z"
    }
   },
   "outputs": [
    {
     "data": {
      "text/plain": [
       "NoneType"
      ]
     },
     "execution_count": 288,
     "metadata": {},
     "output_type": "execute_result"
    }
   ],
   "source": [
    "some = dict_a.get(\"six\")\n",
    "type(some)"
   ]
  },
  {
   "cell_type": "code",
   "execution_count": 289,
   "metadata": {
    "ExecuteTime": {
     "end_time": "2022-02-14T17:30:49.494245Z",
     "start_time": "2022-02-14T17:30:49.480163Z"
    }
   },
   "outputs": [
    {
     "data": {
      "text/plain": [
       "1"
      ]
     },
     "execution_count": 289,
     "metadata": {},
     "output_type": "execute_result"
    }
   ],
   "source": [
    "dict_a.get(\"one\")"
   ]
  },
  {
   "cell_type": "markdown",
   "metadata": {},
   "source": [
    "### Adding"
   ]
  },
  {
   "cell_type": "code",
   "execution_count": null,
   "metadata": {},
   "outputs": [],
   "source": []
  },
  {
   "cell_type": "code",
   "execution_count": 290,
   "metadata": {
    "ExecuteTime": {
     "end_time": "2022-02-14T17:30:49.510256Z",
     "start_time": "2022-02-14T17:30:49.495259Z"
    }
   },
   "outputs": [],
   "source": [
    "dict_a[\"one\"] = 100"
   ]
  },
  {
   "cell_type": "code",
   "execution_count": 291,
   "metadata": {
    "ExecuteTime": {
     "end_time": "2022-02-14T17:30:49.525356Z",
     "start_time": "2022-02-14T17:30:49.511258Z"
    }
   },
   "outputs": [
    {
     "data": {
      "text/plain": [
       "{'one': 100, 'two': 20, 'tree': 3, 'four': 4, 'five': 5}"
      ]
     },
     "execution_count": 291,
     "metadata": {},
     "output_type": "execute_result"
    }
   ],
   "source": [
    "dict_a"
   ]
  },
  {
   "cell_type": "code",
   "execution_count": 292,
   "metadata": {
    "ExecuteTime": {
     "end_time": "2022-02-14T17:30:49.540555Z",
     "start_time": "2022-02-14T17:30:49.526485Z"
    }
   },
   "outputs": [],
   "source": [
    "dict_a={\"one\": 1, \"two\": 2, \"tree\": 3, \"four\": [1,2,3,4]}"
   ]
  },
  {
   "cell_type": "code",
   "execution_count": 293,
   "metadata": {
    "ExecuteTime": {
     "end_time": "2022-02-14T17:30:49.556555Z",
     "start_time": "2022-02-14T17:30:49.541557Z"
    }
   },
   "outputs": [
    {
     "data": {
      "text/plain": [
       "1"
      ]
     },
     "execution_count": 293,
     "metadata": {},
     "output_type": "execute_result"
    }
   ],
   "source": [
    "dict_a[\"one\"]"
   ]
  },
  {
   "cell_type": "code",
   "execution_count": 294,
   "metadata": {
    "ExecuteTime": {
     "end_time": "2022-02-14T17:30:49.572277Z",
     "start_time": "2022-02-14T17:30:49.559279Z"
    }
   },
   "outputs": [],
   "source": [
    "dict_a[\"five\"] = 555\n"
   ]
  },
  {
   "cell_type": "code",
   "execution_count": 295,
   "metadata": {
    "ExecuteTime": {
     "end_time": "2022-02-14T17:30:49.587930Z",
     "start_time": "2022-02-14T17:30:49.574248Z"
    }
   },
   "outputs": [
    {
     "data": {
      "text/plain": [
       "{'one': 1, 'two': 2, 'tree': 3, 'four': [1, 2, 3, 4], 'five': 555}"
      ]
     },
     "execution_count": 295,
     "metadata": {},
     "output_type": "execute_result"
    }
   ],
   "source": [
    "dict_a"
   ]
  },
  {
   "cell_type": "markdown",
   "metadata": {},
   "source": [
    "### `.keys()`"
   ]
  },
  {
   "cell_type": "code",
   "execution_count": 296,
   "metadata": {
    "ExecuteTime": {
     "end_time": "2022-02-14T17:30:49.603171Z",
     "start_time": "2022-02-14T17:30:49.590107Z"
    }
   },
   "outputs": [
    {
     "data": {
      "text/plain": [
       "dict_keys(['one', 'two', 'tree', 'four', 'five'])"
      ]
     },
     "execution_count": 296,
     "metadata": {},
     "output_type": "execute_result"
    }
   ],
   "source": [
    "dict_a.keys()"
   ]
  },
  {
   "cell_type": "code",
   "execution_count": 297,
   "metadata": {
    "ExecuteTime": {
     "end_time": "2022-02-14T17:30:49.618911Z",
     "start_time": "2022-02-14T17:30:49.605334Z"
    }
   },
   "outputs": [
    {
     "name": "stdout",
     "output_type": "stream",
     "text": [
      "one 1\n",
      "two 2\n",
      "tree 3\n",
      "four [1, 2, 3, 4]\n",
      "five 555\n"
     ]
    }
   ],
   "source": [
    "for k in dict_a.keys():\n",
    "    print(k, dict_a[k])"
   ]
  },
  {
   "cell_type": "markdown",
   "metadata": {},
   "source": [
    "### `.values()`"
   ]
  },
  {
   "cell_type": "code",
   "execution_count": 298,
   "metadata": {
    "ExecuteTime": {
     "end_time": "2022-02-14T17:30:49.634030Z",
     "start_time": "2022-02-14T17:30:49.619831Z"
    }
   },
   "outputs": [
    {
     "data": {
      "text/plain": [
       "dict_values([1, 2, 3, [1, 2, 3, 4], 555])"
      ]
     },
     "execution_count": 298,
     "metadata": {},
     "output_type": "execute_result"
    }
   ],
   "source": [
    "dict_a.values()"
   ]
  },
  {
   "cell_type": "markdown",
   "metadata": {},
   "source": [
    "### `.items()`"
   ]
  },
  {
   "cell_type": "code",
   "execution_count": 299,
   "metadata": {
    "ExecuteTime": {
     "end_time": "2022-02-14T17:30:49.649868Z",
     "start_time": "2022-02-14T17:30:49.635090Z"
    }
   },
   "outputs": [
    {
     "name": "stdout",
     "output_type": "stream",
     "text": [
      "one 1\n",
      "two 2\n",
      "tree 3\n",
      "four [1, 2, 3, 4]\n",
      "five 555\n"
     ]
    }
   ],
   "source": [
    "for k, v in dict_a.items():\n",
    "    print(k, v)"
   ]
  },
  {
   "cell_type": "code",
   "execution_count": 300,
   "metadata": {
    "ExecuteTime": {
     "end_time": "2022-02-14T17:30:49.665544Z",
     "start_time": "2022-02-14T17:30:49.651775Z"
    }
   },
   "outputs": [],
   "source": [
    "num_dict = {1:'a', 2:'bb', 3:'ccc', (4,5):'ddeee'}"
   ]
  },
  {
   "cell_type": "code",
   "execution_count": 301,
   "metadata": {
    "ExecuteTime": {
     "end_time": "2022-02-14T17:30:49.680817Z",
     "start_time": "2022-02-14T17:30:49.667545Z"
    }
   },
   "outputs": [
    {
     "name": "stdout",
     "output_type": "stream",
     "text": [
      "1 a\n",
      "2 bb\n",
      "3 ccc\n",
      "(4, 5) ddeee\n"
     ]
    }
   ],
   "source": [
    "for k, v in num_dict.items():\n",
    "    print(k, v)"
   ]
  },
  {
   "cell_type": "code",
   "execution_count": 302,
   "metadata": {
    "ExecuteTime": {
     "end_time": "2022-02-14T17:30:49.696225Z",
     "start_time": "2022-02-14T17:30:49.682192Z"
    }
   },
   "outputs": [
    {
     "data": {
      "text/plain": [
       "{'123': ('Name', 'Lastname')}"
      ]
     },
     "execution_count": 302,
     "metadata": {},
     "output_type": "execute_result"
    }
   ],
   "source": [
    "['123']\n",
    "{'123':('Name', 'Lastname')}"
   ]
  },
  {
   "cell_type": "markdown",
   "metadata": {},
   "source": [
    "### Looping"
   ]
  },
  {
   "cell_type": "markdown",
   "metadata": {},
   "source": [
    "#### through values"
   ]
  },
  {
   "cell_type": "code",
   "execution_count": 303,
   "metadata": {
    "ExecuteTime": {
     "end_time": "2022-02-14T17:30:49.712204Z",
     "start_time": "2022-02-14T17:30:49.698215Z"
    }
   },
   "outputs": [
    {
     "name": "stdout",
     "output_type": "stream",
     "text": [
      "{'one': 1, 'two': 2, 'tree': 3, 'four': [1, 2, 3, 4], 'five': 555}\n",
      "1\n",
      "2\n",
      "3\n",
      "[1, 2, 3, 4]\n",
      "555\n"
     ]
    }
   ],
   "source": [
    "print(dict_a)\n",
    "for v in dict_a.values():\n",
    "    print(v)"
   ]
  },
  {
   "cell_type": "markdown",
   "metadata": {},
   "source": [
    "#### through keys"
   ]
  },
  {
   "cell_type": "code",
   "execution_count": 304,
   "metadata": {
    "ExecuteTime": {
     "end_time": "2022-02-14T17:30:49.727522Z",
     "start_time": "2022-02-14T17:30:49.713124Z"
    }
   },
   "outputs": [
    {
     "name": "stdout",
     "output_type": "stream",
     "text": [
      "{'one': 1, 'two': 2, 'tree': 3, 'four': [1, 2, 3, 4], 'five': 555}\n",
      "3\n",
      "6\n",
      "9\n",
      "[1, 2, 3, 4, 1, 2, 3, 4, 1, 2, 3, 4]\n",
      "1665\n"
     ]
    }
   ],
   "source": [
    "print(dict_a)\n",
    "for k in dict_a.keys():\n",
    "    print(dict_a[k]*3)"
   ]
  },
  {
   "cell_type": "markdown",
   "metadata": {},
   "source": [
    "#### through key-value pairs"
   ]
  },
  {
   "cell_type": "code",
   "execution_count": 305,
   "metadata": {
    "ExecuteTime": {
     "end_time": "2022-02-14T17:30:49.743612Z",
     "start_time": "2022-02-14T17:30:49.729526Z"
    }
   },
   "outputs": [
    {
     "name": "stdout",
     "output_type": "stream",
     "text": [
      "one 1\n",
      "two 2\n",
      "tree 3\n",
      "four [1, 2, 3, 4]\n",
      "five 555\n"
     ]
    }
   ],
   "source": [
    "for k, v in dict_a.items():\n",
    "    print(k, v)"
   ]
  },
  {
   "cell_type": "markdown",
   "metadata": {},
   "source": [
    "## Set"
   ]
  },
  {
   "cell_type": "code",
   "execution_count": 306,
   "metadata": {
    "ExecuteTime": {
     "end_time": "2022-02-14T17:30:49.758727Z",
     "start_time": "2022-02-14T17:30:49.744744Z"
    }
   },
   "outputs": [
    {
     "name": "stdout",
     "output_type": "stream",
     "text": [
      "{1, 2, 3, 5, 8}\n",
      "{2, 4, 6, 8, 12}\n",
      "{1, 2, 3, 5, 8} & {2, 4, 6, 8, 12} = {8, 2}\n",
      "{1, 2, 3, 5, 8} | {2, 4, 6, 8, 12} = {1, 2, 3, 4, 5, 6, 8, 12}\n",
      "{1, 2, 3, 5, 8} - {2, 4, 6, 8, 12} = {1, 3, 5}\n",
      "{2, 4, 6, 8, 12} - {1, 2, 3, 5, 8} = {4, 12, 6}\n",
      "{1, 2, 3, 5, 8} ^ {2, 4, 6, 8, 12} = {1, 3, 4, 5, 6, 12}\n",
      "{2, 4, 6, 8, 12} ^ {1, 2, 3, 5, 8} = {1, 3, 4, 5, 6, 12}\n"
     ]
    }
   ],
   "source": [
    "# - `set()`\n",
    "set_a = set([1,2,2,3,3,3,5,8])\n",
    "set_b = {12,6,6,4,4,6,8,2}\n",
    "print(set_a)\n",
    "print(set_b)\n",
    "print(set_a,'&',set_b,'=',set_a & set_b)\n",
    "print(set_a,'|',set_b,'=',set_a | set_b)\n",
    "print(set_a,'-',set_b,'=',set_a - set_b)\n",
    "print(set_b,'-',set_a,'=',set_b - set_a)\n",
    "print(set_a,'^',set_b,'=',set_a ^ set_b)\n",
    "print(set_b,'^',set_a,'=',set_b ^ set_a)"
   ]
  },
  {
   "cell_type": "code",
   "execution_count": 307,
   "metadata": {
    "ExecuteTime": {
     "end_time": "2022-02-14T17:30:49.774645Z",
     "start_time": "2022-02-14T17:30:49.761810Z"
    }
   },
   "outputs": [
    {
     "name": "stdout",
     "output_type": "stream",
     "text": [
      "{1, 2, 3, 5, 8} >= {1, 2, 3} = True\n",
      "{1, 2, 3} >= {1, 2, 3, 5, 8} = False\n",
      "{2, 4, 6, 8, 12} <= {2, 4, 6, 8, 10, 12} = True\n",
      "{2, 4, 6, 8, 10, 12} <= {2, 4, 6, 8, 12} = False\n"
     ]
    }
   ],
   "source": [
    "subset_a = {1,2,3}\n",
    "superset_b = {2,4,6,8,10,12}\n",
    "print(set_a, '>=',subset_a,'=',set_a >= subset_a)\n",
    "print(subset_a, '>=',set_a,'=',subset_a >= set_a)\n",
    "print(set_b, '<=',superset_b,'=',set_b <= superset_b)\n",
    "print(superset_b, '<=',set_b,'=',superset_b <= set_b)"
   ]
  },
  {
   "cell_type": "code",
   "execution_count": 308,
   "metadata": {
    "ExecuteTime": {
     "end_time": "2022-02-14T17:30:49.790299Z",
     "start_time": "2022-02-14T17:30:49.776173Z"
    }
   },
   "outputs": [
    {
     "name": "stdout",
     "output_type": "stream",
     "text": [
      "{1, 2, 3, 5, 8} >= {1, 2, 3} = True\n"
     ]
    }
   ],
   "source": [
    "subset_a = {1,2,3}\n",
    "superset_b = {2,4,6,8,10,12}\n",
    "print(set_a, '>=',subset_a,'=',set_a > subset_a)"
   ]
  },
  {
   "cell_type": "code",
   "execution_count": 309,
   "metadata": {
    "ExecuteTime": {
     "end_time": "2022-02-14T17:30:49.805504Z",
     "start_time": "2022-02-14T17:30:49.792486Z"
    }
   },
   "outputs": [
    {
     "data": {
      "text/plain": [
       "True"
      ]
     },
     "execution_count": 309,
     "metadata": {},
     "output_type": "execute_result"
    }
   ],
   "source": [
    "2 in set_a"
   ]
  },
  {
   "cell_type": "code",
   "execution_count": 310,
   "metadata": {
    "ExecuteTime": {
     "end_time": "2022-02-14T17:30:49.820237Z",
     "start_time": "2022-02-14T17:30:49.808149Z"
    }
   },
   "outputs": [
    {
     "data": {
      "text/plain": [
       "False"
      ]
     },
     "execution_count": 310,
     "metadata": {},
     "output_type": "execute_result"
    }
   ],
   "source": [
    "100 in set_a"
   ]
  },
  {
   "cell_type": "markdown",
   "metadata": {},
   "source": [
    "## zip"
   ]
  },
  {
   "cell_type": "code",
   "execution_count": 311,
   "metadata": {
    "ExecuteTime": {
     "end_time": "2022-02-14T17:30:49.835891Z",
     "start_time": "2022-02-14T17:30:49.822162Z"
    }
   },
   "outputs": [],
   "source": [
    "lst_a = [1, 2, 3]\n",
    "lst_b = ('a', 'b', 'c', 'd')"
   ]
  },
  {
   "cell_type": "code",
   "execution_count": 312,
   "metadata": {
    "ExecuteTime": {
     "end_time": "2022-02-14T17:30:49.851200Z",
     "start_time": "2022-02-14T17:30:49.837039Z"
    }
   },
   "outputs": [
    {
     "name": "stdout",
     "output_type": "stream",
     "text": [
      "1 a\n",
      "2 b\n",
      "3 c\n"
     ]
    }
   ],
   "source": [
    "for i in range(len(lst_a)):\n",
    "    print(lst_a[i], lst_b[i])"
   ]
  },
  {
   "cell_type": "code",
   "execution_count": 313,
   "metadata": {
    "ExecuteTime": {
     "end_time": "2022-02-14T17:30:49.866829Z",
     "start_time": "2022-02-14T17:30:49.853639Z"
    }
   },
   "outputs": [
    {
     "name": "stdout",
     "output_type": "stream",
     "text": [
      "<class 'tuple'>\n",
      "<class 'tuple'>\n",
      "<class 'tuple'>\n"
     ]
    }
   ],
   "source": [
    "for i in zip(lst_a, lst_b):\n",
    "    print(type(i))"
   ]
  },
  {
   "cell_type": "code",
   "execution_count": 314,
   "metadata": {
    "ExecuteTime": {
     "end_time": "2022-02-14T17:30:49.881838Z",
     "start_time": "2022-02-14T17:30:49.868746Z"
    }
   },
   "outputs": [
    {
     "name": "stdout",
     "output_type": "stream",
     "text": [
      "1 a\n",
      "2 b\n",
      "3 c\n"
     ]
    }
   ],
   "source": [
    "for a, b in zip(lst_a, lst_b):\n",
    "    print(a,b)"
   ]
  },
  {
   "cell_type": "code",
   "execution_count": 315,
   "metadata": {
    "ExecuteTime": {
     "end_time": "2022-02-14T17:30:49.897724Z",
     "start_time": "2022-02-14T17:30:49.883857Z"
    }
   },
   "outputs": [],
   "source": [
    "lst_c = [[], {}, (), 5, 7]"
   ]
  },
  {
   "cell_type": "code",
   "execution_count": 316,
   "metadata": {
    "ExecuteTime": {
     "end_time": "2022-02-14T17:30:49.913069Z",
     "start_time": "2022-02-14T17:30:49.899981Z"
    }
   },
   "outputs": [
    {
     "name": "stdout",
     "output_type": "stream",
     "text": [
      "1 a []\n",
      "2 b {}\n",
      "3 c ()\n"
     ]
    }
   ],
   "source": [
    "for a, b, c in zip(lst_a, lst_b, lst_c):\n",
    "    print(a,b,c)"
   ]
  },
  {
   "cell_type": "code",
   "execution_count": null,
   "metadata": {},
   "outputs": [],
   "source": []
  },
  {
   "cell_type": "markdown",
   "metadata": {},
   "source": [
    "## While Loop 2"
   ]
  },
  {
   "cell_type": "code",
   "execution_count": null,
   "metadata": {},
   "outputs": [],
   "source": []
  },
  {
   "cell_type": "code",
   "execution_count": null,
   "metadata": {},
   "outputs": [],
   "source": []
  },
  {
   "cell_type": "code",
   "execution_count": 317,
   "metadata": {
    "ExecuteTime": {
     "end_time": "2022-02-14T17:30:49.928531Z",
     "start_time": "2022-02-14T17:30:49.914600Z"
    }
   },
   "outputs": [
    {
     "name": "stdout",
     "output_type": "stream",
     "text": [
      "start the while loop\n",
      "inside the while loop\n",
      "end the while loop\n"
     ]
    }
   ],
   "source": [
    "keep_looping = True\n",
    "list_a = [1,2,3,4,5,6]\n",
    "\n",
    "print('start the while loop')\n",
    "\n",
    "while keep_looping:\n",
    "    print('inside the while loop')\n",
    "    keep_looping = False\n",
    "\n",
    "print('end the while loop')"
   ]
  },
  {
   "cell_type": "code",
   "execution_count": 318,
   "metadata": {
    "ExecuteTime": {
     "end_time": "2022-02-14T17:30:49.943571Z",
     "start_time": "2022-02-14T17:30:49.931076Z"
    }
   },
   "outputs": [
    {
     "data": {
      "text/plain": [
       "(False, True)"
      ]
     },
     "execution_count": 318,
     "metadata": {},
     "output_type": "execute_result"
    }
   ],
   "source": [
    "bool([]), bool([1,2,3])"
   ]
  },
  {
   "cell_type": "code",
   "execution_count": 319,
   "metadata": {
    "ExecuteTime": {
     "end_time": "2022-02-14T17:30:49.958941Z",
     "start_time": "2022-02-14T17:30:49.945533Z"
    }
   },
   "outputs": [
    {
     "name": "stdout",
     "output_type": "stream",
     "text": [
      "[1, 2, 3, 4, 5]\n",
      "5 [1, 2, 3, 4]\n",
      "4 [1, 2, 3]\n",
      "3 [1, 2]\n",
      "2 [1]\n",
      "1 []\n",
      "After Loop\n",
      "[]\n"
     ]
    }
   ],
   "source": [
    "a = [1,2,3,4,5]\n",
    "print(a)\n",
    "while a:\n",
    "    print(a.pop(), a)\n",
    "print('After Loop')\n",
    "print(a)"
   ]
  },
  {
   "cell_type": "code",
   "execution_count": null,
   "metadata": {},
   "outputs": [],
   "source": []
  },
  {
   "cell_type": "markdown",
   "metadata": {},
   "source": [
    "## Functions 2\n",
    "\n",
    "**parameter** - while defining\n",
    "\n",
    "**argument** - while calling"
   ]
  },
  {
   "cell_type": "code",
   "execution_count": 320,
   "metadata": {
    "ExecuteTime": {
     "end_time": "2022-02-14T17:30:49.974175Z",
     "start_time": "2022-02-14T17:30:49.960839Z"
    }
   },
   "outputs": [],
   "source": [
    "def my_func(a, b):\n",
    "    print('this is my_func')\n",
    "# my_func()"
   ]
  },
  {
   "cell_type": "code",
   "execution_count": 321,
   "metadata": {
    "ExecuteTime": {
     "end_time": "2022-02-14T17:30:49.989362Z",
     "start_time": "2022-02-14T17:30:49.975829Z"
    }
   },
   "outputs": [],
   "source": [
    "def my_func(a, b=5):\n",
    "    print('this is my_func')\n",
    "# my_func()"
   ]
  },
  {
   "cell_type": "code",
   "execution_count": 322,
   "metadata": {
    "ExecuteTime": {
     "end_time": "2022-02-14T17:30:50.005255Z",
     "start_time": "2022-02-14T17:30:49.991599Z"
    }
   },
   "outputs": [
    {
     "name": "stdout",
     "output_type": "stream",
     "text": [
      "this is my_func\n"
     ]
    }
   ],
   "source": [
    "def my_func(a=3, b=5):\n",
    "    print('this is my_func')\n",
    "my_func()"
   ]
  },
  {
   "cell_type": "code",
   "execution_count": 323,
   "metadata": {
    "ExecuteTime": {
     "end_time": "2022-02-14T17:30:50.020842Z",
     "start_time": "2022-02-14T17:30:50.007591Z"
    }
   },
   "outputs": [
    {
     "name": "stdout",
     "output_type": "stream",
     "text": [
      "1 2 2 3 5 6 7 8\n"
     ]
    }
   ],
   "source": [
    "print(1,2,2,3,5,6,7,8)"
   ]
  },
  {
   "cell_type": "code",
   "execution_count": 324,
   "metadata": {
    "ExecuteTime": {
     "end_time": "2022-02-14T17:30:50.036727Z",
     "start_time": "2022-02-14T17:30:50.022471Z"
    }
   },
   "outputs": [
    {
     "name": "stdout",
     "output_type": "stream",
     "text": [
      "1-2-2-3-5-6-7-8\n"
     ]
    }
   ],
   "source": [
    "print(1,2,2,3,5,6,7,8, sep='-')"
   ]
  },
  {
   "cell_type": "code",
   "execution_count": 325,
   "metadata": {
    "ExecuteTime": {
     "end_time": "2022-02-14T17:30:50.052643Z",
     "start_time": "2022-02-14T17:30:50.039345Z"
    }
   },
   "outputs": [
    {
     "name": "stdout",
     "output_type": "stream",
     "text": [
      "1 2 2 3 5 6 7 8\n",
      "abc\n"
     ]
    }
   ],
   "source": [
    "print(1,2,2,3,5,6,7,8)\n",
    "print('abc')"
   ]
  },
  {
   "cell_type": "code",
   "execution_count": 326,
   "metadata": {
    "ExecuteTime": {
     "end_time": "2022-02-14T17:30:50.068234Z",
     "start_time": "2022-02-14T17:30:50.054528Z"
    }
   },
   "outputs": [],
   "source": [
    "def my_print(*args):\n",
    "    pass"
   ]
  },
  {
   "cell_type": "code",
   "execution_count": 327,
   "metadata": {
    "ExecuteTime": {
     "end_time": "2022-02-14T17:30:50.084234Z",
     "start_time": "2022-02-14T17:30:50.071234Z"
    }
   },
   "outputs": [
    {
     "name": "stdout",
     "output_type": "stream",
     "text": [
      "1\n",
      "2\n",
      "3\n"
     ]
    }
   ],
   "source": [
    "def my_print(*args):\n",
    "    for i in args:\n",
    "        print(i)\n",
    "my_print(1,2,3)\n",
    "my_print()"
   ]
  },
  {
   "cell_type": "code",
   "execution_count": 328,
   "metadata": {
    "ExecuteTime": {
     "end_time": "2022-02-14T17:30:50.100233Z",
     "start_time": "2022-02-14T17:30:50.087234Z"
    }
   },
   "outputs": [
    {
     "name": "stdout",
     "output_type": "stream",
     "text": [
      "1\n",
      "2\n",
      "this is args: (3, 4, 5, 6)\n",
      "3\n",
      "4\n",
      "5\n",
      "6\n",
      "100\n",
      "200\n",
      "this is args: ()\n"
     ]
    }
   ],
   "source": [
    "def my_print(a,b,*args):\n",
    "    print(a)\n",
    "    print(b)\n",
    "    print('this is args:', args)\n",
    "    for i in args:\n",
    "        print(i)\n",
    "my_print(1,2,3,4,5,6)\n",
    "my_print(100,200)"
   ]
  },
  {
   "cell_type": "code",
   "execution_count": null,
   "metadata": {},
   "outputs": [],
   "source": []
  },
  {
   "cell_type": "code",
   "execution_count": 329,
   "metadata": {
    "ExecuteTime": {
     "end_time": "2022-02-14T17:30:50.115852Z",
     "start_time": "2022-02-14T17:30:50.102642Z"
    }
   },
   "outputs": [
    {
     "name": "stdout",
     "output_type": "stream",
     "text": [
      "this is kwargs: {'a': 5, 'b': 'hello', 'cat': None}\n",
      "a 5\n",
      "b hello\n",
      "cat None\n"
     ]
    }
   ],
   "source": [
    "def my_print(**kwargs):\n",
    "    print('this is kwargs:', kwargs)\n",
    "    for k, v in kwargs.items():\n",
    "        print(k,v)\n",
    "my_print(a=5, b='hello', cat=None)"
   ]
  },
  {
   "cell_type": "code",
   "execution_count": 330,
   "metadata": {
    "ExecuteTime": {
     "end_time": "2022-02-14T17:30:50.131016Z",
     "start_time": "2022-02-14T17:30:50.117745Z"
    }
   },
   "outputs": [
    {
     "name": "stdout",
     "output_type": "stream",
     "text": [
      "100\n",
      "200\n",
      "this is args: (1, 2, 3, 'Hello')\n",
      "this is kwargs: {'cat': None, 'cls': 7}\n"
     ]
    }
   ],
   "source": [
    "def my_print(a, b, *args, **kwargs):\n",
    "    print(a)\n",
    "    print(b)\n",
    "    print('this is args:', args)\n",
    "    print('this is kwargs:', kwargs)\n",
    "my_print(100, 200, 1, 2, 3, 'Hello', cat=None, cls=7)"
   ]
  },
  {
   "cell_type": "code",
   "execution_count": 331,
   "metadata": {
    "ExecuteTime": {
     "end_time": "2022-02-14T17:30:50.147016Z",
     "start_time": "2022-02-14T17:30:50.135016Z"
    }
   },
   "outputs": [
    {
     "name": "stdout",
     "output_type": "stream",
     "text": [
      "100\n",
      "200\n",
      "this is args: ()\n",
      "this is kwargs: {'cat': None, 'cls': 7}\n"
     ]
    }
   ],
   "source": [
    "def my_print(a, b, *args, **kwargs):\n",
    "    print(a)\n",
    "    print(b)\n",
    "    print('this is args:', args)\n",
    "    print('this is kwargs:', kwargs)\n",
    "my_print(100, 200, cat=None, cls=7)"
   ]
  },
  {
   "cell_type": "code",
   "execution_count": 332,
   "metadata": {
    "ExecuteTime": {
     "end_time": "2022-02-14T17:30:50.162055Z",
     "start_time": "2022-02-14T17:30:50.148020Z"
    }
   },
   "outputs": [
    {
     "name": "stdout",
     "output_type": "stream",
     "text": [
      "1-2-3-4_5 6\n"
     ]
    }
   ],
   "source": [
    "print(1,2,3,4, sep='-', end='_')\n",
    "print(5,6)"
   ]
  },
  {
   "cell_type": "markdown",
   "metadata": {},
   "source": [
    "## Modules and Packages"
   ]
  },
  {
   "cell_type": "markdown",
   "metadata": {},
   "source": [
    "### Modules"
   ]
  },
  {
   "cell_type": "code",
   "execution_count": 333,
   "metadata": {
    "ExecuteTime": {
     "end_time": "2022-02-14T17:30:50.178031Z",
     "start_time": "2022-02-14T17:30:50.163043Z"
    }
   },
   "outputs": [
    {
     "name": "stdout",
     "output_type": "stream",
     "text": [
      "['l', 'i', 's', 't', ' ', 'f', 'r', 'o', 'm', ' ', 'f', 'o', 'o']\n"
     ]
    }
   ],
   "source": [
    "import foo\n",
    "print(foo.lst_foo)"
   ]
  },
  {
   "cell_type": "code",
   "execution_count": 334,
   "metadata": {
    "ExecuteTime": {
     "end_time": "2022-02-14T17:30:50.193324Z",
     "start_time": "2022-02-14T17:30:50.179374Z"
    }
   },
   "outputs": [
    {
     "name": "stdout",
     "output_type": "stream",
     "text": [
      "func_foo output\n"
     ]
    }
   ],
   "source": [
    "var_foo = foo.func_foo()\n",
    "print(var_foo)"
   ]
  },
  {
   "cell_type": "code",
   "execution_count": 335,
   "metadata": {
    "ExecuteTime": {
     "end_time": "2022-02-14T17:30:50.208983Z",
     "start_time": "2022-02-14T17:30:50.195898Z"
    }
   },
   "outputs": [
    {
     "name": "stdout",
     "output_type": "stream",
     "text": [
      "text variable in bar\n"
     ]
    }
   ],
   "source": [
    "import bar as bbb\n",
    "print(bbb.txt_bar)"
   ]
  },
  {
   "cell_type": "code",
   "execution_count": 336,
   "metadata": {
    "ExecuteTime": {
     "end_time": "2022-02-14T17:30:50.224167Z",
     "start_time": "2022-02-14T17:30:50.211992Z"
    }
   },
   "outputs": [
    {
     "name": "stdout",
     "output_type": "stream",
     "text": [
      "func_bar output\n"
     ]
    }
   ],
   "source": [
    "var_bar = bbb.func_bar()\n",
    "print(var_bar)"
   ]
  },
  {
   "cell_type": "code",
   "execution_count": 337,
   "metadata": {
    "ExecuteTime": {
     "end_time": "2022-02-14T17:30:50.239459Z",
     "start_time": "2022-02-14T17:30:50.225313Z"
    }
   },
   "outputs": [],
   "source": [
    "from foo import *"
   ]
  },
  {
   "cell_type": "code",
   "execution_count": 338,
   "metadata": {
    "ExecuteTime": {
     "end_time": "2022-02-14T17:30:50.255484Z",
     "start_time": "2022-02-14T17:30:50.241374Z"
    }
   },
   "outputs": [],
   "source": [
    "# lst_foo = list('list from foo')"
   ]
  },
  {
   "cell_type": "code",
   "execution_count": 339,
   "metadata": {
    "ExecuteTime": {
     "end_time": "2022-02-14T17:30:50.270881Z",
     "start_time": "2022-02-14T17:30:50.257621Z"
    }
   },
   "outputs": [
    {
     "name": "stdout",
     "output_type": "stream",
     "text": [
      "['l', 'i', 's', 't', ' ', 'f', 'r', 'o', 'm', ' ', 'f', 'o', 'o']\n",
      "this is from foo module\n"
     ]
    }
   ],
   "source": [
    "print(lst_foo)\n",
    "print(some_var)\n"
   ]
  },
  {
   "cell_type": "code",
   "execution_count": 340,
   "metadata": {
    "ExecuteTime": {
     "end_time": "2022-02-14T17:30:50.286078Z",
     "start_time": "2022-02-14T17:30:50.272882Z"
    }
   },
   "outputs": [],
   "source": [
    "# lst_foo = 7"
   ]
  },
  {
   "cell_type": "code",
   "execution_count": 341,
   "metadata": {
    "ExecuteTime": {
     "end_time": "2022-02-14T17:30:50.301459Z",
     "start_time": "2022-02-14T17:30:50.288404Z"
    }
   },
   "outputs": [],
   "source": [
    "from bar import *"
   ]
  },
  {
   "cell_type": "code",
   "execution_count": 342,
   "metadata": {
    "ExecuteTime": {
     "end_time": "2022-02-14T17:30:50.317459Z",
     "start_time": "2022-02-14T17:30:50.303390Z"
    }
   },
   "outputs": [
    {
     "name": "stdout",
     "output_type": "stream",
     "text": [
      "this is from bar module\n"
     ]
    }
   ],
   "source": [
    "print(some_var)"
   ]
  },
  {
   "cell_type": "markdown",
   "metadata": {},
   "source": [
    "### Packages"
   ]
  },
  {
   "cell_type": "code",
   "execution_count": 343,
   "metadata": {
    "ExecuteTime": {
     "end_time": "2022-02-14T17:30:50.333503Z",
     "start_time": "2022-02-14T17:30:50.320392Z"
    }
   },
   "outputs": [],
   "source": [
    "from foobar import bar"
   ]
  },
  {
   "cell_type": "code",
   "execution_count": 344,
   "metadata": {
    "ExecuteTime": {
     "end_time": "2022-02-14T17:30:50.349556Z",
     "start_time": "2022-02-14T17:30:50.335480Z"
    }
   },
   "outputs": [
    {
     "data": {
      "text/plain": [
       "'func_bar2 output'"
      ]
     },
     "execution_count": 344,
     "metadata": {},
     "output_type": "execute_result"
    }
   ],
   "source": [
    "bar.func_bar2()"
   ]
  },
  {
   "cell_type": "code",
   "execution_count": 345,
   "metadata": {
    "ExecuteTime": {
     "end_time": "2022-02-14T17:30:50.365555Z",
     "start_time": "2022-02-14T17:30:50.351475Z"
    }
   },
   "outputs": [],
   "source": [
    "from foobar import foo"
   ]
  },
  {
   "cell_type": "code",
   "execution_count": 346,
   "metadata": {
    "ExecuteTime": {
     "end_time": "2022-02-14T17:30:50.381378Z",
     "start_time": "2022-02-14T17:30:50.369477Z"
    }
   },
   "outputs": [
    {
     "data": {
      "text/plain": [
       "'func_foo2 output'"
      ]
     },
     "execution_count": 346,
     "metadata": {},
     "output_type": "execute_result"
    }
   ],
   "source": [
    "foo.func_foo2()"
   ]
  },
  {
   "cell_type": "code",
   "execution_count": 347,
   "metadata": {
    "ExecuteTime": {
     "end_time": "2022-02-14T17:30:50.397432Z",
     "start_time": "2022-02-14T17:30:50.384338Z"
    }
   },
   "outputs": [],
   "source": [
    "import foobar"
   ]
  },
  {
   "cell_type": "code",
   "execution_count": 348,
   "metadata": {
    "ExecuteTime": {
     "end_time": "2022-02-14T17:30:50.412629Z",
     "start_time": "2022-02-14T17:30:50.399558Z"
    }
   },
   "outputs": [
    {
     "data": {
      "text/plain": [
       "'func_foo2 output'"
      ]
     },
     "execution_count": 348,
     "metadata": {},
     "output_type": "execute_result"
    }
   ],
   "source": [
    "foobar.foo.func_foo2()"
   ]
  },
  {
   "cell_type": "code",
   "execution_count": 349,
   "metadata": {
    "ExecuteTime": {
     "end_time": "2022-02-14T17:30:50.428629Z",
     "start_time": "2022-02-14T17:30:50.414554Z"
    }
   },
   "outputs": [
    {
     "name": "stdout",
     "output_type": "stream",
     "text": [
      "Help on built-in function print in module builtins:\n",
      "\n",
      "print(...)\n",
      "    print(value, ..., sep=' ', end='\\n', file=sys.stdout, flush=False)\n",
      "    \n",
      "    Prints the values to a stream, or to sys.stdout by default.\n",
      "    Optional keyword arguments:\n",
      "    file:  a file-like object (stream); defaults to the current sys.stdout.\n",
      "    sep:   string inserted between values, default a space.\n",
      "    end:   string appended after the last value, default a newline.\n",
      "    flush: whether to forcibly flush the stream.\n",
      "\n"
     ]
    }
   ],
   "source": [
    "help(print)"
   ]
  },
  {
   "cell_type": "code",
   "execution_count": null,
   "metadata": {},
   "outputs": [],
   "source": []
  },
  {
   "cell_type": "markdown",
   "metadata": {},
   "source": [
    "### Standard Modules"
   ]
  },
  {
   "cell_type": "markdown",
   "metadata": {},
   "source": [
    "#### sys\n",
    "`sys` module provides access to some variables used or maintained by the interpreter and to functions that interact strongly with the interpreter. It is **always** available."
   ]
  },
  {
   "cell_type": "code",
   "execution_count": 350,
   "metadata": {
    "ExecuteTime": {
     "end_time": "2022-02-14T17:30:50.444064Z",
     "start_time": "2022-02-14T17:30:50.432631Z"
    }
   },
   "outputs": [],
   "source": [
    "import sys\n",
    "# print(sys.path)"
   ]
  },
  {
   "cell_type": "markdown",
   "metadata": {},
   "source": [
    "#### math\n",
    "`math` module provides access to the mathematical functions."
   ]
  },
  {
   "cell_type": "code",
   "execution_count": 351,
   "metadata": {
    "ExecuteTime": {
     "end_time": "2022-02-14T17:30:50.459277Z",
     "start_time": "2022-02-14T17:30:50.446065Z"
    }
   },
   "outputs": [
    {
     "data": {
      "text/plain": [
       "3.141592653589793"
      ]
     },
     "execution_count": 351,
     "metadata": {},
     "output_type": "execute_result"
    }
   ],
   "source": [
    "import math\n",
    "math.pi"
   ]
  },
  {
   "cell_type": "markdown",
   "metadata": {},
   "source": [
    "#### random\n",
    "`random` module implements pseudo-random number generators for various distributions."
   ]
  },
  {
   "cell_type": "code",
   "execution_count": 352,
   "metadata": {
    "ExecuteTime": {
     "end_time": "2022-02-14T17:30:50.474592Z",
     "start_time": "2022-02-14T17:30:50.461364Z"
    }
   },
   "outputs": [],
   "source": [
    "import random\n"
   ]
  },
  {
   "cell_type": "markdown",
   "metadata": {},
   "source": [
    "#### os\n",
    "`os` module provides a portable way of using operating system dependent functionality."
   ]
  },
  {
   "cell_type": "code",
   "execution_count": 353,
   "metadata": {
    "ExecuteTime": {
     "end_time": "2022-02-14T17:30:50.490141Z",
     "start_time": "2022-02-14T17:30:50.476698Z"
    }
   },
   "outputs": [],
   "source": [
    "import os"
   ]
  },
  {
   "cell_type": "code",
   "execution_count": null,
   "metadata": {},
   "outputs": [],
   "source": []
  }
 ],
 "metadata": {
  "kernelspec": {
   "display_name": "Python 3 (ipykernel)",
   "language": "python",
   "name": "python3"
  },
  "language_info": {
   "codemirror_mode": {
    "name": "ipython",
    "version": 3
   },
   "file_extension": ".py",
   "mimetype": "text/x-python",
   "name": "python",
   "nbconvert_exporter": "python",
   "pygments_lexer": "ipython3",
   "version": "3.9.7"
  },
  "toc": {
   "base_numbering": 1,
   "nav_menu": {
    "height": "283px",
    "width": "177px"
   },
   "number_sections": true,
   "sideBar": true,
   "skip_h1_title": true,
   "title_cell": "Table of Contents",
   "title_sidebar": "Contents",
   "toc_cell": false,
   "toc_position": {
    "height": "calc(100% - 180px)",
    "left": "10px",
    "top": "150px",
    "width": "179.167px"
   },
   "toc_section_display": true,
   "toc_window_display": true
  }
 },
 "nbformat": 4,
 "nbformat_minor": 2
}
