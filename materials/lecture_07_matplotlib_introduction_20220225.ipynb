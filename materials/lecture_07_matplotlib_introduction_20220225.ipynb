{
 "cells": [
  {
   "cell_type": "markdown",
   "metadata": {},
   "source": [
    "# matplotlib Introduction\n",
    "we will concentrate on [pyplot](https://matplotlib.org/api/_as_gen/matplotlib.pyplot.html) module"
   ]
  },
  {
   "cell_type": "code",
   "execution_count": null,
   "metadata": {
    "ExecuteTime": {
     "end_time": "2022-02-25T17:03:25.876634Z",
     "start_time": "2022-02-25T17:03:25.312365Z"
    }
   },
   "outputs": [],
   "source": [
    "import numpy as np\n",
    "import matplotlib.pyplot as plt\n"
   ]
  },
  {
   "cell_type": "markdown",
   "metadata": {},
   "source": [
    "## Basic Plot"
   ]
  },
  {
   "cell_type": "code",
   "execution_count": null,
   "metadata": {
    "ExecuteTime": {
     "end_time": "2022-02-25T17:03:25.892136Z",
     "start_time": "2022-02-25T17:03:25.877733Z"
    }
   },
   "outputs": [],
   "source": [
    "lst_x = [1, 2, 4]\n",
    "lst_y = [3, 6, 9]"
   ]
  },
  {
   "cell_type": "code",
   "execution_count": null,
   "metadata": {
    "ExecuteTime": {
     "end_time": "2022-02-25T17:03:26.000906Z",
     "start_time": "2022-02-25T17:03:25.893288Z"
    }
   },
   "outputs": [],
   "source": [
    "# plot x\n",
    "plt.plot(lst_x)\n"
   ]
  },
  {
   "cell_type": "code",
   "execution_count": null,
   "metadata": {
    "ExecuteTime": {
     "end_time": "2022-02-25T17:03:26.077769Z",
     "start_time": "2022-02-25T17:03:26.002752Z"
    }
   },
   "outputs": [],
   "source": [
    "#  plot x, y\n",
    "plt.plot(lst_x, lst_y)"
   ]
  },
  {
   "cell_type": "markdown",
   "metadata": {},
   "source": [
    "### .show()"
   ]
  },
  {
   "cell_type": "code",
   "execution_count": null,
   "metadata": {
    "ExecuteTime": {
     "end_time": "2022-02-25T17:03:26.156521Z",
     "start_time": "2022-02-25T17:03:26.078683Z"
    }
   },
   "outputs": [],
   "source": [
    "# add show()\n",
    "plt.plot(lst_x, lst_y)\n",
    "plt.show()"
   ]
  },
  {
   "cell_type": "code",
   "execution_count": null,
   "metadata": {
    "ExecuteTime": {
     "end_time": "2022-02-25T17:03:26.233795Z",
     "start_time": "2022-02-25T17:03:26.158035Z"
    }
   },
   "outputs": [],
   "source": [
    "plt.plot(lst_x, lst_y)\n",
    "plt.plot(lst_x)"
   ]
  },
  {
   "cell_type": "code",
   "execution_count": null,
   "metadata": {
    "ExecuteTime": {
     "end_time": "2022-02-25T17:03:26.405400Z",
     "start_time": "2022-02-25T17:03:26.235707Z"
    }
   },
   "outputs": [],
   "source": [
    "plt.plot(lst_x, lst_y)\n",
    "plt.show()\n",
    "\n",
    "plt.plot(lst_x)\n",
    "plt.show()"
   ]
  },
  {
   "cell_type": "code",
   "execution_count": null,
   "metadata": {
    "ExecuteTime": {
     "end_time": "2022-02-25T17:03:26.421363Z",
     "start_time": "2022-02-25T17:03:26.406276Z"
    }
   },
   "outputs": [],
   "source": [
    "plt.show()"
   ]
  },
  {
   "cell_type": "markdown",
   "metadata": {},
   "source": [
    "### .title()"
   ]
  },
  {
   "cell_type": "code",
   "execution_count": null,
   "metadata": {
    "ExecuteTime": {
     "end_time": "2022-02-25T17:03:26.499585Z",
     "start_time": "2022-02-25T17:03:26.422631Z"
    }
   },
   "outputs": [],
   "source": [
    "# add title()\n",
    "plt.plot(lst_x, lst_y)\n",
    "plt.title('Y = 3 * X')\n",
    "plt.show()"
   ]
  },
  {
   "cell_type": "markdown",
   "metadata": {},
   "source": [
    "### Axis Labels"
   ]
  },
  {
   "cell_type": "markdown",
   "metadata": {},
   "source": [
    "#### X"
   ]
  },
  {
   "cell_type": "code",
   "execution_count": null,
   "metadata": {
    "ExecuteTime": {
     "end_time": "2022-02-25T17:03:26.576224Z",
     "start_time": "2022-02-25T17:03:26.501778Z"
    }
   },
   "outputs": [],
   "source": [
    "# add x Axis label\n",
    "plt.plot(lst_x, lst_y)\n",
    "plt.title('Y = 3 * X')\n",
    "plt.xlabel('X Axis')\n",
    "plt.show()"
   ]
  },
  {
   "cell_type": "markdown",
   "metadata": {},
   "source": [
    "#### Y"
   ]
  },
  {
   "cell_type": "code",
   "execution_count": null,
   "metadata": {
    "ExecuteTime": {
     "end_time": "2022-02-25T17:03:26.653051Z",
     "start_time": "2022-02-25T17:03:26.577441Z"
    }
   },
   "outputs": [],
   "source": [
    "# add y axis label\n",
    "plt.plot(lst_x, lst_y)\n",
    "plt.xlabel('X Axis')\n",
    "plt.ylabel('Y')\n",
    "plt.title('Y = 3 * X')\n",
    "plt.show()"
   ]
  },
  {
   "cell_type": "markdown",
   "metadata": {},
   "source": [
    "### Ticks"
   ]
  },
  {
   "cell_type": "code",
   "execution_count": null,
   "metadata": {
    "ExecuteTime": {
     "end_time": "2022-02-25T17:03:26.714158Z",
     "start_time": "2022-02-25T17:03:26.654167Z"
    }
   },
   "outputs": [],
   "source": [
    "# add X ticks\n",
    "plt.plot(lst_x, lst_y)\n",
    "\n",
    "plt.title('Y = 3 * X')\n",
    "\n",
    "plt.xlabel('X Axis')\n",
    "plt.ylabel('Y')\n",
    "\n",
    "plt.xticks(lst_x)\n",
    "\n",
    "plt.show()"
   ]
  },
  {
   "cell_type": "code",
   "execution_count": null,
   "metadata": {
    "ExecuteTime": {
     "end_time": "2022-02-25T17:03:26.791096Z",
     "start_time": "2022-02-25T17:03:26.715760Z"
    }
   },
   "outputs": [],
   "source": [
    "# add X ticks\n",
    "plt.plot(lst_x, lst_y)\n",
    "\n",
    "plt.title('Y = 3 * X')\n",
    "\n",
    "plt.xlabel('X Axis')\n",
    "plt.ylabel('Y')\n",
    "\n",
    "plt.xticks(lst_x + [1.7])\n",
    "\n",
    "plt.show()"
   ]
  },
  {
   "cell_type": "code",
   "execution_count": null,
   "metadata": {
    "ExecuteTime": {
     "end_time": "2022-02-25T17:03:26.806536Z",
     "start_time": "2022-02-25T17:03:26.792762Z"
    }
   },
   "outputs": [],
   "source": [
    "x_max = max(lst_x)\n",
    "x_min = min(lst_x)\n",
    "list(range(x_min-1, x_max + 2))"
   ]
  },
  {
   "cell_type": "code",
   "execution_count": null,
   "metadata": {
    "ExecuteTime": {
     "end_time": "2022-02-25T17:03:26.885612Z",
     "start_time": "2022-02-25T17:03:26.808081Z"
    }
   },
   "outputs": [],
   "source": [
    "# add y ticks\n",
    "# add X ticks\n",
    "plt.plot(lst_x, lst_y)\n",
    "\n",
    "plt.title('Y = 3 * X')\n",
    "\n",
    "plt.xlabel('X Axis')\n",
    "plt.ylabel('Y')\n",
    "\n",
    "x_max = max(lst_x)\n",
    "x_min = min(lst_x)\n",
    "\n",
    "plt.xticks(range(x_min-1, x_max + 2, 1))\n",
    "\n",
    "y_min = min(lst_y)\n",
    "y_max = max(lst_y)\n",
    "\n",
    "plt.yticks(range(y_min-1, y_max + 2, 1))\n",
    "\n",
    "plt.show()"
   ]
  },
  {
   "cell_type": "markdown",
   "metadata": {},
   "source": [
    "### Legend"
   ]
  },
  {
   "cell_type": "code",
   "execution_count": null,
   "metadata": {
    "ExecuteTime": {
     "end_time": "2022-02-25T17:03:26.900931Z",
     "start_time": "2022-02-25T17:03:26.887118Z"
    }
   },
   "outputs": [],
   "source": [
    "lst_y2 = [1, 4, 16]"
   ]
  },
  {
   "cell_type": "code",
   "execution_count": null,
   "metadata": {
    "ExecuteTime": {
     "end_time": "2022-02-25T17:03:27.009155Z",
     "start_time": "2022-02-25T17:03:26.903147Z"
    }
   },
   "outputs": [],
   "source": [
    "# add legend\n",
    "plt.plot(lst_x, lst_y, label='3x')\n",
    "plt.plot(lst_x, lst_y2, label='x^2')\n",
    "\n",
    "plt.xlabel('X Axis')\n",
    "plt.ylabel('Y')\n",
    "\n",
    "plt.legend()\n",
    "\n",
    "plt.show()"
   ]
  },
  {
   "cell_type": "markdown",
   "metadata": {},
   "source": [
    "### Line Width\n"
   ]
  },
  {
   "cell_type": "code",
   "execution_count": null,
   "metadata": {
    "ExecuteTime": {
     "end_time": "2022-02-25T17:03:27.100888Z",
     "start_time": "2022-02-25T17:03:27.010710Z"
    }
   },
   "outputs": [],
   "source": [
    "# change line width\n",
    "plt.plot(lst_x, lst_y, label='3x', color='b', linewidth=5)\n",
    "plt.plot(lst_x, lst_y2, label='x^2', color='k', linewidth=1)\n",
    "\n",
    "plt.xlabel('X Axis')\n",
    "plt.ylabel('Y')\n",
    "\n",
    "# black - k\n",
    "# blue - b\n",
    "\n",
    "plt.legend()\n",
    "\n",
    "plt.show()\n"
   ]
  },
  {
   "cell_type": "markdown",
   "metadata": {},
   "source": [
    "### Marker"
   ]
  },
  {
   "cell_type": "code",
   "execution_count": null,
   "metadata": {
    "ExecuteTime": {
     "end_time": "2022-02-25T17:03:27.208986Z",
     "start_time": "2022-02-25T17:03:27.101162Z"
    }
   },
   "outputs": [],
   "source": [
    "# change marker type\n",
    "plt.plot(lst_x, lst_y, label='3x', color='g', linewidth=1.5, marker='^')\n",
    "plt.plot(lst_x, lst_y2, label='x^2', color='r', linewidth=1, marker='.', linestyle='--')\n",
    "\n",
    "plt.xlabel('X Axis')\n",
    "plt.ylabel('Y')\n",
    "\n",
    "\n",
    "plt.legend()\n",
    "\n",
    "plt.show()"
   ]
  },
  {
   "cell_type": "code",
   "execution_count": null,
   "metadata": {
    "ExecuteTime": {
     "end_time": "2022-02-25T17:03:27.364661Z",
     "start_time": "2022-02-25T17:03:27.211044Z"
    }
   },
   "outputs": [],
   "source": [
    "# change marker size\n",
    "# change marker type\n",
    "plt.plot(lst_x, lst_y, label='3x', color='g', linewidth=1.5, marker='^', markersize=8\n",
    ")\n",
    "plt.plot(lst_x, lst_y2, label='x^2', color='r', linewidth=1, marker='^', linestyle='--')\n",
    "\n",
    "plt.xlabel('X Axis')\n",
    "plt.ylabel('Y')\n",
    "\n",
    "plt.legend()\n",
    "\n",
    "plt.show()"
   ]
  },
  {
   "cell_type": "markdown",
   "metadata": {},
   "source": [
    "### fmt Formatting"
   ]
  },
  {
   "cell_type": "code",
   "execution_count": null,
   "metadata": {
    "ExecuteTime": {
     "end_time": "2022-02-25T17:03:27.472346Z",
     "start_time": "2022-02-25T17:03:27.366168Z"
    }
   },
   "outputs": [],
   "source": [
    "# fmt formatting\n",
    "# Color, Marker Type, Line Type\n",
    "fmt = 'r*--'\n",
    "\n",
    "plt.plot(lst_x, lst_y, label='3x', color='g', linewidth=1.5, marker='^', markersize =8\n",
    ")\n",
    "plt.plot(lst_x, lst_y2, fmt, label='x^2', linewidth=1,)\n",
    "\n",
    "plt.xlabel('X Axis')\n",
    "plt.ylabel('Y')\n",
    "\n",
    "\n",
    "plt.legend()\n",
    "\n",
    "plt.show()"
   ]
  },
  {
   "cell_type": "markdown",
   "metadata": {},
   "source": [
    "### Save Figure"
   ]
  },
  {
   "cell_type": "code",
   "execution_count": null,
   "metadata": {
    "ExecuteTime": {
     "end_time": "2022-02-25T17:03:27.627664Z",
     "start_time": "2022-02-25T17:03:27.473487Z"
    }
   },
   "outputs": [],
   "source": [
    "# save figure\n",
    "# fmt formatting\n",
    "fmt = 'r*--'\n",
    "plt.plot(lst_x, lst_y, label='3x', color='g', marker='^', markersize =8\n",
    ")\n",
    "plt.plot(lst_x, lst_y2, fmt, label='x^2', linewidth=1,)\n",
    "\n",
    "plt.xlabel('X Axis')\n",
    "plt.ylabel('Y')\n",
    "\n",
    "\n",
    "\n",
    "plt.legend()\n",
    "\n",
    "plt.savefig('intro_2_high.png', dpi=100) # Dots Per Inch\n",
    "\n",
    "plt.show()"
   ]
  },
  {
   "cell_type": "markdown",
   "metadata": {},
   "source": [
    "### fontdict"
   ]
  },
  {
   "cell_type": "code",
   "execution_count": null,
   "metadata": {
    "ExecuteTime": {
     "end_time": "2022-02-25T17:03:27.737165Z",
     "start_time": "2022-02-25T17:03:27.629263Z"
    }
   },
   "outputs": [],
   "source": [
    "# fontdict\n",
    "fmt = 'r*--'\n",
    "plt.plot(lst_x, lst_y, label='3x', color='g', linewidth=1.5, marker='^', markersize =8\n",
    ")\n",
    "plt.plot(lst_x, lst_y2, fmt, label='x^2', linewidth=1,)\n",
    "\n",
    "plt.xlabel('X Axis')\n",
    "plt.ylabel('Y')\n",
    "\n",
    "plt.legend()\n",
    "\n",
    "plt.title('Our Functions',\n",
    "          fontdict={'fontsize': 20,\n",
    "                   'fontname': 'Comic Sans MS'})\n",
    "\n",
    "plt.show()"
   ]
  },
  {
   "cell_type": "markdown",
   "metadata": {},
   "source": [
    "### figsize"
   ]
  },
  {
   "cell_type": "code",
   "execution_count": null,
   "metadata": {
    "ExecuteTime": {
     "end_time": "2022-02-25T17:03:27.845990Z",
     "start_time": "2022-02-25T17:03:27.738845Z"
    }
   },
   "outputs": [],
   "source": [
    "# figsize\n",
    "plt.figure(figsize=(6, 3), dpi=100) # 6 X 4 Inches,  \n",
    "\n",
    "fmt = 'r*--'\n",
    "plt.plot(lst_x, lst_y, label='3x', color='g', linewidth=1.5, marker='^', markersize =8\n",
    ")\n",
    "plt.plot(lst_x, lst_y2, fmt, label='x^2', linewidth=1,)\n",
    "\n",
    "plt.xlabel('X Axis')\n",
    "plt.ylabel('Y')\n",
    "\n",
    "plt.legend()\n",
    "\n",
    "plt.title('Our Functions',\n",
    "          fontdict={'fontsize': 20,\n",
    "                   'fontname': 'Comic Sans MS'})\n",
    "\n",
    "plt.show()"
   ]
  },
  {
   "cell_type": "markdown",
   "metadata": {},
   "source": [
    "## Bar Chart"
   ]
  },
  {
   "cell_type": "code",
   "execution_count": null,
   "metadata": {
    "ExecuteTime": {
     "end_time": "2022-02-25T17:03:27.861294Z",
     "start_time": "2022-02-25T17:03:27.847290Z"
    }
   },
   "outputs": [],
   "source": [
    "bar_labels = ['A', 'B', 'C']\n",
    "bar_values = [4, 9, 2]"
   ]
  },
  {
   "cell_type": "code",
   "execution_count": null,
   "metadata": {
    "ExecuteTime": {
     "end_time": "2022-02-25T17:03:27.922862Z",
     "start_time": "2022-02-25T17:03:27.862574Z"
    }
   },
   "outputs": [],
   "source": [
    "# bar chart\n",
    "plt.bar(bar_labels, bar_values)\n",
    "\n",
    "plt.title('sample bar plot')\n",
    "\n",
    "plt.show()"
   ]
  },
  {
   "cell_type": "markdown",
   "metadata": {},
   "source": [
    "### .set_hatch()"
   ]
  },
  {
   "cell_type": "code",
   "execution_count": null,
   "metadata": {
    "ExecuteTime": {
     "end_time": "2022-02-25T17:03:28.000112Z",
     "start_time": "2022-02-25T17:03:27.924186Z"
    }
   },
   "outputs": [],
   "source": [
    "# set fill type\n",
    "bars = plt.bar(bar_labels, bar_values)\n",
    "\n",
    "bars[0].set_hatch('/')\n",
    "bars[1].set_hatch('*')\n",
    "bars[2].set_hatch('o')\n",
    "\n",
    "\n",
    "plt.title('sample bar plot')\n",
    "\n",
    "plt.show()"
   ]
  },
  {
   "cell_type": "code",
   "execution_count": null,
   "metadata": {
    "ExecuteTime": {
     "end_time": "2022-02-25T17:03:28.092117Z",
     "start_time": "2022-02-25T17:03:28.004473Z"
    }
   },
   "outputs": [],
   "source": [
    "# set fill type in loop\n",
    "bar_labels = ['A', 'B', 'C', 'D', 'E', 'F', 'G']\n",
    "bar_values = [4, 9, 2, 0, -3, 7, 5]\n",
    "bars = plt.bar(bar_labels, bar_values)\n",
    "\n",
    "patterns = ['o', '*', '/']\n",
    "\n",
    "for i, bar in enumerate(bars):\n",
    "    bar.set_hatch(patterns[i % len(patterns)])\n",
    "\n",
    "plt.title('sample bar plot')\n",
    "\n",
    "plt.show()"
   ]
  },
  {
   "cell_type": "markdown",
   "metadata": {},
   "source": [
    "## Scatter"
   ]
  },
  {
   "cell_type": "code",
   "execution_count": null,
   "metadata": {
    "ExecuteTime": {
     "end_time": "2022-02-25T17:03:28.186065Z",
     "start_time": "2022-02-25T17:03:28.094619Z"
    }
   },
   "outputs": [],
   "source": [
    "# plt.style.use('_mpl-gallery')\n",
    "# make the data\n",
    "np.random.seed(3)\n",
    "x = 4 + np.random.normal(0, 2, 24)\n",
    "y = 4 + np.random.normal(0, 2, len(x))\n",
    "# size and color:\n",
    "sizes = np.random.uniform(15, 80, len(x))\n",
    "colors = np.random.uniform(15, 80, len(x))\n",
    "\n",
    "# plot\n",
    "fig, ax = plt.subplots()\n",
    "\n",
    "ax.scatter(x, y, s=sizes, c=colors, vmin=0, vmax=100)\n",
    "\n",
    "ax.set(xlim=(0, 8), xticks=np.arange(1, 8),\n",
    "       ylim=(0, 8), yticks=np.arange(1, 8))\n",
    "\n",
    "plt.show()"
   ]
  },
  {
   "cell_type": "markdown",
   "metadata": {},
   "source": [
    "## Animation"
   ]
  },
  {
   "cell_type": "code",
   "execution_count": null,
   "metadata": {
    "ExecuteTime": {
     "end_time": "2022-02-25T17:03:28.201345Z",
     "start_time": "2022-02-25T17:03:28.187176Z"
    }
   },
   "outputs": [],
   "source": [
    "# !pip install foliantcontrib.imagemagick"
   ]
  },
  {
   "cell_type": "code",
   "execution_count": null,
   "metadata": {
    "ExecuteTime": {
     "end_time": "2022-02-25T17:03:30.494257Z",
     "start_time": "2022-02-25T17:03:28.202528Z"
    }
   },
   "outputs": [],
   "source": [
    "# https://riptutorial.com/matplotlib/example/23562/save-animation-to-gif\n",
    "\n",
    "import matplotlib.animation as animation\n",
    "from matplotlib import rcParams\n",
    "\n",
    "# make sure the full paths for ImageMagick and ffmpeg are configured\n",
    "rcParams['animation.convert_path'] = r'C:\\Program Files\\ImageMagick\\convert'\n",
    "rcParams['animation.ffmpeg_path'] = r'C:\\Program Files\\ffmpeg\\bin\\ffmpeg.exe'\n",
    "\n",
    "TWOPI = 2*np.pi\n",
    "\n",
    "fig, ax = plt.subplots()\n",
    "\n",
    "t = np.arange(0.0, TWOPI, 0.001)\n",
    "s = np.sin(t)\n",
    "l = plt.plot(t, s)\n",
    "\n",
    "ax = plt.axis([0,TWOPI,-1,1])\n",
    "\n",
    "redDot, = plt.plot([0], [np.sin(0)], 'ro')\n",
    "\n",
    "def animate(i):\n",
    "    redDot.set_data(i, np.sin(i))\n",
    "    return redDot,\n",
    "\n",
    "# create animation using the animate() function with no repeat\n",
    "myAnimation = animation.FuncAnimation(fig, animate, frames=np.arange(0.0, TWOPI, 0.1), \\\n",
    "                                      interval=10, blit=True, repeat=False)\n",
    "\n",
    "# save animation at 30 frames per second \n",
    "myAnimation.save('myAnimation.gif', writer='imagemagick', fps=30)"
   ]
  },
  {
   "cell_type": "code",
   "execution_count": null,
   "metadata": {},
   "outputs": [],
   "source": []
  }
 ],
 "metadata": {
  "kernelspec": {
   "display_name": "Python 3 (ipykernel)",
   "language": "python",
   "name": "python3"
  },
  "language_info": {
   "codemirror_mode": {
    "name": "ipython",
    "version": 3
   },
   "file_extension": ".py",
   "mimetype": "text/x-python",
   "name": "python",
   "nbconvert_exporter": "python",
   "pygments_lexer": "ipython3",
   "version": "3.9.7"
  },
  "toc": {
   "base_numbering": 1,
   "nav_menu": {},
   "number_sections": true,
   "sideBar": true,
   "skip_h1_title": true,
   "title_cell": "Table of Contents",
   "title_sidebar": "Contents",
   "toc_cell": false,
   "toc_position": {
    "height": "calc(100% - 180px)",
    "left": "10px",
    "top": "150px",
    "width": "273.2px"
   },
   "toc_section_display": true,
   "toc_window_display": true
  }
 },
 "nbformat": 4,
 "nbformat_minor": 2
}
