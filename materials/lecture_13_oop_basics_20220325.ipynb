{
 "cells": [
  {
   "cell_type": "code",
   "execution_count": 1,
   "id": "dc635a8a",
   "metadata": {
    "ExecuteTime": {
     "end_time": "2022-03-25T17:13:14.549559Z",
     "start_time": "2022-03-25T17:13:14.537842Z"
    }
   },
   "outputs": [],
   "source": [
    "list_a = [1, 2, 3]\n"
   ]
  },
  {
   "cell_type": "code",
   "execution_count": 2,
   "id": "053ef0e6",
   "metadata": {
    "ExecuteTime": {
     "end_time": "2022-03-25T17:13:14.922612Z",
     "start_time": "2022-03-25T17:13:14.551466Z"
    }
   },
   "outputs": [],
   "source": [
    "import numpy as np\n",
    "import pandas as pd"
   ]
  },
  {
   "cell_type": "markdown",
   "id": "fb3052bd",
   "metadata": {},
   "source": [
    "## Classes"
   ]
  },
  {
   "cell_type": "code",
   "execution_count": 3,
   "id": "59479bde",
   "metadata": {
    "ExecuteTime": {
     "end_time": "2022-03-25T17:13:14.938430Z",
     "start_time": "2022-03-25T17:13:14.924692Z"
    }
   },
   "outputs": [],
   "source": [
    "class Person:\n",
    "    pass"
   ]
  },
  {
   "cell_type": "code",
   "execution_count": 4,
   "id": "e582c3da",
   "metadata": {
    "ExecuteTime": {
     "end_time": "2022-03-25T17:13:14.969990Z",
     "start_time": "2022-03-25T17:13:14.940439Z"
    }
   },
   "outputs": [],
   "source": [
    "p1 = Person()\n",
    "p2 = Person()"
   ]
  },
  {
   "cell_type": "code",
   "execution_count": 5,
   "id": "0a119af5",
   "metadata": {
    "ExecuteTime": {
     "end_time": "2022-03-25T17:13:14.985596Z",
     "start_time": "2022-03-25T17:13:14.971890Z"
    }
   },
   "outputs": [
    {
     "data": {
      "text/plain": [
       "<__main__.Person at 0x1e31975f940>"
      ]
     },
     "execution_count": 5,
     "metadata": {},
     "output_type": "execute_result"
    }
   ],
   "source": [
    "p1"
   ]
  },
  {
   "cell_type": "code",
   "execution_count": 6,
   "id": "2781632c",
   "metadata": {
    "ExecuteTime": {
     "end_time": "2022-03-25T17:13:15.000994Z",
     "start_time": "2022-03-25T17:13:14.987617Z"
    }
   },
   "outputs": [
    {
     "name": "stdout",
     "output_type": "stream",
     "text": [
      "<__main__.Person object at 0x000001E31975F940>\n"
     ]
    }
   ],
   "source": [
    "print(p1)"
   ]
  },
  {
   "cell_type": "code",
   "execution_count": 7,
   "id": "7af5e926",
   "metadata": {
    "ExecuteTime": {
     "end_time": "2022-03-25T17:13:15.016071Z",
     "start_time": "2022-03-25T17:13:15.002507Z"
    }
   },
   "outputs": [],
   "source": [
    "p1.firstname = 'Guido'\n",
    "p1.lastname = 'Rossum'"
   ]
  },
  {
   "cell_type": "code",
   "execution_count": 8,
   "id": "6d18d835",
   "metadata": {
    "ExecuteTime": {
     "end_time": "2022-03-25T17:13:15.032021Z",
     "start_time": "2022-03-25T17:13:15.018410Z"
    }
   },
   "outputs": [
    {
     "name": "stdout",
     "output_type": "stream",
     "text": [
      "Guido\n"
     ]
    }
   ],
   "source": [
    "print(p1.firstname)"
   ]
  },
  {
   "cell_type": "code",
   "execution_count": null,
   "id": "e9f0c377",
   "metadata": {},
   "outputs": [],
   "source": []
  },
  {
   "cell_type": "code",
   "execution_count": 9,
   "id": "bef04a4c",
   "metadata": {
    "ExecuteTime": {
     "end_time": "2022-03-25T17:13:15.046765Z",
     "start_time": "2022-03-25T17:13:15.033744Z"
    }
   },
   "outputs": [],
   "source": [
    "class Person:\n",
    "    def __init__(self, first_name, last_name):\n",
    "        self.first_name = first_name\n",
    "        self.last_name = last_name\n",
    "        self.age = 0"
   ]
  },
  {
   "cell_type": "code",
   "execution_count": 10,
   "id": "b51f9b1a",
   "metadata": {
    "ExecuteTime": {
     "end_time": "2022-03-25T17:13:15.062188Z",
     "start_time": "2022-03-25T17:13:15.050003Z"
    }
   },
   "outputs": [],
   "source": [
    "p1 = Person('Guido', 'Rossum')"
   ]
  },
  {
   "cell_type": "code",
   "execution_count": 11,
   "id": "8e4208b2",
   "metadata": {
    "ExecuteTime": {
     "end_time": "2022-03-25T17:13:15.077765Z",
     "start_time": "2022-03-25T17:13:15.063506Z"
    }
   },
   "outputs": [
    {
     "data": {
      "text/plain": [
       "'Guido'"
      ]
     },
     "execution_count": 11,
     "metadata": {},
     "output_type": "execute_result"
    }
   ],
   "source": [
    "p1.first_name"
   ]
  },
  {
   "cell_type": "code",
   "execution_count": 12,
   "id": "b6452484",
   "metadata": {
    "ExecuteTime": {
     "end_time": "2022-03-25T17:13:15.092814Z",
     "start_time": "2022-03-25T17:13:15.079001Z"
    }
   },
   "outputs": [
    {
     "data": {
      "text/plain": [
       "'Rossum'"
      ]
     },
     "execution_count": 12,
     "metadata": {},
     "output_type": "execute_result"
    }
   ],
   "source": [
    "p1.last_name"
   ]
  },
  {
   "cell_type": "code",
   "execution_count": 13,
   "id": "bec68e91",
   "metadata": {
    "ExecuteTime": {
     "end_time": "2022-03-25T17:13:15.107969Z",
     "start_time": "2022-03-25T17:13:15.095388Z"
    }
   },
   "outputs": [
    {
     "data": {
      "text/plain": [
       "0"
      ]
     },
     "execution_count": 13,
     "metadata": {},
     "output_type": "execute_result"
    }
   ],
   "source": [
    "p1.age"
   ]
  },
  {
   "cell_type": "code",
   "execution_count": 14,
   "id": "52b4f8ef",
   "metadata": {
    "ExecuteTime": {
     "end_time": "2022-03-25T17:13:15.123332Z",
     "start_time": "2022-03-25T17:13:15.109638Z"
    }
   },
   "outputs": [],
   "source": [
    "# p1.date_of_birth"
   ]
  },
  {
   "cell_type": "code",
   "execution_count": 15,
   "id": "497cb544",
   "metadata": {
    "ExecuteTime": {
     "end_time": "2022-03-25T17:13:15.138608Z",
     "start_time": "2022-03-25T17:13:15.126644Z"
    }
   },
   "outputs": [
    {
     "data": {
      "text/plain": [
       "<__main__.Person at 0x1e31978b070>"
      ]
     },
     "execution_count": 15,
     "metadata": {},
     "output_type": "execute_result"
    }
   ],
   "source": [
    "p1"
   ]
  },
  {
   "cell_type": "code",
   "execution_count": 16,
   "id": "3c6a5e99",
   "metadata": {
    "ExecuteTime": {
     "end_time": "2022-03-25T17:13:15.154546Z",
     "start_time": "2022-03-25T17:13:15.140526Z"
    }
   },
   "outputs": [
    {
     "data": {
      "text/plain": [
       "'0x1e31978b070'"
      ]
     },
     "execution_count": 16,
     "metadata": {},
     "output_type": "execute_result"
    }
   ],
   "source": [
    "hex(id(p1))"
   ]
  },
  {
   "cell_type": "code",
   "execution_count": 17,
   "id": "d0846906",
   "metadata": {
    "ExecuteTime": {
     "end_time": "2022-03-25T17:13:15.169666Z",
     "start_time": "2022-03-25T17:13:15.156561Z"
    }
   },
   "outputs": [],
   "source": [
    "class Person:\n",
    "    def __init__(self, first_name, last_name):\n",
    "        self.first_name = first_name\n",
    "        self.last_name = last_name\n",
    "        self.age = 0\n",
    "    \n",
    "    def __repr__(self):\n",
    "        return 'Person(%s, %s)' % (self.first_name, self.last_name)"
   ]
  },
  {
   "cell_type": "code",
   "execution_count": 18,
   "id": "71aa9e45",
   "metadata": {
    "ExecuteTime": {
     "end_time": "2022-03-25T17:13:15.184713Z",
     "start_time": "2022-03-25T17:13:15.170695Z"
    }
   },
   "outputs": [],
   "source": [
    "p1 = Person('Guido', 'Rossum')"
   ]
  },
  {
   "cell_type": "code",
   "execution_count": 19,
   "id": "ba5736e0",
   "metadata": {
    "ExecuteTime": {
     "end_time": "2022-03-25T17:13:15.200139Z",
     "start_time": "2022-03-25T17:13:15.186454Z"
    }
   },
   "outputs": [
    {
     "data": {
      "text/plain": [
       "Person(Guido, Rossum)"
      ]
     },
     "execution_count": 19,
     "metadata": {},
     "output_type": "execute_result"
    }
   ],
   "source": [
    "p1"
   ]
  },
  {
   "cell_type": "code",
   "execution_count": 20,
   "id": "15771c84",
   "metadata": {
    "ExecuteTime": {
     "end_time": "2022-03-25T17:13:15.216254Z",
     "start_time": "2022-03-25T17:13:15.201943Z"
    }
   },
   "outputs": [
    {
     "name": "stdout",
     "output_type": "stream",
     "text": [
      "Person(Guido, Rossum)\n"
     ]
    }
   ],
   "source": [
    "print(p1)"
   ]
  },
  {
   "cell_type": "code",
   "execution_count": 21,
   "id": "4ad34219",
   "metadata": {
    "ExecuteTime": {
     "end_time": "2022-03-25T17:13:15.231813Z",
     "start_time": "2022-03-25T17:13:15.218711Z"
    }
   },
   "outputs": [
    {
     "data": {
      "text/plain": [
       "'Person(Guido, Rossum)'"
      ]
     },
     "execution_count": 21,
     "metadata": {},
     "output_type": "execute_result"
    }
   ],
   "source": [
    "p1.__repr__()"
   ]
  },
  {
   "cell_type": "code",
   "execution_count": 22,
   "id": "611ffd0e",
   "metadata": {
    "ExecuteTime": {
     "end_time": "2022-03-25T17:13:15.247209Z",
     "start_time": "2022-03-25T17:13:15.234012Z"
    }
   },
   "outputs": [
    {
     "data": {
      "text/plain": [
       "[1, 2, 3]"
      ]
     },
     "execution_count": 22,
     "metadata": {},
     "output_type": "execute_result"
    }
   ],
   "source": [
    "list_a"
   ]
  },
  {
   "cell_type": "code",
   "execution_count": 23,
   "id": "adae9116",
   "metadata": {
    "ExecuteTime": {
     "end_time": "2022-03-25T17:13:15.262639Z",
     "start_time": "2022-03-25T17:13:15.249138Z"
    }
   },
   "outputs": [
    {
     "data": {
      "text/plain": [
       "'[1, 2, 3]'"
      ]
     },
     "execution_count": 23,
     "metadata": {},
     "output_type": "execute_result"
    }
   ],
   "source": [
    "list_a.__repr__()"
   ]
  },
  {
   "cell_type": "code",
   "execution_count": 24,
   "id": "eac1f92f",
   "metadata": {
    "ExecuteTime": {
     "end_time": "2022-03-25T17:13:15.278494Z",
     "start_time": "2022-03-25T17:13:15.264842Z"
    }
   },
   "outputs": [
    {
     "name": "stdout",
     "output_type": "stream",
     "text": [
      "Person(Guido, Rossum)\n"
     ]
    }
   ],
   "source": [
    "print(p1)"
   ]
  },
  {
   "cell_type": "code",
   "execution_count": 25,
   "id": "3807a488",
   "metadata": {
    "ExecuteTime": {
     "end_time": "2022-03-25T17:13:15.294531Z",
     "start_time": "2022-03-25T17:13:15.280904Z"
    }
   },
   "outputs": [],
   "source": [
    "class Person:\n",
    "    def __init__(self, first_name, last_name):\n",
    "        self.first_name = first_name\n",
    "        self.last_name = last_name\n",
    "        self.age = 0\n",
    "    \n",
    "    def __str__(self):\n",
    "        return '(%s, %s)' % (self.first_name, self.last_name)\n",
    "        "
   ]
  },
  {
   "cell_type": "code",
   "execution_count": 26,
   "id": "3efe2cfd",
   "metadata": {
    "ExecuteTime": {
     "end_time": "2022-03-25T17:13:15.309872Z",
     "start_time": "2022-03-25T17:13:15.297845Z"
    }
   },
   "outputs": [],
   "source": [
    "p1 = Person('Guido', 'Rossum')"
   ]
  },
  {
   "cell_type": "code",
   "execution_count": 27,
   "id": "29fb5d06",
   "metadata": {
    "ExecuteTime": {
     "end_time": "2022-03-25T17:13:15.324977Z",
     "start_time": "2022-03-25T17:13:15.311388Z"
    }
   },
   "outputs": [
    {
     "data": {
      "text/plain": [
       "<__main__.Person at 0x1e3197990a0>"
      ]
     },
     "execution_count": 27,
     "metadata": {},
     "output_type": "execute_result"
    }
   ],
   "source": [
    "p1"
   ]
  },
  {
   "cell_type": "code",
   "execution_count": 28,
   "id": "3b0fd4ba",
   "metadata": {
    "ExecuteTime": {
     "end_time": "2022-03-25T17:13:15.340250Z",
     "start_time": "2022-03-25T17:13:15.329796Z"
    }
   },
   "outputs": [
    {
     "name": "stdout",
     "output_type": "stream",
     "text": [
      "(Guido, Rossum)\n"
     ]
    }
   ],
   "source": [
    "print(p1)"
   ]
  },
  {
   "cell_type": "code",
   "execution_count": null,
   "id": "d3d3ed3c",
   "metadata": {},
   "outputs": [],
   "source": []
  },
  {
   "cell_type": "code",
   "execution_count": null,
   "id": "080169c7",
   "metadata": {},
   "outputs": [],
   "source": []
  },
  {
   "cell_type": "code",
   "execution_count": 29,
   "id": "a10a5814",
   "metadata": {
    "ExecuteTime": {
     "end_time": "2022-03-25T17:13:15.356061Z",
     "start_time": "2022-03-25T17:13:15.341937Z"
    }
   },
   "outputs": [],
   "source": [
    "class Person:\n",
    "    def __init__(self, first_name, last_name):\n",
    "        self.first_name = first_name\n",
    "        self.last_name = last_name\n",
    "        self.age = 0\n",
    "    \n",
    "    def __repr__(self):\n",
    "        return 'Person(%s, %s)' % (self.first_name, self.last_name)\n",
    "    \n",
    "    def __str__(self):\n",
    "        return '(%s, %s)' % (self.first_name, self.last_name)\n",
    "        "
   ]
  },
  {
   "cell_type": "code",
   "execution_count": 30,
   "id": "8f130a85",
   "metadata": {
    "ExecuteTime": {
     "end_time": "2022-03-25T17:13:15.371460Z",
     "start_time": "2022-03-25T17:13:15.357577Z"
    }
   },
   "outputs": [
    {
     "data": {
      "text/plain": [
       "'hello, world!'"
      ]
     },
     "execution_count": 30,
     "metadata": {},
     "output_type": "execute_result"
    }
   ],
   "source": [
    "'hello, world!'"
   ]
  },
  {
   "cell_type": "code",
   "execution_count": 31,
   "id": "cc381889",
   "metadata": {
    "ExecuteTime": {
     "end_time": "2022-03-25T17:13:15.387294Z",
     "start_time": "2022-03-25T17:13:15.373202Z"
    }
   },
   "outputs": [
    {
     "name": "stdout",
     "output_type": "stream",
     "text": [
      "hello, world!\n"
     ]
    }
   ],
   "source": [
    "print('hello, world!')"
   ]
  },
  {
   "cell_type": "code",
   "execution_count": 32,
   "id": "b3477837",
   "metadata": {
    "ExecuteTime": {
     "end_time": "2022-03-25T17:13:15.402661Z",
     "start_time": "2022-03-25T17:13:15.388526Z"
    }
   },
   "outputs": [],
   "source": [
    "p1 = Person('Guido', 'Rossum')"
   ]
  },
  {
   "cell_type": "code",
   "execution_count": 33,
   "id": "93849d0e",
   "metadata": {
    "ExecuteTime": {
     "end_time": "2022-03-25T17:13:15.418042Z",
     "start_time": "2022-03-25T17:13:15.403992Z"
    }
   },
   "outputs": [
    {
     "data": {
      "text/plain": [
       "Person(Guido, Rossum)"
      ]
     },
     "execution_count": 33,
     "metadata": {},
     "output_type": "execute_result"
    }
   ],
   "source": [
    "p1"
   ]
  },
  {
   "cell_type": "code",
   "execution_count": 34,
   "id": "363b9ee9",
   "metadata": {
    "ExecuteTime": {
     "end_time": "2022-03-25T17:13:15.433595Z",
     "start_time": "2022-03-25T17:13:15.419559Z"
    }
   },
   "outputs": [
    {
     "name": "stdout",
     "output_type": "stream",
     "text": [
      "(Guido, Rossum)\n"
     ]
    }
   ],
   "source": [
    "print(p1)"
   ]
  },
  {
   "cell_type": "code",
   "execution_count": 35,
   "id": "51998d55",
   "metadata": {
    "ExecuteTime": {
     "end_time": "2022-03-25T17:13:15.448857Z",
     "start_time": "2022-03-25T17:13:15.434726Z"
    }
   },
   "outputs": [
    {
     "data": {
      "text/plain": [
       "'(Guido, Rossum)'"
      ]
     },
     "execution_count": 35,
     "metadata": {},
     "output_type": "execute_result"
    }
   ],
   "source": [
    "str(p1)"
   ]
  },
  {
   "cell_type": "code",
   "execution_count": 36,
   "id": "ae1614fe",
   "metadata": {
    "ExecuteTime": {
     "end_time": "2022-03-25T17:13:15.464091Z",
     "start_time": "2022-03-25T17:13:15.450087Z"
    }
   },
   "outputs": [
    {
     "data": {
      "text/plain": [
       "'100'"
      ]
     },
     "execution_count": 36,
     "metadata": {},
     "output_type": "execute_result"
    }
   ],
   "source": [
    "str(100)"
   ]
  },
  {
   "cell_type": "code",
   "execution_count": 37,
   "id": "aa0a017e",
   "metadata": {
    "ExecuteTime": {
     "end_time": "2022-03-25T17:13:15.479498Z",
     "start_time": "2022-03-25T17:13:15.465490Z"
    }
   },
   "outputs": [
    {
     "data": {
      "text/plain": [
       "100"
      ]
     },
     "execution_count": 37,
     "metadata": {},
     "output_type": "execute_result"
    }
   ],
   "source": [
    "100"
   ]
  },
  {
   "cell_type": "code",
   "execution_count": 38,
   "id": "5f65f9ab",
   "metadata": {
    "ExecuteTime": {
     "end_time": "2022-03-25T17:13:15.495596Z",
     "start_time": "2022-03-25T17:13:15.480504Z"
    }
   },
   "outputs": [
    {
     "name": "stdout",
     "output_type": "stream",
     "text": [
      "100\n"
     ]
    }
   ],
   "source": [
    "print('100')"
   ]
  },
  {
   "cell_type": "code",
   "execution_count": 39,
   "id": "8dca7251",
   "metadata": {
    "ExecuteTime": {
     "end_time": "2022-03-25T17:13:15.511218Z",
     "start_time": "2022-03-25T17:13:15.497111Z"
    }
   },
   "outputs": [],
   "source": [
    "p1.age = 27\n"
   ]
  },
  {
   "cell_type": "code",
   "execution_count": 40,
   "id": "a9aeefb3",
   "metadata": {
    "ExecuteTime": {
     "end_time": "2022-03-25T17:13:15.526473Z",
     "start_time": "2022-03-25T17:13:15.513341Z"
    }
   },
   "outputs": [
    {
     "name": "stdout",
     "output_type": "stream",
     "text": [
      "27\n"
     ]
    }
   ],
   "source": [
    "print(p1.age)"
   ]
  },
  {
   "cell_type": "markdown",
   "id": "3606714b",
   "metadata": {},
   "source": [
    "## Inheritance"
   ]
  },
  {
   "cell_type": "code",
   "execution_count": 41,
   "id": "92817836",
   "metadata": {
    "ExecuteTime": {
     "end_time": "2022-03-25T17:13:15.541548Z",
     "start_time": "2022-03-25T17:13:15.528588Z"
    }
   },
   "outputs": [],
   "source": [
    "class Student(Person):\n",
    "    pass"
   ]
  },
  {
   "cell_type": "code",
   "execution_count": 42,
   "id": "1d891860",
   "metadata": {
    "ExecuteTime": {
     "end_time": "2022-03-25T17:13:15.557469Z",
     "start_time": "2022-03-25T17:13:15.542775Z"
    }
   },
   "outputs": [],
   "source": [
    "s1 = Student('Mariam', 'G')"
   ]
  },
  {
   "cell_type": "code",
   "execution_count": 43,
   "id": "9a63db0e",
   "metadata": {
    "ExecuteTime": {
     "end_time": "2022-03-25T17:13:15.574407Z",
     "start_time": "2022-03-25T17:13:15.559831Z"
    }
   },
   "outputs": [
    {
     "data": {
      "text/plain": [
       "Person(Mariam, G)"
      ]
     },
     "execution_count": 43,
     "metadata": {},
     "output_type": "execute_result"
    }
   ],
   "source": [
    "s1"
   ]
  },
  {
   "cell_type": "code",
   "execution_count": 44,
   "id": "c1e21d0c",
   "metadata": {
    "ExecuteTime": {
     "end_time": "2022-03-25T17:13:15.588020Z",
     "start_time": "2022-03-25T17:13:15.582837Z"
    }
   },
   "outputs": [
    {
     "name": "stdout",
     "output_type": "stream",
     "text": [
      "(Mariam, G)\n"
     ]
    }
   ],
   "source": [
    "print(s1)"
   ]
  },
  {
   "cell_type": "code",
   "execution_count": 45,
   "id": "8e39dfbc",
   "metadata": {
    "ExecuteTime": {
     "end_time": "2022-03-25T17:13:15.603638Z",
     "start_time": "2022-03-25T17:13:15.589521Z"
    }
   },
   "outputs": [],
   "source": [
    "class Student(Person):\n",
    "    def study(self):\n",
    "        print('I am studying')"
   ]
  },
  {
   "cell_type": "code",
   "execution_count": 46,
   "id": "3bc5df91",
   "metadata": {
    "ExecuteTime": {
     "end_time": "2022-03-25T17:13:15.618949Z",
     "start_time": "2022-03-25T17:13:15.605832Z"
    }
   },
   "outputs": [],
   "source": [
    "s1 = Student('Mariam', 'G')"
   ]
  },
  {
   "cell_type": "code",
   "execution_count": 47,
   "id": "43698fd1",
   "metadata": {
    "ExecuteTime": {
     "end_time": "2022-03-25T17:13:15.634270Z",
     "start_time": "2022-03-25T17:13:15.620173Z"
    }
   },
   "outputs": [
    {
     "name": "stdout",
     "output_type": "stream",
     "text": [
      "I am studying\n"
     ]
    }
   ],
   "source": [
    "s1.study()"
   ]
  },
  {
   "cell_type": "code",
   "execution_count": 48,
   "id": "4f3099b1",
   "metadata": {
    "ExecuteTime": {
     "end_time": "2022-03-25T17:13:15.649506Z",
     "start_time": "2022-03-25T17:13:15.635392Z"
    }
   },
   "outputs": [],
   "source": [
    "class Student(Person):\n",
    "    \n",
    "    def __init__(self, first_name, last_name, subject):\n",
    "        self.first_name = first_name\n",
    "        self.last_name = last_name\n",
    "        self.age = 0\n",
    "        self.subject = subject\n",
    "    \n",
    "    def study(self):\n",
    "        print(f'I am studying {self.subject}!')"
   ]
  },
  {
   "cell_type": "code",
   "execution_count": 49,
   "id": "a1527621",
   "metadata": {
    "ExecuteTime": {
     "end_time": "2022-03-25T17:13:15.664825Z",
     "start_time": "2022-03-25T17:13:15.652228Z"
    }
   },
   "outputs": [],
   "source": [
    "s1 = Student('Mariam', 'G', 'Data Science')"
   ]
  },
  {
   "cell_type": "code",
   "execution_count": 50,
   "id": "c11f690d",
   "metadata": {
    "ExecuteTime": {
     "end_time": "2022-03-25T17:13:15.680899Z",
     "start_time": "2022-03-25T17:13:15.666820Z"
    }
   },
   "outputs": [
    {
     "name": "stdout",
     "output_type": "stream",
     "text": [
      "I am studying Data Science!\n"
     ]
    }
   ],
   "source": [
    "s1.study()"
   ]
  },
  {
   "cell_type": "code",
   "execution_count": 51,
   "id": "785249c7",
   "metadata": {
    "ExecuteTime": {
     "end_time": "2022-03-25T17:13:15.696351Z",
     "start_time": "2022-03-25T17:13:15.683242Z"
    }
   },
   "outputs": [],
   "source": [
    "s2 = Student('Luka', 'R', 'Python')"
   ]
  },
  {
   "cell_type": "code",
   "execution_count": 52,
   "id": "1042d65f",
   "metadata": {
    "ExecuteTime": {
     "end_time": "2022-03-25T17:13:15.711871Z",
     "start_time": "2022-03-25T17:13:15.698652Z"
    }
   },
   "outputs": [
    {
     "name": "stdout",
     "output_type": "stream",
     "text": [
      "I am studying Python!\n"
     ]
    }
   ],
   "source": [
    "s2.study()"
   ]
  },
  {
   "cell_type": "code",
   "execution_count": null,
   "id": "fe789d1f",
   "metadata": {},
   "outputs": [],
   "source": []
  },
  {
   "cell_type": "code",
   "execution_count": 53,
   "id": "cb5b2b22",
   "metadata": {
    "ExecuteTime": {
     "end_time": "2022-03-25T17:13:15.726902Z",
     "start_time": "2022-03-25T17:13:15.713906Z"
    }
   },
   "outputs": [],
   "source": [
    "class Student(Person):\n",
    "    \n",
    "    def __init__(self, first_name, last_name, subject):\n",
    "        super().__init__(first_name, last_name)\n",
    "        self.subject = subject\n",
    "    \n",
    "    def __repr__(self):\n",
    "        return 'Student(%s, %s, %s)' % (self.first_name, self.last_name, self.subject)\n",
    "\n",
    "    def __str__(self):\n",
    "        return '%s %s Student of %s' % (self.first_name, self.last_name, self.subject)\n",
    "    \n",
    "    def study(self):\n",
    "        print(f'I am studying {self.subject}!')"
   ]
  },
  {
   "cell_type": "code",
   "execution_count": 54,
   "id": "ea05e165",
   "metadata": {
    "ExecuteTime": {
     "end_time": "2022-03-25T17:13:15.742478Z",
     "start_time": "2022-03-25T17:13:15.728269Z"
    }
   },
   "outputs": [],
   "source": [
    "s1 = Student('Mariam', 'G', 'Data Science')"
   ]
  },
  {
   "cell_type": "code",
   "execution_count": 55,
   "id": "828d39ff",
   "metadata": {
    "ExecuteTime": {
     "end_time": "2022-03-25T17:13:15.757994Z",
     "start_time": "2022-03-25T17:13:15.744977Z"
    }
   },
   "outputs": [
    {
     "name": "stdout",
     "output_type": "stream",
     "text": [
      "I am studying Data Science!\n"
     ]
    }
   ],
   "source": [
    "s1.study()"
   ]
  },
  {
   "cell_type": "code",
   "execution_count": 56,
   "id": "ae99d720",
   "metadata": {
    "ExecuteTime": {
     "end_time": "2022-03-25T17:13:15.773546Z",
     "start_time": "2022-03-25T17:13:15.759158Z"
    }
   },
   "outputs": [
    {
     "data": {
      "text/plain": [
       "Student(Mariam, G, Data Science)"
      ]
     },
     "execution_count": 56,
     "metadata": {},
     "output_type": "execute_result"
    }
   ],
   "source": [
    "s1"
   ]
  },
  {
   "cell_type": "code",
   "execution_count": 57,
   "id": "b538322a",
   "metadata": {
    "ExecuteTime": {
     "end_time": "2022-03-25T17:13:15.789187Z",
     "start_time": "2022-03-25T17:13:15.774948Z"
    }
   },
   "outputs": [
    {
     "name": "stdout",
     "output_type": "stream",
     "text": [
      "Mariam G Student of Data Science\n"
     ]
    }
   ],
   "source": [
    "print(s1)"
   ]
  },
  {
   "cell_type": "code",
   "execution_count": null,
   "id": "f8e33c71",
   "metadata": {},
   "outputs": [],
   "source": []
  },
  {
   "cell_type": "code",
   "execution_count": 58,
   "id": "7404446b",
   "metadata": {
    "ExecuteTime": {
     "end_time": "2022-03-25T17:13:15.804568Z",
     "start_time": "2022-03-25T17:13:15.790352Z"
    }
   },
   "outputs": [],
   "source": [
    "arr = np.array([1,2,3])"
   ]
  },
  {
   "cell_type": "code",
   "execution_count": 59,
   "id": "8d7655ad",
   "metadata": {
    "ExecuteTime": {
     "end_time": "2022-03-25T17:13:15.820145Z",
     "start_time": "2022-03-25T17:13:15.805958Z"
    }
   },
   "outputs": [],
   "source": [
    "# arr.attr = 'my_attr'"
   ]
  },
  {
   "cell_type": "code",
   "execution_count": 60,
   "id": "aa7b0526",
   "metadata": {
    "ExecuteTime": {
     "end_time": "2022-03-25T17:13:15.835295Z",
     "start_time": "2022-03-25T17:13:15.821592Z"
    }
   },
   "outputs": [],
   "source": [
    "s1.attr = 'my_attr'"
   ]
  },
  {
   "cell_type": "code",
   "execution_count": 61,
   "id": "a91b118f",
   "metadata": {
    "ExecuteTime": {
     "end_time": "2022-03-25T17:13:15.851444Z",
     "start_time": "2022-03-25T17:13:15.837947Z"
    }
   },
   "outputs": [
    {
     "data": {
      "text/plain": [
       "[1, 2, 3]"
      ]
     },
     "execution_count": 61,
     "metadata": {},
     "output_type": "execute_result"
    }
   ],
   "source": [
    "list_a"
   ]
  },
  {
   "cell_type": "code",
   "execution_count": 62,
   "id": "92d737e2",
   "metadata": {
    "ExecuteTime": {
     "end_time": "2022-03-25T17:13:15.866969Z",
     "start_time": "2022-03-25T17:13:15.853286Z"
    }
   },
   "outputs": [],
   "source": [
    "# list_a.attr = 'my_attr'"
   ]
  },
  {
   "cell_type": "code",
   "execution_count": 63,
   "id": "eed2c048",
   "metadata": {
    "ExecuteTime": {
     "end_time": "2022-03-25T17:13:15.882279Z",
     "start_time": "2022-03-25T17:13:15.869072Z"
    }
   },
   "outputs": [
    {
     "name": "stdout",
     "output_type": "stream",
     "text": [
      "[1, 2, 3]\n"
     ]
    }
   ],
   "source": [
    "print(list_a)"
   ]
  },
  {
   "cell_type": "code",
   "execution_count": 64,
   "id": "bfd04f8c",
   "metadata": {
    "ExecuteTime": {
     "end_time": "2022-03-25T17:13:15.897985Z",
     "start_time": "2022-03-25T17:13:15.883732Z"
    }
   },
   "outputs": [],
   "source": [
    "df = pd.DataFrame({'x':[1,2,3]})"
   ]
  },
  {
   "cell_type": "code",
   "execution_count": 65,
   "id": "f23b688b",
   "metadata": {
    "ExecuteTime": {
     "end_time": "2022-03-25T17:13:15.913118Z",
     "start_time": "2022-03-25T17:13:15.900312Z"
    }
   },
   "outputs": [
    {
     "data": {
      "text/html": [
       "<div>\n",
       "<style scoped>\n",
       "    .dataframe tbody tr th:only-of-type {\n",
       "        vertical-align: middle;\n",
       "    }\n",
       "\n",
       "    .dataframe tbody tr th {\n",
       "        vertical-align: top;\n",
       "    }\n",
       "\n",
       "    .dataframe thead th {\n",
       "        text-align: right;\n",
       "    }\n",
       "</style>\n",
       "<table border=\"1\" class=\"dataframe\">\n",
       "  <thead>\n",
       "    <tr style=\"text-align: right;\">\n",
       "      <th></th>\n",
       "      <th>x</th>\n",
       "    </tr>\n",
       "  </thead>\n",
       "  <tbody>\n",
       "    <tr>\n",
       "      <th>0</th>\n",
       "      <td>1</td>\n",
       "    </tr>\n",
       "    <tr>\n",
       "      <th>1</th>\n",
       "      <td>2</td>\n",
       "    </tr>\n",
       "    <tr>\n",
       "      <th>2</th>\n",
       "      <td>3</td>\n",
       "    </tr>\n",
       "  </tbody>\n",
       "</table>\n",
       "</div>"
      ],
      "text/plain": [
       "   x\n",
       "0  1\n",
       "1  2\n",
       "2  3"
      ]
     },
     "execution_count": 65,
     "metadata": {},
     "output_type": "execute_result"
    }
   ],
   "source": [
    "df"
   ]
  },
  {
   "cell_type": "code",
   "execution_count": 66,
   "id": "deeb7c52",
   "metadata": {
    "ExecuteTime": {
     "end_time": "2022-03-25T17:13:15.928487Z",
     "start_time": "2022-03-25T17:13:15.916147Z"
    }
   },
   "outputs": [
    {
     "name": "stdout",
     "output_type": "stream",
     "text": [
      "   x\n",
      "0  1\n",
      "1  2\n",
      "2  3\n"
     ]
    }
   ],
   "source": [
    "print(df)"
   ]
  },
  {
   "cell_type": "code",
   "execution_count": null,
   "id": "bfa4f42d",
   "metadata": {},
   "outputs": [],
   "source": []
  }
 ],
 "metadata": {
  "kernelspec": {
   "display_name": "Python 3 (ipykernel)",
   "language": "python",
   "name": "python3"
  },
  "language_info": {
   "codemirror_mode": {
    "name": "ipython",
    "version": 3
   },
   "file_extension": ".py",
   "mimetype": "text/x-python",
   "name": "python",
   "nbconvert_exporter": "python",
   "pygments_lexer": "ipython3",
   "version": "3.9.7"
  },
  "toc": {
   "base_numbering": 1,
   "nav_menu": {},
   "number_sections": true,
   "sideBar": true,
   "skip_h1_title": false,
   "title_cell": "Table of Contents",
   "title_sidebar": "Contents",
   "toc_cell": false,
   "toc_position": {},
   "toc_section_display": true,
   "toc_window_display": false
  }
 },
 "nbformat": 4,
 "nbformat_minor": 5
}
