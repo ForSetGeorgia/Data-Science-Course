{
 "cells": [
  {
   "cell_type": "markdown",
   "id": "2f193497",
   "metadata": {},
   "source": [
    "დაწერეთ ფუნქცია `rect_area` რომელსაც გადაეცემა მართკუთხედის **სიგრძე** და **სიგანე**, გამოითვლის და დააბრუნებს **ფართობს**."
   ]
  },
  {
   "cell_type": "code",
   "execution_count": null,
   "id": "0b30618b",
   "metadata": {},
   "outputs": [],
   "source": []
  },
  {
   "cell_type": "markdown",
   "id": "1cbd5584",
   "metadata": {},
   "source": [
    "დაწერეთ კოდი რომელიც დადებითი `n` რიცხვისთვის დაითვლის და დაბეჭდავს `1`-დან `n`-მდე რიცხვების ჯამს."
   ]
  },
  {
   "cell_type": "code",
   "execution_count": null,
   "id": "0b6d8a54",
   "metadata": {},
   "outputs": [],
   "source": []
  },
  {
   "cell_type": "markdown",
   "id": "de735f74",
   "metadata": {},
   "source": [
    "დაწერეთ კოდი რომელიც ნებისმიერ `a`, `b` და `c` რიცხვებს დაბეჭდავს ზრდადობის მიხედვით."
   ]
  },
  {
   "cell_type": "code",
   "execution_count": null,
   "id": "5757ad2f",
   "metadata": {},
   "outputs": [],
   "source": []
  },
  {
   "cell_type": "markdown",
   "id": "80ccce24",
   "metadata": {},
   "source": [
    "დაწერეთ ფუნქცია `grader` რომელსაც გადაეცემა `p` ქულა `0`-დან `100`-ის ჩათვლით და პასუხად დააბრუნებს `A`, `B`, `C`, `D`, `E`, `F` ნიშანს.\n",
    "\n",
    "- `A`: 90<p<=100,\n",
    "- `B`: 80<p<=90,\n",
    "- `C`: 70<p<=80,\n",
    "- `D`: 60<p<=70,\n",
    "- `E`: 50<p<=60,\n",
    "- `F`: p<=50"
   ]
  },
  {
   "cell_type": "code",
   "execution_count": null,
   "id": "b7ab575a",
   "metadata": {},
   "outputs": [],
   "source": []
  },
  {
   "cell_type": "markdown",
   "id": "dc574f95",
   "metadata": {},
   "source": [
    "დაწერე კოდი, რომელიც დაადგენს მოცემული წელი ნაკიანია თუ არა შემდეგი წესების მიხედვით:\n",
    "- რომელიც უნაშთოდ იყოფა 400-ზე, ნაკიანია.\n",
    "- დარჩენილი წლებიდან რომელიც იყოფა 100-ზე არაა ნაკიანი წელი.\n",
    "- დარჩენილი წლებიდან რომელიც იყოფა 4-ზე, ნაკიანია.\n",
    "- ყველა სხვა დანარჩენი არაა ნაკიანი."
   ]
  },
  {
   "cell_type": "code",
   "execution_count": null,
   "id": "308897ed",
   "metadata": {},
   "outputs": [],
   "source": []
  },
  {
   "cell_type": "markdown",
   "id": "fb71417a",
   "metadata": {},
   "source": [
    "დაწერეთ კოდი რომელიც დადებითი `n` რიცხვისთვის `1`-დან `n`-მდე რიცხვებს დაბეჭდავს შემდეგნაირად:\n",
    "\n",
    "- თუ რიცხვი 3-ის ჯერადია, რიცხვის ნაცვლად დაბეჭდოს `mumbo`\n",
    "- თუ რიცხვი 5-ის ჯერადია, რიცხვის ნაცვლად დაბეჭდოს `jumbo`\n",
    "- თუ რიცხვი 3-ის ჯერადიცაა და 5-საც, დაბეჭდოს `mumbojumbo`\n",
    "- სხვა შემთხვევაში დაბეჭდოს რიცხვი."
   ]
  },
  {
   "cell_type": "code",
   "execution_count": null,
   "id": "e71f5c9b",
   "metadata": {},
   "outputs": [],
   "source": []
  },
  {
   "cell_type": "markdown",
   "id": "42f9468a",
   "metadata": {},
   "source": [
    "დაწერეთ კოდი, რომელიც მიყოლებით დაბეჭდავ მოცემული სამნიშნა რიცხვის ციფრებს შემდეგი მიმდევრობით: ერთეულები, ათეულები, ასეულები."
   ]
  },
  {
   "cell_type": "code",
   "execution_count": null,
   "id": "fdb68c12",
   "metadata": {},
   "outputs": [],
   "source": []
  },
  {
   "cell_type": "code",
   "execution_count": null,
   "id": "8ce6e4a5",
   "metadata": {},
   "outputs": [],
   "source": []
  }
 ],
 "metadata": {
  "kernelspec": {
   "display_name": "Python 3 (ipykernel)",
   "language": "python",
   "name": "python3"
  },
  "language_info": {
   "codemirror_mode": {
    "name": "ipython",
    "version": 3
   },
   "file_extension": ".py",
   "mimetype": "text/x-python",
   "name": "python",
   "nbconvert_exporter": "python",
   "pygments_lexer": "ipython3",
   "version": "3.9.7"
  },
  "toc": {
   "base_numbering": 1,
   "nav_menu": {},
   "number_sections": true,
   "sideBar": true,
   "skip_h1_title": false,
   "title_cell": "Table of Contents",
   "title_sidebar": "Contents",
   "toc_cell": false,
   "toc_position": {},
   "toc_section_display": true,
   "toc_window_display": false
  }
 },
 "nbformat": 4,
 "nbformat_minor": 5
}
