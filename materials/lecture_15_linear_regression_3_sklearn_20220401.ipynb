{
 "cells": [
  {
   "cell_type": "markdown",
   "metadata": {},
   "source": [
    "# [scikit-learn](https://scikit-learn.org/) Tutorial\n",
    "\n",
    "Cheat Sheets:\n",
    "* [by DataCamp](https://datacamp-community-prod.s3.amazonaws.com/5433fa18-9f43-44cc-b228-74672efcd116)"
   ]
  },
  {
   "cell_type": "markdown",
   "metadata": {},
   "source": [
    "## Imports"
   ]
  },
  {
   "cell_type": "code",
   "execution_count": 1,
   "metadata": {
    "ExecuteTime": {
     "end_time": "2022-04-01T17:22:08.492467Z",
     "start_time": "2022-04-01T17:22:07.224000Z"
    }
   },
   "outputs": [],
   "source": [
    "import numpy as np\n",
    "import pandas as pd\n",
    "\n",
    "import matplotlib.pyplot as plt\n",
    "\n",
    "from sklearn.linear_model import LinearRegression\n",
    "from sklearn.preprocessing import PolynomialFeatures\n",
    "from sklearn.model_selection import train_test_split\n",
    "from sklearn.metrics import mean_squared_error, r2_score"
   ]
  },
  {
   "cell_type": "code",
   "execution_count": null,
   "metadata": {},
   "outputs": [],
   "source": []
  },
  {
   "cell_type": "markdown",
   "metadata": {},
   "source": [
    "## Linear Regression"
   ]
  },
  {
   "cell_type": "markdown",
   "metadata": {},
   "source": [
    "### Generate Data"
   ]
  },
  {
   "cell_type": "code",
   "execution_count": 2,
   "metadata": {
    "ExecuteTime": {
     "end_time": "2022-04-01T17:22:08.508371Z",
     "start_time": "2022-04-01T17:22:08.494728Z"
    }
   },
   "outputs": [],
   "source": [
    "n = 200\n",
    "np.random.seed(42)"
   ]
  },
  {
   "cell_type": "code",
   "execution_count": 3,
   "metadata": {
    "ExecuteTime": {
     "end_time": "2022-04-01T17:22:08.523791Z",
     "start_time": "2022-04-01T17:22:08.509646Z"
    }
   },
   "outputs": [
    {
     "data": {
      "text/plain": [
       "array([[1.87270059],\n",
       "       [4.75357153],\n",
       "       [3.65996971],\n",
       "       [2.99329242],\n",
       "       [0.7800932 ]])"
      ]
     },
     "execution_count": 3,
     "metadata": {},
     "output_type": "execute_result"
    }
   ],
   "source": [
    "X = np.random.rand(n, 1) * 5\n",
    "X[:5]"
   ]
  },
  {
   "cell_type": "code",
   "execution_count": 4,
   "metadata": {
    "ExecuteTime": {
     "end_time": "2022-04-01T17:22:08.539497Z",
     "start_time": "2022-04-01T17:22:08.525378Z"
    }
   },
   "outputs": [
    {
     "data": {
      "text/plain": [
       "(200, 1)"
      ]
     },
     "execution_count": 4,
     "metadata": {},
     "output_type": "execute_result"
    }
   ],
   "source": [
    "X.shape"
   ]
  },
  {
   "cell_type": "code",
   "execution_count": 5,
   "metadata": {
    "ExecuteTime": {
     "end_time": "2022-04-01T17:22:08.555514Z",
     "start_time": "2022-04-01T17:22:08.542161Z"
    }
   },
   "outputs": [],
   "source": [
    "# y = beta_1 * X + beta_0 + epsilon\n",
    "beta_1 = 2.3\n",
    "beta_0 = -5\n",
    "y = beta_1 * X + beta_0 + np.random.normal(loc=0, scale=1.25, size=(n, 1))"
   ]
  },
  {
   "cell_type": "markdown",
   "metadata": {},
   "source": [
    "#### Scatter Plot\n"
   ]
  },
  {
   "cell_type": "code",
   "execution_count": 6,
   "metadata": {
    "ExecuteTime": {
     "end_time": "2022-04-01T17:22:08.680592Z",
     "start_time": "2022-04-01T17:22:08.557192Z"
    }
   },
   "outputs": [
    {
     "data": {
      "image/png": "[encoded data removed]",
      "text/plain": [
       "<Figure size 432x288 with 1 Axes>"
      ]
     },
     "metadata": {
      "needs_background": "light"
     },
     "output_type": "display_data"
    }
   ],
   "source": [
    "plt.scatter(X, y)\n",
    "\n",
    "plt.show()"
   ]
  },
  {
   "cell_type": "code",
   "execution_count": null,
   "metadata": {},
   "outputs": [],
   "source": []
  },
  {
   "cell_type": "markdown",
   "metadata": {},
   "source": [
    "### Fit"
   ]
  },
  {
   "cell_type": "code",
   "execution_count": 7,
   "metadata": {
    "ExecuteTime": {
     "end_time": "2022-04-01T17:22:08.696695Z",
     "start_time": "2022-04-01T17:22:08.681611Z"
    }
   },
   "outputs": [],
   "source": [
    "reg_model = LinearRegression()"
   ]
  },
  {
   "cell_type": "code",
   "execution_count": 8,
   "metadata": {
    "ExecuteTime": {
     "end_time": "2022-04-01T17:22:08.742660Z",
     "start_time": "2022-04-01T17:22:08.697814Z"
    }
   },
   "outputs": [
    {
     "data": {
      "text/plain": [
       "LinearRegression()"
      ]
     },
     "execution_count": 8,
     "metadata": {},
     "output_type": "execute_result"
    }
   ],
   "source": [
    "reg_model"
   ]
  },
  {
   "cell_type": "code",
   "execution_count": 9,
   "metadata": {
    "ExecuteTime": {
     "end_time": "2022-04-01T17:22:08.758179Z",
     "start_time": "2022-04-01T17:22:08.744334Z"
    }
   },
   "outputs": [
    {
     "data": {
      "text/plain": [
       "LinearRegression()"
      ]
     },
     "execution_count": 9,
     "metadata": {},
     "output_type": "execute_result"
    }
   ],
   "source": [
    "reg_model.fit(X, y)"
   ]
  },
  {
   "cell_type": "code",
   "execution_count": 10,
   "metadata": {
    "ExecuteTime": {
     "end_time": "2022-04-01T17:22:08.773549Z",
     "start_time": "2022-04-01T17:22:08.760741Z"
    }
   },
   "outputs": [
    {
     "data": {
      "text/plain": [
       "LinearRegression()"
      ]
     },
     "execution_count": 10,
     "metadata": {},
     "output_type": "execute_result"
    }
   ],
   "source": [
    "reg_model"
   ]
  },
  {
   "cell_type": "code",
   "execution_count": 11,
   "metadata": {
    "ExecuteTime": {
     "end_time": "2022-04-01T17:22:08.789059Z",
     "start_time": "2022-04-01T17:22:08.774966Z"
    }
   },
   "outputs": [
    {
     "data": {
      "text/plain": [
       "array([-4.86849856])"
      ]
     },
     "execution_count": 11,
     "metadata": {},
     "output_type": "execute_result"
    }
   ],
   "source": [
    "reg_model.intercept_"
   ]
  },
  {
   "cell_type": "code",
   "execution_count": 12,
   "metadata": {
    "ExecuteTime": {
     "end_time": "2022-04-01T17:22:08.836432Z",
     "start_time": "2022-04-01T17:22:08.790569Z"
    }
   },
   "outputs": [
    {
     "data": {
      "text/plain": [
       "array([[2.28048223]])"
      ]
     },
     "execution_count": 12,
     "metadata": {},
     "output_type": "execute_result"
    }
   ],
   "source": [
    "reg_model.coef_"
   ]
  },
  {
   "cell_type": "code",
   "execution_count": 13,
   "metadata": {
    "ExecuteTime": {
     "end_time": "2022-04-01T17:22:08.852145Z",
     "start_time": "2022-04-01T17:22:08.837784Z"
    }
   },
   "outputs": [],
   "source": [
    "y_hat = reg_model.intercept_ + reg_model.coef_ * X"
   ]
  },
  {
   "cell_type": "code",
   "execution_count": 14,
   "metadata": {
    "ExecuteTime": {
     "end_time": "2022-04-01T17:22:08.867487Z",
     "start_time": "2022-04-01T17:22:08.853419Z"
    }
   },
   "outputs": [],
   "source": [
    "X_dots = np.array([[0], [5]])"
   ]
  },
  {
   "cell_type": "code",
   "execution_count": 15,
   "metadata": {
    "ExecuteTime": {
     "end_time": "2022-04-01T17:22:08.914297Z",
     "start_time": "2022-04-01T17:22:08.868407Z"
    }
   },
   "outputs": [
    {
     "data": {
      "text/plain": [
       "array([[0],\n",
       "       [5]])"
      ]
     },
     "execution_count": 15,
     "metadata": {},
     "output_type": "execute_result"
    }
   ],
   "source": [
    "X_dots"
   ]
  },
  {
   "cell_type": "code",
   "execution_count": 16,
   "metadata": {
    "ExecuteTime": {
     "end_time": "2022-04-01T17:22:08.929530Z",
     "start_time": "2022-04-01T17:22:08.915446Z"
    }
   },
   "outputs": [],
   "source": [
    "y_dots = reg_model.intercept_ + reg_model.coef_ * X_dots"
   ]
  },
  {
   "cell_type": "code",
   "execution_count": 17,
   "metadata": {
    "ExecuteTime": {
     "end_time": "2022-04-01T17:22:09.037672Z",
     "start_time": "2022-04-01T17:22:08.931258Z"
    }
   },
   "outputs": [
    {
     "data": {
      "image/png": "[encoded data removed]",
      "text/plain": [
       "<Figure size 432x288 with 1 Axes>"
      ]
     },
     "metadata": {
      "needs_background": "light"
     },
     "output_type": "display_data"
    }
   ],
   "source": [
    "plt.scatter(X, y)\n",
    "\n",
    "plt.plot(X_dots, y_dots, 'r')\n",
    "\n",
    "plt.show()"
   ]
  },
  {
   "cell_type": "code",
   "execution_count": 18,
   "metadata": {
    "ExecuteTime": {
     "end_time": "2022-04-01T17:22:09.053585Z",
     "start_time": "2022-04-01T17:22:09.040385Z"
    }
   },
   "outputs": [],
   "source": [
    "y_dots = reg_model.predict(X_dots)"
   ]
  },
  {
   "cell_type": "code",
   "execution_count": 19,
   "metadata": {
    "ExecuteTime": {
     "end_time": "2022-04-01T17:22:09.130535Z",
     "start_time": "2022-04-01T17:22:09.055717Z"
    }
   },
   "outputs": [
    {
     "data": {
      "image/png": "[encoded data removed]",
      "text/plain": [
       "<Figure size 432x288 with 1 Axes>"
      ]
     },
     "metadata": {
      "needs_background": "light"
     },
     "output_type": "display_data"
    }
   ],
   "source": [
    "plt.scatter(X, y)\n",
    "\n",
    "plt.plot(X_dots, y_dots, 'r')\n",
    "\n",
    "plt.show()"
   ]
  },
  {
   "cell_type": "code",
   "execution_count": 20,
   "metadata": {
    "ExecuteTime": {
     "end_time": "2022-04-01T17:22:09.145800Z",
     "start_time": "2022-04-01T17:22:09.132532Z"
    }
   },
   "outputs": [],
   "source": [
    "y_hat = reg_model.predict(X)"
   ]
  },
  {
   "cell_type": "code",
   "execution_count": 21,
   "metadata": {
    "ExecuteTime": {
     "end_time": "2022-04-01T17:22:09.160566Z",
     "start_time": "2022-04-01T17:22:09.147327Z"
    }
   },
   "outputs": [
    {
     "data": {
      "text/plain": [
       "array([[-0.59783813],\n",
       "       [ 5.97193686],\n",
       "       [ 3.47799733],\n",
       "       [ 1.95765162],\n",
       "       [-3.08950987]])"
      ]
     },
     "execution_count": 21,
     "metadata": {},
     "output_type": "execute_result"
    }
   ],
   "source": [
    "y_hat[:5]"
   ]
  },
  {
   "cell_type": "code",
   "execution_count": 22,
   "metadata": {
    "ExecuteTime": {
     "end_time": "2022-04-01T17:22:09.176129Z",
     "start_time": "2022-04-01T17:22:09.161871Z"
    }
   },
   "outputs": [
    {
     "data": {
      "text/plain": [
       "1.4591034387359054"
      ]
     },
     "execution_count": 22,
     "metadata": {},
     "output_type": "execute_result"
    }
   ],
   "source": [
    "((y - y_hat) ** 2).mean()"
   ]
  },
  {
   "cell_type": "markdown",
   "metadata": {},
   "source": [
    "## Polynomial Regression"
   ]
  },
  {
   "cell_type": "markdown",
   "metadata": {},
   "source": [
    "### Generate Data"
   ]
  },
  {
   "cell_type": "code",
   "execution_count": 23,
   "metadata": {
    "ExecuteTime": {
     "end_time": "2022-04-01T17:22:09.192228Z",
     "start_time": "2022-04-01T17:22:09.177894Z"
    }
   },
   "outputs": [],
   "source": [
    "n = 200"
   ]
  },
  {
   "cell_type": "code",
   "execution_count": 24,
   "metadata": {
    "ExecuteTime": {
     "end_time": "2022-04-01T17:22:09.207976Z",
     "start_time": "2022-04-01T17:22:09.194733Z"
    }
   },
   "outputs": [],
   "source": [
    "np.random.seed(42)\n",
    "X_pol = np.random.rand(n, 1) * 10 - 5\n"
   ]
  },
  {
   "cell_type": "code",
   "execution_count": 25,
   "metadata": {
    "ExecuteTime": {
     "end_time": "2022-04-01T17:22:09.222825Z",
     "start_time": "2022-04-01T17:22:09.210026Z"
    }
   },
   "outputs": [],
   "source": [
    "# y = beta_2 * X ** 2 + beta_1 * X + beta_0 + epsilon\n",
    "beta_2 = 0.5\n",
    "y_pol = beta_2 * X_pol ** 2 + beta_1 * X_pol + beta_0 + np.random.normal(loc=0, scale=2, size=(n, 1))"
   ]
  },
  {
   "cell_type": "markdown",
   "metadata": {},
   "source": [
    "#### Scatter Plot\n"
   ]
  },
  {
   "cell_type": "code",
   "execution_count": 26,
   "metadata": {
    "ExecuteTime": {
     "end_time": "2022-04-01T17:22:09.316541Z",
     "start_time": "2022-04-01T17:22:09.223910Z"
    }
   },
   "outputs": [
    {
     "data": {
      "image/png": "[encoded data removed]",
      "text/plain": [
       "<Figure size 432x288 with 1 Axes>"
      ]
     },
     "metadata": {
      "needs_background": "light"
     },
     "output_type": "display_data"
    }
   ],
   "source": [
    "plt.scatter(X_pol, y_pol)\n",
    "\n",
    "plt.show()"
   ]
  },
  {
   "cell_type": "code",
   "execution_count": null,
   "metadata": {},
   "outputs": [],
   "source": []
  },
  {
   "cell_type": "markdown",
   "metadata": {},
   "source": [
    "### Fit"
   ]
  },
  {
   "cell_type": "code",
   "execution_count": 27,
   "metadata": {
    "ExecuteTime": {
     "end_time": "2022-04-01T17:22:09.332365Z",
     "start_time": "2022-04-01T17:22:09.318105Z"
    }
   },
   "outputs": [],
   "source": [
    "reg_model_pol = LinearRegression()"
   ]
  },
  {
   "cell_type": "code",
   "execution_count": 28,
   "metadata": {
    "ExecuteTime": {
     "end_time": "2022-04-01T17:22:09.347917Z",
     "start_time": "2022-04-01T17:22:09.335832Z"
    }
   },
   "outputs": [
    {
     "data": {
      "text/plain": [
       "LinearRegression()"
      ]
     },
     "execution_count": 28,
     "metadata": {},
     "output_type": "execute_result"
    }
   ],
   "source": [
    "reg_model_pol.fit(X_pol, y_pol)"
   ]
  },
  {
   "cell_type": "code",
   "execution_count": 29,
   "metadata": {
    "ExecuteTime": {
     "end_time": "2022-04-01T17:22:09.363434Z",
     "start_time": "2022-04-01T17:22:09.349366Z"
    }
   },
   "outputs": [],
   "source": [
    "X_dots_pol = np.array([[-5.5], [5.5]])\n",
    "y_dots_pol = reg_model_pol.predict(X_dots_pol)"
   ]
  },
  {
   "cell_type": "code",
   "execution_count": 30,
   "metadata": {
    "ExecuteTime": {
     "end_time": "2022-04-01T17:22:09.440625Z",
     "start_time": "2022-04-01T17:22:09.364943Z"
    }
   },
   "outputs": [
    {
     "data": {
      "image/png": "[encoded data removed]",
      "text/plain": [
       "<Figure size 432x288 with 1 Axes>"
      ]
     },
     "metadata": {
      "needs_background": "light"
     },
     "output_type": "display_data"
    }
   ],
   "source": [
    "plt.scatter(X_pol, y_pol)\n",
    "\n",
    "plt.plot(X_dots_pol, y_dots_pol, 'r')\n",
    "\n",
    "plt.show()"
   ]
  },
  {
   "cell_type": "code",
   "execution_count": 31,
   "metadata": {
    "ExecuteTime": {
     "end_time": "2022-04-01T17:22:09.456332Z",
     "start_time": "2022-04-01T17:22:09.441972Z"
    }
   },
   "outputs": [],
   "source": [
    "poly_features = PolynomialFeatures(degree=2, include_bias=False)\n",
    "\n",
    "X_pol_features = poly_features.fit_transform(X_pol)"
   ]
  },
  {
   "cell_type": "code",
   "execution_count": 32,
   "metadata": {
    "ExecuteTime": {
     "end_time": "2022-04-01T17:22:09.471540Z",
     "start_time": "2022-04-01T17:22:09.457621Z"
    }
   },
   "outputs": [
    {
     "data": {
      "text/plain": [
       "(array([[-1.25459881],\n",
       "        [ 4.50714306],\n",
       "        [ 2.31993942],\n",
       "        [ 0.98658484],\n",
       "        [-3.4398136 ]]),\n",
       " array([[-1.25459881,  1.57401818],\n",
       "        [ 4.50714306, 20.3143386 ],\n",
       "        [ 2.31993942,  5.3821189 ],\n",
       "        [ 0.98658484,  0.97334965],\n",
       "        [-3.4398136 , 11.83231757]]),\n",
       " array([[ 1.57401818],\n",
       "        [20.3143386 ],\n",
       "        [ 5.3821189 ],\n",
       "        [ 0.97334965],\n",
       "        [11.83231757]]))"
      ]
     },
     "execution_count": 32,
     "metadata": {},
     "output_type": "execute_result"
    }
   ],
   "source": [
    "X_pol[:5], X_pol_features[:5], (X_pol ** 2)[:5]"
   ]
  },
  {
   "cell_type": "code",
   "execution_count": 33,
   "metadata": {
    "ExecuteTime": {
     "end_time": "2022-04-01T17:22:09.486751Z",
     "start_time": "2022-04-01T17:22:09.472680Z"
    }
   },
   "outputs": [
    {
     "data": {
      "text/plain": [
       "LinearRegression()"
      ]
     },
     "execution_count": 33,
     "metadata": {},
     "output_type": "execute_result"
    }
   ],
   "source": [
    "pol_model = LinearRegression()\n",
    "\n",
    "pol_model.fit(X_pol_features, y_pol)"
   ]
  },
  {
   "cell_type": "code",
   "execution_count": 34,
   "metadata": {
    "ExecuteTime": {
     "end_time": "2022-04-01T17:22:09.502148Z",
     "start_time": "2022-04-01T17:22:09.487942Z"
    }
   },
   "outputs": [
    {
     "data": {
      "text/plain": [
       "(array([-5.02680603]), array([[2.28563264, 0.51836058]]))"
      ]
     },
     "execution_count": 34,
     "metadata": {},
     "output_type": "execute_result"
    }
   ],
   "source": [
    "pol_model.intercept_, pol_model.coef_"
   ]
  },
  {
   "cell_type": "code",
   "execution_count": 35,
   "metadata": {
    "ExecuteTime": {
     "end_time": "2022-04-01T17:22:09.518219Z",
     "start_time": "2022-04-01T17:22:09.503616Z"
    }
   },
   "outputs": [],
   "source": [
    "X_dots_pol = np.linspace(-5.5, 5.5, 100).reshape(100, 1)"
   ]
  },
  {
   "cell_type": "code",
   "execution_count": 36,
   "metadata": {
    "ExecuteTime": {
     "end_time": "2022-04-01T17:22:09.533504Z",
     "start_time": "2022-04-01T17:22:09.519325Z"
    }
   },
   "outputs": [
    {
     "data": {
      "text/plain": [
       "(100, 1)"
      ]
     },
     "execution_count": 36,
     "metadata": {},
     "output_type": "execute_result"
    }
   ],
   "source": [
    "X_dots_pol.shape"
   ]
  },
  {
   "cell_type": "code",
   "execution_count": 37,
   "metadata": {
    "ExecuteTime": {
     "end_time": "2022-04-01T17:22:09.548776Z",
     "start_time": "2022-04-01T17:22:09.534772Z"
    }
   },
   "outputs": [],
   "source": [
    "X_dots_pol_features = poly_features.fit_transform(X_dots_pol)"
   ]
  },
  {
   "cell_type": "code",
   "execution_count": 38,
   "metadata": {
    "ExecuteTime": {
     "end_time": "2022-04-01T17:22:09.564753Z",
     "start_time": "2022-04-01T17:22:09.550669Z"
    }
   },
   "outputs": [
    {
     "data": {
      "text/plain": [
       "(100, 2)"
      ]
     },
     "execution_count": 38,
     "metadata": {},
     "output_type": "execute_result"
    }
   ],
   "source": [
    "X_dots_pol_features.shape"
   ]
  },
  {
   "cell_type": "code",
   "execution_count": 39,
   "metadata": {
    "ExecuteTime": {
     "end_time": "2022-04-01T17:22:09.579942Z",
     "start_time": "2022-04-01T17:22:09.565888Z"
    }
   },
   "outputs": [
    {
     "data": {
      "text/plain": [
       "(array([[-5.5       ],\n",
       "        [-5.38888889],\n",
       "        [-5.27777778],\n",
       "        [-5.16666667],\n",
       "        [-5.05555556]]),\n",
       " array([[-5.5       , 30.25      ],\n",
       "        [-5.38888889, 29.04012346],\n",
       "        [-5.27777778, 27.85493827],\n",
       "        [-5.16666667, 26.69444444],\n",
       "        [-5.05555556, 25.55864198]]),\n",
       " array([[30.25      ],\n",
       "        [29.04012346],\n",
       "        [27.85493827],\n",
       "        [26.69444444],\n",
       "        [25.55864198]]))"
      ]
     },
     "execution_count": 39,
     "metadata": {},
     "output_type": "execute_result"
    }
   ],
   "source": [
    "X_dots_pol[:5], X_dots_pol_features[:5], (X_dots_pol ** 2)[:5]"
   ]
  },
  {
   "cell_type": "code",
   "execution_count": 40,
   "metadata": {
    "ExecuteTime": {
     "end_time": "2022-04-01T17:22:09.595069Z",
     "start_time": "2022-04-01T17:22:09.582051Z"
    }
   },
   "outputs": [],
   "source": [
    "y_dots_pol = pol_model.predict(X_dots_pol_features)"
   ]
  },
  {
   "cell_type": "code",
   "execution_count": 41,
   "metadata": {
    "ExecuteTime": {
     "end_time": "2022-04-01T17:22:09.686800Z",
     "start_time": "2022-04-01T17:22:09.597302Z"
    }
   },
   "outputs": [
    {
     "data": {
      "image/png": "[encoded data removed]",
      "text/plain": [
       "<Figure size 432x288 with 1 Axes>"
      ]
     },
     "metadata": {
      "needs_background": "light"
     },
     "output_type": "display_data"
    }
   ],
   "source": [
    "plt.scatter(X_pol, y_pol)\n",
    "\n",
    "plt.plot(X_dots_pol, y_dots_pol, 'r')\n",
    "\n",
    "plt.show()"
   ]
  },
  {
   "cell_type": "markdown",
   "metadata": {},
   "source": [
    "## Train-Test Split"
   ]
  },
  {
   "cell_type": "code",
   "execution_count": 42,
   "metadata": {
    "ExecuteTime": {
     "end_time": "2022-04-01T17:22:09.702091Z",
     "start_time": "2022-04-01T17:22:09.689030Z"
    }
   },
   "outputs": [],
   "source": [
    "X_train, X_test, y_train, y_test = train_test_split(X_pol_features, y_pol, test_size=0.25, random_state=42)"
   ]
  },
  {
   "cell_type": "code",
   "execution_count": 43,
   "metadata": {
    "ExecuteTime": {
     "end_time": "2022-04-01T17:22:09.717627Z",
     "start_time": "2022-04-01T17:22:09.704539Z"
    }
   },
   "outputs": [
    {
     "data": {
      "text/plain": [
       "(150, 2)"
      ]
     },
     "execution_count": 43,
     "metadata": {},
     "output_type": "execute_result"
    }
   ],
   "source": [
    "X_train.shape"
   ]
  },
  {
   "cell_type": "code",
   "execution_count": 44,
   "metadata": {
    "ExecuteTime": {
     "end_time": "2022-04-01T17:22:09.794661Z",
     "start_time": "2022-04-01T17:22:09.718703Z"
    }
   },
   "outputs": [
    {
     "data": {
      "image/png": "[encoded data removed]",
      "text/plain": [
       "<Figure size 432x288 with 1 Axes>"
      ]
     },
     "metadata": {
      "needs_background": "light"
     },
     "output_type": "display_data"
    }
   ],
   "source": [
    "plt.scatter(X_train[:,0], y_train)\n",
    "plt.scatter(X_test[:,0], y_test)\n",
    "\n",
    "plt.show()"
   ]
  },
  {
   "cell_type": "code",
   "execution_count": 45,
   "metadata": {
    "ExecuteTime": {
     "end_time": "2022-04-01T17:22:09.809868Z",
     "start_time": "2022-04-01T17:22:09.795787Z"
    }
   },
   "outputs": [
    {
     "data": {
      "text/plain": [
       "LinearRegression()"
      ]
     },
     "execution_count": 45,
     "metadata": {},
     "output_type": "execute_result"
    }
   ],
   "source": [
    "pol_model_split = LinearRegression()\n",
    "\n",
    "pol_model_split.fit(X_train, y_train)"
   ]
  },
  {
   "cell_type": "code",
   "execution_count": 46,
   "metadata": {
    "ExecuteTime": {
     "end_time": "2022-04-01T17:22:09.825392Z",
     "start_time": "2022-04-01T17:22:09.811055Z"
    }
   },
   "outputs": [],
   "source": [
    "y_pred = pol_model_split.predict(X_test)"
   ]
  },
  {
   "cell_type": "code",
   "execution_count": 47,
   "metadata": {
    "ExecuteTime": {
     "end_time": "2022-04-01T17:22:09.903256Z",
     "start_time": "2022-04-01T17:22:09.827287Z"
    }
   },
   "outputs": [
    {
     "data": {
      "image/png": "[encoded data removed]",
      "text/plain": [
       "<Figure size 432x288 with 1 Axes>"
      ]
     },
     "metadata": {
      "needs_background": "light"
     },
     "output_type": "display_data"
    }
   ],
   "source": [
    "# plt.scatter(X_train[:,0], y_train)\n",
    "plt.scatter(X_test[:,0], y_test)\n",
    "\n",
    "plt.scatter(X_test[:,0], y_pred)\n",
    "\n",
    "plt.show()"
   ]
  },
  {
   "cell_type": "code",
   "execution_count": 48,
   "metadata": {
    "ExecuteTime": {
     "end_time": "2022-04-01T17:22:09.918459Z",
     "start_time": "2022-04-01T17:22:09.904458Z"
    }
   },
   "outputs": [
    {
     "data": {
      "text/plain": [
       "3.9622867469383714"
      ]
     },
     "execution_count": 48,
     "metadata": {},
     "output_type": "execute_result"
    }
   ],
   "source": [
    "((y_test-y_pred) ** 2).mean()"
   ]
  },
  {
   "cell_type": "code",
   "execution_count": 49,
   "metadata": {
    "ExecuteTime": {
     "end_time": "2022-04-01T17:22:09.934599Z",
     "start_time": "2022-04-01T17:22:09.919429Z"
    }
   },
   "outputs": [
    {
     "data": {
      "text/plain": [
       "0.929921476544427"
      ]
     },
     "execution_count": 49,
     "metadata": {},
     "output_type": "execute_result"
    }
   ],
   "source": [
    "r2_score(y_test, y_pred)"
   ]
  },
  {
   "cell_type": "code",
   "execution_count": 50,
   "metadata": {
    "ExecuteTime": {
     "end_time": "2022-04-01T17:22:09.950582Z",
     "start_time": "2022-04-01T17:22:09.935878Z"
    }
   },
   "outputs": [
    {
     "data": {
      "text/plain": [
       "3.9622867469383714"
      ]
     },
     "execution_count": 50,
     "metadata": {},
     "output_type": "execute_result"
    }
   ],
   "source": [
    "mean_squared_error(y_test, y_pred)"
   ]
  },
  {
   "cell_type": "code",
   "execution_count": null,
   "metadata": {},
   "outputs": [],
   "source": []
  },
  {
   "cell_type": "code",
   "execution_count": null,
   "metadata": {},
   "outputs": [],
   "source": []
  },
  {
   "cell_type": "markdown",
   "metadata": {},
   "source": [
    "* [LinearRegression](https://scikit-learn.org/stable/modules/generated/sklearn.linear_model.LinearRegression.html)\n",
    "* [PolynomialFeatures](https://scikit-learn.org/stable/modules/generated/sklearn.preprocessing.PolynomialFeatures.html)\n",
    "* [train_test_split](https://scikit-learn.org/stable/modules/generated/sklearn.model_selection.train_test_split.html)\n",
    "* [mean_squared_error](https://scikit-learn.org/stable/modules/generated/sklearn.metrics.mean_squared_error.html)\n",
    "* [r2_score](https://scikit-learn.org/stable/modules/generated/sklearn.metrics.r2_score.html)"
   ]
  },
  {
   "cell_type": "code",
   "execution_count": null,
   "metadata": {},
   "outputs": [],
   "source": []
  }
 ],
 "metadata": {
  "kernelspec": {
   "display_name": "Python 3 (ipykernel)",
   "language": "python",
   "name": "python3"
  },
  "language_info": {
   "codemirror_mode": {
    "name": "ipython",
    "version": 3
   },
   "file_extension": ".py",
   "mimetype": "text/x-python",
   "name": "python",
   "nbconvert_exporter": "python",
   "pygments_lexer": "ipython3",
   "version": "3.9.7"
  },
  "toc": {
   "base_numbering": 1,
   "nav_menu": {},
   "number_sections": true,
   "sideBar": true,
   "skip_h1_title": true,
   "title_cell": "Table of Contents",
   "title_sidebar": "Contents",
   "toc_cell": false,
   "toc_position": {
    "height": "calc(100% - 180px)",
    "left": "10px",
    "top": "150px",
    "width": "218.547px"
   },
   "toc_section_display": true,
   "toc_window_display": false
  }
 },
 "nbformat": 4,
 "nbformat_minor": 4
}
