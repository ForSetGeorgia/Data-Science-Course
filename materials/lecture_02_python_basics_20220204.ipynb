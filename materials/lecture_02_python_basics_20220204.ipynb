{
 "cells": [
  {
   "cell_type": "markdown",
   "metadata": {},
   "source": [
    "# Python Basics"
   ]
  },
  {
   "cell_type": "markdown",
   "metadata": {},
   "source": [
    "## Basics"
   ]
  },
  {
   "cell_type": "markdown",
   "metadata": {},
   "source": [
    "### Primitive Operators\n",
    "Python can be used as a calculator"
   ]
  },
  {
   "cell_type": "code",
   "execution_count": 1,
   "metadata": {
    "ExecuteTime": {
     "end_time": "2022-02-04T19:34:39.588349Z",
     "start_time": "2022-02-04T19:34:39.566298Z"
    }
   },
   "outputs": [
    {
     "data": {
      "text/plain": [
       "9"
      ]
     },
     "execution_count": 1,
     "metadata": {},
     "output_type": "execute_result"
    }
   ],
   "source": [
    "4+5"
   ]
  },
  {
   "cell_type": "code",
   "execution_count": 2,
   "metadata": {
    "ExecuteTime": {
     "end_time": "2022-02-04T19:34:39.603858Z",
     "start_time": "2022-02-04T19:34:39.589862Z"
    }
   },
   "outputs": [
    {
     "data": {
      "text/plain": [
       "5"
      ]
     },
     "execution_count": 2,
     "metadata": {},
     "output_type": "execute_result"
    }
   ],
   "source": [
    "7-2"
   ]
  },
  {
   "cell_type": "code",
   "execution_count": 3,
   "metadata": {
    "ExecuteTime": {
     "end_time": "2022-02-04T19:34:39.619982Z",
     "start_time": "2022-02-04T19:34:39.604856Z"
    }
   },
   "outputs": [
    {
     "data": {
      "text/plain": [
       "27"
      ]
     },
     "execution_count": 3,
     "metadata": {},
     "output_type": "execute_result"
    }
   ],
   "source": [
    "3*9"
   ]
  },
  {
   "cell_type": "code",
   "execution_count": 4,
   "metadata": {
    "ExecuteTime": {
     "end_time": "2022-02-04T19:34:39.635413Z",
     "start_time": "2022-02-04T19:34:39.622097Z"
    }
   },
   "outputs": [
    {
     "data": {
      "text/plain": [
       "4.5"
      ]
     },
     "execution_count": 4,
     "metadata": {},
     "output_type": "execute_result"
    }
   ],
   "source": [
    "9/2"
   ]
  },
  {
   "cell_type": "markdown",
   "metadata": {},
   "source": [
    "`//` is a floor division operator\n",
    "\n",
    "`9 // 2 = 4`"
   ]
  },
  {
   "cell_type": "code",
   "execution_count": 5,
   "metadata": {
    "ExecuteTime": {
     "end_time": "2022-02-04T19:34:39.650074Z",
     "start_time": "2022-02-04T19:34:39.637720Z"
    }
   },
   "outputs": [
    {
     "data": {
      "text/plain": [
       "4"
      ]
     },
     "execution_count": 5,
     "metadata": {},
     "output_type": "execute_result"
    }
   ],
   "source": [
    "9//2"
   ]
  },
  {
   "cell_type": "markdown",
   "metadata": {},
   "source": [
    "`%` is a modulus operator, it returns remainder from division\n",
    "\n",
    "`9 % 2 = 1`"
   ]
  },
  {
   "cell_type": "code",
   "execution_count": 6,
   "metadata": {
    "ExecuteTime": {
     "end_time": "2022-02-04T19:34:39.665481Z",
     "start_time": "2022-02-04T19:34:39.651074Z"
    }
   },
   "outputs": [
    {
     "data": {
      "text/plain": [
       "1"
      ]
     },
     "execution_count": 6,
     "metadata": {},
     "output_type": "execute_result"
    }
   ],
   "source": [
    "9%2"
   ]
  },
  {
   "cell_type": "markdown",
   "metadata": {},
   "source": [
    "`**` is an exponentiation (power) operator\n",
    "\n",
    "`2 ** 5 = 32`"
   ]
  },
  {
   "cell_type": "code",
   "execution_count": null,
   "metadata": {},
   "outputs": [],
   "source": []
  },
  {
   "cell_type": "code",
   "execution_count": 7,
   "metadata": {
    "ExecuteTime": {
     "end_time": "2022-02-04T19:34:39.681311Z",
     "start_time": "2022-02-04T19:34:39.667398Z"
    }
   },
   "outputs": [
    {
     "data": {
      "text/plain": [
       "32"
      ]
     },
     "execution_count": 7,
     "metadata": {},
     "output_type": "execute_result"
    }
   ],
   "source": [
    "2**5"
   ]
  },
  {
   "cell_type": "code",
   "execution_count": 8,
   "metadata": {
    "ExecuteTime": {
     "end_time": "2022-02-04T19:34:39.696063Z",
     "start_time": "2022-02-04T19:34:39.682517Z"
    }
   },
   "outputs": [
    {
     "data": {
      "text/plain": [
       "125"
      ]
     },
     "execution_count": 8,
     "metadata": {},
     "output_type": "execute_result"
    }
   ],
   "source": [
    "5**3"
   ]
  },
  {
   "cell_type": "code",
   "execution_count": 9,
   "metadata": {
    "ExecuteTime": {
     "end_time": "2022-02-04T19:34:39.712099Z",
     "start_time": "2022-02-04T19:34:39.697216Z"
    }
   },
   "outputs": [
    {
     "data": {
      "text/plain": [
       "1.4142135623730951"
      ]
     },
     "execution_count": 9,
     "metadata": {},
     "output_type": "execute_result"
    }
   ],
   "source": [
    "2 ** (1/2)"
   ]
  },
  {
   "cell_type": "code",
   "execution_count": 10,
   "metadata": {
    "ExecuteTime": {
     "end_time": "2022-02-04T19:34:39.727583Z",
     "start_time": "2022-02-04T19:34:39.715403Z"
    }
   },
   "outputs": [
    {
     "data": {
      "text/plain": [
       "2.154434690031884"
      ]
     },
     "execution_count": 10,
     "metadata": {},
     "output_type": "execute_result"
    }
   ],
   "source": [
    "10 ** (1/3)"
   ]
  },
  {
   "cell_type": "code",
   "execution_count": 11,
   "metadata": {
    "ExecuteTime": {
     "end_time": "2022-02-04T19:34:39.743125Z",
     "start_time": "2022-02-04T19:34:39.728602Z"
    }
   },
   "outputs": [
    {
     "data": {
      "text/plain": [
       "4.0"
      ]
     },
     "execution_count": 11,
     "metadata": {},
     "output_type": "execute_result"
    }
   ],
   "source": [
    "16 ** (1/2)"
   ]
  },
  {
   "cell_type": "code",
   "execution_count": 12,
   "metadata": {
    "ExecuteTime": {
     "end_time": "2022-02-04T19:34:39.758785Z",
     "start_time": "2022-02-04T19:34:39.744636Z"
    }
   },
   "outputs": [
    {
     "data": {
      "text/plain": [
       "2.0"
      ]
     },
     "execution_count": 12,
     "metadata": {},
     "output_type": "execute_result"
    }
   ],
   "source": [
    "8**(1/3)"
   ]
  },
  {
   "cell_type": "code",
   "execution_count": 13,
   "metadata": {
    "ExecuteTime": {
     "end_time": "2022-02-04T19:34:39.774049Z",
     "start_time": "2022-02-04T19:34:39.759973Z"
    }
   },
   "outputs": [
    {
     "data": {
      "text/plain": [
       "5.0"
      ]
     },
     "execution_count": 13,
     "metadata": {},
     "output_type": "execute_result"
    }
   ],
   "source": [
    "125 ** (1/3)"
   ]
  },
  {
   "cell_type": "code",
   "execution_count": 14,
   "metadata": {
    "ExecuteTime": {
     "end_time": "2022-02-04T19:34:39.789277Z",
     "start_time": "2022-02-04T19:34:39.775202Z"
    }
   },
   "outputs": [
    {
     "data": {
      "text/plain": [
       "4.029999999999999"
      ]
     },
     "execution_count": 14,
     "metadata": {},
     "output_type": "execute_result"
    }
   ],
   "source": [
    "2.01 + 2.02"
   ]
  },
  {
   "cell_type": "markdown",
   "metadata": {},
   "source": [
    "### print()\n",
    "In Python `print()` function tells the program to display given argument(s)"
   ]
  },
  {
   "cell_type": "code",
   "execution_count": 15,
   "metadata": {
    "ExecuteTime": {
     "end_time": "2022-02-04T19:34:39.804679Z",
     "start_time": "2022-02-04T19:34:39.790621Z"
    }
   },
   "outputs": [
    {
     "name": "stdout",
     "output_type": "stream",
     "text": [
      "\n"
     ]
    }
   ],
   "source": [
    "print()"
   ]
  },
  {
   "cell_type": "code",
   "execution_count": 16,
   "metadata": {
    "ExecuteTime": {
     "end_time": "2022-02-04T19:34:39.820291Z",
     "start_time": "2022-02-04T19:34:39.806214Z"
    }
   },
   "outputs": [
    {
     "name": "stdout",
     "output_type": "stream",
     "text": [
      "Hello, World!\n"
     ]
    }
   ],
   "source": [
    "print(\"Hello, World!\")"
   ]
  },
  {
   "cell_type": "code",
   "execution_count": 17,
   "metadata": {
    "ExecuteTime": {
     "end_time": "2022-02-04T19:34:39.835863Z",
     "start_time": "2022-02-04T19:34:39.822109Z"
    }
   },
   "outputs": [
    {
     "name": "stdout",
     "output_type": "stream",
     "text": [
      "Hello, World!\n"
     ]
    }
   ],
   "source": [
    "print('Hello, World!')"
   ]
  },
  {
   "cell_type": "code",
   "execution_count": 18,
   "metadata": {
    "ExecuteTime": {
     "end_time": "2022-02-04T19:34:39.851067Z",
     "start_time": "2022-02-04T19:34:39.836993Z"
    }
   },
   "outputs": [
    {
     "name": "stdout",
     "output_type": "stream",
     "text": [
      "Hello, World! this is second argument 42\n"
     ]
    }
   ],
   "source": [
    "print(\"Hello, World!\", \"this is second argument\", 42)"
   ]
  },
  {
   "cell_type": "markdown",
   "metadata": {},
   "source": [
    "by default `print()` has new line (`\\n`) at the end, but can also take `end` optional argument"
   ]
  },
  {
   "cell_type": "code",
   "execution_count": 19,
   "metadata": {
    "ExecuteTime": {
     "end_time": "2022-02-04T19:34:39.866515Z",
     "start_time": "2022-02-04T19:34:39.852201Z"
    }
   },
   "outputs": [
    {
     "name": "stdout",
     "output_type": "stream",
     "text": [
      "1\n",
      "2\n",
      "five\n"
     ]
    }
   ],
   "source": [
    "print(1)\n",
    "print(2)\n",
    "print('five')"
   ]
  },
  {
   "cell_type": "code",
   "execution_count": 20,
   "metadata": {
    "ExecuteTime": {
     "end_time": "2022-02-04T19:34:39.881607Z",
     "start_time": "2022-02-04T19:34:39.868154Z"
    }
   },
   "outputs": [
    {
     "name": "stdout",
     "output_type": "stream",
     "text": [
      "1 _ +2five\n",
      "six\n"
     ]
    }
   ],
   "source": [
    "print(1, end = ' _ +')\n",
    "print(2, end = '')\n",
    "print('five')\n",
    "print('six')"
   ]
  },
  {
   "cell_type": "markdown",
   "metadata": {},
   "source": [
    " `\\` with other characters: `\\'`- ', `\\\"` - \", `\\n` - new line, `\\t`- tab,"
   ]
  },
  {
   "cell_type": "code",
   "execution_count": 21,
   "metadata": {
    "ExecuteTime": {
     "end_time": "2022-02-04T19:34:39.897232Z",
     "start_time": "2022-02-04T19:34:39.883234Z"
    }
   },
   "outputs": [
    {
     "name": "stdout",
     "output_type": "stream",
     "text": [
      "this is second \" argument\n"
     ]
    }
   ],
   "source": [
    "print(\"this is second \\\" argument\")"
   ]
  },
  {
   "cell_type": "code",
   "execution_count": 22,
   "metadata": {
    "ExecuteTime": {
     "end_time": "2022-02-04T19:34:39.913423Z",
     "start_time": "2022-02-04T19:34:39.899232Z"
    }
   },
   "outputs": [
    {
     "name": "stdout",
     "output_type": "stream",
     "text": [
      "this is second \" argument\n"
     ]
    }
   ],
   "source": [
    "print('this is second \" argument')"
   ]
  },
  {
   "cell_type": "code",
   "execution_count": 23,
   "metadata": {
    "ExecuteTime": {
     "end_time": "2022-02-04T19:34:39.928638Z",
     "start_time": "2022-02-04T19:34:39.914577Z"
    }
   },
   "outputs": [
    {
     "name": "stdout",
     "output_type": "stream",
     "text": [
      "this is second ' argument\n"
     ]
    }
   ],
   "source": [
    "print('this is second \\' argument')"
   ]
  },
  {
   "cell_type": "code",
   "execution_count": 24,
   "metadata": {
    "ExecuteTime": {
     "end_time": "2022-02-04T19:34:39.944203Z",
     "start_time": "2022-02-04T19:34:39.930200Z"
    }
   },
   "outputs": [
    {
     "name": "stdout",
     "output_type": "stream",
     "text": [
      "this is second ' argument\n"
     ]
    }
   ],
   "source": [
    "print(\"this is second ' argument\")"
   ]
  },
  {
   "cell_type": "code",
   "execution_count": 25,
   "metadata": {
    "ExecuteTime": {
     "end_time": "2022-02-04T19:34:39.959370Z",
     "start_time": "2022-02-04T19:34:39.945372Z"
    }
   },
   "outputs": [
    {
     "name": "stdout",
     "output_type": "stream",
     "text": [
      "\\\"\n"
     ]
    }
   ],
   "source": [
    "print(\"\\\\\\\"\")"
   ]
  },
  {
   "cell_type": "code",
   "execution_count": 26,
   "metadata": {
    "ExecuteTime": {
     "end_time": "2022-02-04T19:34:39.974993Z",
     "start_time": "2022-02-04T19:34:39.960990Z"
    }
   },
   "outputs": [
    {
     "name": "stdout",
     "output_type": "stream",
     "text": [
      "Hello, \"world\"\n"
     ]
    }
   ],
   "source": [
    "print(\"Hello, \\\"world\\\"\")"
   ]
  },
  {
   "cell_type": "code",
   "execution_count": 27,
   "metadata": {
    "ExecuteTime": {
     "end_time": "2022-02-04T19:34:39.990533Z",
     "start_time": "2022-02-04T19:34:39.976143Z"
    }
   },
   "outputs": [
    {
     "name": "stdout",
     "output_type": "stream",
     "text": [
      "abc'gsdghsgs\n",
      "some\ttext with\n",
      "new line \n",
      "\n",
      "\n",
      "\n",
      "IS HERE\n"
     ]
    }
   ],
   "source": [
    "print('abc\\'gsdghsgs')\n",
    "print('some\\ttext with\\nnew line \\n\\n\\n\\nIS HERE')"
   ]
  },
  {
   "cell_type": "markdown",
   "metadata": {},
   "source": [
    "### Primitive Datatypes"
   ]
  },
  {
   "cell_type": "code",
   "execution_count": 28,
   "metadata": {
    "ExecuteTime": {
     "end_time": "2022-02-04T19:34:40.005890Z",
     "start_time": "2022-02-04T19:34:39.993987Z"
    }
   },
   "outputs": [],
   "source": [
    "a = 6 # integer\n",
    "b = 7.5 # float\n",
    "c = True\n",
    "d = \"some text\"\n",
    "e = None"
   ]
  },
  {
   "cell_type": "code",
   "execution_count": 29,
   "metadata": {
    "ExecuteTime": {
     "end_time": "2022-02-04T19:34:40.021122Z",
     "start_time": "2022-02-04T19:34:40.007031Z"
    }
   },
   "outputs": [
    {
     "data": {
      "text/plain": [
       "6"
      ]
     },
     "execution_count": 29,
     "metadata": {},
     "output_type": "execute_result"
    }
   ],
   "source": [
    "a"
   ]
  },
  {
   "cell_type": "code",
   "execution_count": 30,
   "metadata": {
    "ExecuteTime": {
     "end_time": "2022-02-04T19:34:40.036975Z",
     "start_time": "2022-02-04T19:34:40.022902Z"
    }
   },
   "outputs": [
    {
     "data": {
      "text/plain": [
       "7.5"
      ]
     },
     "execution_count": 30,
     "metadata": {},
     "output_type": "execute_result"
    }
   ],
   "source": [
    "b"
   ]
  },
  {
   "cell_type": "code",
   "execution_count": 31,
   "metadata": {
    "ExecuteTime": {
     "end_time": "2022-02-04T19:34:40.052213Z",
     "start_time": "2022-02-04T19:34:40.039055Z"
    }
   },
   "outputs": [
    {
     "data": {
      "text/plain": [
       "'some text'"
      ]
     },
     "execution_count": 31,
     "metadata": {},
     "output_type": "execute_result"
    }
   ],
   "source": [
    "d"
   ]
  },
  {
   "cell_type": "code",
   "execution_count": 32,
   "metadata": {
    "ExecuteTime": {
     "end_time": "2022-02-04T19:34:40.067386Z",
     "start_time": "2022-02-04T19:34:40.053385Z"
    }
   },
   "outputs": [
    {
     "name": "stdout",
     "output_type": "stream",
     "text": [
      "some text\n"
     ]
    }
   ],
   "source": [
    "print(d)"
   ]
  },
  {
   "cell_type": "markdown",
   "metadata": {},
   "source": [
    "#### type()\n",
    "`type()` function returns the type of an object."
   ]
  },
  {
   "cell_type": "code",
   "execution_count": 33,
   "metadata": {
    "ExecuteTime": {
     "end_time": "2022-02-04T19:34:40.083105Z",
     "start_time": "2022-02-04T19:34:40.069345Z"
    }
   },
   "outputs": [
    {
     "data": {
      "text/plain": [
       "int"
      ]
     },
     "execution_count": 33,
     "metadata": {},
     "output_type": "execute_result"
    }
   ],
   "source": [
    "type(12)"
   ]
  },
  {
   "cell_type": "code",
   "execution_count": 34,
   "metadata": {
    "ExecuteTime": {
     "end_time": "2022-02-04T19:34:40.098425Z",
     "start_time": "2022-02-04T19:34:40.084288Z"
    }
   },
   "outputs": [
    {
     "data": {
      "text/plain": [
       "int"
      ]
     },
     "execution_count": 34,
     "metadata": {},
     "output_type": "execute_result"
    }
   ],
   "source": [
    "type(a)"
   ]
  },
  {
   "cell_type": "code",
   "execution_count": 35,
   "metadata": {
    "ExecuteTime": {
     "end_time": "2022-02-04T19:34:40.113637Z",
     "start_time": "2022-02-04T19:34:40.099546Z"
    }
   },
   "outputs": [
    {
     "data": {
      "text/plain": [
       "float"
      ]
     },
     "execution_count": 35,
     "metadata": {},
     "output_type": "execute_result"
    }
   ],
   "source": [
    "type(3.4)"
   ]
  },
  {
   "cell_type": "code",
   "execution_count": 36,
   "metadata": {
    "ExecuteTime": {
     "end_time": "2022-02-04T19:34:40.128925Z",
     "start_time": "2022-02-04T19:34:40.114851Z"
    }
   },
   "outputs": [
    {
     "data": {
      "text/plain": [
       "float"
      ]
     },
     "execution_count": 36,
     "metadata": {},
     "output_type": "execute_result"
    }
   ],
   "source": [
    "type(b)"
   ]
  },
  {
   "cell_type": "code",
   "execution_count": 37,
   "metadata": {
    "ExecuteTime": {
     "end_time": "2022-02-04T19:34:40.144338Z",
     "start_time": "2022-02-04T19:34:40.130158Z"
    }
   },
   "outputs": [
    {
     "data": {
      "text/plain": [
       "str"
      ]
     },
     "execution_count": 37,
     "metadata": {},
     "output_type": "execute_result"
    }
   ],
   "source": [
    "type('Hello, World!')"
   ]
  },
  {
   "cell_type": "code",
   "execution_count": 38,
   "metadata": {
    "ExecuteTime": {
     "end_time": "2022-02-04T19:34:40.159502Z",
     "start_time": "2022-02-04T19:34:40.145421Z"
    }
   },
   "outputs": [
    {
     "data": {
      "text/plain": [
       "bool"
      ]
     },
     "execution_count": 38,
     "metadata": {},
     "output_type": "execute_result"
    }
   ],
   "source": [
    "type(True)"
   ]
  },
  {
   "cell_type": "code",
   "execution_count": 39,
   "metadata": {
    "ExecuteTime": {
     "end_time": "2022-02-04T19:34:40.174513Z",
     "start_time": "2022-02-04T19:34:40.161405Z"
    }
   },
   "outputs": [
    {
     "data": {
      "text/plain": [
       "NoneType"
      ]
     },
     "execution_count": 39,
     "metadata": {},
     "output_type": "execute_result"
    }
   ],
   "source": [
    "type(None)"
   ]
  },
  {
   "cell_type": "code",
   "execution_count": 40,
   "metadata": {
    "ExecuteTime": {
     "end_time": "2022-02-04T19:34:40.190100Z",
     "start_time": "2022-02-04T19:34:40.175016Z"
    }
   },
   "outputs": [
    {
     "data": {
      "text/plain": [
       "(6, 7.5, True)"
      ]
     },
     "execution_count": 40,
     "metadata": {},
     "output_type": "execute_result"
    }
   ],
   "source": [
    "a, b, c"
   ]
  },
  {
   "cell_type": "code",
   "execution_count": 41,
   "metadata": {
    "ExecuteTime": {
     "end_time": "2022-02-04T19:34:40.205618Z",
     "start_time": "2022-02-04T19:34:40.191616Z"
    }
   },
   "outputs": [
    {
     "data": {
      "text/plain": [
       "(int, float, bool, str, NoneType)"
      ]
     },
     "execution_count": 41,
     "metadata": {},
     "output_type": "execute_result"
    }
   ],
   "source": [
    "type(a), type(b), type(c), type(d), type(e)"
   ]
  },
  {
   "cell_type": "code",
   "execution_count": 42,
   "metadata": {
    "ExecuteTime": {
     "end_time": "2022-02-04T19:34:40.220932Z",
     "start_time": "2022-02-04T19:34:40.206760Z"
    }
   },
   "outputs": [
    {
     "name": "stdout",
     "output_type": "stream",
     "text": [
      "<class 'int'> <class 'int'> <class 'float'>\n",
      "<class 'int'> <class 'int'> <class 'float'>\n"
     ]
    }
   ],
   "source": [
    "a=5\n",
    "b=7\n",
    "d=1.7\n",
    "a_type = type(a)\n",
    "b_type = type(b)\n",
    "d_type = type(d)\n",
    "\n",
    "print(type(a), type(b), type(d))\n",
    "print(a_type, b_type, d_type)"
   ]
  },
  {
   "cell_type": "code",
   "execution_count": 43,
   "metadata": {
    "ExecuteTime": {
     "end_time": "2022-02-04T19:34:40.236194Z",
     "start_time": "2022-02-04T19:34:40.222002Z"
    }
   },
   "outputs": [],
   "source": [
    "a, b, c, d = 1.0, 6, 9, 0"
   ]
  },
  {
   "cell_type": "code",
   "execution_count": 44,
   "metadata": {
    "ExecuteTime": {
     "end_time": "2022-02-04T19:34:40.251254Z",
     "start_time": "2022-02-04T19:34:40.238239Z"
    }
   },
   "outputs": [
    {
     "data": {
      "text/plain": [
       "float"
      ]
     },
     "execution_count": 44,
     "metadata": {},
     "output_type": "execute_result"
    }
   ],
   "source": [
    "type(a)"
   ]
  },
  {
   "cell_type": "code",
   "execution_count": 45,
   "metadata": {
    "ExecuteTime": {
     "end_time": "2022-02-04T19:34:40.266658Z",
     "start_time": "2022-02-04T19:34:40.252543Z"
    }
   },
   "outputs": [],
   "source": [
    "b_type = type(b)"
   ]
  },
  {
   "cell_type": "code",
   "execution_count": 46,
   "metadata": {
    "ExecuteTime": {
     "end_time": "2022-02-04T19:34:40.282465Z",
     "start_time": "2022-02-04T19:34:40.267665Z"
    }
   },
   "outputs": [
    {
     "data": {
      "text/plain": [
       "int"
      ]
     },
     "execution_count": 46,
     "metadata": {},
     "output_type": "execute_result"
    }
   ],
   "source": [
    "type(d)"
   ]
  },
  {
   "cell_type": "code",
   "execution_count": 47,
   "metadata": {
    "ExecuteTime": {
     "end_time": "2022-02-04T19:34:40.297305Z",
     "start_time": "2022-02-04T19:34:40.284199Z"
    }
   },
   "outputs": [],
   "source": [
    "c=9"
   ]
  },
  {
   "cell_type": "code",
   "execution_count": 48,
   "metadata": {
    "ExecuteTime": {
     "end_time": "2022-02-04T19:34:40.313387Z",
     "start_time": "2022-02-04T19:34:40.299323Z"
    }
   },
   "outputs": [
    {
     "data": {
      "text/plain": [
       "9"
      ]
     },
     "execution_count": 48,
     "metadata": {},
     "output_type": "execute_result"
    }
   ],
   "source": [
    "c"
   ]
  },
  {
   "cell_type": "code",
   "execution_count": 49,
   "metadata": {
    "ExecuteTime": {
     "end_time": "2022-02-04T19:34:40.328668Z",
     "start_time": "2022-02-04T19:34:40.314862Z"
    }
   },
   "outputs": [
    {
     "data": {
      "text/plain": [
       "bool"
      ]
     },
     "execution_count": 49,
     "metadata": {},
     "output_type": "execute_result"
    }
   ],
   "source": [
    "e=True\n",
    "type(e)"
   ]
  },
  {
   "cell_type": "code",
   "execution_count": 50,
   "metadata": {
    "ExecuteTime": {
     "end_time": "2022-02-04T19:34:40.344401Z",
     "start_time": "2022-02-04T19:34:40.330177Z"
    }
   },
   "outputs": [
    {
     "data": {
      "text/plain": [
       "bool"
      ]
     },
     "execution_count": 50,
     "metadata": {},
     "output_type": "execute_result"
    }
   ],
   "source": [
    "type(e)"
   ]
  },
  {
   "cell_type": "code",
   "execution_count": 51,
   "metadata": {
    "ExecuteTime": {
     "end_time": "2022-02-04T19:34:40.359955Z",
     "start_time": "2022-02-04T19:34:40.345991Z"
    }
   },
   "outputs": [],
   "source": [
    "some_text = \"abcd\""
   ]
  },
  {
   "cell_type": "code",
   "execution_count": 52,
   "metadata": {
    "ExecuteTime": {
     "end_time": "2022-02-04T19:34:40.375561Z",
     "start_time": "2022-02-04T19:34:40.361965Z"
    }
   },
   "outputs": [
    {
     "data": {
      "text/plain": [
       "NoneType"
      ]
     },
     "execution_count": 52,
     "metadata": {},
     "output_type": "execute_result"
    }
   ],
   "source": [
    "f=None\n",
    "type(f)"
   ]
  },
  {
   "cell_type": "code",
   "execution_count": 53,
   "metadata": {
    "ExecuteTime": {
     "end_time": "2022-02-04T19:34:40.390627Z",
     "start_time": "2022-02-04T19:34:40.377633Z"
    }
   },
   "outputs": [
    {
     "data": {
      "text/plain": [
       "NoneType"
      ]
     },
     "execution_count": 53,
     "metadata": {},
     "output_type": "execute_result"
    }
   ],
   "source": [
    "type(f)\n",
    "# Comment"
   ]
  },
  {
   "cell_type": "code",
   "execution_count": 54,
   "metadata": {
    "ExecuteTime": {
     "end_time": "2022-02-04T19:34:40.405894Z",
     "start_time": "2022-02-04T19:34:40.392296Z"
    }
   },
   "outputs": [
    {
     "data": {
      "text/plain": [
       "NoneType"
      ]
     },
     "execution_count": 54,
     "metadata": {},
     "output_type": "execute_result"
    }
   ],
   "source": [
    "new_var=None\n",
    "type(new_var)"
   ]
  },
  {
   "cell_type": "code",
   "execution_count": 55,
   "metadata": {
    "ExecuteTime": {
     "end_time": "2022-02-04T19:34:40.421505Z",
     "start_time": "2022-02-04T19:34:40.407413Z"
    }
   },
   "outputs": [
    {
     "data": {
      "text/plain": [
       "NoneType"
      ]
     },
     "execution_count": 55,
     "metadata": {},
     "output_type": "execute_result"
    }
   ],
   "source": [
    "type(new_var)"
   ]
  },
  {
   "cell_type": "code",
   "execution_count": 56,
   "metadata": {
    "ExecuteTime": {
     "end_time": "2022-02-04T19:34:40.436855Z",
     "start_time": "2022-02-04T19:34:40.422782Z"
    }
   },
   "outputs": [
    {
     "name": "stdout",
     "output_type": "stream",
     "text": [
      "None\n"
     ]
    }
   ],
   "source": [
    "print(new_var)"
   ]
  },
  {
   "cell_type": "code",
   "execution_count": 57,
   "metadata": {
    "ExecuteTime": {
     "end_time": "2022-02-04T19:34:40.452460Z",
     "start_time": "2022-02-04T19:34:40.437859Z"
    }
   },
   "outputs": [],
   "source": [
    "new_var"
   ]
  },
  {
   "cell_type": "code",
   "execution_count": 58,
   "metadata": {
    "ExecuteTime": {
     "end_time": "2022-02-04T19:34:40.467660Z",
     "start_time": "2022-02-04T19:34:40.454540Z"
    }
   },
   "outputs": [],
   "source": [
    "None"
   ]
  },
  {
   "cell_type": "code",
   "execution_count": 59,
   "metadata": {
    "ExecuteTime": {
     "end_time": "2022-02-04T19:34:40.482849Z",
     "start_time": "2022-02-04T19:34:40.468695Z"
    }
   },
   "outputs": [],
   "source": [
    "a = 5\n",
    "type(a)\n",
    "c = 6735"
   ]
  },
  {
   "cell_type": "code",
   "execution_count": 60,
   "metadata": {
    "ExecuteTime": {
     "end_time": "2022-02-04T19:34:40.498041Z",
     "start_time": "2022-02-04T19:34:40.484862Z"
    }
   },
   "outputs": [
    {
     "data": {
      "text/plain": [
       "int"
      ]
     },
     "execution_count": 60,
     "metadata": {},
     "output_type": "execute_result"
    }
   ],
   "source": [
    "type(a)"
   ]
  },
  {
   "cell_type": "markdown",
   "metadata": {},
   "source": [
    "## Strings"
   ]
  },
  {
   "cell_type": "code",
   "execution_count": 61,
   "metadata": {
    "ExecuteTime": {
     "end_time": "2022-02-04T19:34:40.513725Z",
     "start_time": "2022-02-04T19:34:40.499556Z"
    }
   },
   "outputs": [],
   "source": [
    "str_a=\"Lorem ipsum dolor sit amet\"\n",
    "str_b=\"consectetur adipiscing elit, sed do eiusmod tempor\""
   ]
  },
  {
   "cell_type": "code",
   "execution_count": 62,
   "metadata": {
    "ExecuteTime": {
     "end_time": "2022-02-04T19:34:40.529047Z",
     "start_time": "2022-02-04T19:34:40.514902Z"
    }
   },
   "outputs": [],
   "source": [
    "a=\"any text\""
   ]
  },
  {
   "cell_type": "code",
   "execution_count": 63,
   "metadata": {
    "ExecuteTime": {
     "end_time": "2022-02-04T19:34:40.544357Z",
     "start_time": "2022-02-04T19:34:40.530230Z"
    }
   },
   "outputs": [
    {
     "name": "stdout",
     "output_type": "stream",
     "text": [
      "Lorem ipsum dolor sit amet\n"
     ]
    }
   ],
   "source": [
    "print(str_a)"
   ]
  },
  {
   "cell_type": "code",
   "execution_count": 64,
   "metadata": {
    "ExecuteTime": {
     "end_time": "2022-02-04T19:34:40.560065Z",
     "start_time": "2022-02-04T19:34:40.545883Z"
    }
   },
   "outputs": [
    {
     "data": {
      "text/plain": [
       "'Lorem ipsum dolor sit amet'"
      ]
     },
     "execution_count": 64,
     "metadata": {},
     "output_type": "execute_result"
    }
   ],
   "source": [
    "str_a"
   ]
  },
  {
   "cell_type": "code",
   "execution_count": 65,
   "metadata": {
    "ExecuteTime": {
     "end_time": "2022-02-04T19:34:40.575436Z",
     "start_time": "2022-02-04T19:34:40.561238Z"
    }
   },
   "outputs": [],
   "source": [
    "a = 6\n"
   ]
  },
  {
   "cell_type": "code",
   "execution_count": 66,
   "metadata": {
    "ExecuteTime": {
     "end_time": "2022-02-04T19:34:40.590168Z",
     "start_time": "2022-02-04T19:34:40.576801Z"
    }
   },
   "outputs": [],
   "source": [
    "a = 4.3"
   ]
  },
  {
   "cell_type": "markdown",
   "metadata": {},
   "source": [
    "### len()"
   ]
  },
  {
   "cell_type": "code",
   "execution_count": 67,
   "metadata": {
    "ExecuteTime": {
     "end_time": "2022-02-04T19:34:40.605119Z",
     "start_time": "2022-02-04T19:34:40.592090Z"
    }
   },
   "outputs": [
    {
     "data": {
      "text/plain": [
       "26"
      ]
     },
     "execution_count": 67,
     "metadata": {},
     "output_type": "execute_result"
    }
   ],
   "source": [
    "len(str_a)"
   ]
  },
  {
   "cell_type": "code",
   "execution_count": 68,
   "metadata": {
    "ExecuteTime": {
     "end_time": "2022-02-04T19:34:40.620431Z",
     "start_time": "2022-02-04T19:34:40.606638Z"
    }
   },
   "outputs": [
    {
     "data": {
      "text/plain": [
       "'Lorem ipsum dolor sit amet'"
      ]
     },
     "execution_count": 68,
     "metadata": {},
     "output_type": "execute_result"
    }
   ],
   "source": [
    "str_a"
   ]
  },
  {
   "cell_type": "code",
   "execution_count": 69,
   "metadata": {
    "ExecuteTime": {
     "end_time": "2022-02-04T19:34:40.635697Z",
     "start_time": "2022-02-04T19:34:40.622501Z"
    }
   },
   "outputs": [
    {
     "name": "stdout",
     "output_type": "stream",
     "text": [
      "some text other text\n"
     ]
    }
   ],
   "source": [
    "print(\"some text \" + \"other text\")"
   ]
  },
  {
   "cell_type": "code",
   "execution_count": 70,
   "metadata": {
    "ExecuteTime": {
     "end_time": "2022-02-04T19:34:40.651678Z",
     "start_time": "2022-02-04T19:34:40.637679Z"
    }
   },
   "outputs": [],
   "source": [
    "a = 6"
   ]
  },
  {
   "cell_type": "code",
   "execution_count": 71,
   "metadata": {
    "ExecuteTime": {
     "end_time": "2022-02-04T19:34:40.667026Z",
     "start_time": "2022-02-04T19:34:40.653430Z"
    }
   },
   "outputs": [],
   "source": [
    "ab =5"
   ]
  },
  {
   "cell_type": "code",
   "execution_count": 72,
   "metadata": {
    "ExecuteTime": {
     "end_time": "2022-02-04T19:34:40.681908Z",
     "start_time": "2022-02-04T19:34:40.669078Z"
    }
   },
   "outputs": [
    {
     "data": {
      "text/plain": [
       "6"
      ]
     },
     "execution_count": 72,
     "metadata": {},
     "output_type": "execute_result"
    }
   ],
   "source": [
    "a\n"
   ]
  },
  {
   "cell_type": "code",
   "execution_count": 73,
   "metadata": {
    "ExecuteTime": {
     "end_time": "2022-02-04T19:34:40.697509Z",
     "start_time": "2022-02-04T19:34:40.683422Z"
    }
   },
   "outputs": [
    {
     "data": {
      "text/plain": [
       "5"
      ]
     },
     "execution_count": 73,
     "metadata": {},
     "output_type": "execute_result"
    }
   ],
   "source": [
    "ab"
   ]
  },
  {
   "cell_type": "markdown",
   "metadata": {},
   "source": [
    "## `id()` function\n"
   ]
  },
  {
   "cell_type": "code",
   "execution_count": 74,
   "metadata": {
    "ExecuteTime": {
     "end_time": "2022-02-04T19:34:40.713009Z",
     "start_time": "2022-02-04T19:34:40.699178Z"
    }
   },
   "outputs": [
    {
     "name": "stdout",
     "output_type": "stream",
     "text": [
      "5 78.5\n",
      "3075481102768 3075565162544\n"
     ]
    }
   ],
   "source": [
    "r = 5\n",
    "\n",
    "area = 3.14 * r ** 2\n",
    "print(r, area)\n",
    "print(id(r), id(area))"
   ]
  },
  {
   "cell_type": "code",
   "execution_count": 75,
   "metadata": {
    "ExecuteTime": {
     "end_time": "2022-02-04T19:34:40.728539Z",
     "start_time": "2022-02-04T19:34:40.714737Z"
    }
   },
   "outputs": [
    {
     "name": "stdout",
     "output_type": "stream",
     "text": [
      "3075481102928 3075565162544\n"
     ]
    }
   ],
   "source": [
    "r = 10\n",
    "print(id(r), id(area))"
   ]
  },
  {
   "cell_type": "code",
   "execution_count": 76,
   "metadata": {
    "ExecuteTime": {
     "end_time": "2022-02-04T19:34:40.744440Z",
     "start_time": "2022-02-04T19:34:40.729955Z"
    }
   },
   "outputs": [
    {
     "name": "stdout",
     "output_type": "stream",
     "text": [
      "10 78.5\n",
      "3075481102928 3075565162544\n"
     ]
    }
   ],
   "source": [
    "print(r, area)\n",
    "print(id(r), id(area))"
   ]
  },
  {
   "cell_type": "code",
   "execution_count": 77,
   "metadata": {
    "ExecuteTime": {
     "end_time": "2022-02-04T19:34:40.759917Z",
     "start_time": "2022-02-04T19:34:40.746795Z"
    }
   },
   "outputs": [],
   "source": [
    "area = 3.14 * r ** 2"
   ]
  },
  {
   "cell_type": "code",
   "execution_count": 78,
   "metadata": {
    "ExecuteTime": {
     "end_time": "2022-02-04T19:34:40.775410Z",
     "start_time": "2022-02-04T19:34:40.761249Z"
    }
   },
   "outputs": [
    {
     "name": "stdout",
     "output_type": "stream",
     "text": [
      "10 314.0\n",
      "3075481102928 3075565163920\n"
     ]
    }
   ],
   "source": [
    "print(r, area)\n",
    "print(id(r), id(area))"
   ]
  },
  {
   "cell_type": "code",
   "execution_count": 79,
   "metadata": {
    "ExecuteTime": {
     "end_time": "2022-02-04T19:34:40.791348Z",
     "start_time": "2022-02-04T19:34:40.776425Z"
    }
   },
   "outputs": [
    {
     "name": "stdout",
     "output_type": "stream",
     "text": [
      "20.7 3075565164080\n"
     ]
    }
   ],
   "source": [
    "x=20.7\n",
    "print(x,id(x))\n"
   ]
  },
  {
   "cell_type": "code",
   "execution_count": 80,
   "metadata": {
    "ExecuteTime": {
     "end_time": "2022-02-04T19:34:40.806947Z",
     "start_time": "2022-02-04T19:34:40.792862Z"
    }
   },
   "outputs": [
    {
     "name": "stdout",
     "output_type": "stream",
     "text": [
      "20.7 3075565164080\n"
     ]
    }
   ],
   "source": [
    "print(x,id(x))"
   ]
  },
  {
   "cell_type": "code",
   "execution_count": 81,
   "metadata": {
    "ExecuteTime": {
     "end_time": "2022-02-04T19:34:40.822484Z",
     "start_time": "2022-02-04T19:34:40.808081Z"
    }
   },
   "outputs": [
    {
     "name": "stdout",
     "output_type": "stream",
     "text": [
      "12 3075481102992\n"
     ]
    }
   ],
   "source": [
    "x = 12\n",
    "print(x,id(x))"
   ]
  },
  {
   "cell_type": "code",
   "execution_count": 82,
   "metadata": {
    "ExecuteTime": {
     "end_time": "2022-02-04T19:34:40.837640Z",
     "start_time": "2022-02-04T19:34:40.828574Z"
    }
   },
   "outputs": [
    {
     "name": "stdout",
     "output_type": "stream",
     "text": [
      "12 3075481102992\n"
     ]
    }
   ],
   "source": [
    "x = 12\n",
    "print(x,id(x))"
   ]
  },
  {
   "cell_type": "code",
   "execution_count": 83,
   "metadata": {
    "ExecuteTime": {
     "end_time": "2022-02-04T19:34:40.853452Z",
     "start_time": "2022-02-04T19:34:40.839241Z"
    }
   },
   "outputs": [
    {
     "name": "stdout",
     "output_type": "stream",
     "text": [
      "100000 3075564517232\n"
     ]
    }
   ],
   "source": [
    "x = 100000\n",
    "print(x,id(x))"
   ]
  },
  {
   "cell_type": "code",
   "execution_count": 84,
   "metadata": {
    "ExecuteTime": {
     "end_time": "2022-02-04T19:34:40.869118Z",
     "start_time": "2022-02-04T19:34:40.854991Z"
    }
   },
   "outputs": [
    {
     "name": "stdout",
     "output_type": "stream",
     "text": [
      "100000 3075565164688\n"
     ]
    }
   ],
   "source": [
    "x = 100000\n",
    "print(x,id(x))"
   ]
  },
  {
   "cell_type": "markdown",
   "metadata": {},
   "source": [
    "## Other Operators"
   ]
  },
  {
   "cell_type": "code",
   "execution_count": 85,
   "metadata": {
    "ExecuteTime": {
     "end_time": "2022-02-04T19:34:40.884368Z",
     "start_time": "2022-02-04T19:34:40.871371Z"
    }
   },
   "outputs": [
    {
     "name": "stdout",
     "output_type": "stream",
     "text": [
      "5\n",
      "10\n",
      "13\n"
     ]
    }
   ],
   "source": [
    "r = 5\n",
    "print(r)\n",
    "r = 10\n",
    "print(r)\n",
    "r = r + 3\n",
    "print(r)"
   ]
  },
  {
   "cell_type": "code",
   "execution_count": 86,
   "metadata": {
    "ExecuteTime": {
     "end_time": "2022-02-04T19:34:40.900303Z",
     "start_time": "2022-02-04T19:34:40.885597Z"
    }
   },
   "outputs": [
    {
     "name": "stdout",
     "output_type": "stream",
     "text": [
      "10\n",
      "13\n"
     ]
    }
   ],
   "source": [
    "r = 10\n",
    "print(r)\n",
    "r += 3\n",
    "print(r)\n",
    "# -=\n",
    "# *=\n",
    "# /="
   ]
  },
  {
   "cell_type": "markdown",
   "metadata": {},
   "source": [
    "## Control Flow"
   ]
  },
  {
   "cell_type": "markdown",
   "metadata": {},
   "source": [
    "### Comparison Operators"
   ]
  },
  {
   "cell_type": "markdown",
   "metadata": {},
   "source": [
    "**Equal** operator is `==`"
   ]
  },
  {
   "cell_type": "code",
   "execution_count": 87,
   "metadata": {
    "ExecuteTime": {
     "end_time": "2022-02-04T19:34:40.915371Z",
     "start_time": "2022-02-04T19:34:40.901850Z"
    }
   },
   "outputs": [],
   "source": [
    "a = 6\n",
    "b = 1\n",
    "c = 6"
   ]
  },
  {
   "cell_type": "code",
   "execution_count": 88,
   "metadata": {
    "ExecuteTime": {
     "end_time": "2022-02-04T19:34:40.931037Z",
     "start_time": "2022-02-04T19:34:40.917181Z"
    }
   },
   "outputs": [
    {
     "data": {
      "text/plain": [
       "False"
      ]
     },
     "execution_count": 88,
     "metadata": {},
     "output_type": "execute_result"
    }
   ],
   "source": [
    "5==6"
   ]
  },
  {
   "cell_type": "code",
   "execution_count": 89,
   "metadata": {
    "ExecuteTime": {
     "end_time": "2022-02-04T19:34:40.946317Z",
     "start_time": "2022-02-04T19:34:40.932102Z"
    }
   },
   "outputs": [
    {
     "data": {
      "text/plain": [
       "True"
      ]
     },
     "execution_count": 89,
     "metadata": {},
     "output_type": "execute_result"
    }
   ],
   "source": [
    "5==5"
   ]
  },
  {
   "cell_type": "code",
   "execution_count": 90,
   "metadata": {
    "ExecuteTime": {
     "end_time": "2022-02-04T19:34:40.962007Z",
     "start_time": "2022-02-04T19:34:40.947812Z"
    }
   },
   "outputs": [
    {
     "data": {
      "text/plain": [
       "False"
      ]
     },
     "execution_count": 90,
     "metadata": {},
     "output_type": "execute_result"
    }
   ],
   "source": [
    "a == b"
   ]
  },
  {
   "cell_type": "code",
   "execution_count": 91,
   "metadata": {
    "ExecuteTime": {
     "end_time": "2022-02-04T19:34:40.977440Z",
     "start_time": "2022-02-04T19:34:40.963346Z"
    }
   },
   "outputs": [
    {
     "data": {
      "text/plain": [
       "True"
      ]
     },
     "execution_count": 91,
     "metadata": {},
     "output_type": "execute_result"
    }
   ],
   "source": [
    "a == c"
   ]
  },
  {
   "cell_type": "code",
   "execution_count": null,
   "metadata": {},
   "outputs": [],
   "source": []
  },
  {
   "cell_type": "markdown",
   "metadata": {},
   "source": [
    "**Not Equal** operator is `!=`"
   ]
  },
  {
   "cell_type": "code",
   "execution_count": 92,
   "metadata": {
    "ExecuteTime": {
     "end_time": "2022-02-04T19:34:40.992641Z",
     "start_time": "2022-02-04T19:34:40.978444Z"
    }
   },
   "outputs": [
    {
     "data": {
      "text/plain": [
       "True"
      ]
     },
     "execution_count": 92,
     "metadata": {},
     "output_type": "execute_result"
    }
   ],
   "source": [
    "5!=2"
   ]
  },
  {
   "cell_type": "code",
   "execution_count": 93,
   "metadata": {
    "ExecuteTime": {
     "end_time": "2022-02-04T19:34:41.008276Z",
     "start_time": "2022-02-04T19:34:40.994151Z"
    }
   },
   "outputs": [
    {
     "data": {
      "text/plain": [
       "False"
      ]
     },
     "execution_count": 93,
     "metadata": {},
     "output_type": "execute_result"
    }
   ],
   "source": [
    "5!=5"
   ]
  },
  {
   "cell_type": "markdown",
   "metadata": {},
   "source": [
    "More comparisons"
   ]
  },
  {
   "cell_type": "code",
   "execution_count": 94,
   "metadata": {
    "ExecuteTime": {
     "end_time": "2022-02-04T19:34:41.023813Z",
     "start_time": "2022-02-04T19:34:41.009830Z"
    }
   },
   "outputs": [
    {
     "data": {
      "text/plain": [
       "True"
      ]
     },
     "execution_count": 94,
     "metadata": {},
     "output_type": "execute_result"
    }
   ],
   "source": [
    "3<5"
   ]
  },
  {
   "cell_type": "code",
   "execution_count": 95,
   "metadata": {
    "ExecuteTime": {
     "end_time": "2022-02-04T19:34:41.039509Z",
     "start_time": "2022-02-04T19:34:41.025387Z"
    }
   },
   "outputs": [
    {
     "data": {
      "text/plain": [
       "True"
      ]
     },
     "execution_count": 95,
     "metadata": {},
     "output_type": "execute_result"
    }
   ],
   "source": [
    "4>3"
   ]
  },
  {
   "cell_type": "code",
   "execution_count": 96,
   "metadata": {
    "ExecuteTime": {
     "end_time": "2022-02-04T19:34:41.054948Z",
     "start_time": "2022-02-04T19:34:41.040856Z"
    }
   },
   "outputs": [
    {
     "data": {
      "text/plain": [
       "True"
      ]
     },
     "execution_count": 96,
     "metadata": {},
     "output_type": "execute_result"
    }
   ],
   "source": [
    "4<=6"
   ]
  },
  {
   "cell_type": "code",
   "execution_count": 97,
   "metadata": {
    "ExecuteTime": {
     "end_time": "2022-02-04T19:34:41.070532Z",
     "start_time": "2022-02-04T19:34:41.056447Z"
    }
   },
   "outputs": [
    {
     "data": {
      "text/plain": [
       "True"
      ]
     },
     "execution_count": 97,
     "metadata": {},
     "output_type": "execute_result"
    }
   ],
   "source": [
    "7>=7"
   ]
  },
  {
   "cell_type": "markdown",
   "metadata": {},
   "source": [
    "### Boolean Operators"
   ]
  },
  {
   "cell_type": "code",
   "execution_count": 98,
   "metadata": {
    "ExecuteTime": {
     "end_time": "2022-02-04T19:34:41.085811Z",
     "start_time": "2022-02-04T19:34:41.071684Z"
    }
   },
   "outputs": [
    {
     "data": {
      "text/plain": [
       "(True, False)"
      ]
     },
     "execution_count": 98,
     "metadata": {},
     "output_type": "execute_result"
    }
   ],
   "source": [
    "True, False"
   ]
  },
  {
   "cell_type": "code",
   "execution_count": 99,
   "metadata": {
    "ExecuteTime": {
     "end_time": "2022-02-04T19:34:41.101254Z",
     "start_time": "2022-02-04T19:34:41.087044Z"
    }
   },
   "outputs": [
    {
     "data": {
      "text/plain": [
       "15"
      ]
     },
     "execution_count": 99,
     "metadata": {},
     "output_type": "execute_result"
    }
   ],
   "source": [
    "15"
   ]
  },
  {
   "cell_type": "code",
   "execution_count": 100,
   "metadata": {
    "ExecuteTime": {
     "end_time": "2022-02-04T19:34:41.116389Z",
     "start_time": "2022-02-04T19:34:41.102325Z"
    }
   },
   "outputs": [
    {
     "data": {
      "text/plain": [
       "True"
      ]
     },
     "execution_count": 100,
     "metadata": {},
     "output_type": "execute_result"
    }
   ],
   "source": [
    "not False"
   ]
  },
  {
   "cell_type": "code",
   "execution_count": 101,
   "metadata": {
    "ExecuteTime": {
     "end_time": "2022-02-04T19:34:41.131769Z",
     "start_time": "2022-02-04T19:34:41.117684Z"
    }
   },
   "outputs": [
    {
     "data": {
      "text/plain": [
       "False"
      ]
     },
     "execution_count": 101,
     "metadata": {},
     "output_type": "execute_result"
    }
   ],
   "source": [
    "not 5==5"
   ]
  },
  {
   "cell_type": "code",
   "execution_count": 102,
   "metadata": {
    "ExecuteTime": {
     "end_time": "2022-02-04T19:34:41.147868Z",
     "start_time": "2022-02-04T19:34:41.133684Z"
    }
   },
   "outputs": [
    {
     "data": {
      "text/plain": [
       "False"
      ]
     },
     "execution_count": 102,
     "metadata": {},
     "output_type": "execute_result"
    }
   ],
   "source": [
    "True and False"
   ]
  },
  {
   "cell_type": "code",
   "execution_count": 103,
   "metadata": {
    "ExecuteTime": {
     "end_time": "2022-02-04T19:34:41.164008Z",
     "start_time": "2022-02-04T19:34:41.148876Z"
    }
   },
   "outputs": [
    {
     "data": {
      "text/plain": [
       "False"
      ]
     },
     "execution_count": 103,
     "metadata": {},
     "output_type": "execute_result"
    }
   ],
   "source": [
    "not (True or False)"
   ]
  },
  {
   "cell_type": "code",
   "execution_count": null,
   "metadata": {},
   "outputs": [],
   "source": []
  },
  {
   "cell_type": "markdown",
   "metadata": {},
   "source": [
    "### Sets of Conditions"
   ]
  },
  {
   "cell_type": "code",
   "execution_count": 104,
   "metadata": {
    "ExecuteTime": {
     "end_time": "2022-02-04T19:34:41.179425Z",
     "start_time": "2022-02-04T19:34:41.165269Z"
    }
   },
   "outputs": [
    {
     "data": {
      "text/plain": [
       "True"
      ]
     },
     "execution_count": 104,
     "metadata": {},
     "output_type": "execute_result"
    }
   ],
   "source": [
    "not (True and False) or False"
   ]
  },
  {
   "cell_type": "code",
   "execution_count": 105,
   "metadata": {
    "ExecuteTime": {
     "end_time": "2022-02-04T19:34:41.194903Z",
     "start_time": "2022-02-04T19:34:41.180809Z"
    }
   },
   "outputs": [
    {
     "data": {
      "text/plain": [
       "True"
      ]
     },
     "execution_count": 105,
     "metadata": {},
     "output_type": "execute_result"
    }
   ],
   "source": [
    "(5 != 6) and (4 > 3)"
   ]
  },
  {
   "cell_type": "markdown",
   "metadata": {},
   "source": [
    "### `if` statement"
   ]
  },
  {
   "cell_type": "code",
   "execution_count": 106,
   "metadata": {
    "ExecuteTime": {
     "end_time": "2022-02-04T19:34:41.211021Z",
     "start_time": "2022-02-04T19:34:41.196850Z"
    }
   },
   "outputs": [],
   "source": [
    "   a   = 3\n",
    "b = 5 "
   ]
  },
  {
   "cell_type": "code",
   "execution_count": 107,
   "metadata": {
    "ExecuteTime": {
     "end_time": "2022-02-04T19:34:41.226256Z",
     "start_time": "2022-02-04T19:34:41.212111Z"
    }
   },
   "outputs": [
    {
     "name": "stdout",
     "output_type": "stream",
     "text": [
      "if is finished\n"
     ]
    }
   ],
   "source": [
    "if a > b:\n",
    "    print(\"a is greater\")\n",
    "    print(\"ending if\")\n",
    "    \n",
    "    c = 5\n",
    "    print('declared c')\n",
    "    \n",
    "print(\"if is finished\")"
   ]
  },
  {
   "cell_type": "code",
   "execution_count": 108,
   "metadata": {
    "ExecuteTime": {
     "end_time": "2022-02-04T19:34:41.241655Z",
     "start_time": "2022-02-04T19:34:41.227577Z"
    }
   },
   "outputs": [
    {
     "name": "stdout",
     "output_type": "stream",
     "text": [
      "before 'if' statement\n",
      "a is less than b\n",
      "other print\n",
      "123\n",
      "after 'if' statement\n"
     ]
    }
   ],
   "source": [
    "a, b, c, d = 1, 6, 9, 0\n",
    "\n",
    "print('before \\'if\\' statement')\n",
    "if a < b:\n",
    "    print(\"a is less than b\")\n",
    "    print(\"other print\")\n",
    "    \n",
    "    \n",
    "    print(123)\n",
    "\n",
    "print('after \\'if\\' statement')"
   ]
  },
  {
   "cell_type": "markdown",
   "metadata": {},
   "source": [
    "### `else` and `elif` statements"
   ]
  },
  {
   "cell_type": "code",
   "execution_count": 109,
   "metadata": {
    "ExecuteTime": {
     "end_time": "2022-02-04T19:34:41.257328Z",
     "start_time": "2022-02-04T19:34:41.243140Z"
    }
   },
   "outputs": [
    {
     "name": "stdout",
     "output_type": "stream",
     "text": [
      "a is not less than b\n",
      "this is ELSE part\n",
      "finished if\n"
     ]
    }
   ],
   "source": [
    "a=7\n",
    "b=1\n",
    "if a < b:\n",
    "    print(\"a is less than b\")\n",
    "    print(\"other print\")\n",
    "else:\n",
    "    print(\"a is not less than b\")\n",
    "    print(\"this is ELSE part\")\n",
    "print('finished if')"
   ]
  },
  {
   "cell_type": "code",
   "execution_count": 110,
   "metadata": {
    "ExecuteTime": {
     "end_time": "2022-02-04T19:34:41.272437Z",
     "start_time": "2022-02-04T19:34:41.259335Z"
    }
   },
   "outputs": [
    {
     "name": "stdout",
     "output_type": "stream",
     "text": [
      "a is less to 4\n",
      "done\n"
     ]
    }
   ],
   "source": [
    "a = 3\n",
    "f = 14\n",
    "if a>4:\n",
    "    print(\"a is greater than 4\")\n",
    "    b=7\n",
    "elif f==4:\n",
    "    print(\"f is equal to 4\")\n",
    "    b=9\n",
    "else:\n",
    "    print(\"a is less to 4\")\n",
    "    c=3\n",
    "\n",
    "print(\"done\")"
   ]
  },
  {
   "cell_type": "markdown",
   "metadata": {},
   "source": [
    "### Nested `if` Statements"
   ]
  },
  {
   "cell_type": "code",
   "execution_count": 111,
   "metadata": {
    "ExecuteTime": {
     "end_time": "2022-02-04T19:34:41.288427Z",
     "start_time": "2022-02-04T19:34:41.274333Z"
    }
   },
   "outputs": [
    {
     "name": "stdout",
     "output_type": "stream",
     "text": [
      "a is not less than b\n",
      "this is ELSE part\n"
     ]
    }
   ],
   "source": [
    "a=6\n",
    "if a < b:\n",
    "    print(\"a is less than b\")\n",
    "    print(\"other print\")\n",
    "    if c > d:\n",
    "        print(\"also c is greater than d\")\n",
    "    print(\"c compared to d\")\n",
    "elif a==b:\n",
    "    print(\"A is equal to b\")\n",
    "else:\n",
    "    print(\"a is not less than b\")\n",
    "    print(\"this is ELSE part\")"
   ]
  },
  {
   "cell_type": "markdown",
   "metadata": {},
   "source": [
    "## Comments"
   ]
  },
  {
   "cell_type": "markdown",
   "metadata": {},
   "source": [
    "### Single Line Comments"
   ]
  },
  {
   "cell_type": "code",
   "execution_count": 112,
   "metadata": {
    "ExecuteTime": {
     "end_time": "2022-02-04T19:34:41.304069Z",
     "start_time": "2022-02-04T19:34:41.289975Z"
    }
   },
   "outputs": [
    {
     "name": "stdout",
     "output_type": "stream",
     "text": [
      "5\n"
     ]
    }
   ],
   "source": [
    "# this is single line comment\n",
    "a = 5 # declare a variable\n",
    "# a = 10\n",
    "# \n",
    "print(a) # printed a"
   ]
  },
  {
   "cell_type": "markdown",
   "metadata": {},
   "source": [
    "### Multi Line Comments"
   ]
  },
  {
   "cell_type": "code",
   "execution_count": 113,
   "metadata": {
    "ExecuteTime": {
     "end_time": "2022-02-04T19:34:41.319311Z",
     "start_time": "2022-02-04T19:34:41.305312Z"
    }
   },
   "outputs": [
    {
     "data": {
      "text/plain": [
       "'this is\\nmultiline\\ncomment, which often is used as a documentation\\n'"
      ]
     },
     "execution_count": 113,
     "metadata": {},
     "output_type": "execute_result"
    }
   ],
   "source": [
    "\"\"\"this is\n",
    "multiline\n",
    "comment, which often is used as a documentation\n",
    "\"\"\"\n",
    "\n",
    "# again single line comment"
   ]
  },
  {
   "cell_type": "code",
   "execution_count": 114,
   "metadata": {
    "ExecuteTime": {
     "end_time": "2022-02-04T19:34:41.334935Z",
     "start_time": "2022-02-04T19:34:41.321254Z"
    }
   },
   "outputs": [
    {
     "data": {
      "text/plain": [
       "'hello, wolrd'"
      ]
     },
     "execution_count": 114,
     "metadata": {},
     "output_type": "execute_result"
    }
   ],
   "source": [
    "\"hello, wolrd\""
   ]
  },
  {
   "cell_type": "code",
   "execution_count": 115,
   "metadata": {
    "ExecuteTime": {
     "end_time": "2022-02-04T19:34:41.350156Z",
     "start_time": "2022-02-04T19:34:41.336720Z"
    }
   },
   "outputs": [
    {
     "data": {
      "text/plain": [
       "'\\nthis is another multi-line comment\\n'"
      ]
     },
     "execution_count": 115,
     "metadata": {},
     "output_type": "execute_result"
    }
   ],
   "source": [
    "'''\n",
    "this is another multi-line comment\n",
    "'''"
   ]
  },
  {
   "cell_type": "code",
   "execution_count": 116,
   "metadata": {
    "ExecuteTime": {
     "end_time": "2022-02-04T19:34:41.365564Z",
     "start_time": "2022-02-04T19:34:41.351467Z"
    }
   },
   "outputs": [
    {
     "name": "stdout",
     "output_type": "stream",
     "text": [
      "\n"
     ]
    }
   ],
   "source": [
    "print()"
   ]
  },
  {
   "cell_type": "code",
   "execution_count": 117,
   "metadata": {
    "ExecuteTime": {
     "end_time": "2022-02-04T19:34:41.381142Z",
     "start_time": "2022-02-04T19:34:41.366901Z"
    }
   },
   "outputs": [
    {
     "name": "stdout",
     "output_type": "stream",
     "text": [
      "\n"
     ]
    }
   ],
   "source": [
    "print() # something"
   ]
  },
  {
   "cell_type": "code",
   "execution_count": 118,
   "metadata": {
    "ExecuteTime": {
     "end_time": "2022-02-04T19:34:41.396327Z",
     "start_time": "2022-02-04T19:34:41.382160Z"
    }
   },
   "outputs": [
    {
     "name": "stdout",
     "output_type": "stream",
     "text": [
      "#something\n"
     ]
    }
   ],
   "source": [
    "print(\"#something\")"
   ]
  },
  {
   "cell_type": "code",
   "execution_count": null,
   "metadata": {
    "ExecuteTime": {
     "end_time": "2022-02-04T15:56:05.859574Z",
     "start_time": "2022-02-04T15:56:05.841653Z"
    }
   },
   "outputs": [],
   "source": []
  },
  {
   "cell_type": "markdown",
   "metadata": {},
   "source": [
    "## While Loop"
   ]
  },
  {
   "cell_type": "code",
   "execution_count": 119,
   "metadata": {
    "ExecuteTime": {
     "end_time": "2022-02-04T19:34:41.411711Z",
     "start_time": "2022-02-04T19:34:41.397609Z"
    }
   },
   "outputs": [
    {
     "name": "stdout",
     "output_type": "stream",
     "text": [
      "hello\n"
     ]
    }
   ],
   "source": [
    "counter = 0\n",
    "if counter < 10:\n",
    "    print('hello')"
   ]
  },
  {
   "cell_type": "code",
   "execution_count": 120,
   "metadata": {
    "ExecuteTime": {
     "end_time": "2022-02-04T19:34:41.427056Z",
     "start_time": "2022-02-04T19:34:41.412919Z"
    }
   },
   "outputs": [
    {
     "name": "stdout",
     "output_type": "stream",
     "text": [
      "0 hello\n",
      "1.3 hello\n",
      "2.6 hello\n",
      "3.9000000000000004 hello\n",
      "5.2 hello\n",
      "6.5 hello\n",
      "7.8 hello\n",
      "9.1 hello\n"
     ]
    }
   ],
   "source": [
    "counter = 0\n",
    "while counter < 10:\n",
    "    print(counter, 'hello')\n",
    "    counter = counter + 1.3\n",
    "    # print(counter, 'end of block')"
   ]
  },
  {
   "cell_type": "code",
   "execution_count": 121,
   "metadata": {
    "ExecuteTime": {
     "end_time": "2022-02-04T19:34:41.442731Z",
     "start_time": "2022-02-04T19:34:41.428060Z"
    }
   },
   "outputs": [
    {
     "name": "stdout",
     "output_type": "stream",
     "text": [
      "1 is odd\n",
      "2 is even\n",
      "3 is odd\n",
      "4 is even\n",
      "5 is odd\n",
      "6 is even\n",
      "7 is odd\n",
      "8 is even\n",
      "9 is odd\n",
      "10 is even\n"
     ]
    }
   ],
   "source": [
    "n = 1\n",
    "while n <= 10:\n",
    "    if n % 2 == 0:\n",
    "        print(n, \"is even\")\n",
    "    else:\n",
    "        print(n, \"is odd\")\n",
    "    n += 1"
   ]
  },
  {
   "cell_type": "code",
   "execution_count": null,
   "metadata": {},
   "outputs": [],
   "source": []
  },
  {
   "cell_type": "code",
   "execution_count": null,
   "metadata": {},
   "outputs": [],
   "source": []
  },
  {
   "cell_type": "markdown",
   "metadata": {},
   "source": [
    "## Functions\n",
    "DRY - Don't Repeat Yourself"
   ]
  },
  {
   "cell_type": "markdown",
   "metadata": {},
   "source": [
    "### without arguments"
   ]
  },
  {
   "cell_type": "code",
   "execution_count": 122,
   "metadata": {
    "ExecuteTime": {
     "end_time": "2022-02-04T19:34:41.457961Z",
     "start_time": "2022-02-04T19:34:41.444252Z"
    }
   },
   "outputs": [],
   "source": [
    "# print\n",
    "# len\n",
    "# id\n",
    "# type"
   ]
  },
  {
   "cell_type": "code",
   "execution_count": 123,
   "metadata": {
    "ExecuteTime": {
     "end_time": "2022-02-04T19:34:41.473363Z",
     "start_time": "2022-02-04T19:34:41.459237Z"
    }
   },
   "outputs": [
    {
     "name": "stdout",
     "output_type": "stream",
     "text": [
      "7\n"
     ]
    }
   ],
   "source": [
    "a = 4\n",
    "b = 3\n",
    "total = a + b\n",
    "print(total)"
   ]
  },
  {
   "cell_type": "code",
   "execution_count": 124,
   "metadata": {
    "ExecuteTime": {
     "end_time": "2022-02-04T19:34:41.488735Z",
     "start_time": "2022-02-04T19:34:41.474545Z"
    }
   },
   "outputs": [
    {
     "name": "stdout",
     "output_type": "stream",
     "text": [
      "7\n"
     ]
    }
   ],
   "source": [
    "a = 4\n",
    "b = 3\n",
    "total = a + b\n",
    "print(total)"
   ]
  },
  {
   "cell_type": "code",
   "execution_count": 125,
   "metadata": {
    "ExecuteTime": {
     "end_time": "2022-02-04T19:34:41.504314Z",
     "start_time": "2022-02-04T19:34:41.490178Z"
    }
   },
   "outputs": [
    {
     "name": "stdout",
     "output_type": "stream",
     "text": [
      "7\n"
     ]
    }
   ],
   "source": [
    "# DEFine\n",
    "def add_two_nums():\n",
    "    a = 4\n",
    "    b = 3\n",
    "    total = a + b\n",
    "    print(total)\n",
    "add_two_nums()"
   ]
  },
  {
   "cell_type": "code",
   "execution_count": 126,
   "metadata": {
    "ExecuteTime": {
     "end_time": "2022-02-04T19:34:41.519658Z",
     "start_time": "2022-02-04T19:34:41.505499Z"
    }
   },
   "outputs": [
    {
     "name": "stdout",
     "output_type": "stream",
     "text": [
      "7\n"
     ]
    }
   ],
   "source": [
    "add_two_nums()"
   ]
  },
  {
   "cell_type": "markdown",
   "metadata": {},
   "source": [
    "### with arguments"
   ]
  },
  {
   "cell_type": "code",
   "execution_count": 127,
   "metadata": {
    "ExecuteTime": {
     "end_time": "2022-02-04T19:34:41.535448Z",
     "start_time": "2022-02-04T19:34:41.521369Z"
    }
   },
   "outputs": [
    {
     "name": "stdout",
     "output_type": "stream",
     "text": [
      "5 this is x\n",
      "11 this is y\n"
     ]
    }
   ],
   "source": [
    "def func_b(x):\n",
    "    y = x + 6\n",
    "    print(x,\"this is x\")\n",
    "    print(y, \"this is y\")\n",
    "\n",
    "func_b(5)"
   ]
  },
  {
   "cell_type": "code",
   "execution_count": 128,
   "metadata": {
    "ExecuteTime": {
     "end_time": "2022-02-04T19:34:41.551493Z",
     "start_time": "2022-02-04T19:34:41.537367Z"
    }
   },
   "outputs": [
    {
     "name": "stdout",
     "output_type": "stream",
     "text": [
      "1 this is x\n",
      "7 this is y\n"
     ]
    }
   ],
   "source": [
    "func_b(1)"
   ]
  },
  {
   "cell_type": "code",
   "execution_count": 129,
   "metadata": {
    "ExecuteTime": {
     "end_time": "2022-02-04T19:34:41.567079Z",
     "start_time": "2022-02-04T19:34:41.553078Z"
    }
   },
   "outputs": [
    {
     "name": "stdout",
     "output_type": "stream",
     "text": [
      "sum of arguments is 7\n"
     ]
    }
   ],
   "source": [
    "# DEFine\n",
    "def add_two_nums(a, b):\n",
    "    total = a + b\n",
    "    print('sum of arguments is', total)\n",
    "add_two_nums(3, 4)"
   ]
  },
  {
   "cell_type": "code",
   "execution_count": null,
   "metadata": {},
   "outputs": [],
   "source": []
  },
  {
   "cell_type": "markdown",
   "metadata": {},
   "source": [
    "### with `return`"
   ]
  },
  {
   "cell_type": "code",
   "execution_count": 130,
   "metadata": {
    "ExecuteTime": {
     "end_time": "2022-02-04T19:34:41.582259Z",
     "start_time": "2022-02-04T19:34:41.568259Z"
    }
   },
   "outputs": [
    {
     "data": {
      "text/plain": [
       "7"
      ]
     },
     "execution_count": 130,
     "metadata": {},
     "output_type": "execute_result"
    }
   ],
   "source": [
    "3 + 4"
   ]
  },
  {
   "cell_type": "code",
   "execution_count": 131,
   "metadata": {
    "ExecuteTime": {
     "end_time": "2022-02-04T19:34:41.598341Z",
     "start_time": "2022-02-04T19:34:41.584528Z"
    }
   },
   "outputs": [
    {
     "name": "stdout",
     "output_type": "stream",
     "text": [
      "4\n"
     ]
    }
   ],
   "source": [
    "def returning_two_nums_sum(a, b):\n",
    "    total = a + b\n",
    "    return total\n",
    "\n",
    "c = returning_two_nums_sum(3, 1)\n",
    "print(c)"
   ]
  },
  {
   "cell_type": "code",
   "execution_count": 132,
   "metadata": {
    "ExecuteTime": {
     "end_time": "2022-02-04T19:34:41.613142Z",
     "start_time": "2022-02-04T19:34:41.600065Z"
    }
   },
   "outputs": [
    {
     "name": "stdout",
     "output_type": "stream",
     "text": [
      "John Smith\n"
     ]
    }
   ],
   "source": [
    "def full_name(first_name, last_name):\n",
    "    f = first_name + \" \" + last_name\n",
    "    return f\n",
    "\n",
    "fname = 'John'\n",
    "lname = 'Smith'\n",
    "full = full_name(fname, lname)\n",
    "print(full)"
   ]
  },
  {
   "cell_type": "code",
   "execution_count": 133,
   "metadata": {
    "ExecuteTime": {
     "end_time": "2022-02-04T19:34:41.628507Z",
     "start_time": "2022-02-04T19:34:41.615153Z"
    }
   },
   "outputs": [
    {
     "name": "stdout",
     "output_type": "stream",
     "text": [
      "0 this is x\n",
      "6 this is y\n",
      "\n",
      "0 this is x\n",
      "6 this is y\n",
      "\n",
      "1.7 this is x\n",
      "7.7 this is y\n"
     ]
    }
   ],
   "source": [
    "def func_c(x=0):\n",
    "    y = x + 6\n",
    "    print(x,\"this is x\")\n",
    "    print(y, \"this is y\")\n",
    "\n",
    "func_c()\n",
    "print()\n",
    "func_c(0)\n",
    "print()\n",
    "func_c(1.7)"
   ]
  },
  {
   "cell_type": "code",
   "execution_count": 134,
   "metadata": {
    "ExecuteTime": {
     "end_time": "2022-02-04T19:34:41.644014Z",
     "start_time": "2022-02-04T19:34:41.630176Z"
    }
   },
   "outputs": [
    {
     "name": "stdout",
     "output_type": "stream",
     "text": [
      "2 this is x\n",
      "3 this is y\n",
      "6\n",
      "23\n"
     ]
    }
   ],
   "source": [
    "z3=7\n",
    "def func_d(x=0,y=0):\n",
    "    print(x,\"this is x\")\n",
    "    print(y, \"this is y\")\n",
    "    z4=6\n",
    "    print(z4)\n",
    "    return x+ y*z3\n",
    "\n",
    "z = func_d(2,3)\n",
    "print(z)\n",
    "# print(z4)"
   ]
  },
  {
   "cell_type": "code",
   "execution_count": 135,
   "metadata": {
    "ExecuteTime": {
     "end_time": "2022-02-04T19:34:41.659894Z",
     "start_time": "2022-02-04T19:34:41.645186Z"
    }
   },
   "outputs": [
    {
     "name": "stdout",
     "output_type": "stream",
     "text": [
      "0 this is x\n",
      "0 this is y\n",
      "6\n",
      "0\n"
     ]
    }
   ],
   "source": [
    "z2= func_d(0)\n",
    "print(z2)"
   ]
  },
  {
   "cell_type": "code",
   "execution_count": 136,
   "metadata": {
    "ExecuteTime": {
     "end_time": "2022-02-04T19:34:41.675866Z",
     "start_time": "2022-02-04T19:34:41.661934Z"
    }
   },
   "outputs": [
    {
     "name": "stdout",
     "output_type": "stream",
     "text": [
      "5 this is x\n",
      "0 this is y\n",
      "6\n",
      "5\n"
     ]
    }
   ],
   "source": [
    "z2= func_d(5)\n",
    "print(z2)"
   ]
  },
  {
   "cell_type": "code",
   "execution_count": 137,
   "metadata": {
    "ExecuteTime": {
     "end_time": "2022-02-04T19:34:41.691095Z",
     "start_time": "2022-02-04T19:34:41.677250Z"
    }
   },
   "outputs": [],
   "source": [
    "def new_func(a=0,b=9):\n",
    "    print(a,b)\n",
    "#     return None"
   ]
  },
  {
   "cell_type": "code",
   "execution_count": 138,
   "metadata": {
    "ExecuteTime": {
     "end_time": "2022-02-04T19:34:41.706612Z",
     "start_time": "2022-02-04T19:34:41.693064Z"
    }
   },
   "outputs": [
    {
     "name": "stdout",
     "output_type": "stream",
     "text": [
      "0 9\n"
     ]
    }
   ],
   "source": [
    "new_func()"
   ]
  },
  {
   "cell_type": "code",
   "execution_count": 139,
   "metadata": {
    "ExecuteTime": {
     "end_time": "2022-02-04T19:34:41.722096Z",
     "start_time": "2022-02-04T19:34:41.707904Z"
    }
   },
   "outputs": [
    {
     "name": "stdout",
     "output_type": "stream",
     "text": [
      "5 9\n"
     ]
    }
   ],
   "source": [
    "new_func(5)"
   ]
  },
  {
   "cell_type": "code",
   "execution_count": 140,
   "metadata": {
    "ExecuteTime": {
     "end_time": "2022-02-04T19:34:41.737935Z",
     "start_time": "2022-02-04T19:34:41.723248Z"
    }
   },
   "outputs": [
    {
     "name": "stdout",
     "output_type": "stream",
     "text": [
      "6 8\n"
     ]
    }
   ],
   "source": [
    "new_func(6,8)\n",
    "a=10"
   ]
  },
  {
   "cell_type": "code",
   "execution_count": 141,
   "metadata": {
    "ExecuteTime": {
     "end_time": "2022-02-04T19:34:41.752920Z",
     "start_time": "2022-02-04T19:34:41.739839Z"
    }
   },
   "outputs": [],
   "source": [
    "def new_add(a,b):\n",
    "    a = a + 3\n",
    "    return a + b"
   ]
  },
  {
   "cell_type": "code",
   "execution_count": 142,
   "metadata": {
    "ExecuteTime": {
     "end_time": "2022-02-04T19:34:41.767814Z",
     "start_time": "2022-02-04T19:34:41.755557Z"
    }
   },
   "outputs": [],
   "source": [
    "# c = new_add(\"Zero\",7)\n",
    "# print(c)"
   ]
  },
  {
   "cell_type": "code",
   "execution_count": 143,
   "metadata": {
    "ExecuteTime": {
     "end_time": "2022-02-04T19:34:41.783523Z",
     "start_time": "2022-02-04T19:34:41.768956Z"
    }
   },
   "outputs": [],
   "source": [
    "# print(xyz)"
   ]
  },
  {
   "cell_type": "code",
   "execution_count": 144,
   "metadata": {
    "ExecuteTime": {
     "end_time": "2022-02-04T19:34:41.798620Z",
     "start_time": "2022-02-04T19:34:41.785819Z"
    }
   },
   "outputs": [
    {
     "name": "stdout",
     "output_type": "stream",
     "text": [
      "5.0\n"
     ]
    }
   ],
   "source": [
    "def solve_hyp(a,b):\n",
    "    c = (a ** 2 + b ** 2) ** (1/2)\n",
    "    return c\n",
    "\n",
    "hyp = solve_hyp(3,4)\n",
    "print(hyp)"
   ]
  },
  {
   "cell_type": "code",
   "execution_count": 145,
   "metadata": {
    "ExecuteTime": {
     "end_time": "2022-02-04T19:34:41.813949Z",
     "start_time": "2022-02-04T19:34:41.800128Z"
    }
   },
   "outputs": [
    {
     "data": {
      "text/plain": [
       "13.0"
      ]
     },
     "execution_count": 145,
     "metadata": {},
     "output_type": "execute_result"
    }
   ],
   "source": [
    "solve_hyp(5,12)"
   ]
  },
  {
   "cell_type": "markdown",
   "metadata": {},
   "source": [
    "## Type Conversion"
   ]
  },
  {
   "cell_type": "code",
   "execution_count": 146,
   "metadata": {
    "ExecuteTime": {
     "end_time": "2022-02-04T19:34:41.829100Z",
     "start_time": "2022-02-04T19:34:41.815923Z"
    }
   },
   "outputs": [
    {
     "data": {
      "text/plain": [
       "float"
      ]
     },
     "execution_count": 146,
     "metadata": {},
     "output_type": "execute_result"
    }
   ],
   "source": [
    "type(6 + 1.5)"
   ]
  },
  {
   "cell_type": "code",
   "execution_count": 147,
   "metadata": {
    "ExecuteTime": {
     "end_time": "2022-02-04T19:34:41.844196Z",
     "start_time": "2022-02-04T19:34:41.831311Z"
    }
   },
   "outputs": [
    {
     "data": {
      "text/plain": [
       "'JohnSmith'"
      ]
     },
     "execution_count": 147,
     "metadata": {},
     "output_type": "execute_result"
    }
   ],
   "source": [
    "\"John\" + \"Smith\""
   ]
  },
  {
   "cell_type": "code",
   "execution_count": 148,
   "metadata": {
    "ExecuteTime": {
     "end_time": "2022-02-04T19:34:41.859828Z",
     "start_time": "2022-02-04T19:34:41.845670Z"
    }
   },
   "outputs": [
    {
     "data": {
      "text/plain": [
       "'zero7'"
      ]
     },
     "execution_count": 148,
     "metadata": {},
     "output_type": "execute_result"
    }
   ],
   "source": [
    "a = 7\n",
    "\"zero\" + str(a)"
   ]
  },
  {
   "cell_type": "code",
   "execution_count": 149,
   "metadata": {
    "ExecuteTime": {
     "end_time": "2022-02-04T19:34:41.874811Z",
     "start_time": "2022-02-04T19:34:41.861993Z"
    }
   },
   "outputs": [
    {
     "data": {
      "text/plain": [
       "'7zero'"
      ]
     },
     "execution_count": 149,
     "metadata": {},
     "output_type": "execute_result"
    }
   ],
   "source": [
    "str(a) + \"zero\""
   ]
  },
  {
   "cell_type": "code",
   "execution_count": 150,
   "metadata": {
    "ExecuteTime": {
     "end_time": "2022-02-04T19:34:41.890157Z",
     "start_time": "2022-02-04T19:34:41.876577Z"
    }
   },
   "outputs": [
    {
     "data": {
      "text/plain": [
       "str"
      ]
     },
     "execution_count": 150,
     "metadata": {},
     "output_type": "execute_result"
    }
   ],
   "source": [
    "type('7.5')"
   ]
  },
  {
   "cell_type": "code",
   "execution_count": 151,
   "metadata": {
    "ExecuteTime": {
     "end_time": "2022-02-04T19:34:41.905037Z",
     "start_time": "2022-02-04T19:34:41.892069Z"
    }
   },
   "outputs": [
    {
     "data": {
      "text/plain": [
       "7.5"
      ]
     },
     "execution_count": 151,
     "metadata": {},
     "output_type": "execute_result"
    }
   ],
   "source": [
    "float('7.5')"
   ]
  },
  {
   "cell_type": "code",
   "execution_count": 152,
   "metadata": {
    "ExecuteTime": {
     "end_time": "2022-02-04T19:34:41.920561Z",
     "start_time": "2022-02-04T19:34:41.906923Z"
    }
   },
   "outputs": [
    {
     "data": {
      "text/plain": [
       "12"
      ]
     },
     "execution_count": 152,
     "metadata": {},
     "output_type": "execute_result"
    }
   ],
   "source": [
    "int('12')"
   ]
  },
  {
   "cell_type": "code",
   "execution_count": 153,
   "metadata": {
    "ExecuteTime": {
     "end_time": "2022-02-04T19:34:41.936302Z",
     "start_time": "2022-02-04T19:34:41.922206Z"
    }
   },
   "outputs": [
    {
     "data": {
      "text/plain": [
       "7"
      ]
     },
     "execution_count": 153,
     "metadata": {},
     "output_type": "execute_result"
    }
   ],
   "source": [
    "int(7.9)"
   ]
  },
  {
   "cell_type": "code",
   "execution_count": null,
   "metadata": {},
   "outputs": [],
   "source": []
  }
 ],
 "metadata": {
  "kernelspec": {
   "display_name": "Python 3 (ipykernel)",
   "language": "python",
   "name": "python3"
  },
  "language_info": {
   "codemirror_mode": {
    "name": "ipython",
    "version": 3
   },
   "file_extension": ".py",
   "mimetype": "text/x-python",
   "name": "python",
   "nbconvert_exporter": "python",
   "pygments_lexer": "ipython3",
   "version": "3.9.7"
  },
  "toc": {
   "base_numbering": 1,
   "nav_menu": {
    "height": "283px",
    "width": "177px"
   },
   "number_sections": true,
   "sideBar": true,
   "skip_h1_title": true,
   "title_cell": "Table of Contents",
   "title_sidebar": "Contents",
   "toc_cell": false,
   "toc_position": {
    "height": "calc(100% - 180px)",
    "left": "10px",
    "top": "150px",
    "width": "179.175px"
   },
   "toc_section_display": true,
   "toc_window_display": true
  }
 },
 "nbformat": 4,
 "nbformat_minor": 2
}
