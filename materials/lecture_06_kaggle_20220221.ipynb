{
 "cells": [
  {
   "cell_type": "code",
   "execution_count": 1,
   "id": "81e21d76",
   "metadata": {
    "ExecuteTime": {
     "end_time": "2022-02-21T18:38:42.381587Z",
     "start_time": "2022-02-21T18:38:42.366445Z"
    }
   },
   "outputs": [],
   "source": [
    "def word_search(doc_list, keyword):\n",
    "    # list to hold the indices of matching documents\n",
    "    indices = [] \n",
    "    # Iterate through the indices (i) and elements (doc) of documents\n",
    "    for i, doc in enumerate(doc_list):\n",
    "        # Split the string doc into a list of words (according to whitespace)\n",
    "        tokens = doc.split()\n",
    "        # Make a transformed list where we 'normalize' each word to facilitate matching.\n",
    "        # Periods and commas are removed from the end of each word, and it's set to all lowercase.\n",
    "        normalized = [token.rstrip('.,').lower() for token in tokens]\n",
    "        # Is there a match? If so, update the list of matching indices.\n",
    "        if keyword.lower() in normalized:\n",
    "            indices.append(i)\n",
    "    return indices"
   ]
  },
  {
   "cell_type": "code",
   "execution_count": 2,
   "id": "e4e65861",
   "metadata": {
    "ExecuteTime": {
     "end_time": "2022-02-21T18:38:42.412429Z",
     "start_time": "2022-02-21T18:38:42.384493Z"
    }
   },
   "outputs": [
    {
     "data": {
      "text/plain": [
       "[0]"
      ]
     },
     "execution_count": 2,
     "metadata": {},
     "output_type": "execute_result"
    }
   ],
   "source": [
    "doc_list = [\"The Learn Python Challenge Casino.\", \"They bought a car\", \"The Casinoville\"]\n",
    "word_search(doc_list, 'casino')"
   ]
  },
  {
   "cell_type": "code",
   "execution_count": 3,
   "id": "274d2b3f",
   "metadata": {
    "ExecuteTime": {
     "end_time": "2022-02-21T18:38:42.427694Z",
     "start_time": "2022-02-21T18:38:42.414737Z"
    }
   },
   "outputs": [],
   "source": [
    "def multi_word_search(documents, keywords):\n",
    "    keyword_to_indices = {}\n",
    "    for keyword in keywords:\n",
    "        keyword_to_indices[keyword] = word_search(documents, keyword)\n",
    "    return keyword_to_indices"
   ]
  },
  {
   "cell_type": "code",
   "execution_count": 4,
   "id": "8577f53d",
   "metadata": {
    "ExecuteTime": {
     "end_time": "2022-02-21T18:38:42.443544Z",
     "start_time": "2022-02-21T18:38:42.430704Z"
    }
   },
   "outputs": [
    {
     "data": {
      "text/plain": [
       "{'casino': [0, 1], 'they': [1], 'xyz': []}"
      ]
     },
     "execution_count": 4,
     "metadata": {},
     "output_type": "execute_result"
    }
   ],
   "source": [
    "doc_list = [\"The Learn Python Challenge Casino.\", \"They bought a car and a casino\", \"Casinoville\"]\n",
    "keywords = ['casino', 'they', 'xyz']\n",
    "multi_word_search(doc_list, keywords)"
   ]
  },
  {
   "cell_type": "code",
   "execution_count": 5,
   "id": "e6d5fc8d",
   "metadata": {
    "ExecuteTime": {
     "end_time": "2022-02-21T18:38:42.458503Z",
     "start_time": "2022-02-21T18:38:42.445295Z"
    }
   },
   "outputs": [],
   "source": [
    "def word_search(doc_list, keyword):\n",
    "    list = [word.split() for word in doc_list]\n",
    "    final_list=[]\n",
    "    for i in range(0, len(list)):\n",
    "        for j in range(0, len(list[i])):\n",
    "            if list[i][j].strip('. ,').lower() == keyword:\n",
    "                final_list.append(i)\n",
    "                break        \n",
    "    return final_list\n"
   ]
  },
  {
   "cell_type": "code",
   "execution_count": 6,
   "id": "13a8dde8",
   "metadata": {
    "ExecuteTime": {
     "end_time": "2022-02-21T18:38:42.473823Z",
     "start_time": "2022-02-21T18:38:42.459254Z"
    }
   },
   "outputs": [],
   "source": [
    "def multi_word_search(documents, keywords):\n",
    "    ans = {keyword: word_search(documents, keyword) for keyword in keywords}\n",
    "    return ans\n"
   ]
  },
  {
   "cell_type": "code",
   "execution_count": null,
   "id": "2b0798d4",
   "metadata": {},
   "outputs": [],
   "source": []
  }
 ],
 "metadata": {
  "kernelspec": {
   "display_name": "Python 3 (ipykernel)",
   "language": "python",
   "name": "python3"
  },
  "language_info": {
   "codemirror_mode": {
    "name": "ipython",
    "version": 3
   },
   "file_extension": ".py",
   "mimetype": "text/x-python",
   "name": "python",
   "nbconvert_exporter": "python",
   "pygments_lexer": "ipython3",
   "version": "3.9.7"
  },
  "toc": {
   "base_numbering": 1,
   "nav_menu": {},
   "number_sections": true,
   "sideBar": true,
   "skip_h1_title": false,
   "title_cell": "Table of Contents",
   "title_sidebar": "Contents",
   "toc_cell": false,
   "toc_position": {},
   "toc_section_display": true,
   "toc_window_display": false
  }
 },
 "nbformat": 4,
 "nbformat_minor": 5
}
