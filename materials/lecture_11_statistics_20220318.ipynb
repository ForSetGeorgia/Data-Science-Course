{
 "cells": [
  {
   "cell_type": "markdown",
   "id": "c40e82b8",
   "metadata": {},
   "source": [
    "## Imports"
   ]
  },
  {
   "cell_type": "code",
   "execution_count": 1,
   "id": "3726db04",
   "metadata": {
    "ExecuteTime": {
     "end_time": "2022-03-18T16:58:59.602244Z",
     "start_time": "2022-03-18T16:58:58.489848Z"
    }
   },
   "outputs": [],
   "source": [
    "import numpy as np\n",
    "import pandas as pd\n",
    "from scipy import stats\n",
    "\n",
    "import matplotlib.pyplot as plt\n",
    "import seaborn as sns"
   ]
  },
  {
   "cell_type": "code",
   "execution_count": 2,
   "id": "13885afd",
   "metadata": {
    "ExecuteTime": {
     "end_time": "2022-03-18T16:58:59.617454Z",
     "start_time": "2022-03-18T16:58:59.604506Z"
    }
   },
   "outputs": [],
   "source": [
    "# https://github.com/joelgrus/data-science-from-scratch/blob/master/scratch/statistics.py\n",
    "\n",
    "num_friends = [100,49,41,40,25,21,21,19,19,18,18,16,15,15,15,15,14,14,13,13,13,13,12,12,11,10,10,10,10,10,10,10,10,10,10,10,10,10,10,10,9,9,9,9,9,9,9,9,9,9,9,9,9,9,9,9,9,9,8,8,8,8,8,8,8,8,8,8,8,8,8,7,7,7,7,7,7,7,7,7,7,7,7,7,7,7,6,6,6,6,6,6,6,6,6,6,6,6,6,6,6,6,6,6,6,6,6,6,5,5,5,5,5,5,5,5,5,5,5,5,5,5,5,5,5,4,4,4,4,4,4,4,4,4,4,4,4,4,4,4,4,4,4,4,4,3,3,3,3,3,3,3,3,3,3,3,3,3,3,3,3,3,3,3,3,2,2,2,2,2,2,2,2,2,2,2,2,2,2,2,2,2,1,1,1,1,1,1,1,1,1,1,1,1,1,1,1,1,1,1,1,1,1,1]\n",
    "df = pd.DataFrame({'num':num_friends})\n",
    "\n",
    "sorted_values = sorted(num_friends)"
   ]
  },
  {
   "cell_type": "markdown",
   "id": "150a3274",
   "metadata": {},
   "source": [
    "## Population vs Sample"
   ]
  },
  {
   "cell_type": "markdown",
   "id": "bb04b823",
   "metadata": {},
   "source": [
    "## Data Types\n",
    "\n",
    "**Categorical** vs **Quantitative**"
   ]
  },
  {
   "cell_type": "code",
   "execution_count": null,
   "id": "8e33fbd8",
   "metadata": {},
   "outputs": [],
   "source": []
  },
  {
   "cell_type": "markdown",
   "id": "876c0b18",
   "metadata": {},
   "source": [
    "## Central Tendency"
   ]
  },
  {
   "cell_type": "markdown",
   "id": "e0a4c845",
   "metadata": {},
   "source": [
    "### Mean"
   ]
  },
  {
   "cell_type": "code",
   "execution_count": 3,
   "id": "333922c7",
   "metadata": {
    "ExecuteTime": {
     "end_time": "2022-03-18T16:58:59.648501Z",
     "start_time": "2022-03-18T16:58:59.618603Z"
    }
   },
   "outputs": [
    {
     "data": {
      "text/plain": [
       "7.333333333333333"
      ]
     },
     "execution_count": 3,
     "metadata": {},
     "output_type": "execute_result"
    }
   ],
   "source": [
    "def mean(arr):\n",
    "    return sum(arr) / len(arr)\n",
    "\n",
    "mean(num_friends)"
   ]
  },
  {
   "cell_type": "code",
   "execution_count": 4,
   "id": "c737210e",
   "metadata": {
    "ExecuteTime": {
     "end_time": "2022-03-18T16:58:59.664075Z",
     "start_time": "2022-03-18T16:58:59.650076Z"
    }
   },
   "outputs": [
    {
     "data": {
      "text/plain": [
       "7.333333333333333"
      ]
     },
     "execution_count": 4,
     "metadata": {},
     "output_type": "execute_result"
    }
   ],
   "source": [
    "np.mean(num_friends)"
   ]
  },
  {
   "cell_type": "markdown",
   "id": "b9a9363d",
   "metadata": {},
   "source": [
    "### Median"
   ]
  },
  {
   "cell_type": "code",
   "execution_count": 5,
   "id": "329c11e2",
   "metadata": {
    "ExecuteTime": {
     "end_time": "2022-03-18T16:58:59.680093Z",
     "start_time": "2022-03-18T16:58:59.666077Z"
    }
   },
   "outputs": [
    {
     "data": {
      "text/html": [
       "<div>\n",
       "<style scoped>\n",
       "    .dataframe tbody tr th:only-of-type {\n",
       "        vertical-align: middle;\n",
       "    }\n",
       "\n",
       "    .dataframe tbody tr th {\n",
       "        vertical-align: top;\n",
       "    }\n",
       "\n",
       "    .dataframe thead th {\n",
       "        text-align: right;\n",
       "    }\n",
       "</style>\n",
       "<table border=\"1\" class=\"dataframe\">\n",
       "  <thead>\n",
       "    <tr style=\"text-align: right;\">\n",
       "      <th></th>\n",
       "      <th>num</th>\n",
       "    </tr>\n",
       "  </thead>\n",
       "  <tbody>\n",
       "    <tr>\n",
       "      <th>count</th>\n",
       "      <td>204.000000</td>\n",
       "    </tr>\n",
       "    <tr>\n",
       "      <th>mean</th>\n",
       "      <td>7.333333</td>\n",
       "    </tr>\n",
       "    <tr>\n",
       "      <th>std</th>\n",
       "      <td>9.030145</td>\n",
       "    </tr>\n",
       "    <tr>\n",
       "      <th>min</th>\n",
       "      <td>1.000000</td>\n",
       "    </tr>\n",
       "    <tr>\n",
       "      <th>25%</th>\n",
       "      <td>3.000000</td>\n",
       "    </tr>\n",
       "    <tr>\n",
       "      <th>50%</th>\n",
       "      <td>6.000000</td>\n",
       "    </tr>\n",
       "    <tr>\n",
       "      <th>75%</th>\n",
       "      <td>9.000000</td>\n",
       "    </tr>\n",
       "    <tr>\n",
       "      <th>max</th>\n",
       "      <td>100.000000</td>\n",
       "    </tr>\n",
       "  </tbody>\n",
       "</table>\n",
       "</div>"
      ],
      "text/plain": [
       "              num\n",
       "count  204.000000\n",
       "mean     7.333333\n",
       "std      9.030145\n",
       "min      1.000000\n",
       "25%      3.000000\n",
       "50%      6.000000\n",
       "75%      9.000000\n",
       "max    100.000000"
      ]
     },
     "execution_count": 5,
     "metadata": {},
     "output_type": "execute_result"
    }
   ],
   "source": [
    "df.describe()"
   ]
  },
  {
   "cell_type": "code",
   "execution_count": 6,
   "id": "f5897c82",
   "metadata": {
    "ExecuteTime": {
     "end_time": "2022-03-18T16:58:59.695204Z",
     "start_time": "2022-03-18T16:58:59.681097Z"
    }
   },
   "outputs": [
    {
     "data": {
      "text/plain": [
       "102"
      ]
     },
     "execution_count": 6,
     "metadata": {},
     "output_type": "execute_result"
    }
   ],
   "source": [
    "n = len(num_friends)\n",
    "n//2"
   ]
  },
  {
   "cell_type": "code",
   "execution_count": 7,
   "id": "e3cc55c1",
   "metadata": {
    "ExecuteTime": {
     "end_time": "2022-03-18T16:58:59.711127Z",
     "start_time": "2022-03-18T16:58:59.696125Z"
    }
   },
   "outputs": [
    {
     "data": {
      "text/plain": [
       "3.0"
      ]
     },
     "execution_count": 7,
     "metadata": {},
     "output_type": "execute_result"
    }
   ],
   "source": [
    "t = [1,2,3,4,5]\n",
    "\n",
    "def median(arr):\n",
    "    l = len(arr)\n",
    "    mid = l // 2\n",
    "    return (arr[mid]+arr[-mid-1])/2\n",
    "\n",
    "median(t)"
   ]
  },
  {
   "cell_type": "code",
   "execution_count": 8,
   "id": "9604c7a1",
   "metadata": {
    "ExecuteTime": {
     "end_time": "2022-03-18T16:58:59.726577Z",
     "start_time": "2022-03-18T16:58:59.712112Z"
    }
   },
   "outputs": [
    {
     "data": {
      "text/plain": [
       "3.0"
      ]
     },
     "execution_count": 8,
     "metadata": {},
     "output_type": "execute_result"
    }
   ],
   "source": [
    "np.median(t)"
   ]
  },
  {
   "cell_type": "markdown",
   "id": "d34dd453",
   "metadata": {},
   "source": [
    "### Mode"
   ]
  },
  {
   "cell_type": "code",
   "execution_count": 9,
   "id": "7463f525",
   "metadata": {
    "ExecuteTime": {
     "end_time": "2022-03-18T16:58:59.742891Z",
     "start_time": "2022-03-18T16:58:59.728578Z"
    }
   },
   "outputs": [
    {
     "data": {
      "text/plain": [
       "[6, 1]"
      ]
     },
     "execution_count": 9,
     "metadata": {},
     "output_type": "execute_result"
    }
   ],
   "source": [
    "def mode(arr):\n",
    "    dict_cnt = {num: arr.count(num) for num in arr}\n",
    "    max_v = max(dict_cnt.values())\n",
    "    return [k for k, v in dict_cnt.items() if max_v == v]\n",
    "    \n",
    "mode(num_friends)"
   ]
  },
  {
   "cell_type": "code",
   "execution_count": 10,
   "id": "6c0d659c",
   "metadata": {
    "ExecuteTime": {
     "end_time": "2022-03-18T16:58:59.758209Z",
     "start_time": "2022-03-18T16:58:59.745158Z"
    }
   },
   "outputs": [
    {
     "name": "stdout",
     "output_type": "stream",
     "text": [
      "[22 17 20 20 17 22 15 13 18 15  1  2  4  2  4  1  2  2  2  1  1  1  1  1]\n",
      "1\n"
     ]
    }
   ],
   "source": [
    "vals, counts = np.unique(num_friends, return_counts=True)\n",
    "print(counts)\n",
    "index = np.argmax(counts)\n",
    "print(vals[index])"
   ]
  },
  {
   "cell_type": "code",
   "execution_count": 11,
   "id": "aac734ee",
   "metadata": {
    "ExecuteTime": {
     "end_time": "2022-03-18T16:58:59.773416Z",
     "start_time": "2022-03-18T16:58:59.759398Z"
    }
   },
   "outputs": [
    {
     "data": {
      "text/plain": [
       "ModeResult(mode=array([1]), count=array([22]))"
      ]
     },
     "execution_count": 11,
     "metadata": {},
     "output_type": "execute_result"
    }
   ],
   "source": [
    "stats.mode(num_friends)"
   ]
  },
  {
   "cell_type": "markdown",
   "id": "8eb9dd03",
   "metadata": {},
   "source": [
    "## Dispersion"
   ]
  },
  {
   "cell_type": "markdown",
   "id": "d975ab63",
   "metadata": {},
   "source": [
    "### Range"
   ]
  },
  {
   "cell_type": "code",
   "execution_count": 12,
   "id": "ed036995",
   "metadata": {
    "ExecuteTime": {
     "end_time": "2022-03-18T16:58:59.789490Z",
     "start_time": "2022-03-18T16:58:59.774411Z"
    }
   },
   "outputs": [
    {
     "data": {
      "text/plain": [
       "(1, 100)"
      ]
     },
     "execution_count": 12,
     "metadata": {},
     "output_type": "execute_result"
    }
   ],
   "source": [
    "largest_value = max(num_friends)\n",
    "smallest_value = min(num_friends)\n",
    "smallest_value, largest_value"
   ]
  },
  {
   "cell_type": "code",
   "execution_count": 13,
   "id": "ac99c94b",
   "metadata": {
    "ExecuteTime": {
     "end_time": "2022-03-18T16:58:59.804698Z",
     "start_time": "2022-03-18T16:58:59.790576Z"
    }
   },
   "outputs": [
    {
     "data": {
      "text/plain": [
       "(1, 100)"
      ]
     },
     "execution_count": 13,
     "metadata": {},
     "output_type": "execute_result"
    }
   ],
   "source": [
    "sorted_values[0], sorted_values[-1]"
   ]
  },
  {
   "cell_type": "code",
   "execution_count": 14,
   "id": "49ded221",
   "metadata": {
    "ExecuteTime": {
     "end_time": "2022-03-18T16:58:59.819776Z",
     "start_time": "2022-03-18T16:58:59.805720Z"
    }
   },
   "outputs": [
    {
     "data": {
      "text/html": [
       "<div>\n",
       "<style scoped>\n",
       "    .dataframe tbody tr th:only-of-type {\n",
       "        vertical-align: middle;\n",
       "    }\n",
       "\n",
       "    .dataframe tbody tr th {\n",
       "        vertical-align: top;\n",
       "    }\n",
       "\n",
       "    .dataframe thead th {\n",
       "        text-align: right;\n",
       "    }\n",
       "</style>\n",
       "<table border=\"1\" class=\"dataframe\">\n",
       "  <thead>\n",
       "    <tr style=\"text-align: right;\">\n",
       "      <th></th>\n",
       "      <th>num</th>\n",
       "    </tr>\n",
       "  </thead>\n",
       "  <tbody>\n",
       "    <tr>\n",
       "      <th>0.25</th>\n",
       "      <td>3.0</td>\n",
       "    </tr>\n",
       "    <tr>\n",
       "      <th>0.75</th>\n",
       "      <td>9.0</td>\n",
       "    </tr>\n",
       "  </tbody>\n",
       "</table>\n",
       "</div>"
      ],
      "text/plain": [
       "      num\n",
       "0.25  3.0\n",
       "0.75  9.0"
      ]
     },
     "execution_count": 14,
     "metadata": {},
     "output_type": "execute_result"
    }
   ],
   "source": [
    "df.quantile([0.25, 0.75])"
   ]
  },
  {
   "cell_type": "markdown",
   "id": "26f0b9c8",
   "metadata": {},
   "source": [
    "### Variance"
   ]
  },
  {
   "cell_type": "markdown",
   "id": "332acd09",
   "metadata": {},
   "source": [
    "### Standard Deviation"
   ]
  },
  {
   "cell_type": "code",
   "execution_count": 15,
   "id": "534f4f04",
   "metadata": {
    "ExecuteTime": {
     "end_time": "2022-03-18T16:58:59.835124Z",
     "start_time": "2022-03-18T16:58:59.821090Z"
    }
   },
   "outputs": [
    {
     "data": {
      "text/plain": [
       "9.007984838446012"
      ]
     },
     "execution_count": 15,
     "metadata": {},
     "output_type": "execute_result"
    }
   ],
   "source": [
    "np.std(num_friends)"
   ]
  },
  {
   "cell_type": "code",
   "execution_count": 16,
   "id": "b0d7bd5c",
   "metadata": {
    "ExecuteTime": {
     "end_time": "2022-03-18T16:58:59.850392Z",
     "start_time": "2022-03-18T16:58:59.836312Z"
    }
   },
   "outputs": [
    {
     "data": {
      "text/plain": [
       "9.007984838446017"
      ]
     },
     "execution_count": 16,
     "metadata": {},
     "output_type": "execute_result"
    }
   ],
   "source": [
    "def std_dev(arr):\n",
    "    return (sum([(a - mean(arr))**2 for a in arr]) / len(arr)) ** (1/2)\n",
    "std_dev(num_friends)"
   ]
  },
  {
   "cell_type": "markdown",
   "id": "effd99f5",
   "metadata": {},
   "source": [
    "### Coefficient of Variation (CV)"
   ]
  },
  {
   "cell_type": "code",
   "execution_count": null,
   "id": "3689cba2",
   "metadata": {},
   "outputs": [],
   "source": []
  },
  {
   "cell_type": "markdown",
   "id": "0a9e31c4",
   "metadata": {},
   "source": [
    "## Relationship"
   ]
  },
  {
   "cell_type": "markdown",
   "id": "10d85fd9",
   "metadata": {},
   "source": [
    "### Covariance"
   ]
  },
  {
   "cell_type": "markdown",
   "id": "8bb852ae",
   "metadata": {},
   "source": [
    "### Correlation Coefficient"
   ]
  },
  {
   "cell_type": "markdown",
   "id": "8414caeb",
   "metadata": {},
   "source": [
    "## Distributions"
   ]
  },
  {
   "cell_type": "code",
   "execution_count": 17,
   "id": "56f3f2ef",
   "metadata": {
    "ExecuteTime": {
     "end_time": "2022-03-18T16:59:00.005103Z",
     "start_time": "2022-03-18T16:58:59.851904Z"
    }
   },
   "outputs": [
    {
     "data": {
      "text/plain": [
       "<AxesSubplot:ylabel='Frequency'>"
      ]
     },
     "execution_count": 17,
     "metadata": {},
     "output_type": "execute_result"
    },
    {
     "data": {
      "image/png": "[encoded data removed]",
      "text/plain": [
       "<Figure size 432x288 with 1 Axes>"
      ]
     },
     "metadata": {
      "needs_background": "light"
     },
     "output_type": "display_data"
    }
   ],
   "source": [
    "df.plot.hist(bins=20)"
   ]
  },
  {
   "cell_type": "code",
   "execution_count": 18,
   "id": "c1a41d7f",
   "metadata": {
    "ExecuteTime": {
     "end_time": "2022-03-18T16:59:00.161836Z",
     "start_time": "2022-03-18T16:59:00.006603Z"
    }
   },
   "outputs": [
    {
     "data": {
      "text/plain": [
       "<seaborn.axisgrid.FacetGrid at 0x199abb5d640>"
      ]
     },
     "execution_count": 18,
     "metadata": {},
     "output_type": "execute_result"
    },
    {
     "data": {
      "image/png": "[encoded data removed]",
      "text/plain": [
       "<Figure size 360x360 with 1 Axes>"
      ]
     },
     "metadata": {
      "needs_background": "light"
     },
     "output_type": "display_data"
    }
   ],
   "source": [
    "sns.displot(data=df, x='num')"
   ]
  },
  {
   "cell_type": "markdown",
   "id": "abc43134",
   "metadata": {},
   "source": [
    "### Frequency Table"
   ]
  },
  {
   "cell_type": "markdown",
   "id": "8ee4ed4a",
   "metadata": {},
   "source": [
    "### Histogram"
   ]
  },
  {
   "cell_type": "markdown",
   "id": "a647baa4",
   "metadata": {},
   "source": [
    "### "
   ]
  }
 ],
 "metadata": {
  "kernelspec": {
   "display_name": "Python 3 (ipykernel)",
   "language": "python",
   "name": "python3"
  },
  "language_info": {
   "codemirror_mode": {
    "name": "ipython",
    "version": 3
   },
   "file_extension": ".py",
   "mimetype": "text/x-python",
   "name": "python",
   "nbconvert_exporter": "python",
   "pygments_lexer": "ipython3",
   "version": "3.9.7"
  },
  "toc": {
   "base_numbering": 1,
   "nav_menu": {},
   "number_sections": true,
   "sideBar": true,
   "skip_h1_title": false,
   "title_cell": "Table of Contents",
   "title_sidebar": "Contents",
   "toc_cell": false,
   "toc_position": {
    "height": "calc(100% - 180px)",
    "left": "10px",
    "top": "150px",
    "width": "204.8px"
   },
   "toc_section_display": true,
   "toc_window_display": true
  }
 },
 "nbformat": 4,
 "nbformat_minor": 5
}
