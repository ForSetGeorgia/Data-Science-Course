{
 "cells": [
  {
   "cell_type": "code",
   "execution_count": 1,
   "id": "ce350f28",
   "metadata": {
    "ExecuteTime": {
     "end_time": "2022-03-25T17:13:49.663611Z",
     "start_time": "2022-03-25T17:13:49.648855Z"
    }
   },
   "outputs": [],
   "source": [
    "class Fraction:\n",
    "    \n",
    "    def __init__(self, numerator, denominator):\n",
    "        self.numerator = numerator\n",
    "        self.denominator = denominator\n",
    "        \n",
    "    def __repr__(self):\n",
    "        return f'Fraction({self.numerator}, {self.denominator})'\n",
    "    "
   ]
  },
  {
   "cell_type": "code",
   "execution_count": 2,
   "id": "197cb116",
   "metadata": {
    "ExecuteTime": {
     "end_time": "2022-03-25T17:13:49.678899Z",
     "start_time": "2022-03-25T17:13:49.665840Z"
    }
   },
   "outputs": [],
   "source": [
    "f1 = Fraction(1, 2)"
   ]
  },
  {
   "cell_type": "code",
   "execution_count": 3,
   "id": "aabbfa04",
   "metadata": {
    "ExecuteTime": {
     "end_time": "2022-03-25T17:13:49.694098Z",
     "start_time": "2022-03-25T17:13:49.680060Z"
    }
   },
   "outputs": [
    {
     "data": {
      "text/plain": [
       "Fraction(1, 2)"
      ]
     },
     "execution_count": 3,
     "metadata": {},
     "output_type": "execute_result"
    }
   ],
   "source": [
    "f1"
   ]
  },
  {
   "cell_type": "code",
   "execution_count": 4,
   "id": "204f940c",
   "metadata": {
    "ExecuteTime": {
     "end_time": "2022-03-25T17:13:49.709417Z",
     "start_time": "2022-03-25T17:13:49.697120Z"
    }
   },
   "outputs": [
    {
     "name": "stdout",
     "output_type": "stream",
     "text": [
      "Fraction(1, 2)\n"
     ]
    }
   ],
   "source": [
    "print(f1)"
   ]
  },
  {
   "cell_type": "code",
   "execution_count": 5,
   "id": "584cde57",
   "metadata": {
    "ExecuteTime": {
     "end_time": "2022-03-25T17:13:49.725066Z",
     "start_time": "2022-03-25T17:13:49.711556Z"
    }
   },
   "outputs": [],
   "source": [
    "f2 = Fraction(1,3)"
   ]
  },
  {
   "cell_type": "code",
   "execution_count": 6,
   "id": "86a1abdb",
   "metadata": {
    "ExecuteTime": {
     "end_time": "2022-03-25T17:13:49.740756Z",
     "start_time": "2022-03-25T17:13:49.726601Z"
    }
   },
   "outputs": [],
   "source": [
    "# f1 + f2"
   ]
  },
  {
   "cell_type": "code",
   "execution_count": 7,
   "id": "1ff0f6b4",
   "metadata": {
    "ExecuteTime": {
     "end_time": "2022-03-25T17:13:49.756638Z",
     "start_time": "2022-03-25T17:13:49.742077Z"
    }
   },
   "outputs": [
    {
     "data": {
      "text/plain": [
       "0.8333333333333333"
      ]
     },
     "execution_count": 7,
     "metadata": {},
     "output_type": "execute_result"
    }
   ],
   "source": [
    "1/2 + 1/3"
   ]
  },
  {
   "cell_type": "code",
   "execution_count": 8,
   "id": "4b95236f",
   "metadata": {
    "ExecuteTime": {
     "end_time": "2022-03-25T17:13:49.771768Z",
     "start_time": "2022-03-25T17:13:49.758787Z"
    }
   },
   "outputs": [
    {
     "data": {
      "text/plain": [
       "0.8333333333333334"
      ]
     },
     "execution_count": 8,
     "metadata": {},
     "output_type": "execute_result"
    }
   ],
   "source": [
    "5/6"
   ]
  },
  {
   "cell_type": "code",
   "execution_count": null,
   "id": "2fc11250",
   "metadata": {},
   "outputs": [],
   "source": []
  },
  {
   "cell_type": "code",
   "execution_count": 9,
   "id": "54170028",
   "metadata": {
    "ExecuteTime": {
     "end_time": "2022-03-25T17:13:49.787300Z",
     "start_time": "2022-03-25T17:13:49.774066Z"
    }
   },
   "outputs": [],
   "source": [
    "class Fraction:\n",
    "    \n",
    "    def __init__(self, numerator, denominator):\n",
    "        self.numerator = numerator\n",
    "        self.denominator = denominator\n",
    "        \n",
    "    def __repr__(self):\n",
    "        return f'Fraction({self.numerator}, {self.denominator})'\n",
    "    \n",
    "    def add(self, other):\n",
    "        new_numerator = self.numerator * other.denominator + other.numerator * self.denominator\n",
    "        new_denominator = self.denominator * other.denominator\n",
    "        return Fraction(new_numerator, new_denominator)\n",
    "    "
   ]
  },
  {
   "cell_type": "code",
   "execution_count": 10,
   "id": "d8461bde",
   "metadata": {
    "ExecuteTime": {
     "end_time": "2022-03-25T17:13:49.803155Z",
     "start_time": "2022-03-25T17:13:49.790810Z"
    }
   },
   "outputs": [],
   "source": [
    "f1 = Fraction(1,2)\n",
    "f2 = Fraction(1,3)\n",
    "\n"
   ]
  },
  {
   "cell_type": "code",
   "execution_count": 11,
   "id": "41fc16d0",
   "metadata": {
    "ExecuteTime": {
     "end_time": "2022-03-25T17:13:49.818776Z",
     "start_time": "2022-03-25T17:13:49.804776Z"
    }
   },
   "outputs": [
    {
     "data": {
      "text/plain": [
       "Fraction(5, 6)"
      ]
     },
     "execution_count": 11,
     "metadata": {},
     "output_type": "execute_result"
    }
   ],
   "source": [
    "f1.add(f2)"
   ]
  },
  {
   "cell_type": "code",
   "execution_count": 12,
   "id": "58a918aa",
   "metadata": {
    "ExecuteTime": {
     "end_time": "2022-03-25T17:13:49.834470Z",
     "start_time": "2022-03-25T17:13:49.820787Z"
    }
   },
   "outputs": [],
   "source": [
    "f1 = Fraction(2,3)\n",
    "f2 = Fraction(4,5)\n",
    "\n"
   ]
  },
  {
   "cell_type": "code",
   "execution_count": 13,
   "id": "5abafe8c",
   "metadata": {
    "ExecuteTime": {
     "end_time": "2022-03-25T17:13:49.849772Z",
     "start_time": "2022-03-25T17:13:49.836673Z"
    }
   },
   "outputs": [
    {
     "data": {
      "text/plain": [
       "Fraction(22, 15)"
      ]
     },
     "execution_count": 13,
     "metadata": {},
     "output_type": "execute_result"
    }
   ],
   "source": [
    "f1.add(f2)"
   ]
  },
  {
   "cell_type": "code",
   "execution_count": null,
   "id": "2d710412",
   "metadata": {},
   "outputs": [],
   "source": []
  },
  {
   "cell_type": "code",
   "execution_count": 14,
   "id": "b399f67d",
   "metadata": {
    "ExecuteTime": {
     "end_time": "2022-03-25T17:13:49.865005Z",
     "start_time": "2022-03-25T17:13:49.851405Z"
    }
   },
   "outputs": [],
   "source": [
    "class Fraction:\n",
    "    \n",
    "    def __init__(self, numerator, denominator):\n",
    "        self.numerator = numerator\n",
    "        self.denominator = denominator\n",
    "        \n",
    "    def __repr__(self):\n",
    "        return f'Fraction({self.numerator}, {self.denominator})'\n",
    "    \n",
    "    def add(self, other):\n",
    "        new_numerator = self.numerator * other.denominator + other.numerator * self.denominator\n",
    "        new_denominator = self.denominator * other.denominator\n",
    "        return Fraction(new_numerator, new_denominator)\n",
    "    \n",
    "    def __add__(self, other):\n",
    "        return Fraction.add(self, other)\n",
    "    \n",
    "    def __sub__(self, other):\n",
    "        new_numerator = self.numerator * other.denominator - other.numerator * self.denominator\n",
    "        new_denominator = self.denominator * other.denominator\n",
    "        return Fraction(new_numerator, new_denominator)"
   ]
  },
  {
   "cell_type": "code",
   "execution_count": 15,
   "id": "77046851",
   "metadata": {
    "ExecuteTime": {
     "end_time": "2022-03-25T17:13:49.881028Z",
     "start_time": "2022-03-25T17:13:49.866145Z"
    }
   },
   "outputs": [],
   "source": [
    "f1 = Fraction(2,3)\n",
    "f2 = Fraction(4,5)\n",
    "\n"
   ]
  },
  {
   "cell_type": "code",
   "execution_count": 16,
   "id": "950d1c44",
   "metadata": {
    "ExecuteTime": {
     "end_time": "2022-03-25T17:13:49.897069Z",
     "start_time": "2022-03-25T17:13:49.882983Z"
    }
   },
   "outputs": [
    {
     "data": {
      "text/plain": [
       "Fraction(22, 15)"
      ]
     },
     "execution_count": 16,
     "metadata": {},
     "output_type": "execute_result"
    }
   ],
   "source": [
    "f1 + f2"
   ]
  },
  {
   "cell_type": "code",
   "execution_count": 17,
   "id": "7011b925",
   "metadata": {
    "ExecuteTime": {
     "end_time": "2022-03-25T17:13:49.912725Z",
     "start_time": "2022-03-25T17:13:49.897568Z"
    }
   },
   "outputs": [
    {
     "data": {
      "text/plain": [
       "14"
      ]
     },
     "execution_count": 17,
     "metadata": {},
     "output_type": "execute_result"
    }
   ],
   "source": [
    "6 + 8\n"
   ]
  },
  {
   "cell_type": "code",
   "execution_count": 18,
   "id": "7b1f17a1",
   "metadata": {
    "ExecuteTime": {
     "end_time": "2022-03-25T17:13:49.928481Z",
     "start_time": "2022-03-25T17:13:49.914416Z"
    }
   },
   "outputs": [
    {
     "data": {
      "text/plain": [
       "Fraction(1, 6)"
      ]
     },
     "execution_count": 18,
     "metadata": {},
     "output_type": "execute_result"
    }
   ],
   "source": [
    "f1= Fraction(1,2)\n",
    "f2= Fraction(1,3)\n",
    "\n",
    "f1 - f2"
   ]
  },
  {
   "cell_type": "code",
   "execution_count": 19,
   "id": "6fd865c0",
   "metadata": {
    "ExecuteTime": {
     "end_time": "2022-03-25T17:13:49.944428Z",
     "start_time": "2022-03-25T17:13:49.930010Z"
    }
   },
   "outputs": [],
   "source": [
    "# f1 > f2"
   ]
  },
  {
   "cell_type": "code",
   "execution_count": 20,
   "id": "bb0cee53",
   "metadata": {
    "ExecuteTime": {
     "end_time": "2022-03-25T17:13:49.959205Z",
     "start_time": "2022-03-25T17:13:49.947213Z"
    }
   },
   "outputs": [],
   "source": [
    "class Fraction:\n",
    "    \n",
    "    def __init__(self, numerator, denominator):\n",
    "        self.numerator = numerator\n",
    "        self.denominator = denominator\n",
    "        \n",
    "    def __repr__(self):\n",
    "        return f'Fraction({self.numerator}, {self.denominator})'\n",
    "    \n",
    "    def add(self, other):\n",
    "        new_numerator = self.numerator * other.denominator + other.numerator * self.denominator\n",
    "        new_denominator = self.denominator * other.denominator\n",
    "        return Fraction(new_numerator, new_denominator)\n",
    "    \n",
    "    def __add__(self, other):\n",
    "        return Fraction.add(self, other)\n",
    "    \n",
    "    def __sub__(self, other):\n",
    "        new_numerator = self.numerator * other.denominator - other.numerator * self.denominator\n",
    "        new_denominator = self.denominator * other.denominator\n",
    "        return Fraction(new_numerator, new_denominator)\n",
    "    \n",
    "    def __lt__(self, other):\n",
    "        return self.numerator * other.denominator < other.numerator * self.denominator\n",
    "    \n",
    "    def __eq__(self, other):\n",
    "        return self.numerator * other.denominator == other.numerator * self.denominator\n",
    "    \n",
    "    def __le__(self, other):\n",
    "        return self.numerator * other.denominator <= other.numerator * self.denominator"
   ]
  },
  {
   "cell_type": "code",
   "execution_count": 21,
   "id": "0e41f8fb",
   "metadata": {
    "ExecuteTime": {
     "end_time": "2022-03-25T17:13:49.974725Z",
     "start_time": "2022-03-25T17:13:49.961561Z"
    }
   },
   "outputs": [],
   "source": [
    "# 2/3 < 4/5\n",
    "\n",
    "# 2/3 * 3 * 5 < 4/5 * 3 * 5\n",
    "\n",
    "# 2 * 5 < 4 * 3"
   ]
  },
  {
   "cell_type": "code",
   "execution_count": 22,
   "id": "e0b2b3eb",
   "metadata": {
    "ExecuteTime": {
     "end_time": "2022-03-25T17:13:49.993237Z",
     "start_time": "2022-03-25T17:13:49.976236Z"
    }
   },
   "outputs": [
    {
     "data": {
      "text/plain": [
       "True"
      ]
     },
     "execution_count": 22,
     "metadata": {},
     "output_type": "execute_result"
    }
   ],
   "source": [
    "f1= Fraction(1,2)\n",
    "f2= Fraction(1,3)\n",
    "f3 = Fraction(1,2)\n",
    "\n",
    "f1 > f2 # gt"
   ]
  },
  {
   "cell_type": "code",
   "execution_count": 23,
   "id": "57c88abf",
   "metadata": {
    "ExecuteTime": {
     "end_time": "2022-03-25T17:13:50.005764Z",
     "start_time": "2022-03-25T17:13:49.999631Z"
    }
   },
   "outputs": [
    {
     "data": {
      "text/plain": [
       "False"
      ]
     },
     "execution_count": 23,
     "metadata": {},
     "output_type": "execute_result"
    }
   ],
   "source": [
    "f1 < f2 # lt"
   ]
  },
  {
   "cell_type": "code",
   "execution_count": 24,
   "id": "f1bbaf54",
   "metadata": {
    "ExecuteTime": {
     "end_time": "2022-03-25T17:13:50.021369Z",
     "start_time": "2022-03-25T17:13:50.008783Z"
    }
   },
   "outputs": [
    {
     "data": {
      "text/plain": [
       "False"
      ]
     },
     "execution_count": 24,
     "metadata": {},
     "output_type": "execute_result"
    }
   ],
   "source": [
    "f1 == f2 # eq"
   ]
  },
  {
   "cell_type": "code",
   "execution_count": 25,
   "id": "1a3fc248",
   "metadata": {
    "ExecuteTime": {
     "end_time": "2022-03-25T17:13:50.036718Z",
     "start_time": "2022-03-25T17:13:50.023667Z"
    }
   },
   "outputs": [
    {
     "data": {
      "text/plain": [
       "True"
      ]
     },
     "execution_count": 25,
     "metadata": {},
     "output_type": "execute_result"
    }
   ],
   "source": [
    "f1 == f3"
   ]
  },
  {
   "cell_type": "code",
   "execution_count": 26,
   "id": "191899bb",
   "metadata": {
    "ExecuteTime": {
     "end_time": "2022-03-25T17:13:50.052233Z",
     "start_time": "2022-03-25T17:13:50.038947Z"
    }
   },
   "outputs": [
    {
     "data": {
      "text/plain": [
       "True"
      ]
     },
     "execution_count": 26,
     "metadata": {},
     "output_type": "execute_result"
    }
   ],
   "source": [
    "f1 >= f3 # ge"
   ]
  },
  {
   "cell_type": "code",
   "execution_count": 27,
   "id": "481630c3",
   "metadata": {
    "ExecuteTime": {
     "end_time": "2022-03-25T17:13:50.068422Z",
     "start_time": "2022-03-25T17:13:50.053234Z"
    }
   },
   "outputs": [
    {
     "data": {
      "text/plain": [
       "True"
      ]
     },
     "execution_count": 27,
     "metadata": {},
     "output_type": "execute_result"
    }
   ],
   "source": [
    "f1 <= f3 # le"
   ]
  },
  {
   "cell_type": "code",
   "execution_count": 28,
   "id": "624531a6",
   "metadata": {
    "ExecuteTime": {
     "end_time": "2022-03-25T17:13:50.084453Z",
     "start_time": "2022-03-25T17:13:50.073370Z"
    }
   },
   "outputs": [
    {
     "data": {
      "text/plain": [
       "True"
      ]
     },
     "execution_count": 28,
     "metadata": {},
     "output_type": "execute_result"
    }
   ],
   "source": [
    "f1 >= f2 # ge"
   ]
  },
  {
   "cell_type": "code",
   "execution_count": 29,
   "id": "d5299cb5",
   "metadata": {
    "ExecuteTime": {
     "end_time": "2022-03-25T17:13:50.100166Z",
     "start_time": "2022-03-25T17:13:50.085952Z"
    }
   },
   "outputs": [
    {
     "data": {
      "text/plain": [
       "False"
      ]
     },
     "execution_count": 29,
     "metadata": {},
     "output_type": "execute_result"
    }
   ],
   "source": [
    "f1 <= f2 # le"
   ]
  },
  {
   "cell_type": "code",
   "execution_count": 30,
   "id": "04142a13",
   "metadata": {
    "ExecuteTime": {
     "end_time": "2022-03-25T17:13:50.115751Z",
     "start_time": "2022-03-25T17:13:50.101620Z"
    }
   },
   "outputs": [
    {
     "data": {
      "text/plain": [
       "True"
      ]
     },
     "execution_count": 30,
     "metadata": {},
     "output_type": "execute_result"
    }
   ],
   "source": [
    "f1 != f2"
   ]
  },
  {
   "cell_type": "code",
   "execution_count": 31,
   "id": "3b7cf8e9",
   "metadata": {
    "ExecuteTime": {
     "end_time": "2022-03-25T17:13:50.131212Z",
     "start_time": "2022-03-25T17:13:50.116980Z"
    }
   },
   "outputs": [
    {
     "data": {
      "text/plain": [
       "False"
      ]
     },
     "execution_count": 31,
     "metadata": {},
     "output_type": "execute_result"
    }
   ],
   "source": [
    "f1 != f3"
   ]
  },
  {
   "cell_type": "code",
   "execution_count": 32,
   "id": "b02348af",
   "metadata": {
    "ExecuteTime": {
     "end_time": "2022-03-25T17:13:50.146468Z",
     "start_time": "2022-03-25T17:13:50.133283Z"
    }
   },
   "outputs": [],
   "source": [
    "# f1 * f2"
   ]
  },
  {
   "cell_type": "code",
   "execution_count": null,
   "id": "6f8eedc2",
   "metadata": {},
   "outputs": [],
   "source": []
  },
  {
   "cell_type": "code",
   "execution_count": 33,
   "id": "8a620801",
   "metadata": {
    "ExecuteTime": {
     "end_time": "2022-03-25T17:13:50.161688Z",
     "start_time": "2022-03-25T17:13:50.147591Z"
    }
   },
   "outputs": [],
   "source": [
    "class Fraction:\n",
    "    \n",
    "    def __init__(self, numerator, denominator):\n",
    "        self.numerator = numerator\n",
    "        self.denominator = denominator\n",
    "        \n",
    "    def __repr__(self):\n",
    "        return f'Fraction({self.numerator}, {self.denominator})'\n",
    "    \n",
    "    def add(self, other):\n",
    "        new_numerator = self.numerator * other.denominator + other.numerator * self.denominator\n",
    "        new_denominator = self.denominator * other.denominator\n",
    "        return Fraction(new_numerator, new_denominator)\n",
    "    \n",
    "    def __add__(self, other):\n",
    "        return Fraction.add(self, other)\n",
    "    \n",
    "    def __sub__(self, other):\n",
    "        new_numerator = self.numerator * other.denominator - other.numerator * self.denominator\n",
    "        new_denominator = self.denominator * other.denominator\n",
    "        return Fraction(new_numerator, new_denominator)\n",
    "    \n",
    "    def __lt__(self, other):\n",
    "        return self.numerator * other.denominator < other.numerator * self.denominator\n",
    "    \n",
    "    def __eq__(self, other):\n",
    "        return self.numerator * other.denominator == other.numerator * self.denominator\n",
    "    \n",
    "    def __le__(self, other):\n",
    "        return self.numerator * other.denominator <= other.numerator * self.denominator\n",
    "    \n",
    "    def __mul__(self, other):\n",
    "        return Fraction(self.numerator * other.numerator, self.denominator * other.denominator)"
   ]
  },
  {
   "cell_type": "code",
   "execution_count": 34,
   "id": "62e2ee2d",
   "metadata": {
    "ExecuteTime": {
     "end_time": "2022-03-25T17:13:50.176901Z",
     "start_time": "2022-03-25T17:13:50.163549Z"
    }
   },
   "outputs": [
    {
     "data": {
      "text/plain": [
       "False"
      ]
     },
     "execution_count": 34,
     "metadata": {},
     "output_type": "execute_result"
    }
   ],
   "source": [
    "f1= Fraction(1,2)\n",
    "f2= Fraction(2,3)\n",
    "f3 = Fraction(1,2)\n",
    "\n",
    "f1 > f2 # gt"
   ]
  },
  {
   "cell_type": "code",
   "execution_count": 35,
   "id": "476d461b",
   "metadata": {
    "ExecuteTime": {
     "end_time": "2022-03-25T17:13:50.192799Z",
     "start_time": "2022-03-25T17:13:50.178572Z"
    }
   },
   "outputs": [
    {
     "data": {
      "text/plain": [
       "Fraction(2, 6)"
      ]
     },
     "execution_count": 35,
     "metadata": {},
     "output_type": "execute_result"
    }
   ],
   "source": [
    "f1 * f2"
   ]
  },
  {
   "cell_type": "code",
   "execution_count": 36,
   "id": "1e74af5e",
   "metadata": {
    "ExecuteTime": {
     "end_time": "2022-03-25T17:13:50.208591Z",
     "start_time": "2022-03-25T17:13:50.195423Z"
    }
   },
   "outputs": [],
   "source": [
    "def gcd(a, b):\n",
    "    small = a\n",
    "    ans = 1\n",
    "    if a > b:\n",
    "        small = b\n",
    "    for i in range(1, small+1):\n",
    "        if a % i == 0 and b % i == 0:\n",
    "            ans = i\n",
    "    return ans"
   ]
  },
  {
   "cell_type": "code",
   "execution_count": 37,
   "id": "c41984b5",
   "metadata": {
    "ExecuteTime": {
     "end_time": "2022-03-25T17:13:50.223801Z",
     "start_time": "2022-03-25T17:13:50.210508Z"
    }
   },
   "outputs": [
    {
     "data": {
      "text/plain": [
       "2"
      ]
     },
     "execution_count": 37,
     "metadata": {},
     "output_type": "execute_result"
    }
   ],
   "source": [
    "gcd(2,6)"
   ]
  },
  {
   "cell_type": "code",
   "execution_count": 38,
   "id": "f9111814",
   "metadata": {
    "ExecuteTime": {
     "end_time": "2022-03-25T17:13:50.239273Z",
     "start_time": "2022-03-25T17:13:50.225953Z"
    }
   },
   "outputs": [
    {
     "data": {
      "text/plain": [
       "3"
      ]
     },
     "execution_count": 38,
     "metadata": {},
     "output_type": "execute_result"
    }
   ],
   "source": [
    "\n",
    "gcd(12,15)"
   ]
  },
  {
   "cell_type": "code",
   "execution_count": 39,
   "id": "dba7ef12",
   "metadata": {
    "ExecuteTime": {
     "end_time": "2022-03-25T17:13:50.254642Z",
     "start_time": "2022-03-25T17:13:50.240787Z"
    }
   },
   "outputs": [
    {
     "data": {
      "text/plain": [
       "12"
      ]
     },
     "execution_count": 39,
     "metadata": {},
     "output_type": "execute_result"
    }
   ],
   "source": [
    "gcd(24,36)"
   ]
  },
  {
   "cell_type": "code",
   "execution_count": null,
   "id": "ae87f962",
   "metadata": {},
   "outputs": [],
   "source": []
  },
  {
   "cell_type": "code",
   "execution_count": 40,
   "id": "5d69a9f3",
   "metadata": {
    "ExecuteTime": {
     "end_time": "2022-03-25T17:13:50.270313Z",
     "start_time": "2022-03-25T17:13:50.257159Z"
    }
   },
   "outputs": [],
   "source": [
    "class Fraction:\n",
    "    \n",
    "    def __init__(self, numerator, denominator):\n",
    "        current_gcd = gcd(numerator, denominator)\n",
    "        self.numerator = numerator // current_gcd\n",
    "        self.denominator = denominator // current_gcd\n",
    "        \n",
    "    def __repr__(self):\n",
    "        return f'Fraction({self.numerator}, {self.denominator})'\n",
    "    \n",
    "    def add(self, other):\n",
    "        new_numerator = self.numerator * other.denominator + other.numerator * self.denominator\n",
    "        new_denominator = self.denominator * other.denominator\n",
    "        return Fraction(new_numerator, new_denominator)\n",
    "    \n",
    "    def __add__(self, other):\n",
    "        return Fraction.add(self, other)\n",
    "    \n",
    "    def __sub__(self, other):\n",
    "        new_numerator = self.numerator * other.denominator - other.numerator * self.denominator\n",
    "        new_denominator = self.denominator * other.denominator\n",
    "        return Fraction(new_numerator, new_denominator)\n",
    "    \n",
    "    def __lt__(self, other):\n",
    "        return self.numerator * other.denominator < other.numerator * self.denominator\n",
    "    \n",
    "    def __eq__(self, other):\n",
    "        return self.numerator * other.denominator == other.numerator * self.denominator\n",
    "    \n",
    "    def __le__(self, other):\n",
    "        return self.numerator * other.denominator <= other.numerator * self.denominator\n",
    "    \n",
    "    def __mul__(self, other):\n",
    "        return Fraction(self.numerator * other.numerator, self.denominator * other.denominator)"
   ]
  },
  {
   "cell_type": "code",
   "execution_count": 41,
   "id": "97ab8553",
   "metadata": {
    "ExecuteTime": {
     "end_time": "2022-03-25T17:13:50.285292Z",
     "start_time": "2022-03-25T17:13:50.271636Z"
    }
   },
   "outputs": [
    {
     "data": {
      "text/plain": [
       "Fraction(1, 3)"
      ]
     },
     "execution_count": 41,
     "metadata": {},
     "output_type": "execute_result"
    }
   ],
   "source": [
    "Fraction(2,6)"
   ]
  },
  {
   "cell_type": "code",
   "execution_count": 42,
   "id": "81b9ee42",
   "metadata": {
    "ExecuteTime": {
     "end_time": "2022-03-25T17:13:50.300818Z",
     "start_time": "2022-03-25T17:13:50.286946Z"
    }
   },
   "outputs": [
    {
     "data": {
      "text/plain": [
       "Fraction(3, 7)"
      ]
     },
     "execution_count": 42,
     "metadata": {},
     "output_type": "execute_result"
    }
   ],
   "source": [
    "Fraction(12,28)"
   ]
  },
  {
   "cell_type": "code",
   "execution_count": 43,
   "id": "dd8ceb9f",
   "metadata": {
    "ExecuteTime": {
     "end_time": "2022-03-25T17:13:50.316768Z",
     "start_time": "2022-03-25T17:13:50.301978Z"
    }
   },
   "outputs": [
    {
     "data": {
      "text/plain": [
       "Fraction(1, 2)"
      ]
     },
     "execution_count": 43,
     "metadata": {},
     "output_type": "execute_result"
    }
   ],
   "source": [
    "Fraction(2,3) * Fraction(3,4)"
   ]
  },
  {
   "cell_type": "code",
   "execution_count": 44,
   "id": "05ad5a27",
   "metadata": {
    "ExecuteTime": {
     "end_time": "2022-03-25T17:13:50.332380Z",
     "start_time": "2022-03-25T17:13:50.318959Z"
    }
   },
   "outputs": [
    {
     "data": {
      "text/plain": [
       "[1, 2, 3, 5, 8, 9]"
      ]
     },
     "execution_count": 44,
     "metadata": {},
     "output_type": "execute_result"
    }
   ],
   "source": [
    "[1,2,3] + [5,8,9]"
   ]
  },
  {
   "cell_type": "code",
   "execution_count": 45,
   "id": "777dcc2d",
   "metadata": {
    "ExecuteTime": {
     "end_time": "2022-03-25T17:13:50.409982Z",
     "start_time": "2022-03-25T17:13:50.334248Z"
    }
   },
   "outputs": [],
   "source": [
    "import numpy as np"
   ]
  },
  {
   "cell_type": "code",
   "execution_count": 46,
   "id": "20d4d805",
   "metadata": {
    "ExecuteTime": {
     "end_time": "2022-03-25T17:13:50.425902Z",
     "start_time": "2022-03-25T17:13:50.412579Z"
    }
   },
   "outputs": [
    {
     "data": {
      "text/plain": [
       "array([ 6, 10, 12])"
      ]
     },
     "execution_count": 46,
     "metadata": {},
     "output_type": "execute_result"
    }
   ],
   "source": [
    "np.array([1,2,3]) + np.array([5,8,9])"
   ]
  },
  {
   "cell_type": "code",
   "execution_count": 47,
   "id": "8de39041",
   "metadata": {
    "ExecuteTime": {
     "end_time": "2022-03-25T17:13:50.442014Z",
     "start_time": "2022-03-25T17:13:50.426810Z"
    }
   },
   "outputs": [],
   "source": [
    "# np.array([1,2,3]) + np.array([5,8])"
   ]
  },
  {
   "cell_type": "code",
   "execution_count": 48,
   "id": "dc913fd6",
   "metadata": {
    "ExecuteTime": {
     "end_time": "2022-03-25T17:13:50.457622Z",
     "start_time": "2022-03-25T17:13:50.443536Z"
    }
   },
   "outputs": [
    {
     "data": {
      "text/plain": [
       "array([[ 6,  7,  8],\n",
       "       [ 9, 10, 11],\n",
       "       [10, 11, 12]])"
      ]
     },
     "execution_count": 48,
     "metadata": {},
     "output_type": "execute_result"
    }
   ],
   "source": [
    "np.array([1,2,3]) + np.array([5,8,9]).reshape(-1,1)"
   ]
  },
  {
   "cell_type": "code",
   "execution_count": null,
   "id": "0b47193d",
   "metadata": {},
   "outputs": [],
   "source": []
  }
 ],
 "metadata": {
  "kernelspec": {
   "display_name": "Python 3 (ipykernel)",
   "language": "python",
   "name": "python3"
  },
  "language_info": {
   "codemirror_mode": {
    "name": "ipython",
    "version": 3
   },
   "file_extension": ".py",
   "mimetype": "text/x-python",
   "name": "python",
   "nbconvert_exporter": "python",
   "pygments_lexer": "ipython3",
   "version": "3.9.7"
  },
  "toc": {
   "base_numbering": 1,
   "nav_menu": {},
   "number_sections": true,
   "sideBar": true,
   "skip_h1_title": false,
   "title_cell": "Table of Contents",
   "title_sidebar": "Contents",
   "toc_cell": false,
   "toc_position": {},
   "toc_section_display": true,
   "toc_window_display": false
  }
 },
 "nbformat": 4,
 "nbformat_minor": 5
}
