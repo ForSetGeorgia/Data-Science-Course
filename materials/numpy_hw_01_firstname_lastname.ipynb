{
 "cells": [
  {
   "cell_type": "code",
   "execution_count": null,
   "id": "6e9733b8",
   "metadata": {
    "ExecuteTime": {
     "end_time": "2022-02-28T19:42:47.094874Z",
     "start_time": "2022-02-28T19:42:46.439918Z"
    }
   },
   "outputs": [],
   "source": [
    "import numpy as np\n",
    "import matplotlib.pyplot as plt"
   ]
  },
  {
   "cell_type": "markdown",
   "id": "0179395d",
   "metadata": {},
   "source": [
    "# 1\n",
    "\n",
    "სიმულირებული `(x1, y1)` წყვილებისთვის დაამოდელირეთ პოლინომური რეგრესიები და შეადარეთ ცდომილებები.\n",
    "\n",
    "\n"
   ]
  },
  {
   "cell_type": "code",
   "execution_count": null,
   "id": "58205cdc",
   "metadata": {
    "ExecuteTime": {
     "end_time": "2022-02-28T19:42:47.188645Z",
     "start_time": "2022-02-28T19:42:47.096074Z"
    }
   },
   "outputs": [],
   "source": [
    "num_dots = 200\n",
    "\n",
    "np.random.seed(42)\n",
    "\n",
    "x1 = np.random.rand(num_dots) * 6 - 3\n",
    "y1 = np.zeros(num_dots)\n",
    "\n",
    "for i, p in enumerate([-3, 0, 3, 1]):\n",
    "    y1 = y1 + np.power(x1, i) * p\n",
    "\n",
    "y1 = y1 + np.random.normal(loc=0, scale=5, size=num_dots)\n",
    "plt.scatter(x1, y1)\n",
    "plt.show()"
   ]
  },
  {
   "cell_type": "code",
   "execution_count": null,
   "id": "ad65f9c1",
   "metadata": {},
   "outputs": [],
   "source": []
  },
  {
   "cell_type": "markdown",
   "id": "92ed13e6",
   "metadata": {},
   "source": [
    "# 2\n",
    "\n",
    "სიმულირებული `(x2, y2)` წყვილებისთვის დაამოდელირეთ პოლინომური რეგრესიები და შეადარეთ ცდომილებები.\n"
   ]
  },
  {
   "cell_type": "code",
   "execution_count": null,
   "id": "3c30e193",
   "metadata": {
    "ExecuteTime": {
     "end_time": "2022-02-28T19:42:47.267613Z",
     "start_time": "2022-02-28T19:42:47.189712Z"
    }
   },
   "outputs": [],
   "source": [
    "num_dots = 200\n",
    "\n",
    "np.random.seed(42)\n",
    "\n",
    "x2 = np.random.rand(num_dots) * 5 - 2.5\n",
    "y2 = np.zeros(num_dots)\n",
    "\n",
    "for i, p in enumerate([6, 10, 0, -8, 0, 1]):\n",
    "    y2 = y2 + np.power(x2, i) * p\n",
    "\n",
    "y2 = y2 + np.random.normal(loc=0, scale=5, size=num_dots)\n",
    "plt.scatter(x2, y2)\n",
    "plt.show()"
   ]
  },
  {
   "cell_type": "code",
   "execution_count": null,
   "id": "a4aaec38",
   "metadata": {},
   "outputs": [],
   "source": []
  },
  {
   "cell_type": "markdown",
   "id": "e5d71196",
   "metadata": {},
   "source": [
    "# 3\n",
    "\n",
    "ამოხსენით სისტემა `numpy`-ის საშუალებით:\n",
    "\n",
    "$$\n",
    "\\begin{cases}\n",
    "x+2y=11\\\\\n",
    "5x-3y=3\n",
    "\\end{cases}\n",
    "$$\n"
   ]
  },
  {
   "cell_type": "code",
   "execution_count": null,
   "id": "b22b5490",
   "metadata": {},
   "outputs": [],
   "source": []
  },
  {
   "cell_type": "markdown",
   "id": "457d5505",
   "metadata": {},
   "source": [
    "# 4\n",
    "\n",
    "`numpy`-ის საშუალებით შეადგინეთ 2-დან 9-მდე რიცხვებისთვის მატრიცული გამრავლების ტაბულა"
   ]
  },
  {
   "cell_type": "code",
   "execution_count": null,
   "id": "07331d84",
   "metadata": {},
   "outputs": [],
   "source": []
  },
  {
   "cell_type": "markdown",
   "id": "53cd1de0",
   "metadata": {},
   "source": [
    "# 5\n",
    "\n",
    "მოცემული მასივისთვის ელემენტებს შორის ჩაამატეთ 3-3 ნულები:\n",
    "\n",
    "`[1, 2, 3]` -> `[1, 0, 0, 0, 2, 0, 0, 0, 3]`\n",
    "\n",
    "`[1, 2]` -> `[1, 0, 0, 0, 2]`"
   ]
  },
  {
   "cell_type": "code",
   "execution_count": null,
   "id": "c6eb9d24",
   "metadata": {
    "ExecuteTime": {
     "end_time": "2022-02-28T19:42:47.283312Z",
     "start_time": "2022-02-28T19:42:47.270124Z"
    }
   },
   "outputs": [],
   "source": [
    "arr1 = np.array([1,2,3])"
   ]
  },
  {
   "cell_type": "code",
   "execution_count": null,
   "id": "f285d32b",
   "metadata": {},
   "outputs": [],
   "source": []
  }
 ],
 "metadata": {
  "kernelspec": {
   "display_name": "Python 3 (ipykernel)",
   "language": "python",
   "name": "python3"
  },
  "language_info": {
   "codemirror_mode": {
    "name": "ipython",
    "version": 3
   },
   "file_extension": ".py",
   "mimetype": "text/x-python",
   "name": "python",
   "nbconvert_exporter": "python",
   "pygments_lexer": "ipython3",
   "version": "3.9.7"
  },
  "toc": {
   "base_numbering": 1,
   "nav_menu": {},
   "number_sections": true,
   "sideBar": true,
   "skip_h1_title": false,
   "title_cell": "Table of Contents",
   "title_sidebar": "Contents",
   "toc_cell": false,
   "toc_position": {},
   "toc_section_display": true,
   "toc_window_display": false
  }
 },
 "nbformat": 4,
 "nbformat_minor": 5
}
