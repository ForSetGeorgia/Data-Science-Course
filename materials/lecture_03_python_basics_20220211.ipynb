{
 "cells": [
  {
   "cell_type": "markdown",
   "metadata": {},
   "source": [
    "# Python Basics"
   ]
  },
  {
   "cell_type": "markdown",
   "metadata": {},
   "source": [
    "## Basics"
   ]
  },
  {
   "cell_type": "markdown",
   "metadata": {},
   "source": [
    "### Primitive Operators\n",
    "Python can be used as a calculator"
   ]
  },
  {
   "cell_type": "code",
   "execution_count": 1,
   "metadata": {
    "ExecuteTime": {
     "end_time": "2022-02-11T17:18:09.204450Z",
     "start_time": "2022-02-11T17:18:09.191318Z"
    }
   },
   "outputs": [
    {
     "data": {
      "text/plain": [
       "9"
      ]
     },
     "execution_count": 1,
     "metadata": {},
     "output_type": "execute_result"
    }
   ],
   "source": [
    "4+5"
   ]
  },
  {
   "cell_type": "code",
   "execution_count": 2,
   "metadata": {
    "ExecuteTime": {
     "end_time": "2022-02-11T17:18:09.219762Z",
     "start_time": "2022-02-11T17:18:09.206702Z"
    }
   },
   "outputs": [
    {
     "data": {
      "text/plain": [
       "5"
      ]
     },
     "execution_count": 2,
     "metadata": {},
     "output_type": "execute_result"
    }
   ],
   "source": [
    "7-2"
   ]
  },
  {
   "cell_type": "code",
   "execution_count": 3,
   "metadata": {
    "ExecuteTime": {
     "end_time": "2022-02-11T17:18:09.235339Z",
     "start_time": "2022-02-11T17:18:09.220271Z"
    }
   },
   "outputs": [
    {
     "data": {
      "text/plain": [
       "27"
      ]
     },
     "execution_count": 3,
     "metadata": {},
     "output_type": "execute_result"
    }
   ],
   "source": [
    "3*9"
   ]
  },
  {
   "cell_type": "code",
   "execution_count": 4,
   "metadata": {
    "ExecuteTime": {
     "end_time": "2022-02-11T17:18:09.250641Z",
     "start_time": "2022-02-11T17:18:09.236493Z"
    }
   },
   "outputs": [
    {
     "data": {
      "text/plain": [
       "4.5"
      ]
     },
     "execution_count": 4,
     "metadata": {},
     "output_type": "execute_result"
    }
   ],
   "source": [
    "9/2"
   ]
  },
  {
   "cell_type": "markdown",
   "metadata": {},
   "source": [
    "`//` is a floor division operator\n",
    "\n",
    "`9 // 2 = 4`"
   ]
  },
  {
   "cell_type": "code",
   "execution_count": 5,
   "metadata": {
    "ExecuteTime": {
     "end_time": "2022-02-11T17:18:09.265891Z",
     "start_time": "2022-02-11T17:18:09.251798Z"
    }
   },
   "outputs": [
    {
     "data": {
      "text/plain": [
       "4"
      ]
     },
     "execution_count": 5,
     "metadata": {},
     "output_type": "execute_result"
    }
   ],
   "source": [
    "9//2"
   ]
  },
  {
   "cell_type": "markdown",
   "metadata": {},
   "source": [
    "`%` is a modulus operator, it returns remainder from division\n",
    "\n",
    "`9 % 2 = 1`"
   ]
  },
  {
   "cell_type": "code",
   "execution_count": 6,
   "metadata": {
    "ExecuteTime": {
     "end_time": "2022-02-11T17:18:09.280979Z",
     "start_time": "2022-02-11T17:18:09.266960Z"
    }
   },
   "outputs": [
    {
     "data": {
      "text/plain": [
       "1"
      ]
     },
     "execution_count": 6,
     "metadata": {},
     "output_type": "execute_result"
    }
   ],
   "source": [
    "9%2"
   ]
  },
  {
   "cell_type": "markdown",
   "metadata": {},
   "source": [
    "`**` is an exponentiation (power) operator\n",
    "\n",
    "`2 ** 5 = 32`"
   ]
  },
  {
   "cell_type": "code",
   "execution_count": null,
   "metadata": {},
   "outputs": [],
   "source": []
  },
  {
   "cell_type": "code",
   "execution_count": 7,
   "metadata": {
    "ExecuteTime": {
     "end_time": "2022-02-11T17:18:09.296397Z",
     "start_time": "2022-02-11T17:18:09.282318Z"
    }
   },
   "outputs": [
    {
     "data": {
      "text/plain": [
       "32"
      ]
     },
     "execution_count": 7,
     "metadata": {},
     "output_type": "execute_result"
    }
   ],
   "source": [
    "2**5"
   ]
  },
  {
   "cell_type": "code",
   "execution_count": 8,
   "metadata": {
    "ExecuteTime": {
     "end_time": "2022-02-11T17:18:09.311532Z",
     "start_time": "2022-02-11T17:18:09.297315Z"
    }
   },
   "outputs": [
    {
     "data": {
      "text/plain": [
       "125"
      ]
     },
     "execution_count": 8,
     "metadata": {},
     "output_type": "execute_result"
    }
   ],
   "source": [
    "5**3"
   ]
  },
  {
   "cell_type": "code",
   "execution_count": 9,
   "metadata": {
    "ExecuteTime": {
     "end_time": "2022-02-11T17:18:09.326844Z",
     "start_time": "2022-02-11T17:18:09.313765Z"
    }
   },
   "outputs": [
    {
     "data": {
      "text/plain": [
       "1.4142135623730951"
      ]
     },
     "execution_count": 9,
     "metadata": {},
     "output_type": "execute_result"
    }
   ],
   "source": [
    "2 ** (1/2)"
   ]
  },
  {
   "cell_type": "code",
   "execution_count": 10,
   "metadata": {
    "ExecuteTime": {
     "end_time": "2022-02-11T17:18:09.342295Z",
     "start_time": "2022-02-11T17:18:09.328443Z"
    }
   },
   "outputs": [
    {
     "data": {
      "text/plain": [
       "2.154434690031884"
      ]
     },
     "execution_count": 10,
     "metadata": {},
     "output_type": "execute_result"
    }
   ],
   "source": [
    "10 ** (1/3)"
   ]
  },
  {
   "cell_type": "code",
   "execution_count": 11,
   "metadata": {
    "ExecuteTime": {
     "end_time": "2022-02-11T17:18:09.357347Z",
     "start_time": "2022-02-11T17:18:09.343580Z"
    }
   },
   "outputs": [
    {
     "data": {
      "text/plain": [
       "4.0"
      ]
     },
     "execution_count": 11,
     "metadata": {},
     "output_type": "execute_result"
    }
   ],
   "source": [
    "16 ** (1/2)"
   ]
  },
  {
   "cell_type": "code",
   "execution_count": 12,
   "metadata": {
    "ExecuteTime": {
     "end_time": "2022-02-11T17:18:09.373445Z",
     "start_time": "2022-02-11T17:18:09.359444Z"
    }
   },
   "outputs": [
    {
     "data": {
      "text/plain": [
       "2.0"
      ]
     },
     "execution_count": 12,
     "metadata": {},
     "output_type": "execute_result"
    }
   ],
   "source": [
    "8**(1/3)"
   ]
  },
  {
   "cell_type": "code",
   "execution_count": 13,
   "metadata": {
    "ExecuteTime": {
     "end_time": "2022-02-11T17:18:09.389316Z",
     "start_time": "2022-02-11T17:18:09.375099Z"
    }
   },
   "outputs": [
    {
     "data": {
      "text/plain": [
       "5.0"
      ]
     },
     "execution_count": 13,
     "metadata": {},
     "output_type": "execute_result"
    }
   ],
   "source": [
    "125 ** (1/3)"
   ]
  },
  {
   "cell_type": "code",
   "execution_count": 14,
   "metadata": {
    "ExecuteTime": {
     "end_time": "2022-02-11T17:18:09.405105Z",
     "start_time": "2022-02-11T17:18:09.391088Z"
    }
   },
   "outputs": [
    {
     "data": {
      "text/plain": [
       "4.029999999999999"
      ]
     },
     "execution_count": 14,
     "metadata": {},
     "output_type": "execute_result"
    }
   ],
   "source": [
    "2.01 + 2.02"
   ]
  },
  {
   "cell_type": "markdown",
   "metadata": {},
   "source": [
    "### print()\n",
    "In Python `print()` function tells the program to display given argument(s)"
   ]
  },
  {
   "cell_type": "code",
   "execution_count": 15,
   "metadata": {
    "ExecuteTime": {
     "end_time": "2022-02-11T17:18:09.421209Z",
     "start_time": "2022-02-11T17:18:09.406105Z"
    }
   },
   "outputs": [
    {
     "name": "stdout",
     "output_type": "stream",
     "text": [
      "\n"
     ]
    }
   ],
   "source": [
    "print()"
   ]
  },
  {
   "cell_type": "code",
   "execution_count": 16,
   "metadata": {
    "ExecuteTime": {
     "end_time": "2022-02-11T17:18:09.436508Z",
     "start_time": "2022-02-11T17:18:09.422425Z"
    }
   },
   "outputs": [
    {
     "name": "stdout",
     "output_type": "stream",
     "text": [
      "Hello, World!\n"
     ]
    }
   ],
   "source": [
    "print(\"Hello, World!\")"
   ]
  },
  {
   "cell_type": "code",
   "execution_count": 17,
   "metadata": {
    "ExecuteTime": {
     "end_time": "2022-02-11T17:18:09.452082Z",
     "start_time": "2022-02-11T17:18:09.437977Z"
    }
   },
   "outputs": [
    {
     "name": "stdout",
     "output_type": "stream",
     "text": [
      "Hello, World!\n"
     ]
    }
   ],
   "source": [
    "print('Hello, World!')"
   ]
  },
  {
   "cell_type": "code",
   "execution_count": 18,
   "metadata": {
    "ExecuteTime": {
     "end_time": "2022-02-11T17:18:09.467308Z",
     "start_time": "2022-02-11T17:18:09.453043Z"
    }
   },
   "outputs": [
    {
     "name": "stdout",
     "output_type": "stream",
     "text": [
      "Hello, World! this is second argument 42\n"
     ]
    }
   ],
   "source": [
    "print(\"Hello, World!\", \"this is second argument\", 42)"
   ]
  },
  {
   "cell_type": "markdown",
   "metadata": {},
   "source": [
    "by default `print()` has new line (`\\n`) at the end, but can also take `end` optional argument"
   ]
  },
  {
   "cell_type": "code",
   "execution_count": 19,
   "metadata": {
    "ExecuteTime": {
     "end_time": "2022-02-11T17:18:09.482524Z",
     "start_time": "2022-02-11T17:18:09.468307Z"
    }
   },
   "outputs": [
    {
     "name": "stdout",
     "output_type": "stream",
     "text": [
      "1\n",
      "2\n",
      "five\n"
     ]
    }
   ],
   "source": [
    "print(1)\n",
    "print(2)\n",
    "print('five')"
   ]
  },
  {
   "cell_type": "code",
   "execution_count": 20,
   "metadata": {
    "ExecuteTime": {
     "end_time": "2022-02-11T17:18:09.498170Z",
     "start_time": "2022-02-11T17:18:09.484062Z"
    }
   },
   "outputs": [
    {
     "name": "stdout",
     "output_type": "stream",
     "text": [
      "1 _ +2five\n",
      "six\n"
     ]
    }
   ],
   "source": [
    "print(1, end = ' _ +')\n",
    "print(2, end = '')\n",
    "print('five')\n",
    "print('six')"
   ]
  },
  {
   "cell_type": "markdown",
   "metadata": {},
   "source": [
    " `\\` with other characters: `\\'`- ', `\\\"` - \", `\\n` - new line, `\\t`- tab,"
   ]
  },
  {
   "cell_type": "code",
   "execution_count": 21,
   "metadata": {
    "ExecuteTime": {
     "end_time": "2022-02-11T17:18:09.513783Z",
     "start_time": "2022-02-11T17:18:09.499676Z"
    }
   },
   "outputs": [
    {
     "name": "stdout",
     "output_type": "stream",
     "text": [
      "this is second \" argument\n"
     ]
    }
   ],
   "source": [
    "print(\"this is second \\\" argument\")"
   ]
  },
  {
   "cell_type": "code",
   "execution_count": 22,
   "metadata": {
    "ExecuteTime": {
     "end_time": "2022-02-11T17:18:09.529308Z",
     "start_time": "2022-02-11T17:18:09.515203Z"
    }
   },
   "outputs": [
    {
     "name": "stdout",
     "output_type": "stream",
     "text": [
      "this is second \" argument\n"
     ]
    }
   ],
   "source": [
    "print('this is second \" argument')"
   ]
  },
  {
   "cell_type": "code",
   "execution_count": 23,
   "metadata": {
    "ExecuteTime": {
     "end_time": "2022-02-11T17:18:09.544806Z",
     "start_time": "2022-02-11T17:18:09.532696Z"
    }
   },
   "outputs": [
    {
     "name": "stdout",
     "output_type": "stream",
     "text": [
      "this is second ' argument\n"
     ]
    }
   ],
   "source": [
    "print('this is second \\' argument')"
   ]
  },
  {
   "cell_type": "code",
   "execution_count": 24,
   "metadata": {
    "ExecuteTime": {
     "end_time": "2022-02-11T17:18:09.559715Z",
     "start_time": "2022-02-11T17:18:09.546734Z"
    }
   },
   "outputs": [
    {
     "name": "stdout",
     "output_type": "stream",
     "text": [
      "this is second ' argument\n"
     ]
    }
   ],
   "source": [
    "print(\"this is second ' argument\")"
   ]
  },
  {
   "cell_type": "code",
   "execution_count": 25,
   "metadata": {
    "ExecuteTime": {
     "end_time": "2022-02-11T17:18:09.575073Z",
     "start_time": "2022-02-11T17:18:09.560916Z"
    }
   },
   "outputs": [
    {
     "name": "stdout",
     "output_type": "stream",
     "text": [
      "\\\"\n"
     ]
    }
   ],
   "source": [
    "print(\"\\\\\\\"\")"
   ]
  },
  {
   "cell_type": "code",
   "execution_count": 26,
   "metadata": {
    "ExecuteTime": {
     "end_time": "2022-02-11T17:18:09.590487Z",
     "start_time": "2022-02-11T17:18:09.577220Z"
    }
   },
   "outputs": [
    {
     "name": "stdout",
     "output_type": "stream",
     "text": [
      "Hello, \"world\"\n"
     ]
    }
   ],
   "source": [
    "print(\"Hello, \\\"world\\\"\")"
   ]
  },
  {
   "cell_type": "code",
   "execution_count": 27,
   "metadata": {
    "ExecuteTime": {
     "end_time": "2022-02-11T17:18:09.605957Z",
     "start_time": "2022-02-11T17:18:09.591946Z"
    }
   },
   "outputs": [
    {
     "name": "stdout",
     "output_type": "stream",
     "text": [
      "abc'gsdghsgs\n",
      "some\ttext with\n",
      "new line \n",
      "\n",
      "\n",
      "\n",
      "IS HERE\n"
     ]
    }
   ],
   "source": [
    "print('abc\\'gsdghsgs')\n",
    "print('some\\ttext with\\nnew line \\n\\n\\n\\nIS HERE')"
   ]
  },
  {
   "cell_type": "markdown",
   "metadata": {},
   "source": [
    "### Primitive Datatypes"
   ]
  },
  {
   "cell_type": "code",
   "execution_count": 28,
   "metadata": {
    "ExecuteTime": {
     "end_time": "2022-02-11T17:18:09.622054Z",
     "start_time": "2022-02-11T17:18:09.607939Z"
    }
   },
   "outputs": [],
   "source": [
    "a = 6 # integer\n",
    "b = 7.5 # float\n",
    "c = True\n",
    "d = \"some text\"\n",
    "e = None"
   ]
  },
  {
   "cell_type": "code",
   "execution_count": 29,
   "metadata": {
    "ExecuteTime": {
     "end_time": "2022-02-11T17:18:09.637743Z",
     "start_time": "2022-02-11T17:18:09.623733Z"
    }
   },
   "outputs": [
    {
     "data": {
      "text/plain": [
       "6"
      ]
     },
     "execution_count": 29,
     "metadata": {},
     "output_type": "execute_result"
    }
   ],
   "source": [
    "a"
   ]
  },
  {
   "cell_type": "code",
   "execution_count": 30,
   "metadata": {
    "ExecuteTime": {
     "end_time": "2022-02-11T17:18:09.653135Z",
     "start_time": "2022-02-11T17:18:09.639074Z"
    }
   },
   "outputs": [
    {
     "data": {
      "text/plain": [
       "7.5"
      ]
     },
     "execution_count": 30,
     "metadata": {},
     "output_type": "execute_result"
    }
   ],
   "source": [
    "b"
   ]
  },
  {
   "cell_type": "code",
   "execution_count": 31,
   "metadata": {
    "ExecuteTime": {
     "end_time": "2022-02-11T17:18:09.668722Z",
     "start_time": "2022-02-11T17:18:09.654465Z"
    }
   },
   "outputs": [
    {
     "data": {
      "text/plain": [
       "'some text'"
      ]
     },
     "execution_count": 31,
     "metadata": {},
     "output_type": "execute_result"
    }
   ],
   "source": [
    "d"
   ]
  },
  {
   "cell_type": "code",
   "execution_count": 32,
   "metadata": {
    "ExecuteTime": {
     "end_time": "2022-02-11T17:18:09.684243Z",
     "start_time": "2022-02-11T17:18:09.670569Z"
    }
   },
   "outputs": [
    {
     "name": "stdout",
     "output_type": "stream",
     "text": [
      "some text\n"
     ]
    }
   ],
   "source": [
    "print(d)"
   ]
  },
  {
   "cell_type": "markdown",
   "metadata": {},
   "source": [
    "#### type()\n",
    "`type()` function returns the type of an object."
   ]
  },
  {
   "cell_type": "code",
   "execution_count": 33,
   "metadata": {
    "ExecuteTime": {
     "end_time": "2022-02-11T17:18:09.700084Z",
     "start_time": "2022-02-11T17:18:09.685855Z"
    }
   },
   "outputs": [
    {
     "data": {
      "text/plain": [
       "int"
      ]
     },
     "execution_count": 33,
     "metadata": {},
     "output_type": "execute_result"
    }
   ],
   "source": [
    "type(12)"
   ]
  },
  {
   "cell_type": "code",
   "execution_count": 34,
   "metadata": {
    "ExecuteTime": {
     "end_time": "2022-02-11T17:18:09.715742Z",
     "start_time": "2022-02-11T17:18:09.701586Z"
    }
   },
   "outputs": [
    {
     "data": {
      "text/plain": [
       "int"
      ]
     },
     "execution_count": 34,
     "metadata": {},
     "output_type": "execute_result"
    }
   ],
   "source": [
    "type(a)"
   ]
  },
  {
   "cell_type": "code",
   "execution_count": 35,
   "metadata": {
    "ExecuteTime": {
     "end_time": "2022-02-11T17:18:09.730853Z",
     "start_time": "2022-02-11T17:18:09.717233Z"
    }
   },
   "outputs": [
    {
     "data": {
      "text/plain": [
       "float"
      ]
     },
     "execution_count": 35,
     "metadata": {},
     "output_type": "execute_result"
    }
   ],
   "source": [
    "type(3.4)"
   ]
  },
  {
   "cell_type": "code",
   "execution_count": 36,
   "metadata": {
    "ExecuteTime": {
     "end_time": "2022-02-11T17:18:09.746403Z",
     "start_time": "2022-02-11T17:18:09.732180Z"
    }
   },
   "outputs": [
    {
     "data": {
      "text/plain": [
       "float"
      ]
     },
     "execution_count": 36,
     "metadata": {},
     "output_type": "execute_result"
    }
   ],
   "source": [
    "type(b)"
   ]
  },
  {
   "cell_type": "code",
   "execution_count": 37,
   "metadata": {
    "ExecuteTime": {
     "end_time": "2022-02-11T17:18:09.762433Z",
     "start_time": "2022-02-11T17:18:09.748311Z"
    }
   },
   "outputs": [
    {
     "data": {
      "text/plain": [
       "str"
      ]
     },
     "execution_count": 37,
     "metadata": {},
     "output_type": "execute_result"
    }
   ],
   "source": [
    "type('Hello, World!')"
   ]
  },
  {
   "cell_type": "code",
   "execution_count": 38,
   "metadata": {
    "ExecuteTime": {
     "end_time": "2022-02-11T17:18:09.778210Z",
     "start_time": "2022-02-11T17:18:09.763950Z"
    }
   },
   "outputs": [
    {
     "data": {
      "text/plain": [
       "bool"
      ]
     },
     "execution_count": 38,
     "metadata": {},
     "output_type": "execute_result"
    }
   ],
   "source": [
    "type(True)"
   ]
  },
  {
   "cell_type": "code",
   "execution_count": 39,
   "metadata": {
    "ExecuteTime": {
     "end_time": "2022-02-11T17:18:09.793350Z",
     "start_time": "2022-02-11T17:18:09.780456Z"
    }
   },
   "outputs": [
    {
     "data": {
      "text/plain": [
       "NoneType"
      ]
     },
     "execution_count": 39,
     "metadata": {},
     "output_type": "execute_result"
    }
   ],
   "source": [
    "type(None)"
   ]
  },
  {
   "cell_type": "code",
   "execution_count": 40,
   "metadata": {
    "ExecuteTime": {
     "end_time": "2022-02-11T17:18:09.808292Z",
     "start_time": "2022-02-11T17:18:09.794484Z"
    }
   },
   "outputs": [
    {
     "data": {
      "text/plain": [
       "(6, 7.5, True)"
      ]
     },
     "execution_count": 40,
     "metadata": {},
     "output_type": "execute_result"
    }
   ],
   "source": [
    "a, b, c"
   ]
  },
  {
   "cell_type": "code",
   "execution_count": 41,
   "metadata": {
    "ExecuteTime": {
     "end_time": "2022-02-11T17:18:09.824244Z",
     "start_time": "2022-02-11T17:18:09.809947Z"
    }
   },
   "outputs": [
    {
     "data": {
      "text/plain": [
       "(int, float, bool, str, NoneType)"
      ]
     },
     "execution_count": 41,
     "metadata": {},
     "output_type": "execute_result"
    }
   ],
   "source": [
    "type(a), type(b), type(c), type(d), type(e)"
   ]
  },
  {
   "cell_type": "code",
   "execution_count": 42,
   "metadata": {
    "ExecuteTime": {
     "end_time": "2022-02-11T17:18:09.840000Z",
     "start_time": "2022-02-11T17:18:09.826332Z"
    }
   },
   "outputs": [
    {
     "name": "stdout",
     "output_type": "stream",
     "text": [
      "<class 'int'> <class 'int'> <class 'float'>\n",
      "<class 'int'> <class 'int'> <class 'float'>\n"
     ]
    }
   ],
   "source": [
    "a=5\n",
    "b=7\n",
    "d=1.7\n",
    "a_type = type(a)\n",
    "b_type = type(b)\n",
    "d_type = type(d)\n",
    "\n",
    "print(type(a), type(b), type(d))\n",
    "print(a_type, b_type, d_type)"
   ]
  },
  {
   "cell_type": "code",
   "execution_count": 43,
   "metadata": {
    "ExecuteTime": {
     "end_time": "2022-02-11T17:18:09.855302Z",
     "start_time": "2022-02-11T17:18:09.841941Z"
    }
   },
   "outputs": [],
   "source": [
    "a, b, c, d = 1.0, 6, 9, 0"
   ]
  },
  {
   "cell_type": "code",
   "execution_count": 44,
   "metadata": {
    "ExecuteTime": {
     "end_time": "2022-02-11T17:18:09.871034Z",
     "start_time": "2022-02-11T17:18:09.857540Z"
    }
   },
   "outputs": [
    {
     "data": {
      "text/plain": [
       "float"
      ]
     },
     "execution_count": 44,
     "metadata": {},
     "output_type": "execute_result"
    }
   ],
   "source": [
    "type(a)"
   ]
  },
  {
   "cell_type": "code",
   "execution_count": 45,
   "metadata": {
    "ExecuteTime": {
     "end_time": "2022-02-11T17:18:09.886696Z",
     "start_time": "2022-02-11T17:18:09.872506Z"
    }
   },
   "outputs": [],
   "source": [
    "b_type = type(b)"
   ]
  },
  {
   "cell_type": "code",
   "execution_count": 46,
   "metadata": {
    "ExecuteTime": {
     "end_time": "2022-02-11T17:18:09.902600Z",
     "start_time": "2022-02-11T17:18:09.888764Z"
    }
   },
   "outputs": [
    {
     "data": {
      "text/plain": [
       "int"
      ]
     },
     "execution_count": 46,
     "metadata": {},
     "output_type": "execute_result"
    }
   ],
   "source": [
    "type(d)"
   ]
  },
  {
   "cell_type": "code",
   "execution_count": 47,
   "metadata": {
    "ExecuteTime": {
     "end_time": "2022-02-11T17:18:09.917914Z",
     "start_time": "2022-02-11T17:18:09.903780Z"
    }
   },
   "outputs": [],
   "source": [
    "c=9"
   ]
  },
  {
   "cell_type": "code",
   "execution_count": 48,
   "metadata": {
    "ExecuteTime": {
     "end_time": "2022-02-11T17:18:09.933448Z",
     "start_time": "2022-02-11T17:18:09.918412Z"
    }
   },
   "outputs": [
    {
     "data": {
      "text/plain": [
       "9"
      ]
     },
     "execution_count": 48,
     "metadata": {},
     "output_type": "execute_result"
    }
   ],
   "source": [
    "c"
   ]
  },
  {
   "cell_type": "code",
   "execution_count": 49,
   "metadata": {
    "ExecuteTime": {
     "end_time": "2022-02-11T17:18:09.948454Z",
     "start_time": "2022-02-11T17:18:09.934429Z"
    }
   },
   "outputs": [
    {
     "data": {
      "text/plain": [
       "bool"
      ]
     },
     "execution_count": 49,
     "metadata": {},
     "output_type": "execute_result"
    }
   ],
   "source": [
    "e=True\n",
    "type(e)"
   ]
  },
  {
   "cell_type": "code",
   "execution_count": 50,
   "metadata": {
    "ExecuteTime": {
     "end_time": "2022-02-11T17:18:09.964230Z",
     "start_time": "2022-02-11T17:18:09.950044Z"
    }
   },
   "outputs": [
    {
     "data": {
      "text/plain": [
       "bool"
      ]
     },
     "execution_count": 50,
     "metadata": {},
     "output_type": "execute_result"
    }
   ],
   "source": [
    "type(e)"
   ]
  },
  {
   "cell_type": "code",
   "execution_count": 51,
   "metadata": {
    "ExecuteTime": {
     "end_time": "2022-02-11T17:18:09.979860Z",
     "start_time": "2022-02-11T17:18:09.964730Z"
    }
   },
   "outputs": [],
   "source": [
    "some_text = \"abcd\""
   ]
  },
  {
   "cell_type": "code",
   "execution_count": 52,
   "metadata": {
    "ExecuteTime": {
     "end_time": "2022-02-11T17:18:09.994961Z",
     "start_time": "2022-02-11T17:18:09.980922Z"
    }
   },
   "outputs": [
    {
     "data": {
      "text/plain": [
       "NoneType"
      ]
     },
     "execution_count": 52,
     "metadata": {},
     "output_type": "execute_result"
    }
   ],
   "source": [
    "f=None\n",
    "type(f)"
   ]
  },
  {
   "cell_type": "code",
   "execution_count": 53,
   "metadata": {
    "ExecuteTime": {
     "end_time": "2022-02-11T17:18:10.010543Z",
     "start_time": "2022-02-11T17:18:09.995932Z"
    }
   },
   "outputs": [
    {
     "data": {
      "text/plain": [
       "NoneType"
      ]
     },
     "execution_count": 53,
     "metadata": {},
     "output_type": "execute_result"
    }
   ],
   "source": [
    "type(f)\n",
    "# Comment"
   ]
  },
  {
   "cell_type": "code",
   "execution_count": 54,
   "metadata": {
    "ExecuteTime": {
     "end_time": "2022-02-11T17:18:10.025805Z",
     "start_time": "2022-02-11T17:18:10.011675Z"
    }
   },
   "outputs": [
    {
     "data": {
      "text/plain": [
       "NoneType"
      ]
     },
     "execution_count": 54,
     "metadata": {},
     "output_type": "execute_result"
    }
   ],
   "source": [
    "new_var=None\n",
    "type(new_var)"
   ]
  },
  {
   "cell_type": "code",
   "execution_count": 55,
   "metadata": {
    "ExecuteTime": {
     "end_time": "2022-02-11T17:18:10.040909Z",
     "start_time": "2022-02-11T17:18:10.027832Z"
    }
   },
   "outputs": [
    {
     "data": {
      "text/plain": [
       "NoneType"
      ]
     },
     "execution_count": 55,
     "metadata": {},
     "output_type": "execute_result"
    }
   ],
   "source": [
    "type(new_var)"
   ]
  },
  {
   "cell_type": "code",
   "execution_count": 56,
   "metadata": {
    "ExecuteTime": {
     "end_time": "2022-02-11T17:18:10.057088Z",
     "start_time": "2022-02-11T17:18:10.041829Z"
    }
   },
   "outputs": [
    {
     "name": "stdout",
     "output_type": "stream",
     "text": [
      "None\n"
     ]
    }
   ],
   "source": [
    "print(new_var)"
   ]
  },
  {
   "cell_type": "code",
   "execution_count": 57,
   "metadata": {
    "ExecuteTime": {
     "end_time": "2022-02-11T17:18:10.072484Z",
     "start_time": "2022-02-11T17:18:10.058265Z"
    }
   },
   "outputs": [],
   "source": [
    "new_var"
   ]
  },
  {
   "cell_type": "code",
   "execution_count": 58,
   "metadata": {
    "ExecuteTime": {
     "end_time": "2022-02-11T17:18:10.087814Z",
     "start_time": "2022-02-11T17:18:10.073617Z"
    }
   },
   "outputs": [],
   "source": [
    "None"
   ]
  },
  {
   "cell_type": "code",
   "execution_count": 59,
   "metadata": {
    "ExecuteTime": {
     "end_time": "2022-02-11T17:18:10.103427Z",
     "start_time": "2022-02-11T17:18:10.089425Z"
    }
   },
   "outputs": [],
   "source": [
    "a = 5\n",
    "type(a)\n",
    "c = 6735"
   ]
  },
  {
   "cell_type": "code",
   "execution_count": 60,
   "metadata": {
    "ExecuteTime": {
     "end_time": "2022-02-11T17:18:10.118513Z",
     "start_time": "2022-02-11T17:18:10.104443Z"
    }
   },
   "outputs": [
    {
     "data": {
      "text/plain": [
       "int"
      ]
     },
     "execution_count": 60,
     "metadata": {},
     "output_type": "execute_result"
    }
   ],
   "source": [
    "type(a)"
   ]
  },
  {
   "cell_type": "markdown",
   "metadata": {},
   "source": [
    "## Strings"
   ]
  },
  {
   "cell_type": "code",
   "execution_count": 61,
   "metadata": {
    "ExecuteTime": {
     "end_time": "2022-02-11T17:18:10.134241Z",
     "start_time": "2022-02-11T17:18:10.120078Z"
    }
   },
   "outputs": [],
   "source": [
    "str_a=\"Lorem ipsum dolor sit amet\"\n",
    "str_b=\"consectetur adipiscing elit, sed do eiusmod tempor\""
   ]
  },
  {
   "cell_type": "code",
   "execution_count": 62,
   "metadata": {
    "ExecuteTime": {
     "end_time": "2022-02-11T17:18:10.149432Z",
     "start_time": "2022-02-11T17:18:10.135327Z"
    }
   },
   "outputs": [],
   "source": [
    "a=\"any text\""
   ]
  },
  {
   "cell_type": "code",
   "execution_count": 63,
   "metadata": {
    "ExecuteTime": {
     "end_time": "2022-02-11T17:18:10.164886Z",
     "start_time": "2022-02-11T17:18:10.150123Z"
    }
   },
   "outputs": [
    {
     "name": "stdout",
     "output_type": "stream",
     "text": [
      "Lorem ipsum dolor sit amet\n"
     ]
    }
   ],
   "source": [
    "print(str_a)"
   ]
  },
  {
   "cell_type": "code",
   "execution_count": 64,
   "metadata": {
    "ExecuteTime": {
     "end_time": "2022-02-11T17:18:10.180709Z",
     "start_time": "2022-02-11T17:18:10.166430Z"
    }
   },
   "outputs": [
    {
     "data": {
      "text/plain": [
       "'Lorem ipsum dolor sit amet'"
      ]
     },
     "execution_count": 64,
     "metadata": {},
     "output_type": "execute_result"
    }
   ],
   "source": [
    "str_a"
   ]
  },
  {
   "cell_type": "code",
   "execution_count": 65,
   "metadata": {
    "ExecuteTime": {
     "end_time": "2022-02-11T17:18:10.196478Z",
     "start_time": "2022-02-11T17:18:10.188368Z"
    }
   },
   "outputs": [],
   "source": [
    "a = 6\n"
   ]
  },
  {
   "cell_type": "code",
   "execution_count": 66,
   "metadata": {
    "ExecuteTime": {
     "end_time": "2022-02-11T17:18:10.211745Z",
     "start_time": "2022-02-11T17:18:10.198121Z"
    }
   },
   "outputs": [],
   "source": [
    "a = 4.3"
   ]
  },
  {
   "cell_type": "markdown",
   "metadata": {},
   "source": [
    "### len()"
   ]
  },
  {
   "cell_type": "code",
   "execution_count": 67,
   "metadata": {
    "ExecuteTime": {
     "end_time": "2022-02-11T17:18:10.227310Z",
     "start_time": "2022-02-11T17:18:10.213227Z"
    }
   },
   "outputs": [
    {
     "data": {
      "text/plain": [
       "26"
      ]
     },
     "execution_count": 67,
     "metadata": {},
     "output_type": "execute_result"
    }
   ],
   "source": [
    "len(str_a)"
   ]
  },
  {
   "cell_type": "code",
   "execution_count": 68,
   "metadata": {
    "ExecuteTime": {
     "end_time": "2022-02-11T17:18:10.242562Z",
     "start_time": "2022-02-11T17:18:10.228471Z"
    }
   },
   "outputs": [
    {
     "data": {
      "text/plain": [
       "'Lorem ipsum dolor sit amet'"
      ]
     },
     "execution_count": 68,
     "metadata": {},
     "output_type": "execute_result"
    }
   ],
   "source": [
    "str_a"
   ]
  },
  {
   "cell_type": "code",
   "execution_count": 69,
   "metadata": {
    "ExecuteTime": {
     "end_time": "2022-02-11T17:18:10.258075Z",
     "start_time": "2022-02-11T17:18:10.244075Z"
    }
   },
   "outputs": [
    {
     "name": "stdout",
     "output_type": "stream",
     "text": [
      "some text other text\n"
     ]
    }
   ],
   "source": [
    "print(\"some text \" + \"other text\")"
   ]
  },
  {
   "cell_type": "code",
   "execution_count": 70,
   "metadata": {
    "ExecuteTime": {
     "end_time": "2022-02-11T17:18:10.274200Z",
     "start_time": "2022-02-11T17:18:10.260087Z"
    }
   },
   "outputs": [],
   "source": [
    "a = 6"
   ]
  },
  {
   "cell_type": "code",
   "execution_count": 71,
   "metadata": {
    "ExecuteTime": {
     "end_time": "2022-02-11T17:18:10.290215Z",
     "start_time": "2022-02-11T17:18:10.275477Z"
    }
   },
   "outputs": [],
   "source": [
    "ab_52352_gsksglk =5"
   ]
  },
  {
   "cell_type": "code",
   "execution_count": 72,
   "metadata": {
    "ExecuteTime": {
     "end_time": "2022-02-11T17:18:10.305536Z",
     "start_time": "2022-02-11T17:18:10.291386Z"
    }
   },
   "outputs": [
    {
     "data": {
      "text/plain": [
       "6"
      ]
     },
     "execution_count": 72,
     "metadata": {},
     "output_type": "execute_result"
    }
   ],
   "source": [
    "a\n"
   ]
  },
  {
   "cell_type": "code",
   "execution_count": 73,
   "metadata": {
    "ExecuteTime": {
     "end_time": "2022-02-11T17:18:10.321143Z",
     "start_time": "2022-02-11T17:18:10.307060Z"
    }
   },
   "outputs": [],
   "source": [
    "# ab"
   ]
  },
  {
   "cell_type": "markdown",
   "metadata": {},
   "source": [
    "## `id()` function\n"
   ]
  },
  {
   "cell_type": "code",
   "execution_count": 74,
   "metadata": {
    "ExecuteTime": {
     "end_time": "2022-02-11T17:18:10.336495Z",
     "start_time": "2022-02-11T17:18:10.322327Z"
    }
   },
   "outputs": [
    {
     "name": "stdout",
     "output_type": "stream",
     "text": [
      "5 78.5\n",
      "2408111761840 2408195006960\n"
     ]
    }
   ],
   "source": [
    "r = 5\n",
    "\n",
    "area = 3.14 * r ** 2\n",
    "print(r, area)\n",
    "print(id(r), id(area))"
   ]
  },
  {
   "cell_type": "code",
   "execution_count": 75,
   "metadata": {
    "ExecuteTime": {
     "end_time": "2022-02-11T17:18:10.351859Z",
     "start_time": "2022-02-11T17:18:10.337717Z"
    }
   },
   "outputs": [
    {
     "name": "stdout",
     "output_type": "stream",
     "text": [
      "2408111762000 2408195006960\n"
     ]
    }
   ],
   "source": [
    "r = 10\n",
    "print(id(r), id(area))"
   ]
  },
  {
   "cell_type": "code",
   "execution_count": 76,
   "metadata": {
    "ExecuteTime": {
     "end_time": "2022-02-11T17:18:10.367577Z",
     "start_time": "2022-02-11T17:18:10.353419Z"
    }
   },
   "outputs": [
    {
     "name": "stdout",
     "output_type": "stream",
     "text": [
      "10 78.5\n",
      "2408111762000 2408195006960\n"
     ]
    }
   ],
   "source": [
    "print(r, area)\n",
    "print(id(r), id(area))"
   ]
  },
  {
   "cell_type": "code",
   "execution_count": 77,
   "metadata": {
    "ExecuteTime": {
     "end_time": "2022-02-11T17:18:10.382681Z",
     "start_time": "2022-02-11T17:18:10.368682Z"
    }
   },
   "outputs": [],
   "source": [
    "area = 3.14 * r ** 2"
   ]
  },
  {
   "cell_type": "code",
   "execution_count": 78,
   "metadata": {
    "ExecuteTime": {
     "end_time": "2022-02-11T17:18:10.398114Z",
     "start_time": "2022-02-11T17:18:10.384040Z"
    }
   },
   "outputs": [
    {
     "name": "stdout",
     "output_type": "stream",
     "text": [
      "10 314.0\n",
      "2408111762000 2408195007760\n"
     ]
    }
   ],
   "source": [
    "print(r, area)\n",
    "print(id(r), id(area))"
   ]
  },
  {
   "cell_type": "code",
   "execution_count": 79,
   "metadata": {
    "ExecuteTime": {
     "end_time": "2022-02-11T17:18:10.413983Z",
     "start_time": "2022-02-11T17:18:10.398616Z"
    }
   },
   "outputs": [
    {
     "name": "stdout",
     "output_type": "stream",
     "text": [
      "20.7 2408195007952\n"
     ]
    }
   ],
   "source": [
    "x=20.7\n",
    "print(x,id(x))\n"
   ]
  },
  {
   "cell_type": "code",
   "execution_count": 80,
   "metadata": {
    "ExecuteTime": {
     "end_time": "2022-02-11T17:18:10.429486Z",
     "start_time": "2022-02-11T17:18:10.415285Z"
    }
   },
   "outputs": [
    {
     "name": "stdout",
     "output_type": "stream",
     "text": [
      "20.7 2408195007952\n"
     ]
    }
   ],
   "source": [
    "print(x,id(x))"
   ]
  },
  {
   "cell_type": "code",
   "execution_count": 81,
   "metadata": {
    "ExecuteTime": {
     "end_time": "2022-02-11T17:18:10.445241Z",
     "start_time": "2022-02-11T17:18:10.431154Z"
    }
   },
   "outputs": [
    {
     "name": "stdout",
     "output_type": "stream",
     "text": [
      "12 2408111762064\n"
     ]
    }
   ],
   "source": [
    "x = 12\n",
    "print(x,id(x))"
   ]
  },
  {
   "cell_type": "code",
   "execution_count": 82,
   "metadata": {
    "ExecuteTime": {
     "end_time": "2022-02-11T17:18:10.460503Z",
     "start_time": "2022-02-11T17:18:10.446424Z"
    }
   },
   "outputs": [
    {
     "name": "stdout",
     "output_type": "stream",
     "text": [
      "12 2408111762064\n"
     ]
    }
   ],
   "source": [
    "x = 12\n",
    "print(x,id(x))"
   ]
  },
  {
   "cell_type": "code",
   "execution_count": 83,
   "metadata": {
    "ExecuteTime": {
     "end_time": "2022-02-11T17:18:10.476174Z",
     "start_time": "2022-02-11T17:18:10.461954Z"
    }
   },
   "outputs": [
    {
     "name": "stdout",
     "output_type": "stream",
     "text": [
      "100000 2408195008432\n"
     ]
    }
   ],
   "source": [
    "x = 100000\n",
    "print(x,id(x))"
   ]
  },
  {
   "cell_type": "code",
   "execution_count": 84,
   "metadata": {
    "ExecuteTime": {
     "end_time": "2022-02-11T17:18:10.490934Z",
     "start_time": "2022-02-11T17:18:10.478202Z"
    }
   },
   "outputs": [
    {
     "name": "stdout",
     "output_type": "stream",
     "text": [
      "100000 2408195008304\n"
     ]
    }
   ],
   "source": [
    "x = 100000\n",
    "print(x,id(x))"
   ]
  },
  {
   "cell_type": "markdown",
   "metadata": {},
   "source": [
    "## Other Operators"
   ]
  },
  {
   "cell_type": "code",
   "execution_count": 85,
   "metadata": {
    "ExecuteTime": {
     "end_time": "2022-02-11T17:18:10.506566Z",
     "start_time": "2022-02-11T17:18:10.492473Z"
    }
   },
   "outputs": [
    {
     "name": "stdout",
     "output_type": "stream",
     "text": [
      "5\n",
      "10\n",
      "13\n"
     ]
    }
   ],
   "source": [
    "r = 5\n",
    "print(r)\n",
    "r = 10\n",
    "print(r)\n",
    "r = r + 3\n",
    "print(r)"
   ]
  },
  {
   "cell_type": "code",
   "execution_count": 86,
   "metadata": {
    "ExecuteTime": {
     "end_time": "2022-02-11T17:18:10.522576Z",
     "start_time": "2022-02-11T17:18:10.507798Z"
    }
   },
   "outputs": [
    {
     "name": "stdout",
     "output_type": "stream",
     "text": [
      "10\n",
      "13\n"
     ]
    }
   ],
   "source": [
    "r = 10\n",
    "print(r)\n",
    "r += 3\n",
    "print(r)\n",
    "# -=\n",
    "# *=\n",
    "# /="
   ]
  },
  {
   "cell_type": "markdown",
   "metadata": {},
   "source": [
    "## Control Flow"
   ]
  },
  {
   "cell_type": "markdown",
   "metadata": {},
   "source": [
    "### Comparison Operators"
   ]
  },
  {
   "cell_type": "markdown",
   "metadata": {},
   "source": [
    "**Equal** operator is `==`"
   ]
  },
  {
   "cell_type": "code",
   "execution_count": 87,
   "metadata": {
    "ExecuteTime": {
     "end_time": "2022-02-11T17:18:10.538484Z",
     "start_time": "2022-02-11T17:18:10.524202Z"
    }
   },
   "outputs": [],
   "source": [
    "a = 6\n",
    "b = 1\n",
    "c = 6"
   ]
  },
  {
   "cell_type": "code",
   "execution_count": 88,
   "metadata": {
    "ExecuteTime": {
     "end_time": "2022-02-11T17:18:10.554146Z",
     "start_time": "2022-02-11T17:18:10.540484Z"
    }
   },
   "outputs": [
    {
     "data": {
      "text/plain": [
       "False"
      ]
     },
     "execution_count": 88,
     "metadata": {},
     "output_type": "execute_result"
    }
   ],
   "source": [
    "5==6"
   ]
  },
  {
   "cell_type": "code",
   "execution_count": 89,
   "metadata": {
    "ExecuteTime": {
     "end_time": "2022-02-11T17:18:10.569898Z",
     "start_time": "2022-02-11T17:18:10.555663Z"
    }
   },
   "outputs": [
    {
     "data": {
      "text/plain": [
       "True"
      ]
     },
     "execution_count": 89,
     "metadata": {},
     "output_type": "execute_result"
    }
   ],
   "source": [
    "5==5"
   ]
  },
  {
   "cell_type": "code",
   "execution_count": 90,
   "metadata": {
    "ExecuteTime": {
     "end_time": "2022-02-11T17:18:10.585113Z",
     "start_time": "2022-02-11T17:18:10.571011Z"
    }
   },
   "outputs": [
    {
     "data": {
      "text/plain": [
       "False"
      ]
     },
     "execution_count": 90,
     "metadata": {},
     "output_type": "execute_result"
    }
   ],
   "source": [
    "a == b"
   ]
  },
  {
   "cell_type": "code",
   "execution_count": 91,
   "metadata": {
    "ExecuteTime": {
     "end_time": "2022-02-11T17:18:10.600633Z",
     "start_time": "2022-02-11T17:18:10.586635Z"
    }
   },
   "outputs": [
    {
     "data": {
      "text/plain": [
       "True"
      ]
     },
     "execution_count": 91,
     "metadata": {},
     "output_type": "execute_result"
    }
   ],
   "source": [
    "a == c"
   ]
  },
  {
   "cell_type": "code",
   "execution_count": null,
   "metadata": {},
   "outputs": [],
   "source": []
  },
  {
   "cell_type": "markdown",
   "metadata": {},
   "source": [
    "**Not Equal** operator is `!=`"
   ]
  },
  {
   "cell_type": "code",
   "execution_count": 92,
   "metadata": {
    "ExecuteTime": {
     "end_time": "2022-02-11T17:18:10.616805Z",
     "start_time": "2022-02-11T17:18:10.601634Z"
    }
   },
   "outputs": [
    {
     "data": {
      "text/plain": [
       "True"
      ]
     },
     "execution_count": 92,
     "metadata": {},
     "output_type": "execute_result"
    }
   ],
   "source": [
    "5!=2"
   ]
  },
  {
   "cell_type": "code",
   "execution_count": 93,
   "metadata": {
    "ExecuteTime": {
     "end_time": "2022-02-11T17:18:10.631928Z",
     "start_time": "2022-02-11T17:18:10.617932Z"
    }
   },
   "outputs": [
    {
     "data": {
      "text/plain": [
       "False"
      ]
     },
     "execution_count": 93,
     "metadata": {},
     "output_type": "execute_result"
    }
   ],
   "source": [
    "5!=5"
   ]
  },
  {
   "cell_type": "markdown",
   "metadata": {},
   "source": [
    "More comparisons"
   ]
  },
  {
   "cell_type": "code",
   "execution_count": 94,
   "metadata": {
    "ExecuteTime": {
     "end_time": "2022-02-11T17:18:10.647617Z",
     "start_time": "2022-02-11T17:18:10.633494Z"
    }
   },
   "outputs": [
    {
     "data": {
      "text/plain": [
       "True"
      ]
     },
     "execution_count": 94,
     "metadata": {},
     "output_type": "execute_result"
    }
   ],
   "source": [
    "3<5"
   ]
  },
  {
   "cell_type": "code",
   "execution_count": 95,
   "metadata": {
    "ExecuteTime": {
     "end_time": "2022-02-11T17:18:10.663176Z",
     "start_time": "2022-02-11T17:18:10.649053Z"
    }
   },
   "outputs": [
    {
     "data": {
      "text/plain": [
       "True"
      ]
     },
     "execution_count": 95,
     "metadata": {},
     "output_type": "execute_result"
    }
   ],
   "source": [
    "4>3"
   ]
  },
  {
   "cell_type": "code",
   "execution_count": 96,
   "metadata": {
    "ExecuteTime": {
     "end_time": "2022-02-11T17:18:10.678386Z",
     "start_time": "2022-02-11T17:18:10.664247Z"
    }
   },
   "outputs": [
    {
     "data": {
      "text/plain": [
       "True"
      ]
     },
     "execution_count": 96,
     "metadata": {},
     "output_type": "execute_result"
    }
   ],
   "source": [
    "4<=6"
   ]
  },
  {
   "cell_type": "code",
   "execution_count": 97,
   "metadata": {
    "ExecuteTime": {
     "end_time": "2022-02-11T17:18:10.693510Z",
     "start_time": "2022-02-11T17:18:10.679511Z"
    }
   },
   "outputs": [
    {
     "data": {
      "text/plain": [
       "True"
      ]
     },
     "execution_count": 97,
     "metadata": {},
     "output_type": "execute_result"
    }
   ],
   "source": [
    "7>=7"
   ]
  },
  {
   "cell_type": "markdown",
   "metadata": {},
   "source": [
    "### Boolean Operators"
   ]
  },
  {
   "cell_type": "code",
   "execution_count": 98,
   "metadata": {
    "ExecuteTime": {
     "end_time": "2022-02-11T17:18:10.709062Z",
     "start_time": "2022-02-11T17:18:10.694724Z"
    }
   },
   "outputs": [
    {
     "data": {
      "text/plain": [
       "(True, False)"
      ]
     },
     "execution_count": 98,
     "metadata": {},
     "output_type": "execute_result"
    }
   ],
   "source": [
    "True, False"
   ]
  },
  {
   "cell_type": "code",
   "execution_count": 99,
   "metadata": {
    "ExecuteTime": {
     "end_time": "2022-02-11T17:18:10.725036Z",
     "start_time": "2022-02-11T17:18:10.710658Z"
    }
   },
   "outputs": [
    {
     "data": {
      "text/plain": [
       "15"
      ]
     },
     "execution_count": 99,
     "metadata": {},
     "output_type": "execute_result"
    }
   ],
   "source": [
    "15"
   ]
  },
  {
   "cell_type": "code",
   "execution_count": 100,
   "metadata": {
    "ExecuteTime": {
     "end_time": "2022-02-11T17:18:10.740774Z",
     "start_time": "2022-02-11T17:18:10.726636Z"
    }
   },
   "outputs": [
    {
     "data": {
      "text/plain": [
       "True"
      ]
     },
     "execution_count": 100,
     "metadata": {},
     "output_type": "execute_result"
    }
   ],
   "source": [
    "not False"
   ]
  },
  {
   "cell_type": "code",
   "execution_count": 101,
   "metadata": {
    "ExecuteTime": {
     "end_time": "2022-02-11T17:18:10.756294Z",
     "start_time": "2022-02-11T17:18:10.742294Z"
    }
   },
   "outputs": [
    {
     "data": {
      "text/plain": [
       "False"
      ]
     },
     "execution_count": 101,
     "metadata": {},
     "output_type": "execute_result"
    }
   ],
   "source": [
    "not 5==5"
   ]
  },
  {
   "cell_type": "code",
   "execution_count": 102,
   "metadata": {
    "ExecuteTime": {
     "end_time": "2022-02-11T17:18:10.772303Z",
     "start_time": "2022-02-11T17:18:10.757859Z"
    }
   },
   "outputs": [
    {
     "data": {
      "text/plain": [
       "False"
      ]
     },
     "execution_count": 102,
     "metadata": {},
     "output_type": "execute_result"
    }
   ],
   "source": [
    "True and False"
   ]
  },
  {
   "cell_type": "code",
   "execution_count": 103,
   "metadata": {
    "ExecuteTime": {
     "end_time": "2022-02-11T17:18:10.788370Z",
     "start_time": "2022-02-11T17:18:10.773344Z"
    }
   },
   "outputs": [
    {
     "data": {
      "text/plain": [
       "False"
      ]
     },
     "execution_count": 103,
     "metadata": {},
     "output_type": "execute_result"
    }
   ],
   "source": [
    "not (True or False)"
   ]
  },
  {
   "cell_type": "code",
   "execution_count": null,
   "metadata": {},
   "outputs": [],
   "source": []
  },
  {
   "cell_type": "markdown",
   "metadata": {},
   "source": [
    "### Sets of Conditions"
   ]
  },
  {
   "cell_type": "code",
   "execution_count": 104,
   "metadata": {
    "ExecuteTime": {
     "end_time": "2022-02-11T17:18:10.803806Z",
     "start_time": "2022-02-11T17:18:10.789692Z"
    }
   },
   "outputs": [
    {
     "data": {
      "text/plain": [
       "True"
      ]
     },
     "execution_count": 104,
     "metadata": {},
     "output_type": "execute_result"
    }
   ],
   "source": [
    "not (True and False) or False"
   ]
  },
  {
   "cell_type": "code",
   "execution_count": 105,
   "metadata": {
    "ExecuteTime": {
     "end_time": "2022-02-11T17:18:10.819039Z",
     "start_time": "2022-02-11T17:18:10.805332Z"
    }
   },
   "outputs": [
    {
     "data": {
      "text/plain": [
       "True"
      ]
     },
     "execution_count": 105,
     "metadata": {},
     "output_type": "execute_result"
    }
   ],
   "source": [
    "(5 != 6) and (4 > 3)"
   ]
  },
  {
   "cell_type": "markdown",
   "metadata": {},
   "source": [
    "### `if` statement"
   ]
  },
  {
   "cell_type": "code",
   "execution_count": 106,
   "metadata": {
    "ExecuteTime": {
     "end_time": "2022-02-11T17:18:10.834920Z",
     "start_time": "2022-02-11T17:18:10.820577Z"
    }
   },
   "outputs": [],
   "source": [
    "   a   = 3\n",
    "b = 5 "
   ]
  },
  {
   "cell_type": "code",
   "execution_count": 107,
   "metadata": {
    "ExecuteTime": {
     "end_time": "2022-02-11T17:18:10.850644Z",
     "start_time": "2022-02-11T17:18:10.836513Z"
    }
   },
   "outputs": [
    {
     "name": "stdout",
     "output_type": "stream",
     "text": [
      "if is finished\n"
     ]
    }
   ],
   "source": [
    "if a > b:\n",
    "    print(\"a is greater\")\n",
    "    print(\"ending if\")\n",
    "    \n",
    "    c = 5\n",
    "    print('declared c')\n",
    "    \n",
    "print(\"if is finished\")"
   ]
  },
  {
   "cell_type": "code",
   "execution_count": 108,
   "metadata": {
    "ExecuteTime": {
     "end_time": "2022-02-11T17:18:10.866596Z",
     "start_time": "2022-02-11T17:18:10.852251Z"
    }
   },
   "outputs": [
    {
     "name": "stdout",
     "output_type": "stream",
     "text": [
      "before 'if' statement\n",
      "a is less than b\n",
      "other print\n",
      "123\n",
      "after 'if' statement\n"
     ]
    }
   ],
   "source": [
    "a, b, c, d = 1, 6, 9, 0\n",
    "\n",
    "print('before \\'if\\' statement')\n",
    "if a < b:\n",
    "    print(\"a is less than b\")\n",
    "    print(\"other print\")\n",
    "    \n",
    "    \n",
    "    print(123)\n",
    "\n",
    "print('after \\'if\\' statement')"
   ]
  },
  {
   "cell_type": "markdown",
   "metadata": {},
   "source": [
    "### `else` and `elif` statements"
   ]
  },
  {
   "cell_type": "code",
   "execution_count": 109,
   "metadata": {
    "ExecuteTime": {
     "end_time": "2022-02-11T17:18:10.881222Z",
     "start_time": "2022-02-11T17:18:10.867843Z"
    }
   },
   "outputs": [
    {
     "name": "stdout",
     "output_type": "stream",
     "text": [
      "a is not less than b\n",
      "this is ELSE part\n",
      "finished if\n"
     ]
    }
   ],
   "source": [
    "a=7\n",
    "b=1\n",
    "if a < b:\n",
    "    print(\"a is less than b\")\n",
    "    print(\"other print\")\n",
    "else:\n",
    "    print(\"a is not less than b\")\n",
    "    print(\"this is ELSE part\")\n",
    "print('finished if')"
   ]
  },
  {
   "cell_type": "code",
   "execution_count": 110,
   "metadata": {
    "ExecuteTime": {
     "end_time": "2022-02-11T17:18:10.896660Z",
     "start_time": "2022-02-11T17:18:10.882660Z"
    }
   },
   "outputs": [
    {
     "name": "stdout",
     "output_type": "stream",
     "text": [
      "a is less to 4\n",
      "done\n"
     ]
    }
   ],
   "source": [
    "a = 3\n",
    "f = 14\n",
    "if a>4:\n",
    "    print(\"a is greater than 4\")\n",
    "    b=7\n",
    "elif f==4:\n",
    "    print(\"f is equal to 4\")\n",
    "    b=9\n",
    "else:\n",
    "    print(\"a is less to 4\")\n",
    "    c=3\n",
    "\n",
    "print(\"done\")"
   ]
  },
  {
   "cell_type": "markdown",
   "metadata": {},
   "source": [
    "### Nested `if` Statements"
   ]
  },
  {
   "cell_type": "code",
   "execution_count": 111,
   "metadata": {
    "ExecuteTime": {
     "end_time": "2022-02-11T17:18:10.912679Z",
     "start_time": "2022-02-11T17:18:10.898297Z"
    }
   },
   "outputs": [
    {
     "name": "stdout",
     "output_type": "stream",
     "text": [
      "a is not less than b\n",
      "this is ELSE part\n"
     ]
    }
   ],
   "source": [
    "a=6\n",
    "if a < b:\n",
    "    print(\"a is less than b\")\n",
    "    print(\"other print\")\n",
    "    if c > d:\n",
    "        print(\"also c is greater than d\")\n",
    "    print(\"c compared to d\")\n",
    "elif a==b:\n",
    "    print(\"A is equal to b\")\n",
    "else:\n",
    "    print(\"a is not less than b\")\n",
    "    print(\"this is ELSE part\")"
   ]
  },
  {
   "cell_type": "markdown",
   "metadata": {},
   "source": [
    "## Comments"
   ]
  },
  {
   "cell_type": "markdown",
   "metadata": {},
   "source": [
    "### Single Line Comments"
   ]
  },
  {
   "cell_type": "code",
   "execution_count": 112,
   "metadata": {
    "ExecuteTime": {
     "end_time": "2022-02-11T17:18:10.928704Z",
     "start_time": "2022-02-11T17:18:10.913662Z"
    }
   },
   "outputs": [
    {
     "name": "stdout",
     "output_type": "stream",
     "text": [
      "5\n"
     ]
    }
   ],
   "source": [
    "# this is single line comment\n",
    "a = 5 # declare a variable\n",
    "# a = 10\n",
    "# \n",
    "print(a) # printed a"
   ]
  },
  {
   "cell_type": "markdown",
   "metadata": {},
   "source": [
    "### Multi Line Comments"
   ]
  },
  {
   "cell_type": "code",
   "execution_count": 113,
   "metadata": {
    "ExecuteTime": {
     "end_time": "2022-02-11T17:18:10.944570Z",
     "start_time": "2022-02-11T17:18:10.930791Z"
    }
   },
   "outputs": [
    {
     "data": {
      "text/plain": [
       "'this is\\nmultiline\\ncomment, which often is used as a documentation\\n'"
      ]
     },
     "execution_count": 113,
     "metadata": {},
     "output_type": "execute_result"
    }
   ],
   "source": [
    "\"\"\"this is\n",
    "multiline\n",
    "comment, which often is used as a documentation\n",
    "\"\"\"\n",
    "\n",
    "# again single line comment"
   ]
  },
  {
   "cell_type": "code",
   "execution_count": 114,
   "metadata": {
    "ExecuteTime": {
     "end_time": "2022-02-11T17:18:10.959730Z",
     "start_time": "2022-02-11T17:18:10.945678Z"
    }
   },
   "outputs": [
    {
     "data": {
      "text/plain": [
       "'hello, wolrd'"
      ]
     },
     "execution_count": 114,
     "metadata": {},
     "output_type": "execute_result"
    }
   ],
   "source": [
    "\"hello, wolrd\""
   ]
  },
  {
   "cell_type": "code",
   "execution_count": 115,
   "metadata": {
    "ExecuteTime": {
     "end_time": "2022-02-11T17:18:10.975510Z",
     "start_time": "2022-02-11T17:18:10.961386Z"
    }
   },
   "outputs": [
    {
     "data": {
      "text/plain": [
       "'\\nthis is another multi-line comment\\n'"
      ]
     },
     "execution_count": 115,
     "metadata": {},
     "output_type": "execute_result"
    }
   ],
   "source": [
    "'''\n",
    "this is another multi-line comment\n",
    "'''"
   ]
  },
  {
   "cell_type": "code",
   "execution_count": 116,
   "metadata": {
    "ExecuteTime": {
     "end_time": "2022-02-11T17:18:10.990623Z",
     "start_time": "2022-02-11T17:18:10.976425Z"
    }
   },
   "outputs": [
    {
     "name": "stdout",
     "output_type": "stream",
     "text": [
      "\n"
     ]
    }
   ],
   "source": [
    "print()"
   ]
  },
  {
   "cell_type": "code",
   "execution_count": 117,
   "metadata": {
    "ExecuteTime": {
     "end_time": "2022-02-11T17:18:11.006317Z",
     "start_time": "2022-02-11T17:18:10.992143Z"
    }
   },
   "outputs": [
    {
     "name": "stdout",
     "output_type": "stream",
     "text": [
      "\n"
     ]
    }
   ],
   "source": [
    "print() # something"
   ]
  },
  {
   "cell_type": "code",
   "execution_count": 118,
   "metadata": {
    "ExecuteTime": {
     "end_time": "2022-02-11T17:18:11.022084Z",
     "start_time": "2022-02-11T17:18:11.006875Z"
    }
   },
   "outputs": [
    {
     "name": "stdout",
     "output_type": "stream",
     "text": [
      "#something\n"
     ]
    }
   ],
   "source": [
    "print(\"#something\")"
   ]
  },
  {
   "cell_type": "code",
   "execution_count": null,
   "metadata": {
    "ExecuteTime": {
     "end_time": "2022-02-04T15:56:05.859574Z",
     "start_time": "2022-02-04T15:56:05.841653Z"
    }
   },
   "outputs": [],
   "source": []
  },
  {
   "cell_type": "markdown",
   "metadata": {},
   "source": [
    "## While Loop"
   ]
  },
  {
   "cell_type": "code",
   "execution_count": null,
   "metadata": {
    "ExecuteTime": {
     "end_time": "2022-02-11T17:14:43.171620Z",
     "start_time": "2022-02-11T17:14:42.786668Z"
    }
   },
   "outputs": [],
   "source": []
  },
  {
   "cell_type": "code",
   "execution_count": 119,
   "metadata": {
    "ExecuteTime": {
     "end_time": "2022-02-11T17:18:11.037162Z",
     "start_time": "2022-02-11T17:18:11.023237Z"
    }
   },
   "outputs": [
    {
     "name": "stdout",
     "output_type": "stream",
     "text": [
      "hello\n"
     ]
    }
   ],
   "source": [
    "counter = 0\n",
    "if counter < 10:\n",
    "    print('hello')"
   ]
  },
  {
   "cell_type": "code",
   "execution_count": 120,
   "metadata": {
    "ExecuteTime": {
     "end_time": "2022-02-11T17:18:11.053286Z",
     "start_time": "2022-02-11T17:18:11.038170Z"
    }
   },
   "outputs": [
    {
     "name": "stdout",
     "output_type": "stream",
     "text": [
      "0 hello\n",
      "1.3 hello\n",
      "2.6 hello\n",
      "3.9000000000000004 hello\n",
      "5.2 hello\n",
      "6.5 hello\n",
      "7.8 hello\n",
      "9.1 hello\n"
     ]
    }
   ],
   "source": [
    "counter = 0\n",
    "while counter < 10:\n",
    "    print(counter, 'hello')\n",
    "    counter = counter + 1.3\n",
    "    # print(counter, 'end of block')"
   ]
  },
  {
   "cell_type": "code",
   "execution_count": 121,
   "metadata": {
    "ExecuteTime": {
     "end_time": "2022-02-11T17:18:11.068687Z",
     "start_time": "2022-02-11T17:18:11.054544Z"
    }
   },
   "outputs": [
    {
     "name": "stdout",
     "output_type": "stream",
     "text": [
      "1 is odd\n",
      "2 is even\n",
      "3 is odd\n",
      "4 is even\n",
      "5 is odd\n",
      "6 is even\n",
      "7 is odd\n",
      "8 is even\n",
      "9 is odd\n",
      "10 is even\n"
     ]
    }
   ],
   "source": [
    "n = 1\n",
    "while n <= 10:\n",
    "    if n % 2 == 0:\n",
    "        print(n, \"is even\")\n",
    "    else:\n",
    "        print(n, \"is odd\")\n",
    "    n += 1"
   ]
  },
  {
   "cell_type": "code",
   "execution_count": null,
   "metadata": {},
   "outputs": [],
   "source": []
  },
  {
   "cell_type": "code",
   "execution_count": null,
   "metadata": {},
   "outputs": [],
   "source": []
  },
  {
   "cell_type": "markdown",
   "metadata": {},
   "source": [
    "## Functions\n",
    "DRY - Don't Repeat Yourself"
   ]
  },
  {
   "cell_type": "markdown",
   "metadata": {},
   "source": [
    "### without arguments"
   ]
  },
  {
   "cell_type": "code",
   "execution_count": 122,
   "metadata": {
    "ExecuteTime": {
     "end_time": "2022-02-11T17:18:11.084222Z",
     "start_time": "2022-02-11T17:18:11.070223Z"
    }
   },
   "outputs": [],
   "source": [
    "# print\n",
    "# len\n",
    "# id\n",
    "# type"
   ]
  },
  {
   "cell_type": "code",
   "execution_count": 123,
   "metadata": {
    "ExecuteTime": {
     "end_time": "2022-02-11T17:18:11.099780Z",
     "start_time": "2022-02-11T17:18:11.085613Z"
    }
   },
   "outputs": [
    {
     "name": "stdout",
     "output_type": "stream",
     "text": [
      "7\n"
     ]
    }
   ],
   "source": [
    "a = 4\n",
    "b = 3\n",
    "total = a + b\n",
    "print(total)"
   ]
  },
  {
   "cell_type": "code",
   "execution_count": 124,
   "metadata": {
    "ExecuteTime": {
     "end_time": "2022-02-11T17:18:11.114974Z",
     "start_time": "2022-02-11T17:18:11.100904Z"
    }
   },
   "outputs": [
    {
     "name": "stdout",
     "output_type": "stream",
     "text": [
      "7\n"
     ]
    }
   ],
   "source": [
    "a = 4\n",
    "b = 3\n",
    "total = a + b\n",
    "print(total)"
   ]
  },
  {
   "cell_type": "code",
   "execution_count": 125,
   "metadata": {
    "ExecuteTime": {
     "end_time": "2022-02-11T17:18:11.130205Z",
     "start_time": "2022-02-11T17:18:11.116095Z"
    }
   },
   "outputs": [
    {
     "name": "stdout",
     "output_type": "stream",
     "text": [
      "7\n"
     ]
    }
   ],
   "source": [
    "# DEFine\n",
    "def add_two_nums():\n",
    "    a = 4\n",
    "    b = 3\n",
    "    total = a + b\n",
    "    print(total)\n",
    "add_two_nums()"
   ]
  },
  {
   "cell_type": "code",
   "execution_count": 126,
   "metadata": {
    "ExecuteTime": {
     "end_time": "2022-02-11T17:18:11.145846Z",
     "start_time": "2022-02-11T17:18:11.131577Z"
    }
   },
   "outputs": [
    {
     "name": "stdout",
     "output_type": "stream",
     "text": [
      "7\n"
     ]
    }
   ],
   "source": [
    "add_two_nums()"
   ]
  },
  {
   "cell_type": "markdown",
   "metadata": {},
   "source": [
    "### with arguments"
   ]
  },
  {
   "cell_type": "code",
   "execution_count": 127,
   "metadata": {
    "ExecuteTime": {
     "end_time": "2022-02-11T17:18:11.161500Z",
     "start_time": "2022-02-11T17:18:11.148066Z"
    }
   },
   "outputs": [
    {
     "name": "stdout",
     "output_type": "stream",
     "text": [
      "5 this is x\n",
      "11 this is y\n"
     ]
    }
   ],
   "source": [
    "def func_b(x):\n",
    "    y = x + 6\n",
    "    print(x, \"this is x\")\n",
    "    print(y, \"this is y\")\n",
    "\n",
    "func_b(5)"
   ]
  },
  {
   "cell_type": "code",
   "execution_count": 128,
   "metadata": {
    "ExecuteTime": {
     "end_time": "2022-02-11T17:18:11.176846Z",
     "start_time": "2022-02-11T17:18:11.163014Z"
    }
   },
   "outputs": [
    {
     "name": "stdout",
     "output_type": "stream",
     "text": [
      "1 this is x\n",
      "7 this is y\n"
     ]
    }
   ],
   "source": [
    "func_b(1)"
   ]
  },
  {
   "cell_type": "code",
   "execution_count": 129,
   "metadata": {
    "ExecuteTime": {
     "end_time": "2022-02-11T17:18:11.191984Z",
     "start_time": "2022-02-11T17:18:11.177912Z"
    }
   },
   "outputs": [
    {
     "name": "stdout",
     "output_type": "stream",
     "text": [
      "sum of arguments is 7\n"
     ]
    }
   ],
   "source": [
    "# DEFine\n",
    "def add_two_nums(a, b):\n",
    "    total = a + b\n",
    "    print('sum of arguments is', total)\n",
    "add_two_nums(3, 4)"
   ]
  },
  {
   "cell_type": "code",
   "execution_count": null,
   "metadata": {},
   "outputs": [],
   "source": []
  },
  {
   "cell_type": "markdown",
   "metadata": {},
   "source": [
    "### with `return`"
   ]
  },
  {
   "cell_type": "code",
   "execution_count": 130,
   "metadata": {
    "ExecuteTime": {
     "end_time": "2022-02-11T17:18:11.207741Z",
     "start_time": "2022-02-11T17:18:11.193578Z"
    }
   },
   "outputs": [
    {
     "data": {
      "text/plain": [
       "7"
      ]
     },
     "execution_count": 130,
     "metadata": {},
     "output_type": "execute_result"
    }
   ],
   "source": [
    "3 + 4"
   ]
  },
  {
   "cell_type": "code",
   "execution_count": 131,
   "metadata": {
    "ExecuteTime": {
     "end_time": "2022-02-11T17:18:11.223584Z",
     "start_time": "2022-02-11T17:18:11.209503Z"
    }
   },
   "outputs": [
    {
     "name": "stdout",
     "output_type": "stream",
     "text": [
      "4\n"
     ]
    }
   ],
   "source": [
    "def returning_two_nums_sum(a, b):\n",
    "    total = a + b\n",
    "    return total\n",
    "\n",
    "c = returning_two_nums_sum(3, 1)\n",
    "print(c)"
   ]
  },
  {
   "cell_type": "code",
   "execution_count": 132,
   "metadata": {
    "ExecuteTime": {
     "end_time": "2022-02-11T17:18:11.238510Z",
     "start_time": "2022-02-11T17:18:11.224510Z"
    }
   },
   "outputs": [
    {
     "name": "stdout",
     "output_type": "stream",
     "text": [
      "John Smith\n"
     ]
    }
   ],
   "source": [
    "def full_name(first_name, last_name):\n",
    "    f = first_name + \" \" + last_name\n",
    "    return f\n",
    "\n",
    "fname = 'John'\n",
    "lname = 'Smith'\n",
    "full = full_name(fname, lname)\n",
    "print(full)"
   ]
  },
  {
   "cell_type": "code",
   "execution_count": 133,
   "metadata": {
    "ExecuteTime": {
     "end_time": "2022-02-11T17:18:11.254381Z",
     "start_time": "2022-02-11T17:18:11.239802Z"
    }
   },
   "outputs": [
    {
     "name": "stdout",
     "output_type": "stream",
     "text": [
      "0 this is x\n",
      "6 this is y\n",
      "\n",
      "0 this is x\n",
      "6 this is y\n",
      "\n",
      "1.7 this is x\n",
      "7.7 this is y\n"
     ]
    }
   ],
   "source": [
    "def func_c(x=0):\n",
    "    y = x + 6\n",
    "    print(x,\"this is x\")\n",
    "    print(y, \"this is y\")\n",
    "\n",
    "func_c()\n",
    "print()\n",
    "func_c(0)\n",
    "print()\n",
    "func_c(1.7)"
   ]
  },
  {
   "cell_type": "code",
   "execution_count": 134,
   "metadata": {
    "ExecuteTime": {
     "end_time": "2022-02-11T17:18:11.269665Z",
     "start_time": "2022-02-11T17:18:11.255556Z"
    }
   },
   "outputs": [
    {
     "name": "stdout",
     "output_type": "stream",
     "text": [
      "2 this is x\n",
      "3 this is y\n",
      "6\n",
      "23\n"
     ]
    }
   ],
   "source": [
    "z3=7\n",
    "def func_d(x=0,y=0):\n",
    "    print(x,\"this is x\")\n",
    "    print(y, \"this is y\")\n",
    "    z4=6\n",
    "    print(z4)\n",
    "    return x+ y*z3\n",
    "\n",
    "z = func_d(2,3)\n",
    "print(z)\n",
    "# print(z4)"
   ]
  },
  {
   "cell_type": "code",
   "execution_count": 135,
   "metadata": {
    "ExecuteTime": {
     "end_time": "2022-02-11T17:18:11.285256Z",
     "start_time": "2022-02-11T17:18:11.271173Z"
    }
   },
   "outputs": [
    {
     "name": "stdout",
     "output_type": "stream",
     "text": [
      "0 this is x\n",
      "0 this is y\n",
      "6\n",
      "0\n"
     ]
    }
   ],
   "source": [
    "z2= func_d(0)\n",
    "print(z2)"
   ]
  },
  {
   "cell_type": "code",
   "execution_count": 136,
   "metadata": {
    "ExecuteTime": {
     "end_time": "2022-02-11T17:18:11.301259Z",
     "start_time": "2022-02-11T17:18:11.287174Z"
    }
   },
   "outputs": [
    {
     "name": "stdout",
     "output_type": "stream",
     "text": [
      "5 this is x\n",
      "0 this is y\n",
      "6\n",
      "5\n"
     ]
    }
   ],
   "source": [
    "z2= func_d(5)\n",
    "print(z2)"
   ]
  },
  {
   "cell_type": "code",
   "execution_count": 137,
   "metadata": {
    "ExecuteTime": {
     "end_time": "2022-02-11T17:18:11.316607Z",
     "start_time": "2022-02-11T17:18:11.302490Z"
    }
   },
   "outputs": [],
   "source": [
    "def new_func(a=0,b=9):\n",
    "    print(a,b)\n",
    "#     return None"
   ]
  },
  {
   "cell_type": "code",
   "execution_count": 138,
   "metadata": {
    "ExecuteTime": {
     "end_time": "2022-02-11T17:18:11.331916Z",
     "start_time": "2022-02-11T17:18:11.318741Z"
    }
   },
   "outputs": [
    {
     "name": "stdout",
     "output_type": "stream",
     "text": [
      "0 9\n"
     ]
    }
   ],
   "source": [
    "new_func()"
   ]
  },
  {
   "cell_type": "code",
   "execution_count": 139,
   "metadata": {
    "ExecuteTime": {
     "end_time": "2022-02-11T17:18:11.347609Z",
     "start_time": "2022-02-11T17:18:11.334525Z"
    }
   },
   "outputs": [
    {
     "name": "stdout",
     "output_type": "stream",
     "text": [
      "5 9\n"
     ]
    }
   ],
   "source": [
    "new_func(5)"
   ]
  },
  {
   "cell_type": "code",
   "execution_count": 140,
   "metadata": {
    "ExecuteTime": {
     "end_time": "2022-02-11T17:18:11.362977Z",
     "start_time": "2022-02-11T17:18:11.348788Z"
    }
   },
   "outputs": [
    {
     "name": "stdout",
     "output_type": "stream",
     "text": [
      "6 8\n"
     ]
    }
   ],
   "source": [
    "new_func(6,8)\n",
    "a=10"
   ]
  },
  {
   "cell_type": "code",
   "execution_count": 141,
   "metadata": {
    "ExecuteTime": {
     "end_time": "2022-02-11T17:18:11.378529Z",
     "start_time": "2022-02-11T17:18:11.364405Z"
    }
   },
   "outputs": [],
   "source": [
    "def new_add(a,b):\n",
    "    a = a + 3\n",
    "    return a + b"
   ]
  },
  {
   "cell_type": "code",
   "execution_count": 142,
   "metadata": {
    "ExecuteTime": {
     "end_time": "2022-02-11T17:18:11.394568Z",
     "start_time": "2022-02-11T17:18:11.380043Z"
    }
   },
   "outputs": [
    {
     "name": "stdout",
     "output_type": "stream",
     "text": [
      "4\n"
     ]
    }
   ],
   "source": [
    "# c = new_add(\"Zero\",7)\n",
    "print(c)"
   ]
  },
  {
   "cell_type": "code",
   "execution_count": 143,
   "metadata": {
    "ExecuteTime": {
     "end_time": "2022-02-11T17:18:11.410550Z",
     "start_time": "2022-02-11T17:18:11.396873Z"
    }
   },
   "outputs": [],
   "source": [
    "# print(xyz)"
   ]
  },
  {
   "cell_type": "code",
   "execution_count": 144,
   "metadata": {
    "ExecuteTime": {
     "end_time": "2022-02-11T17:18:11.426376Z",
     "start_time": "2022-02-11T17:18:11.411806Z"
    }
   },
   "outputs": [
    {
     "name": "stdout",
     "output_type": "stream",
     "text": [
      "5.0\n"
     ]
    }
   ],
   "source": [
    "def solve_hyp(a,b):\n",
    "    c = (a ** 2 + b ** 2) ** (1/2)\n",
    "    return c\n",
    "\n",
    "hyp = solve_hyp(3,4)\n",
    "print(hyp)"
   ]
  },
  {
   "cell_type": "code",
   "execution_count": 145,
   "metadata": {
    "ExecuteTime": {
     "end_time": "2022-02-11T17:18:11.441609Z",
     "start_time": "2022-02-11T17:18:11.427811Z"
    }
   },
   "outputs": [
    {
     "data": {
      "text/plain": [
       "13.0"
      ]
     },
     "execution_count": 145,
     "metadata": {},
     "output_type": "execute_result"
    }
   ],
   "source": [
    "solve_hyp(5,12)"
   ]
  },
  {
   "cell_type": "markdown",
   "metadata": {},
   "source": [
    "## Type Conversion"
   ]
  },
  {
   "cell_type": "code",
   "execution_count": 146,
   "metadata": {
    "ExecuteTime": {
     "end_time": "2022-02-11T17:18:11.457804Z",
     "start_time": "2022-02-11T17:18:11.442609Z"
    }
   },
   "outputs": [
    {
     "data": {
      "text/plain": [
       "float"
      ]
     },
     "execution_count": 146,
     "metadata": {},
     "output_type": "execute_result"
    }
   ],
   "source": [
    "type(6 + 1.5)"
   ]
  },
  {
   "cell_type": "code",
   "execution_count": 147,
   "metadata": {
    "ExecuteTime": {
     "end_time": "2022-02-11T17:18:11.473152Z",
     "start_time": "2022-02-11T17:18:11.460071Z"
    }
   },
   "outputs": [
    {
     "data": {
      "text/plain": [
       "'JohnSmith'"
      ]
     },
     "execution_count": 147,
     "metadata": {},
     "output_type": "execute_result"
    }
   ],
   "source": [
    "\"John\" + \"Smith\""
   ]
  },
  {
   "cell_type": "code",
   "execution_count": 148,
   "metadata": {
    "ExecuteTime": {
     "end_time": "2022-02-11T17:18:11.489158Z",
     "start_time": "2022-02-11T17:18:11.475070Z"
    }
   },
   "outputs": [
    {
     "data": {
      "text/plain": [
       "'zero7'"
      ]
     },
     "execution_count": 148,
     "metadata": {},
     "output_type": "execute_result"
    }
   ],
   "source": [
    "a = 7\n",
    "\"zero\" + str(a)"
   ]
  },
  {
   "cell_type": "code",
   "execution_count": 149,
   "metadata": {
    "ExecuteTime": {
     "end_time": "2022-02-11T17:18:11.504892Z",
     "start_time": "2022-02-11T17:18:11.490782Z"
    }
   },
   "outputs": [
    {
     "data": {
      "text/plain": [
       "'7zero'"
      ]
     },
     "execution_count": 149,
     "metadata": {},
     "output_type": "execute_result"
    }
   ],
   "source": [
    "str(a) + \"zero\""
   ]
  },
  {
   "cell_type": "code",
   "execution_count": 150,
   "metadata": {
    "ExecuteTime": {
     "end_time": "2022-02-11T17:18:11.520323Z",
     "start_time": "2022-02-11T17:18:11.506028Z"
    }
   },
   "outputs": [
    {
     "data": {
      "text/plain": [
       "str"
      ]
     },
     "execution_count": 150,
     "metadata": {},
     "output_type": "execute_result"
    }
   ],
   "source": [
    "type('7.5')"
   ]
  },
  {
   "cell_type": "code",
   "execution_count": 151,
   "metadata": {
    "ExecuteTime": {
     "end_time": "2022-02-11T17:18:11.535601Z",
     "start_time": "2022-02-11T17:18:11.521489Z"
    }
   },
   "outputs": [
    {
     "data": {
      "text/plain": [
       "7.5"
      ]
     },
     "execution_count": 151,
     "metadata": {},
     "output_type": "execute_result"
    }
   ],
   "source": [
    "float('7.5')"
   ]
  },
  {
   "cell_type": "code",
   "execution_count": 152,
   "metadata": {
    "ExecuteTime": {
     "end_time": "2022-02-11T17:18:11.551487Z",
     "start_time": "2022-02-11T17:18:11.536489Z"
    }
   },
   "outputs": [
    {
     "data": {
      "text/plain": [
       "12"
      ]
     },
     "execution_count": 152,
     "metadata": {},
     "output_type": "execute_result"
    }
   ],
   "source": [
    "int('12')"
   ]
  },
  {
   "cell_type": "code",
   "execution_count": 153,
   "metadata": {
    "ExecuteTime": {
     "end_time": "2022-02-11T17:18:11.566663Z",
     "start_time": "2022-02-11T17:18:11.552665Z"
    }
   },
   "outputs": [
    {
     "data": {
      "text/plain": [
       "7"
      ]
     },
     "execution_count": 153,
     "metadata": {},
     "output_type": "execute_result"
    }
   ],
   "source": [
    "int(7.9)"
   ]
  },
  {
   "cell_type": "code",
   "execution_count": null,
   "metadata": {},
   "outputs": [],
   "source": []
  },
  {
   "cell_type": "code",
   "execution_count": null,
   "metadata": {},
   "outputs": [],
   "source": []
  },
  {
   "cell_type": "markdown",
   "metadata": {},
   "source": [
    "## Lists"
   ]
  },
  {
   "cell_type": "code",
   "execution_count": 154,
   "metadata": {
    "ExecuteTime": {
     "end_time": "2022-02-11T17:18:11.581915Z",
     "start_time": "2022-02-11T17:18:11.567892Z"
    }
   },
   "outputs": [],
   "source": [
    "num1 = 10\n",
    "num2 = 20\n",
    "num3 = 30\n",
    "num4 = 40"
   ]
  },
  {
   "cell_type": "code",
   "execution_count": 155,
   "metadata": {
    "ExecuteTime": {
     "end_time": "2022-02-11T17:18:11.598033Z",
     "start_time": "2022-02-11T17:18:11.582891Z"
    }
   },
   "outputs": [],
   "source": [
    "list_a = [10,20,30,40,50,60,70,80]"
   ]
  },
  {
   "cell_type": "code",
   "execution_count": 156,
   "metadata": {
    "ExecuteTime": {
     "end_time": "2022-02-11T17:18:11.613297Z",
     "start_time": "2022-02-11T17:18:11.599180Z"
    }
   },
   "outputs": [
    {
     "name": "stdout",
     "output_type": "stream",
     "text": [
      "[10, 20, 30, 40, 50, 60, 70, 80]\n"
     ]
    }
   ],
   "source": [
    "print(list_a)"
   ]
  },
  {
   "cell_type": "code",
   "execution_count": 157,
   "metadata": {
    "ExecuteTime": {
     "end_time": "2022-02-11T17:18:11.628542Z",
     "start_time": "2022-02-11T17:18:11.614297Z"
    }
   },
   "outputs": [
    {
     "data": {
      "text/plain": [
       "[10, 20, 30, 40, 50, 60, 70, 80]"
      ]
     },
     "execution_count": 157,
     "metadata": {},
     "output_type": "execute_result"
    }
   ],
   "source": [
    "list_a"
   ]
  },
  {
   "cell_type": "code",
   "execution_count": 158,
   "metadata": {
    "ExecuteTime": {
     "end_time": "2022-02-11T17:18:11.643775Z",
     "start_time": "2022-02-11T17:18:11.629574Z"
    }
   },
   "outputs": [
    {
     "data": {
      "text/plain": [
       "8"
      ]
     },
     "execution_count": 158,
     "metadata": {},
     "output_type": "execute_result"
    }
   ],
   "source": [
    "len(list_a)"
   ]
  },
  {
   "cell_type": "code",
   "execution_count": 159,
   "metadata": {
    "ExecuteTime": {
     "end_time": "2022-02-11T17:18:11.659024Z",
     "start_time": "2022-02-11T17:18:11.645000Z"
    }
   },
   "outputs": [],
   "source": [
    "li_b=[\"a\",\"b\",'c','d','e',\"f\"]"
   ]
  },
  {
   "cell_type": "code",
   "execution_count": 160,
   "metadata": {
    "ExecuteTime": {
     "end_time": "2022-02-11T17:18:11.674263Z",
     "start_time": "2022-02-11T17:18:11.660264Z"
    }
   },
   "outputs": [
    {
     "name": "stdout",
     "output_type": "stream",
     "text": [
      "['a', 'b', 'c', 'd', 'e', 'f']\n"
     ]
    }
   ],
   "source": [
    "print(li_b)"
   ]
  },
  {
   "cell_type": "code",
   "execution_count": 161,
   "metadata": {
    "ExecuteTime": {
     "end_time": "2022-02-11T17:18:11.689522Z",
     "start_time": "2022-02-11T17:18:11.675522Z"
    }
   },
   "outputs": [],
   "source": [
    "empty_list = []"
   ]
  },
  {
   "cell_type": "code",
   "execution_count": 162,
   "metadata": {
    "ExecuteTime": {
     "end_time": "2022-02-11T17:18:11.705178Z",
     "start_time": "2022-02-11T17:18:11.690710Z"
    }
   },
   "outputs": [
    {
     "name": "stdout",
     "output_type": "stream",
     "text": [
      "[]\n"
     ]
    }
   ],
   "source": [
    "print(empty_list)"
   ]
  },
  {
   "cell_type": "code",
   "execution_count": 163,
   "metadata": {
    "ExecuteTime": {
     "end_time": "2022-02-11T17:18:11.721049Z",
     "start_time": "2022-02-11T17:18:11.706863Z"
    }
   },
   "outputs": [],
   "source": [
    "li_c=[1,2,3,\"a\",[10,50,\"x\"],\"bc\",[],\"def\",9]"
   ]
  },
  {
   "cell_type": "markdown",
   "metadata": {},
   "source": [
    "### Indexing"
   ]
  },
  {
   "cell_type": "code",
   "execution_count": 164,
   "metadata": {
    "ExecuteTime": {
     "end_time": "2022-02-11T17:18:11.736213Z",
     "start_time": "2022-02-11T17:18:11.723131Z"
    }
   },
   "outputs": [
    {
     "data": {
      "text/plain": [
       "8"
      ]
     },
     "execution_count": 164,
     "metadata": {},
     "output_type": "execute_result"
    }
   ],
   "source": [
    "len(list_a)"
   ]
  },
  {
   "cell_type": "code",
   "execution_count": 165,
   "metadata": {
    "ExecuteTime": {
     "end_time": "2022-02-11T17:18:11.751896Z",
     "start_time": "2022-02-11T17:18:11.737760Z"
    }
   },
   "outputs": [
    {
     "data": {
      "text/plain": [
       "[10, 20, 30, 40, 50, 60, 70, 80]"
      ]
     },
     "execution_count": 165,
     "metadata": {},
     "output_type": "execute_result"
    }
   ],
   "source": [
    "list_a"
   ]
  },
  {
   "cell_type": "code",
   "execution_count": 166,
   "metadata": {
    "ExecuteTime": {
     "end_time": "2022-02-11T17:18:11.767982Z",
     "start_time": "2022-02-11T17:18:11.752857Z"
    }
   },
   "outputs": [
    {
     "data": {
      "text/plain": [
       "10"
      ]
     },
     "execution_count": 166,
     "metadata": {},
     "output_type": "execute_result"
    }
   ],
   "source": [
    "list_a[0]"
   ]
  },
  {
   "cell_type": "code",
   "execution_count": 167,
   "metadata": {
    "ExecuteTime": {
     "end_time": "2022-02-11T17:18:11.783369Z",
     "start_time": "2022-02-11T17:18:11.769277Z"
    }
   },
   "outputs": [
    {
     "data": {
      "text/plain": [
       "80"
      ]
     },
     "execution_count": 167,
     "metadata": {},
     "output_type": "execute_result"
    }
   ],
   "source": [
    "list_a[7]"
   ]
  },
  {
   "cell_type": "code",
   "execution_count": 168,
   "metadata": {
    "ExecuteTime": {
     "end_time": "2022-02-11T17:18:11.799444Z",
     "start_time": "2022-02-11T17:18:11.784380Z"
    }
   },
   "outputs": [
    {
     "data": {
      "text/plain": [
       "10"
      ]
     },
     "execution_count": 168,
     "metadata": {},
     "output_type": "execute_result"
    }
   ],
   "source": [
    "list_a[0]"
   ]
  },
  {
   "cell_type": "code",
   "execution_count": 169,
   "metadata": {
    "ExecuteTime": {
     "end_time": "2022-02-11T17:18:11.815148Z",
     "start_time": "2022-02-11T17:18:11.800766Z"
    }
   },
   "outputs": [
    {
     "name": "stdout",
     "output_type": "stream",
     "text": [
      "[1, 2, 3, 'a', [10, 50, 'x'], 'bc', [], 'def', 9]\n",
      "50\n"
     ]
    }
   ],
   "source": [
    "print(li_c)\n",
    "print(li_c[4][1])"
   ]
  },
  {
   "cell_type": "code",
   "execution_count": 170,
   "metadata": {
    "ExecuteTime": {
     "end_time": "2022-02-11T17:18:11.830323Z",
     "start_time": "2022-02-11T17:18:11.815648Z"
    }
   },
   "outputs": [
    {
     "name": "stdout",
     "output_type": "stream",
     "text": [
      "x\n"
     ]
    }
   ],
   "source": [
    "print(li_c[4][-1])"
   ]
  },
  {
   "cell_type": "markdown",
   "metadata": {},
   "source": [
    "#### Negative index"
   ]
  },
  {
   "cell_type": "code",
   "execution_count": 171,
   "metadata": {
    "ExecuteTime": {
     "end_time": "2022-02-11T17:18:11.845640Z",
     "start_time": "2022-02-11T17:18:11.831703Z"
    }
   },
   "outputs": [
    {
     "data": {
      "text/plain": [
       "['a', 'b', 'c', 'd', 'e', 'f']"
      ]
     },
     "execution_count": 171,
     "metadata": {},
     "output_type": "execute_result"
    }
   ],
   "source": [
    "li_b"
   ]
  },
  {
   "cell_type": "code",
   "execution_count": 172,
   "metadata": {
    "ExecuteTime": {
     "end_time": "2022-02-11T17:18:11.861556Z",
     "start_time": "2022-02-11T17:18:11.847599Z"
    }
   },
   "outputs": [
    {
     "data": {
      "text/plain": [
       "'f'"
      ]
     },
     "execution_count": 172,
     "metadata": {},
     "output_type": "execute_result"
    }
   ],
   "source": [
    "li_b[-1]"
   ]
  },
  {
   "cell_type": "code",
   "execution_count": 173,
   "metadata": {
    "ExecuteTime": {
     "end_time": "2022-02-11T17:18:11.876742Z",
     "start_time": "2022-02-11T17:18:11.862994Z"
    }
   },
   "outputs": [
    {
     "name": "stdout",
     "output_type": "stream",
     "text": [
      "z\n",
      "True\n"
     ]
    }
   ],
   "source": [
    "li_c[3]='z'\n",
    "print(li_c[3])\n",
    "li_c[3]=True\n",
    "print(li_c[3])"
   ]
  },
  {
   "cell_type": "code",
   "execution_count": 174,
   "metadata": {
    "ExecuteTime": {
     "end_time": "2022-02-11T17:18:11.892684Z",
     "start_time": "2022-02-11T17:18:11.878599Z"
    }
   },
   "outputs": [
    {
     "data": {
      "text/plain": [
       "[1, 2, 3, True, [10, 50, 'x'], 'bc', [], 'def', 9]"
      ]
     },
     "execution_count": 174,
     "metadata": {},
     "output_type": "execute_result"
    }
   ],
   "source": [
    "li_c"
   ]
  },
  {
   "cell_type": "markdown",
   "metadata": {},
   "source": [
    "### len()"
   ]
  },
  {
   "cell_type": "code",
   "execution_count": 175,
   "metadata": {
    "ExecuteTime": {
     "end_time": "2022-02-11T17:18:11.908219Z",
     "start_time": "2022-02-11T17:18:11.894219Z"
    }
   },
   "outputs": [
    {
     "data": {
      "text/plain": [
       "8"
      ]
     },
     "execution_count": 175,
     "metadata": {},
     "output_type": "execute_result"
    }
   ],
   "source": [
    "len(list_a)"
   ]
  },
  {
   "cell_type": "code",
   "execution_count": 176,
   "metadata": {
    "ExecuteTime": {
     "end_time": "2022-02-11T17:18:11.923873Z",
     "start_time": "2022-02-11T17:18:11.908825Z"
    }
   },
   "outputs": [
    {
     "data": {
      "text/plain": [
       "list"
      ]
     },
     "execution_count": 176,
     "metadata": {},
     "output_type": "execute_result"
    }
   ],
   "source": [
    "li = list([3,6,7])\n",
    "type(li)"
   ]
  },
  {
   "cell_type": "code",
   "execution_count": 177,
   "metadata": {
    "ExecuteTime": {
     "end_time": "2022-02-11T17:18:11.939318Z",
     "start_time": "2022-02-11T17:18:11.925122Z"
    }
   },
   "outputs": [
    {
     "data": {
      "text/plain": [
       "list"
      ]
     },
     "execution_count": 177,
     "metadata": {},
     "output_type": "execute_result"
    }
   ],
   "source": [
    "li_a = [4, \"b\", [3, 7, 6], 1, 9]\n",
    "type(li_a)"
   ]
  },
  {
   "cell_type": "code",
   "execution_count": 178,
   "metadata": {
    "ExecuteTime": {
     "end_time": "2022-02-11T17:18:11.955098Z",
     "start_time": "2022-02-11T17:18:11.940956Z"
    }
   },
   "outputs": [
    {
     "name": "stdout",
     "output_type": "stream",
     "text": [
      "[4, 'b', [3, 7, 6], 1, 9]\n"
     ]
    }
   ],
   "source": [
    "print(li_a)"
   ]
  },
  {
   "cell_type": "code",
   "execution_count": null,
   "metadata": {},
   "outputs": [],
   "source": []
  },
  {
   "cell_type": "markdown",
   "metadata": {},
   "source": [
    "### Adding and Changing Elements"
   ]
  },
  {
   "cell_type": "code",
   "execution_count": 179,
   "metadata": {
    "ExecuteTime": {
     "end_time": "2022-02-11T17:18:11.971130Z",
     "start_time": "2022-02-11T17:18:11.956820Z"
    }
   },
   "outputs": [
    {
     "data": {
      "text/plain": [
       "['a', 'b', 'c', 'd', 'e', 'f', 10, 20, 30, 40, 50, 60, 70, 80]"
      ]
     },
     "execution_count": 179,
     "metadata": {},
     "output_type": "execute_result"
    }
   ],
   "source": [
    "li_b+list_a"
   ]
  },
  {
   "cell_type": "code",
   "execution_count": 180,
   "metadata": {
    "ExecuteTime": {
     "end_time": "2022-02-11T17:18:11.987050Z",
     "start_time": "2022-02-11T17:18:11.972585Z"
    }
   },
   "outputs": [],
   "source": [
    "li_b = li_b + ['g']"
   ]
  },
  {
   "cell_type": "code",
   "execution_count": 181,
   "metadata": {
    "ExecuteTime": {
     "end_time": "2022-02-11T17:18:12.002491Z",
     "start_time": "2022-02-11T17:18:11.988411Z"
    }
   },
   "outputs": [
    {
     "data": {
      "text/plain": [
       "['a', 'b', 'c', 'd', 'e', 'f', 'g']"
      ]
     },
     "execution_count": 181,
     "metadata": {},
     "output_type": "execute_result"
    }
   ],
   "source": [
    "li_b"
   ]
  },
  {
   "cell_type": "markdown",
   "metadata": {},
   "source": [
    "#### Changing Elements"
   ]
  },
  {
   "cell_type": "code",
   "execution_count": null,
   "metadata": {},
   "outputs": [],
   "source": []
  },
  {
   "cell_type": "markdown",
   "metadata": {},
   "source": [
    "#### `.append()`"
   ]
  },
  {
   "cell_type": "code",
   "execution_count": 182,
   "metadata": {
    "ExecuteTime": {
     "end_time": "2022-02-11T17:18:12.018559Z",
     "start_time": "2022-02-11T17:18:12.004673Z"
    }
   },
   "outputs": [],
   "source": [
    "li_b=[\"a\",\"b\",'c','d','e',\"f\"]"
   ]
  },
  {
   "cell_type": "code",
   "execution_count": 183,
   "metadata": {
    "ExecuteTime": {
     "end_time": "2022-02-11T17:18:12.033930Z",
     "start_time": "2022-02-11T17:18:12.020677Z"
    }
   },
   "outputs": [
    {
     "name": "stdout",
     "output_type": "stream",
     "text": [
      "['a', 'b', 'c', 'd', 'e', 'f', 'h']\n"
     ]
    }
   ],
   "source": [
    "li_b.append('h')\n",
    "print(li_b)"
   ]
  },
  {
   "cell_type": "markdown",
   "metadata": {},
   "source": [
    "#### `.extend()`"
   ]
  },
  {
   "cell_type": "code",
   "execution_count": 184,
   "metadata": {
    "ExecuteTime": {
     "end_time": "2022-02-11T17:18:12.049161Z",
     "start_time": "2022-02-11T17:18:12.036007Z"
    }
   },
   "outputs": [
    {
     "name": "stdout",
     "output_type": "stream",
     "text": [
      "['a', 'b', 'c', 'd', 'e', 'f', 'h', 'i', 'j']\n"
     ]
    }
   ],
   "source": [
    "li_b.extend(['i', 'j'])\n",
    "print(li_b)"
   ]
  },
  {
   "cell_type": "markdown",
   "metadata": {},
   "source": [
    "#### `.insert()`"
   ]
  },
  {
   "cell_type": "code",
   "execution_count": 185,
   "metadata": {
    "ExecuteTime": {
     "end_time": "2022-02-11T17:18:12.065010Z",
     "start_time": "2022-02-11T17:18:12.050757Z"
    }
   },
   "outputs": [],
   "source": [
    "li_b.insert(3, 'z')"
   ]
  },
  {
   "cell_type": "code",
   "execution_count": 186,
   "metadata": {
    "ExecuteTime": {
     "end_time": "2022-02-11T17:18:12.080575Z",
     "start_time": "2022-02-11T17:18:12.066440Z"
    }
   },
   "outputs": [
    {
     "name": "stdout",
     "output_type": "stream",
     "text": [
      "['a', 'b', 'c', 'z', 'd', 'e', 'f', 'h', 'i', 'j']\n"
     ]
    }
   ],
   "source": [
    "print(li_b)"
   ]
  },
  {
   "cell_type": "markdown",
   "metadata": {},
   "source": [
    "#### `.pop()`"
   ]
  },
  {
   "cell_type": "code",
   "execution_count": 187,
   "metadata": {
    "ExecuteTime": {
     "end_time": "2022-02-11T17:18:12.096317Z",
     "start_time": "2022-02-11T17:18:12.082174Z"
    }
   },
   "outputs": [
    {
     "data": {
      "text/plain": [
       "'j'"
      ]
     },
     "execution_count": 187,
     "metadata": {},
     "output_type": "execute_result"
    }
   ],
   "source": [
    "li_b.pop()"
   ]
  },
  {
   "cell_type": "code",
   "execution_count": 188,
   "metadata": {
    "ExecuteTime": {
     "end_time": "2022-02-11T17:18:12.111492Z",
     "start_time": "2022-02-11T17:18:12.097434Z"
    }
   },
   "outputs": [],
   "source": [
    "last_elem = li_b.pop()"
   ]
  },
  {
   "cell_type": "code",
   "execution_count": 189,
   "metadata": {
    "ExecuteTime": {
     "end_time": "2022-02-11T17:18:12.127482Z",
     "start_time": "2022-02-11T17:18:12.113125Z"
    }
   },
   "outputs": [
    {
     "data": {
      "text/plain": [
       "['a', 'b', 'c', 'z', 'd', 'e', 'f', 'h']"
      ]
     },
     "execution_count": 189,
     "metadata": {},
     "output_type": "execute_result"
    }
   ],
   "source": [
    "li_b"
   ]
  },
  {
   "cell_type": "code",
   "execution_count": 190,
   "metadata": {
    "ExecuteTime": {
     "end_time": "2022-02-11T17:18:12.143044Z",
     "start_time": "2022-02-11T17:18:12.128808Z"
    }
   },
   "outputs": [
    {
     "data": {
      "text/plain": [
       "'i'"
      ]
     },
     "execution_count": 190,
     "metadata": {},
     "output_type": "execute_result"
    }
   ],
   "source": [
    "last_elem"
   ]
  },
  {
   "cell_type": "code",
   "execution_count": 191,
   "metadata": {
    "ExecuteTime": {
     "end_time": "2022-02-11T17:18:12.158324Z",
     "start_time": "2022-02-11T17:18:12.152245Z"
    }
   },
   "outputs": [],
   "source": [
    "first = li_b.pop(0)"
   ]
  },
  {
   "cell_type": "code",
   "execution_count": 192,
   "metadata": {
    "ExecuteTime": {
     "end_time": "2022-02-11T17:18:12.173625Z",
     "start_time": "2022-02-11T17:18:12.159402Z"
    }
   },
   "outputs": [
    {
     "data": {
      "text/plain": [
       "'a'"
      ]
     },
     "execution_count": 192,
     "metadata": {},
     "output_type": "execute_result"
    }
   ],
   "source": [
    "first"
   ]
  },
  {
   "cell_type": "code",
   "execution_count": 193,
   "metadata": {
    "ExecuteTime": {
     "end_time": "2022-02-11T17:18:12.189509Z",
     "start_time": "2022-02-11T17:18:12.175642Z"
    }
   },
   "outputs": [
    {
     "data": {
      "text/plain": [
       "['b', 'c', 'z', 'd', 'e', 'f', 'h']"
      ]
     },
     "execution_count": 193,
     "metadata": {},
     "output_type": "execute_result"
    }
   ],
   "source": [
    "li_b"
   ]
  },
  {
   "cell_type": "markdown",
   "metadata": {},
   "source": [
    "### Remove and Delete"
   ]
  },
  {
   "cell_type": "markdown",
   "metadata": {},
   "source": [
    "#### `.remove()`"
   ]
  },
  {
   "cell_type": "code",
   "execution_count": 194,
   "metadata": {
    "ExecuteTime": {
     "end_time": "2022-02-11T17:18:12.205040Z",
     "start_time": "2022-02-11T17:18:12.191628Z"
    }
   },
   "outputs": [],
   "source": [
    "li_b.remove('b')"
   ]
  },
  {
   "cell_type": "code",
   "execution_count": 195,
   "metadata": {
    "ExecuteTime": {
     "end_time": "2022-02-11T17:18:12.220148Z",
     "start_time": "2022-02-11T17:18:12.206931Z"
    }
   },
   "outputs": [
    {
     "data": {
      "text/plain": [
       "['c', 'z', 'd', 'e', 'f', 'h']"
      ]
     },
     "execution_count": 195,
     "metadata": {},
     "output_type": "execute_result"
    }
   ],
   "source": [
    "li_b"
   ]
  },
  {
   "cell_type": "markdown",
   "metadata": {},
   "source": [
    "#### `del`"
   ]
  },
  {
   "cell_type": "code",
   "execution_count": 196,
   "metadata": {
    "ExecuteTime": {
     "end_time": "2022-02-11T17:18:12.236136Z",
     "start_time": "2022-02-11T17:18:12.222050Z"
    }
   },
   "outputs": [],
   "source": [
    "del li_b[2]"
   ]
  },
  {
   "cell_type": "code",
   "execution_count": 197,
   "metadata": {
    "ExecuteTime": {
     "end_time": "2022-02-11T17:18:12.251605Z",
     "start_time": "2022-02-11T17:18:12.237427Z"
    }
   },
   "outputs": [
    {
     "data": {
      "text/plain": [
       "['c', 'z', 'e', 'f', 'h']"
      ]
     },
     "execution_count": 197,
     "metadata": {},
     "output_type": "execute_result"
    }
   ],
   "source": [
    "li_b"
   ]
  },
  {
   "cell_type": "markdown",
   "metadata": {},
   "source": [
    "### Slicing"
   ]
  },
  {
   "cell_type": "code",
   "execution_count": 198,
   "metadata": {
    "ExecuteTime": {
     "end_time": "2022-02-11T17:18:12.266885Z",
     "start_time": "2022-02-11T17:18:12.252710Z"
    }
   },
   "outputs": [],
   "source": [
    "li_b=[\"a\",\"b\",'c','d','e',\"f\"]"
   ]
  },
  {
   "cell_type": "code",
   "execution_count": 199,
   "metadata": {
    "ExecuteTime": {
     "end_time": "2022-02-11T17:18:12.282113Z",
     "start_time": "2022-02-11T17:18:12.268114Z"
    }
   },
   "outputs": [
    {
     "data": {
      "text/plain": [
       "['a', 'b', 'c']"
      ]
     },
     "execution_count": 199,
     "metadata": {},
     "output_type": "execute_result"
    }
   ],
   "source": [
    "li_b[0:3]"
   ]
  },
  {
   "cell_type": "code",
   "execution_count": 200,
   "metadata": {
    "ExecuteTime": {
     "end_time": "2022-02-11T17:18:12.298230Z",
     "start_time": "2022-02-11T17:18:12.283114Z"
    }
   },
   "outputs": [
    {
     "data": {
      "text/plain": [
       "['b', 'c', 'd']"
      ]
     },
     "execution_count": 200,
     "metadata": {},
     "output_type": "execute_result"
    }
   ],
   "source": [
    "li_b[1:4]"
   ]
  },
  {
   "cell_type": "code",
   "execution_count": 201,
   "metadata": {
    "ExecuteTime": {
     "end_time": "2022-02-11T17:18:12.313501Z",
     "start_time": "2022-02-11T17:18:12.299385Z"
    }
   },
   "outputs": [
    {
     "data": {
      "text/plain": [
       "['a', 'b', 'c', 'd']"
      ]
     },
     "execution_count": 201,
     "metadata": {},
     "output_type": "execute_result"
    }
   ],
   "source": [
    "li_b[:4]"
   ]
  },
  {
   "cell_type": "code",
   "execution_count": 202,
   "metadata": {
    "ExecuteTime": {
     "end_time": "2022-02-11T17:18:12.328725Z",
     "start_time": "2022-02-11T17:18:12.314574Z"
    }
   },
   "outputs": [
    {
     "data": {
      "text/plain": [
       "['d', 'e', 'f']"
      ]
     },
     "execution_count": 202,
     "metadata": {},
     "output_type": "execute_result"
    }
   ],
   "source": [
    "li_b[3:]"
   ]
  },
  {
   "cell_type": "code",
   "execution_count": 203,
   "metadata": {
    "ExecuteTime": {
     "end_time": "2022-02-11T17:18:12.343894Z",
     "start_time": "2022-02-11T17:18:12.330311Z"
    }
   },
   "outputs": [
    {
     "data": {
      "text/plain": [
       "['a', 'c']"
      ]
     },
     "execution_count": 203,
     "metadata": {},
     "output_type": "execute_result"
    }
   ],
   "source": [
    "li_b[0:3:2]"
   ]
  },
  {
   "cell_type": "code",
   "execution_count": 204,
   "metadata": {
    "ExecuteTime": {
     "end_time": "2022-02-11T17:18:12.360032Z",
     "start_time": "2022-02-11T17:18:12.344892Z"
    }
   },
   "outputs": [
    {
     "data": {
      "text/plain": [
       "['a', 'c', 'e']"
      ]
     },
     "execution_count": 204,
     "metadata": {},
     "output_type": "execute_result"
    }
   ],
   "source": [
    "li_b[::2]"
   ]
  },
  {
   "cell_type": "code",
   "execution_count": 205,
   "metadata": {
    "ExecuteTime": {
     "end_time": "2022-02-11T17:18:12.375287Z",
     "start_time": "2022-02-11T17:18:12.361124Z"
    }
   },
   "outputs": [
    {
     "data": {
      "text/plain": [
       "['f', 'd', 'b']"
      ]
     },
     "execution_count": 205,
     "metadata": {},
     "output_type": "execute_result"
    }
   ],
   "source": [
    "li_b[::-2]"
   ]
  },
  {
   "cell_type": "code",
   "execution_count": 206,
   "metadata": {
    "ExecuteTime": {
     "end_time": "2022-02-11T17:18:12.391238Z",
     "start_time": "2022-02-11T17:18:12.376813Z"
    }
   },
   "outputs": [
    {
     "data": {
      "text/plain": [
       "['f', 'e', 'd', 'c', 'b', 'a']"
      ]
     },
     "execution_count": 206,
     "metadata": {},
     "output_type": "execute_result"
    }
   ],
   "source": [
    "li_b[::-1]"
   ]
  },
  {
   "cell_type": "markdown",
   "metadata": {},
   "source": [
    "### Cloning"
   ]
  },
  {
   "cell_type": "code",
   "execution_count": 207,
   "metadata": {
    "ExecuteTime": {
     "end_time": "2022-02-11T17:18:12.407334Z",
     "start_time": "2022-02-11T17:18:12.393158Z"
    }
   },
   "outputs": [
    {
     "data": {
      "text/plain": [
       "2408194914240"
      ]
     },
     "execution_count": 207,
     "metadata": {},
     "output_type": "execute_result"
    }
   ],
   "source": [
    "list_a = [1,2]\n",
    "id(list_a)"
   ]
  },
  {
   "cell_type": "code",
   "execution_count": 208,
   "metadata": {
    "ExecuteTime": {
     "end_time": "2022-02-11T17:18:12.422720Z",
     "start_time": "2022-02-11T17:18:12.408528Z"
    }
   },
   "outputs": [
    {
     "name": "stdout",
     "output_type": "stream",
     "text": [
      "2408194914240\n"
     ]
    }
   ],
   "source": [
    "list_a.append(3)\n",
    "print(id(list_a))"
   ]
  },
  {
   "cell_type": "code",
   "execution_count": 209,
   "metadata": {
    "ExecuteTime": {
     "end_time": "2022-02-11T17:18:12.438777Z",
     "start_time": "2022-02-11T17:18:12.423224Z"
    }
   },
   "outputs": [
    {
     "name": "stdout",
     "output_type": "stream",
     "text": [
      "2408211737856\n"
     ]
    }
   ],
   "source": [
    "list_a = list_a + [4]\n",
    "print(id(list_a))"
   ]
  },
  {
   "cell_type": "code",
   "execution_count": 210,
   "metadata": {
    "ExecuteTime": {
     "end_time": "2022-02-11T17:18:12.454052Z",
     "start_time": "2022-02-11T17:18:12.439851Z"
    }
   },
   "outputs": [
    {
     "name": "stdout",
     "output_type": "stream",
     "text": [
      "2408211737856\n"
     ]
    }
   ],
   "source": [
    "list_a += [4]\n",
    "print(id(list_a))"
   ]
  },
  {
   "cell_type": "code",
   "execution_count": null,
   "metadata": {},
   "outputs": [],
   "source": []
  },
  {
   "cell_type": "code",
   "execution_count": 211,
   "metadata": {
    "ExecuteTime": {
     "end_time": "2022-02-11T17:18:12.469786Z",
     "start_time": "2022-02-11T17:18:12.455579Z"
    }
   },
   "outputs": [
    {
     "name": "stdout",
     "output_type": "stream",
     "text": [
      "2408194944512\n"
     ]
    }
   ],
   "source": [
    "list_a = list_a[:4]\n",
    "print(id(list_a))"
   ]
  },
  {
   "cell_type": "code",
   "execution_count": 212,
   "metadata": {
    "ExecuteTime": {
     "end_time": "2022-02-11T17:18:12.485109Z",
     "start_time": "2022-02-11T17:18:12.470930Z"
    }
   },
   "outputs": [
    {
     "name": "stdout",
     "output_type": "stream",
     "text": [
      "[6, 8, 9]\n"
     ]
    }
   ],
   "source": [
    "list_a = [7,8,9]\n",
    "list_b = list_a\n",
    "list_a[0] = 6\n",
    "print(list_b)"
   ]
  },
  {
   "cell_type": "markdown",
   "metadata": {},
   "source": [
    "#### `[:]`"
   ]
  },
  {
   "cell_type": "code",
   "execution_count": 213,
   "metadata": {
    "ExecuteTime": {
     "end_time": "2022-02-11T17:18:12.500340Z",
     "start_time": "2022-02-11T17:18:12.486192Z"
    }
   },
   "outputs": [
    {
     "data": {
      "text/plain": [
       "2408111761872"
      ]
     },
     "execution_count": 213,
     "metadata": {},
     "output_type": "execute_result"
    }
   ],
   "source": [
    "id(list_a[0])"
   ]
  },
  {
   "cell_type": "code",
   "execution_count": 214,
   "metadata": {
    "ExecuteTime": {
     "end_time": "2022-02-11T17:18:12.515704Z",
     "start_time": "2022-02-11T17:18:12.501539Z"
    }
   },
   "outputs": [
    {
     "name": "stdout",
     "output_type": "stream",
     "text": [
      "2408111761872 2408194650432\n"
     ]
    }
   ],
   "source": [
    "print(id(list_a[0]), id(list_a))"
   ]
  },
  {
   "cell_type": "code",
   "execution_count": 215,
   "metadata": {
    "ExecuteTime": {
     "end_time": "2022-02-11T17:18:12.531321Z",
     "start_time": "2022-02-11T17:18:12.516880Z"
    }
   },
   "outputs": [
    {
     "name": "stdout",
     "output_type": "stream",
     "text": [
      "2408111761872 2408211736192\n"
     ]
    }
   ],
   "source": [
    "list_a = list_a + [5]\n",
    "print(id(list_a[0]), id(list_a))"
   ]
  },
  {
   "cell_type": "code",
   "execution_count": 216,
   "metadata": {
    "ExecuteTime": {
     "end_time": "2022-02-11T17:18:12.546303Z",
     "start_time": "2022-02-11T17:18:12.533258Z"
    }
   },
   "outputs": [
    {
     "name": "stdout",
     "output_type": "stream",
     "text": [
      "[7, 8, 9]\n"
     ]
    }
   ],
   "source": [
    "list_a = [7,8,9]\n",
    "list_b = list_a[:]\n",
    "list_a[0] = 6\n",
    "print(list_b)"
   ]
  },
  {
   "cell_type": "markdown",
   "metadata": {},
   "source": [
    "#### `.copy()`"
   ]
  },
  {
   "cell_type": "code",
   "execution_count": 217,
   "metadata": {
    "ExecuteTime": {
     "end_time": "2022-02-11T17:18:12.562002Z",
     "start_time": "2022-02-11T17:18:12.546894Z"
    }
   },
   "outputs": [
    {
     "name": "stdout",
     "output_type": "stream",
     "text": [
      "[7, 8, 9]\n"
     ]
    }
   ],
   "source": [
    "list_a = [7,8,9]\n",
    "list_b = list_a.copy()\n",
    "list_a[0] = 6\n",
    "print(list_b)"
   ]
  },
  {
   "cell_type": "markdown",
   "metadata": {},
   "source": [
    "### Sorting"
   ]
  },
  {
   "cell_type": "markdown",
   "metadata": {},
   "source": [
    "#### `sorted()`"
   ]
  },
  {
   "cell_type": "code",
   "execution_count": 218,
   "metadata": {
    "ExecuteTime": {
     "end_time": "2022-02-11T17:18:12.578122Z",
     "start_time": "2022-02-11T17:18:12.562919Z"
    }
   },
   "outputs": [],
   "source": [
    "list_a = [9, 4, 7, 1]\n",
    "sorted_a = sorted(list_a)"
   ]
  },
  {
   "cell_type": "code",
   "execution_count": 219,
   "metadata": {
    "ExecuteTime": {
     "end_time": "2022-02-11T17:18:12.593551Z",
     "start_time": "2022-02-11T17:18:12.579440Z"
    }
   },
   "outputs": [
    {
     "data": {
      "text/plain": [
       "[9, 4, 7, 1]"
      ]
     },
     "execution_count": 219,
     "metadata": {},
     "output_type": "execute_result"
    }
   ],
   "source": [
    "list_a"
   ]
  },
  {
   "cell_type": "code",
   "execution_count": 220,
   "metadata": {
    "ExecuteTime": {
     "end_time": "2022-02-11T17:18:12.609595Z",
     "start_time": "2022-02-11T17:18:12.595587Z"
    }
   },
   "outputs": [
    {
     "data": {
      "text/plain": [
       "[1, 4, 7, 9]"
      ]
     },
     "execution_count": 220,
     "metadata": {},
     "output_type": "execute_result"
    }
   ],
   "source": [
    "sorted_a"
   ]
  },
  {
   "cell_type": "code",
   "execution_count": 221,
   "metadata": {
    "ExecuteTime": {
     "end_time": "2022-02-11T17:18:12.625274Z",
     "start_time": "2022-02-11T17:18:12.611098Z"
    }
   },
   "outputs": [
    {
     "data": {
      "text/plain": [
       "[9, 7, 4, 1]"
      ]
     },
     "execution_count": 221,
     "metadata": {},
     "output_type": "execute_result"
    }
   ],
   "source": [
    "sorted(list_a, reverse=True)"
   ]
  },
  {
   "cell_type": "markdown",
   "metadata": {},
   "source": [
    "#### `.sort()`"
   ]
  },
  {
   "cell_type": "code",
   "execution_count": 222,
   "metadata": {
    "ExecuteTime": {
     "end_time": "2022-02-11T17:18:12.640581Z",
     "start_time": "2022-02-11T17:18:12.626362Z"
    }
   },
   "outputs": [],
   "source": [
    "list_a = [9, 4, 7, 1]\n",
    "list_a.sort(reverse=True)"
   ]
  },
  {
   "cell_type": "code",
   "execution_count": 223,
   "metadata": {
    "ExecuteTime": {
     "end_time": "2022-02-11T17:18:12.655911Z",
     "start_time": "2022-02-11T17:18:12.641832Z"
    }
   },
   "outputs": [
    {
     "data": {
      "text/plain": [
       "[9, 7, 4, 1]"
      ]
     },
     "execution_count": 223,
     "metadata": {},
     "output_type": "execute_result"
    }
   ],
   "source": [
    "list_a"
   ]
  },
  {
   "cell_type": "code",
   "execution_count": 224,
   "metadata": {
    "ExecuteTime": {
     "end_time": "2022-02-11T17:18:12.671919Z",
     "start_time": "2022-02-11T17:18:12.656830Z"
    }
   },
   "outputs": [
    {
     "data": {
      "text/plain": [
       "['', 'D', 'EA', 'EFG', 'HIJK', 'a', 'bc']"
      ]
     },
     "execution_count": 224,
     "metadata": {},
     "output_type": "execute_result"
    }
   ],
   "source": [
    "list_alpha = [\"a\", \"bc\", \"D\", \"EFG\", \"\", \"HIJK\", \"EA\"]\n",
    "sorted(list_alpha)"
   ]
  },
  {
   "cell_type": "markdown",
   "metadata": {},
   "source": [
    "## Tuple"
   ]
  },
  {
   "cell_type": "code",
   "execution_count": 225,
   "metadata": {
    "ExecuteTime": {
     "end_time": "2022-02-11T17:18:12.687311Z",
     "start_time": "2022-02-11T17:18:12.673103Z"
    }
   },
   "outputs": [],
   "source": [
    "# - `()`\n",
    "# > immutable"
   ]
  },
  {
   "cell_type": "code",
   "execution_count": 226,
   "metadata": {
    "ExecuteTime": {
     "end_time": "2022-02-11T17:18:12.702657Z",
     "start_time": "2022-02-11T17:18:12.688439Z"
    }
   },
   "outputs": [],
   "source": [
    "tuple_a=(1,3,5, \"a\", None, True)"
   ]
  },
  {
   "cell_type": "code",
   "execution_count": 227,
   "metadata": {
    "ExecuteTime": {
     "end_time": "2022-02-11T17:18:12.718384Z",
     "start_time": "2022-02-11T17:18:12.703195Z"
    }
   },
   "outputs": [
    {
     "data": {
      "text/plain": [
       "3"
      ]
     },
     "execution_count": 227,
     "metadata": {},
     "output_type": "execute_result"
    }
   ],
   "source": [
    "tuple_a[1]"
   ]
  },
  {
   "cell_type": "code",
   "execution_count": 228,
   "metadata": {
    "ExecuteTime": {
     "end_time": "2022-02-11T17:18:12.733655Z",
     "start_time": "2022-02-11T17:18:12.719574Z"
    }
   },
   "outputs": [],
   "source": [
    "# tuple_a[1]=5"
   ]
  },
  {
   "cell_type": "code",
   "execution_count": 229,
   "metadata": {
    "ExecuteTime": {
     "end_time": "2022-02-11T17:18:12.748877Z",
     "start_time": "2022-02-11T17:18:12.734882Z"
    }
   },
   "outputs": [],
   "source": [
    "empty_tuple = ()"
   ]
  },
  {
   "cell_type": "code",
   "execution_count": 230,
   "metadata": {
    "ExecuteTime": {
     "end_time": "2022-02-11T17:18:12.764613Z",
     "start_time": "2022-02-11T17:18:12.750447Z"
    }
   },
   "outputs": [
    {
     "data": {
      "text/plain": [
       "(3, 5)"
      ]
     },
     "execution_count": 230,
     "metadata": {},
     "output_type": "execute_result"
    }
   ],
   "source": [
    "tuple_a[1:3]"
   ]
  },
  {
   "cell_type": "code",
   "execution_count": 231,
   "metadata": {
    "ExecuteTime": {
     "end_time": "2022-02-11T17:18:12.780150Z",
     "start_time": "2022-02-11T17:18:12.766151Z"
    }
   },
   "outputs": [],
   "source": [
    "tuple_b = (1,2,3)"
   ]
  },
  {
   "cell_type": "code",
   "execution_count": 232,
   "metadata": {
    "ExecuteTime": {
     "end_time": "2022-02-11T17:18:12.795684Z",
     "start_time": "2022-02-11T17:18:12.782094Z"
    }
   },
   "outputs": [],
   "source": [
    "a, b, c = tuple_b"
   ]
  },
  {
   "cell_type": "code",
   "execution_count": 233,
   "metadata": {
    "ExecuteTime": {
     "end_time": "2022-02-11T17:18:12.811102Z",
     "start_time": "2022-02-11T17:18:12.797698Z"
    }
   },
   "outputs": [
    {
     "name": "stdout",
     "output_type": "stream",
     "text": [
      "1\n",
      "2\n",
      "3\n"
     ]
    }
   ],
   "source": [
    "print(a)\n",
    "print(b)\n",
    "print(c)"
   ]
  },
  {
   "cell_type": "code",
   "execution_count": 234,
   "metadata": {
    "ExecuteTime": {
     "end_time": "2022-02-11T17:18:12.826861Z",
     "start_time": "2022-02-11T17:18:12.811949Z"
    }
   },
   "outputs": [
    {
     "data": {
      "text/plain": [
       "4"
      ]
     },
     "execution_count": 234,
     "metadata": {},
     "output_type": "execute_result"
    }
   ],
   "source": [
    "b ** 2"
   ]
  },
  {
   "cell_type": "code",
   "execution_count": 235,
   "metadata": {
    "ExecuteTime": {
     "end_time": "2022-02-11T17:18:12.842858Z",
     "start_time": "2022-02-11T17:18:12.828900Z"
    }
   },
   "outputs": [],
   "source": [
    "m, *n = tuple_b"
   ]
  },
  {
   "cell_type": "code",
   "execution_count": 236,
   "metadata": {
    "ExecuteTime": {
     "end_time": "2022-02-11T17:18:12.858816Z",
     "start_time": "2022-02-11T17:18:12.844306Z"
    }
   },
   "outputs": [
    {
     "name": "stdout",
     "output_type": "stream",
     "text": [
      "1\n",
      "[2, 3]\n"
     ]
    }
   ],
   "source": [
    "print(m)\n",
    "print(n)"
   ]
  },
  {
   "cell_type": "code",
   "execution_count": 237,
   "metadata": {
    "ExecuteTime": {
     "end_time": "2022-02-11T17:18:12.874475Z",
     "start_time": "2022-02-11T17:18:12.860461Z"
    }
   },
   "outputs": [
    {
     "data": {
      "text/plain": [
       "[1, 2, 3]"
      ]
     },
     "execution_count": 237,
     "metadata": {},
     "output_type": "execute_result"
    }
   ],
   "source": [
    "list_b = list(tuple_b)\n",
    "list_b"
   ]
  },
  {
   "cell_type": "code",
   "execution_count": 238,
   "metadata": {
    "ExecuteTime": {
     "end_time": "2022-02-11T17:18:12.889877Z",
     "start_time": "2022-02-11T17:18:12.875963Z"
    }
   },
   "outputs": [
    {
     "data": {
      "text/plain": [
       "list"
      ]
     },
     "execution_count": 238,
     "metadata": {},
     "output_type": "execute_result"
    }
   ],
   "source": [
    "type(list_b)"
   ]
  },
  {
   "cell_type": "code",
   "execution_count": 239,
   "metadata": {
    "ExecuteTime": {
     "end_time": "2022-02-11T17:18:12.905746Z",
     "start_time": "2022-02-11T17:18:12.891562Z"
    }
   },
   "outputs": [],
   "source": [
    "x,y,z = list_b"
   ]
  },
  {
   "cell_type": "code",
   "execution_count": 240,
   "metadata": {
    "ExecuteTime": {
     "end_time": "2022-02-11T17:18:12.921112Z",
     "start_time": "2022-02-11T17:18:12.906876Z"
    }
   },
   "outputs": [
    {
     "name": "stdout",
     "output_type": "stream",
     "text": [
      "1 2 3\n"
     ]
    }
   ],
   "source": [
    "print(x,y,z)"
   ]
  },
  {
   "cell_type": "code",
   "execution_count": 241,
   "metadata": {
    "ExecuteTime": {
     "end_time": "2022-02-11T17:18:12.936763Z",
     "start_time": "2022-02-11T17:18:12.923741Z"
    }
   },
   "outputs": [
    {
     "name": "stdout",
     "output_type": "stream",
     "text": [
      "1\n",
      "2\n",
      "3\n"
     ]
    }
   ],
   "source": [
    "print(x)\n",
    "print(y)\n",
    "print(z)"
   ]
  },
  {
   "cell_type": "code",
   "execution_count": 242,
   "metadata": {
    "ExecuteTime": {
     "end_time": "2022-02-11T17:18:12.952305Z",
     "start_time": "2022-02-11T17:18:12.939258Z"
    }
   },
   "outputs": [],
   "source": [
    "tuple_d = 3,4,5"
   ]
  },
  {
   "cell_type": "code",
   "execution_count": 243,
   "metadata": {
    "ExecuteTime": {
     "end_time": "2022-02-11T17:18:12.968011Z",
     "start_time": "2022-02-11T17:18:12.953826Z"
    }
   },
   "outputs": [
    {
     "data": {
      "text/plain": [
       "(3, 4, 5)"
      ]
     },
     "execution_count": 243,
     "metadata": {},
     "output_type": "execute_result"
    }
   ],
   "source": [
    "tuple_d"
   ]
  },
  {
   "cell_type": "code",
   "execution_count": 244,
   "metadata": {
    "ExecuteTime": {
     "end_time": "2022-02-11T17:18:12.983556Z",
     "start_time": "2022-02-11T17:18:12.969557Z"
    }
   },
   "outputs": [
    {
     "name": "stdout",
     "output_type": "stream",
     "text": [
      "34 abc None\n"
     ]
    }
   ],
   "source": [
    "print(34, \"abc\", None)"
   ]
  },
  {
   "cell_type": "code",
   "execution_count": 245,
   "metadata": {
    "ExecuteTime": {
     "end_time": "2022-02-11T17:18:12.999615Z",
     "start_time": "2022-02-11T17:18:12.985290Z"
    }
   },
   "outputs": [],
   "source": [
    "new_tuple = (1,2) + (3,4,5)"
   ]
  },
  {
   "cell_type": "code",
   "execution_count": 246,
   "metadata": {
    "ExecuteTime": {
     "end_time": "2022-02-11T17:18:13.015665Z",
     "start_time": "2022-02-11T17:18:13.000513Z"
    }
   },
   "outputs": [
    {
     "data": {
      "text/plain": [
       "(1, 2, 3, 4, 5)"
      ]
     },
     "execution_count": 246,
     "metadata": {},
     "output_type": "execute_result"
    }
   ],
   "source": [
    "new_tuple"
   ]
  },
  {
   "cell_type": "code",
   "execution_count": 247,
   "metadata": {
    "ExecuteTime": {
     "end_time": "2022-02-11T17:18:13.031185Z",
     "start_time": "2022-02-11T17:18:13.016979Z"
    }
   },
   "outputs": [],
   "source": [
    "# new_tuple[2] = 7"
   ]
  },
  {
   "cell_type": "code",
   "execution_count": 248,
   "metadata": {
    "ExecuteTime": {
     "end_time": "2022-02-11T17:18:13.046903Z",
     "start_time": "2022-02-11T17:18:13.032718Z"
    }
   },
   "outputs": [],
   "source": [
    "new_tuple = new_tuple[:2] + (7,) + new_tuple[3:]"
   ]
  },
  {
   "cell_type": "markdown",
   "metadata": {},
   "source": [
    "## Strings 2"
   ]
  },
  {
   "cell_type": "markdown",
   "metadata": {},
   "source": [
    "### `input()`"
   ]
  },
  {
   "cell_type": "code",
   "execution_count": 249,
   "metadata": {
    "ExecuteTime": {
     "end_time": "2022-02-11T17:18:13.062351Z",
     "start_time": "2022-02-11T17:18:13.048281Z"
    }
   },
   "outputs": [],
   "source": [
    "# some_text = input(\"enter some text\")"
   ]
  },
  {
   "cell_type": "code",
   "execution_count": 250,
   "metadata": {
    "ExecuteTime": {
     "end_time": "2022-02-11T17:18:13.077752Z",
     "start_time": "2022-02-11T17:18:13.063591Z"
    }
   },
   "outputs": [],
   "source": [
    "# print(some_text)"
   ]
  },
  {
   "cell_type": "code",
   "execution_count": 251,
   "metadata": {
    "ExecuteTime": {
     "end_time": "2022-02-11T17:18:13.092874Z",
     "start_time": "2022-02-11T17:18:13.079772Z"
    }
   },
   "outputs": [],
   "source": [
    "# num = input('enter number')\n",
    "\n",
    "# type(num)\n",
    "\n",
    "# float(num)"
   ]
  },
  {
   "cell_type": "markdown",
   "metadata": {},
   "source": [
    "### Indexing and Slicing"
   ]
  },
  {
   "cell_type": "code",
   "execution_count": null,
   "metadata": {},
   "outputs": [],
   "source": []
  },
  {
   "cell_type": "markdown",
   "metadata": {},
   "source": [
    "### `.split()`"
   ]
  },
  {
   "cell_type": "code",
   "execution_count": 252,
   "metadata": {
    "ExecuteTime": {
     "end_time": "2022-02-11T17:18:13.108853Z",
     "start_time": "2022-02-11T17:18:13.094770Z"
    }
   },
   "outputs": [],
   "source": [
    "str_a = 'Quick Fox jumps over the Lazy Dog'"
   ]
  },
  {
   "cell_type": "code",
   "execution_count": 253,
   "metadata": {
    "ExecuteTime": {
     "end_time": "2022-02-11T17:18:13.124184Z",
     "start_time": "2022-02-11T17:18:13.110013Z"
    }
   },
   "outputs": [
    {
     "data": {
      "text/plain": [
       "['Quick', 'Fox', 'jumps', 'over', 'the', 'Lazy', 'Dog']"
      ]
     },
     "execution_count": 253,
     "metadata": {},
     "output_type": "execute_result"
    }
   ],
   "source": [
    "words = str_a.split()\n",
    "words"
   ]
  },
  {
   "cell_type": "markdown",
   "metadata": {},
   "source": [
    "### `.join()`"
   ]
  },
  {
   "cell_type": "code",
   "execution_count": 254,
   "metadata": {
    "ExecuteTime": {
     "end_time": "2022-02-11T17:18:13.139462Z",
     "start_time": "2022-02-11T17:18:13.125289Z"
    }
   },
   "outputs": [
    {
     "data": {
      "text/plain": [
       "'Quick, Fox, jumps, over, the, Lazy, Dog'"
      ]
     },
     "execution_count": 254,
     "metadata": {},
     "output_type": "execute_result"
    }
   ],
   "source": [
    "with_comma = ', '.join(words)\n",
    "with_comma"
   ]
  },
  {
   "cell_type": "markdown",
   "metadata": {},
   "source": [
    "### `.title()`, `.lower()`, `.upper()`"
   ]
  },
  {
   "cell_type": "code",
   "execution_count": 255,
   "metadata": {
    "ExecuteTime": {
     "end_time": "2022-02-11T17:18:13.154747Z",
     "start_time": "2022-02-11T17:18:13.141637Z"
    }
   },
   "outputs": [
    {
     "data": {
      "text/plain": [
       "'Quick Fox Jumps Over The Lazy Dog'"
      ]
     },
     "execution_count": 255,
     "metadata": {},
     "output_type": "execute_result"
    }
   ],
   "source": [
    "str_a.title()"
   ]
  },
  {
   "cell_type": "code",
   "execution_count": 256,
   "metadata": {
    "ExecuteTime": {
     "end_time": "2022-02-11T17:18:13.170854Z",
     "start_time": "2022-02-11T17:18:13.155649Z"
    }
   },
   "outputs": [
    {
     "data": {
      "text/plain": [
       "'quick fox jumps over the lazy dog'"
      ]
     },
     "execution_count": 256,
     "metadata": {},
     "output_type": "execute_result"
    }
   ],
   "source": [
    "str_a.lower()"
   ]
  },
  {
   "cell_type": "code",
   "execution_count": 257,
   "metadata": {
    "ExecuteTime": {
     "end_time": "2022-02-11T17:18:13.186182Z",
     "start_time": "2022-02-11T17:18:13.171977Z"
    }
   },
   "outputs": [
    {
     "data": {
      "text/plain": [
       "'QUICK FOX JUMPS OVER THE LAZY DOG'"
      ]
     },
     "execution_count": 257,
     "metadata": {},
     "output_type": "execute_result"
    }
   ],
   "source": [
    "str_a.upper()"
   ]
  },
  {
   "cell_type": "markdown",
   "metadata": {},
   "source": [
    "### `.replace()`"
   ]
  },
  {
   "cell_type": "code",
   "execution_count": 258,
   "metadata": {
    "ExecuteTime": {
     "end_time": "2022-02-11T17:18:13.201564Z",
     "start_time": "2022-02-11T17:18:13.187385Z"
    }
   },
   "outputs": [
    {
     "data": {
      "text/plain": [
       "'Quick_Fox_jumps_over_the_Lazy_Dog'"
      ]
     },
     "execution_count": 258,
     "metadata": {},
     "output_type": "execute_result"
    }
   ],
   "source": [
    "with_comma.replace(', ', '_')"
   ]
  },
  {
   "cell_type": "code",
   "execution_count": 259,
   "metadata": {
    "ExecuteTime": {
     "end_time": "2022-02-11T17:18:13.216922Z",
     "start_time": "2022-02-11T17:18:13.202923Z"
    }
   },
   "outputs": [
    {
     "data": {
      "text/plain": [
       "'Quick, Fx, jumps, ver, the, Lazy, Dg'"
      ]
     },
     "execution_count": 259,
     "metadata": {},
     "output_type": "execute_result"
    }
   ],
   "source": [
    "with_comma.replace('o', '')"
   ]
  },
  {
   "cell_type": "markdown",
   "metadata": {},
   "source": [
    "### Format"
   ]
  },
  {
   "cell_type": "code",
   "execution_count": 260,
   "metadata": {
    "ExecuteTime": {
     "end_time": "2022-02-11T17:18:13.232076Z",
     "start_time": "2022-02-11T17:18:13.218923Z"
    }
   },
   "outputs": [],
   "source": [
    "# %d - integer\n",
    "# %s - string\n",
    "# %f - float"
   ]
  },
  {
   "cell_type": "code",
   "execution_count": 261,
   "metadata": {
    "ExecuteTime": {
     "end_time": "2022-02-11T17:18:13.247919Z",
     "start_time": "2022-02-11T17:18:13.233825Z"
    }
   },
   "outputs": [
    {
     "data": {
      "text/plain": [
       "'2 is prime number, but 9.000000 is not!!!'"
      ]
     },
     "execution_count": 261,
     "metadata": {},
     "output_type": "execute_result"
    }
   ],
   "source": [
    "num1 = 2\n",
    "num2 = 9.0\n",
    "txt = \"!!!\"\n",
    "\n",
    "'%d is prime number, but %f is not%s' % (num1, num2, txt)"
   ]
  },
  {
   "cell_type": "code",
   "execution_count": 262,
   "metadata": {
    "ExecuteTime": {
     "end_time": "2022-02-11T17:18:13.263527Z",
     "start_time": "2022-02-11T17:18:13.249436Z"
    }
   },
   "outputs": [],
   "source": [
    "# '%d is %d ' % 3"
   ]
  },
  {
   "cell_type": "code",
   "execution_count": 263,
   "metadata": {
    "ExecuteTime": {
     "end_time": "2022-02-11T17:18:13.278869Z",
     "start_time": "2022-02-11T17:18:13.264792Z"
    }
   },
   "outputs": [
    {
     "data": {
      "text/plain": [
       "'2 is prime number, but 9.0 is not !!!'"
      ]
     },
     "execution_count": 263,
     "metadata": {},
     "output_type": "execute_result"
    }
   ],
   "source": [
    "f'{num1} is prime number, but {num2} is not {txt}'"
   ]
  },
  {
   "cell_type": "markdown",
   "metadata": {},
   "source": [
    "## For Loop"
   ]
  },
  {
   "cell_type": "code",
   "execution_count": null,
   "metadata": {},
   "outputs": [],
   "source": []
  },
  {
   "cell_type": "markdown",
   "metadata": {},
   "source": [
    "### Iterating over a list"
   ]
  },
  {
   "cell_type": "code",
   "execution_count": 264,
   "metadata": {
    "ExecuteTime": {
     "end_time": "2022-02-11T17:18:13.294651Z",
     "start_time": "2022-02-11T17:18:13.280495Z"
    }
   },
   "outputs": [
    {
     "name": "stdout",
     "output_type": "stream",
     "text": [
      "a\n",
      "this is inside for loop\n",
      "b\n",
      "this is inside for loop\n",
      "c\n",
      "this is inside for loop\n",
      "d\n",
      "this is inside for loop\n",
      "e\n",
      "this is inside for loop\n",
      "f\n",
      "this is inside for loop\n",
      "for loop is over\n"
     ]
    }
   ],
   "source": [
    "li_b=[\"a\",\"b\",'c','d','e',\"f\"]\n",
    "for e in li_b:\n",
    "    print(e)\n",
    "    print(\"this is inside for loop\")\n",
    "\n",
    "\n",
    "print(\"for loop is over\")"
   ]
  },
  {
   "cell_type": "code",
   "execution_count": 265,
   "metadata": {
    "ExecuteTime": {
     "end_time": "2022-02-11T17:18:13.309810Z",
     "start_time": "2022-02-11T17:18:13.295700Z"
    }
   },
   "outputs": [
    {
     "data": {
      "text/plain": [
       "'d'"
      ]
     },
     "execution_count": 265,
     "metadata": {},
     "output_type": "execute_result"
    }
   ],
   "source": [
    "li_b[3]"
   ]
  },
  {
   "cell_type": "markdown",
   "metadata": {},
   "source": [
    "### `range()`"
   ]
  },
  {
   "cell_type": "code",
   "execution_count": 266,
   "metadata": {
    "ExecuteTime": {
     "end_time": "2022-02-11T17:18:13.325105Z",
     "start_time": "2022-02-11T17:18:13.311024Z"
    }
   },
   "outputs": [
    {
     "name": "stdout",
     "output_type": "stream",
     "text": [
      "0\n",
      "1\n",
      "2\n",
      "3\n",
      "4\n"
     ]
    }
   ],
   "source": [
    "for i in range(5):\n",
    "    print(i)"
   ]
  },
  {
   "cell_type": "code",
   "execution_count": 267,
   "metadata": {
    "ExecuteTime": {
     "end_time": "2022-02-11T17:18:13.340492Z",
     "start_time": "2022-02-11T17:18:13.326302Z"
    }
   },
   "outputs": [
    {
     "name": "stdout",
     "output_type": "stream",
     "text": [
      "-5\n",
      "-4\n",
      "-3\n",
      "-2\n",
      "-1\n",
      "0\n",
      "1\n",
      "2\n"
     ]
    }
   ],
   "source": [
    "for i in range(-5,3):\n",
    "    print(i)"
   ]
  },
  {
   "cell_type": "code",
   "execution_count": 268,
   "metadata": {
    "ExecuteTime": {
     "end_time": "2022-02-11T17:18:13.355716Z",
     "start_time": "2022-02-11T17:18:13.341604Z"
    }
   },
   "outputs": [
    {
     "name": "stdout",
     "output_type": "stream",
     "text": [
      "-5\n",
      "-2\n",
      "1\n"
     ]
    }
   ],
   "source": [
    "for i in range(-5,3,3):\n",
    "    print(i)"
   ]
  },
  {
   "cell_type": "code",
   "execution_count": null,
   "metadata": {},
   "outputs": [],
   "source": []
  },
  {
   "cell_type": "code",
   "execution_count": 269,
   "metadata": {
    "ExecuteTime": {
     "end_time": "2022-02-11T17:18:13.370870Z",
     "start_time": "2022-02-11T17:18:13.356871Z"
    }
   },
   "outputs": [
    {
     "name": "stdout",
     "output_type": "stream",
     "text": [
      "a inside loop\n",
      "this is B\n",
      "c inside loop\n",
      "d inside loop\n",
      "here is E\n"
     ]
    }
   ],
   "source": [
    "li_b=[\"a\",\"b\",'c','d','e',\"f\",\"g\"]\n",
    "for i in range(len(li_b)):\n",
    "    if li_b[i]=='b':\n",
    "        print(\"this is B\")\n",
    "        continue\n",
    "    elif li_b[i]=='e':\n",
    "        print(\"here is E\")\n",
    "        break\n",
    "    print(li_b[i], \"inside loop\")"
   ]
  },
  {
   "cell_type": "code",
   "execution_count": 270,
   "metadata": {
    "ExecuteTime": {
     "end_time": "2022-02-11T17:18:13.386275Z",
     "start_time": "2022-02-11T17:18:13.373031Z"
    }
   },
   "outputs": [
    {
     "name": "stdout",
     "output_type": "stream",
     "text": [
      "4\n",
      "b\n",
      "[3, 7, 6]\n",
      "1\n",
      "9\n"
     ]
    }
   ],
   "source": [
    "for i in li_a:\n",
    "    print(i)"
   ]
  },
  {
   "cell_type": "code",
   "execution_count": 271,
   "metadata": {
    "ExecuteTime": {
     "end_time": "2022-02-11T17:18:13.401937Z",
     "start_time": "2022-02-11T17:18:13.387340Z"
    }
   },
   "outputs": [
    {
     "name": "stdout",
     "output_type": "stream",
     "text": [
      "4\n",
      "b\n",
      "[3, 7, 6]\n",
      "1\n",
      "9\n"
     ]
    }
   ],
   "source": [
    "for j in range(len(li_a)):\n",
    "    print(li_a[j])"
   ]
  },
  {
   "cell_type": "code",
   "execution_count": 272,
   "metadata": {
    "ExecuteTime": {
     "end_time": "2022-02-11T17:18:13.417546Z",
     "start_time": "2022-02-11T17:18:13.403371Z"
    }
   },
   "outputs": [
    {
     "data": {
      "text/plain": [
       "5"
      ]
     },
     "execution_count": 272,
     "metadata": {},
     "output_type": "execute_result"
    }
   ],
   "source": [
    "len(li_a)"
   ]
  },
  {
   "cell_type": "markdown",
   "metadata": {},
   "source": [
    "### enumerate()"
   ]
  },
  {
   "cell_type": "code",
   "execution_count": 273,
   "metadata": {
    "ExecuteTime": {
     "end_time": "2022-02-11T17:18:13.433145Z",
     "start_time": "2022-02-11T17:18:13.419046Z"
    }
   },
   "outputs": [
    {
     "name": "stdout",
     "output_type": "stream",
     "text": [
      "0 a\n",
      "1 b\n",
      "2 c\n",
      "3 d\n",
      "4 e\n",
      "5 f\n",
      "6 g\n"
     ]
    }
   ],
   "source": [
    "for i, e in enumerate(li_b):\n",
    "    print(i, e)"
   ]
  },
  {
   "cell_type": "markdown",
   "metadata": {},
   "source": [
    "### Iterating over a string"
   ]
  },
  {
   "cell_type": "code",
   "execution_count": 274,
   "metadata": {
    "ExecuteTime": {
     "end_time": "2022-02-11T17:18:13.449145Z",
     "start_time": "2022-02-11T17:18:13.434062Z"
    }
   },
   "outputs": [
    {
     "name": "stdout",
     "output_type": "stream",
     "text": [
      "h\n",
      "e\n",
      "l\n",
      "l\n",
      "o\n",
      ",\n",
      " \n",
      "w\n",
      "o\n",
      "r\n",
      "l\n",
      "d\n",
      "!\n"
     ]
    }
   ],
   "source": [
    "iter_string = 'hello, world!'\n",
    "for c in iter_string:\n",
    "    print(c)"
   ]
  },
  {
   "cell_type": "markdown",
   "metadata": {},
   "source": [
    "### `break` statement"
   ]
  },
  {
   "cell_type": "code",
   "execution_count": null,
   "metadata": {},
   "outputs": [],
   "source": []
  },
  {
   "cell_type": "markdown",
   "metadata": {},
   "source": [
    "### `continue` statement"
   ]
  },
  {
   "cell_type": "code",
   "execution_count": null,
   "metadata": {},
   "outputs": [],
   "source": []
  },
  {
   "cell_type": "markdown",
   "metadata": {},
   "source": [
    "### List Comprehesion"
   ]
  },
  {
   "cell_type": "code",
   "execution_count": 275,
   "metadata": {
    "ExecuteTime": {
     "end_time": "2022-02-11T17:18:13.464640Z",
     "start_time": "2022-02-11T17:18:13.450494Z"
    }
   },
   "outputs": [
    {
     "data": {
      "text/plain": [
       "[1, 3, 5, 7, 9, 11]"
      ]
     },
     "execution_count": 275,
     "metadata": {},
     "output_type": "execute_result"
    }
   ],
   "source": [
    "lst_a = []\n",
    "for i in range(1, 12, 2):\n",
    "    lst_a.append(i)\n",
    "lst_a"
   ]
  },
  {
   "cell_type": "code",
   "execution_count": 276,
   "metadata": {
    "ExecuteTime": {
     "end_time": "2022-02-11T17:18:13.479800Z",
     "start_time": "2022-02-11T17:18:13.465708Z"
    }
   },
   "outputs": [
    {
     "data": {
      "text/plain": [
       "[1, 9, 25, 49, 81, 121]"
      ]
     },
     "execution_count": 276,
     "metadata": {},
     "output_type": "execute_result"
    }
   ],
   "source": [
    "lst_a = [i**2 for i in range(1, 12, 2) ]\n",
    "lst_a"
   ]
  },
  {
   "cell_type": "code",
   "execution_count": 277,
   "metadata": {
    "ExecuteTime": {
     "end_time": "2022-02-11T17:18:13.495498Z",
     "start_time": "2022-02-11T17:18:13.481424Z"
    }
   },
   "outputs": [
    {
     "data": {
      "text/plain": [
       "[1, 2, 3, 4, 5, 6, 7, 8, 9, 10, 11]"
      ]
     },
     "execution_count": 277,
     "metadata": {},
     "output_type": "execute_result"
    }
   ],
   "source": [
    "lst_a = [i for i in range(1, 12) ]\n",
    "lst_a"
   ]
  },
  {
   "cell_type": "code",
   "execution_count": 278,
   "metadata": {
    "ExecuteTime": {
     "end_time": "2022-02-11T17:18:13.511210Z",
     "start_time": "2022-02-11T17:18:13.497041Z"
    }
   },
   "outputs": [
    {
     "data": {
      "text/plain": [
       "[0, 1, 2, 3, 4, 5, 6, 7, 8, 9, 10, 11]"
      ]
     },
     "execution_count": 278,
     "metadata": {},
     "output_type": "execute_result"
    }
   ],
   "source": [
    "lst_a = [i for i in range(12) ]\n",
    "lst_a"
   ]
  },
  {
   "cell_type": "code",
   "execution_count": null,
   "metadata": {},
   "outputs": [],
   "source": []
  },
  {
   "cell_type": "code",
   "execution_count": 279,
   "metadata": {
    "ExecuteTime": {
     "end_time": "2022-02-11T17:18:13.526572Z",
     "start_time": "2022-02-11T17:18:13.513349Z"
    }
   },
   "outputs": [
    {
     "data": {
      "text/plain": [
       "[0, 4, 16, 36, 64, 100]"
      ]
     },
     "execution_count": 279,
     "metadata": {},
     "output_type": "execute_result"
    }
   ],
   "source": [
    "lst_b = [a**2 for a in lst_a if a % 2 == 0]\n",
    "lst_b"
   ]
  },
  {
   "cell_type": "code",
   "execution_count": 280,
   "metadata": {
    "ExecuteTime": {
     "end_time": "2022-02-11T17:18:13.541749Z",
     "start_time": "2022-02-11T17:18:13.527665Z"
    }
   },
   "outputs": [
    {
     "data": {
      "text/plain": [
       "[12, 15, 18, 21, 24, 27, 30]"
      ]
     },
     "execution_count": 280,
     "metadata": {},
     "output_type": "execute_result"
    }
   ],
   "source": [
    "lst = [i for i in range(1, 32) if i % 3 == 0 and i > 10]\n",
    "lst"
   ]
  },
  {
   "cell_type": "code",
   "execution_count": null,
   "metadata": {},
   "outputs": [],
   "source": []
  }
 ],
 "metadata": {
  "kernelspec": {
   "display_name": "Python 3 (ipykernel)",
   "language": "python",
   "name": "python3"
  },
  "language_info": {
   "codemirror_mode": {
    "name": "ipython",
    "version": 3
   },
   "file_extension": ".py",
   "mimetype": "text/x-python",
   "name": "python",
   "nbconvert_exporter": "python",
   "pygments_lexer": "ipython3",
   "version": "3.9.7"
  },
  "toc": {
   "base_numbering": 1,
   "nav_menu": {
    "height": "283px",
    "width": "177px"
   },
   "number_sections": true,
   "sideBar": true,
   "skip_h1_title": true,
   "title_cell": "Table of Contents",
   "title_sidebar": "Contents",
   "toc_cell": false,
   "toc_position": {
    "height": "calc(100% - 180px)",
    "left": "10px",
    "top": "150px",
    "width": "179.167px"
   },
   "toc_section_display": true,
   "toc_window_display": true
  }
 },
 "nbformat": 4,
 "nbformat_minor": 2
}
