{
 "cells": [
  {
   "cell_type": "markdown",
   "metadata": {},
   "source": [
    "# NumPy Polynomial Fit"
   ]
  },
  {
   "cell_type": "code",
   "execution_count": 1,
   "metadata": {
    "ExecuteTime": {
     "end_time": "2022-02-28T18:33:22.667525Z",
     "start_time": "2022-02-28T18:33:22.046646Z"
    }
   },
   "outputs": [],
   "source": [
    "import numpy as np\n",
    "import matplotlib.pyplot as plt"
   ]
  },
  {
   "cell_type": "markdown",
   "metadata": {},
   "source": [
    "## Load Data"
   ]
  },
  {
   "cell_type": "code",
   "execution_count": 2,
   "metadata": {
    "ExecuteTime": {
     "end_time": "2022-02-28T18:33:22.683062Z",
     "start_time": "2022-02-28T18:33:22.668942Z"
    }
   },
   "outputs": [],
   "source": [
    "data = np.load('polynomial_sample.npy')"
   ]
  },
  {
   "cell_type": "markdown",
   "metadata": {},
   "source": [
    "## EDA - Exploratory Data Analysis"
   ]
  },
  {
   "cell_type": "code",
   "execution_count": 3,
   "metadata": {
    "ExecuteTime": {
     "end_time": "2022-02-28T18:33:22.698967Z",
     "start_time": "2022-02-28T18:33:22.684376Z"
    }
   },
   "outputs": [
    {
     "data": {
      "text/plain": [
       "(2, 50)"
      ]
     },
     "execution_count": 3,
     "metadata": {},
     "output_type": "execute_result"
    }
   ],
   "source": [
    "data.shape"
   ]
  },
  {
   "cell_type": "code",
   "execution_count": 4,
   "metadata": {
    "ExecuteTime": {
     "end_time": "2022-02-28T18:33:22.714317Z",
     "start_time": "2022-02-28T18:33:22.701175Z"
    }
   },
   "outputs": [],
   "source": [
    "x = data[0, :]\n",
    "y = data[1, :]"
   ]
  },
  {
   "cell_type": "markdown",
   "metadata": {},
   "source": [
    "### Plot"
   ]
  },
  {
   "cell_type": "code",
   "execution_count": 5,
   "metadata": {
    "ExecuteTime": {
     "end_time": "2022-02-28T18:33:22.823132Z",
     "start_time": "2022-02-28T18:33:22.716677Z"
    }
   },
   "outputs": [
    {
     "data": {
      "image/png": "[encoded data removed]",
      "text/plain": [
       "<Figure size 432x288 with 1 Axes>"
      ]
     },
     "metadata": {
      "needs_background": "light"
     },
     "output_type": "display_data"
    }
   ],
   "source": [
    "plt.scatter(x, y)\n",
    "plt.show()"
   ]
  },
  {
   "cell_type": "markdown",
   "metadata": {},
   "source": [
    "## Regression Fit"
   ]
  },
  {
   "cell_type": "markdown",
   "metadata": {},
   "source": [
    "### Full Data"
   ]
  },
  {
   "cell_type": "code",
   "execution_count": 6,
   "metadata": {
    "ExecuteTime": {
     "end_time": "2022-02-28T18:33:22.838369Z",
     "start_time": "2022-02-28T18:33:22.824857Z"
    }
   },
   "outputs": [
    {
     "data": {
      "text/plain": [
       "(array([ -24.        , 1530.95918367]), array([ 1.0e+00, -1.0e+02,  2.5e+03]))"
      ]
     },
     "execution_count": 6,
     "metadata": {},
     "output_type": "execute_result"
    }
   ],
   "source": [
    "poly_1 = np.polyfit(x, y, 1)\n",
    "poly_2 = np.polyfit(x, y, 2)\n",
    "\n",
    "poly_1, poly_2"
   ]
  },
  {
   "cell_type": "code",
   "execution_count": 7,
   "metadata": {
    "ExecuteTime": {
     "end_time": "2022-02-28T18:33:22.854413Z",
     "start_time": "2022-02-28T18:33:22.839444Z"
    }
   },
   "outputs": [
    {
     "data": {
      "text/plain": [
       "(array([ -24.        , 1530.95918367]), array([ 1.0e+00, -1.0e+02,  2.5e+03]))"
      ]
     },
     "execution_count": 7,
     "metadata": {},
     "output_type": "execute_result"
    }
   ],
   "source": [
    "poly_1 = np.poly1d(poly_1)\n",
    "poly_2 = np.poly1d(poly_2)\n",
    "\n",
    "poly_1.c, poly_2.c"
   ]
  },
  {
   "cell_type": "code",
   "execution_count": 8,
   "metadata": {
    "ExecuteTime": {
     "end_time": "2022-02-28T18:33:22.869767Z",
     "start_time": "2022-02-28T18:33:22.856052Z"
    }
   },
   "outputs": [
    {
     "data": {
      "text/plain": [
       "(90.95918367346962, 100.0)"
      ]
     },
     "execution_count": 8,
     "metadata": {},
     "output_type": "execute_result"
    }
   ],
   "source": [
    "poly_1(60), poly_2(60)"
   ]
  },
  {
   "cell_type": "code",
   "execution_count": 9,
   "metadata": {
    "ExecuteTime": {
     "end_time": "2022-02-28T18:33:22.884940Z",
     "start_time": "2022-02-28T18:33:22.871366Z"
    }
   },
   "outputs": [
    {
     "data": {
      "text/plain": [
       "(642.9591836734695, 169.0)"
      ]
     },
     "execution_count": 9,
     "metadata": {},
     "output_type": "execute_result"
    }
   ],
   "source": [
    "poly_1(37), poly_2(37)"
   ]
  },
  {
   "cell_type": "code",
   "execution_count": 10,
   "metadata": {
    "ExecuteTime": {
     "end_time": "2022-02-28T18:33:22.900527Z",
     "start_time": "2022-02-28T18:33:22.887447Z"
    }
   },
   "outputs": [],
   "source": [
    "yhat_1 = poly_1(x)\n",
    "yhat_2 = poly_2(x)"
   ]
  },
  {
   "cell_type": "code",
   "execution_count": 11,
   "metadata": {
    "ExecuteTime": {
     "end_time": "2022-02-28T18:33:23.008959Z",
     "start_time": "2022-02-28T18:33:22.901747Z"
    }
   },
   "outputs": [
    {
     "data": {
      "image/png": "[encoded data removed]",
      "text/plain": [
       "<Figure size 432x288 with 1 Axes>"
      ]
     },
     "metadata": {
      "needs_background": "light"
     },
     "output_type": "display_data"
    }
   ],
   "source": [
    "plt.scatter(x, y)\n",
    "\n",
    "plt.scatter(x, yhat_1)\n",
    "plt.scatter(x, yhat_2)\n",
    "\n",
    "plt.show()"
   ]
  },
  {
   "cell_type": "markdown",
   "metadata": {},
   "source": [
    "#### Residuals"
   ]
  },
  {
   "cell_type": "markdown",
   "metadata": {
    "ExecuteTime": {
     "end_time": "2022-02-28T16:33:11.055161Z",
     "start_time": "2022-02-28T16:33:11.049793Z"
    }
   },
   "source": [
    "##### TSS"
   ]
  },
  {
   "cell_type": "code",
   "execution_count": 12,
   "metadata": {
    "ExecuteTime": {
     "end_time": "2022-02-28T18:33:23.024076Z",
     "start_time": "2022-02-28T18:33:23.009993Z"
    }
   },
   "outputs": [
    {
     "data": {
      "text/plain": [
       "22691441.06418244"
      ]
     },
     "execution_count": 12,
     "metadata": {},
     "output_type": "execute_result"
    }
   ],
   "source": [
    "tss = np.power(y - y.mean(), 2).sum()\n",
    "tss"
   ]
  },
  {
   "cell_type": "markdown",
   "metadata": {
    "ExecuteTime": {
     "end_time": "2022-02-28T16:30:48.893002Z",
     "start_time": "2022-02-28T16:30:48.873512Z"
    }
   },
   "source": [
    "##### RSS"
   ]
  },
  {
   "cell_type": "code",
   "execution_count": 13,
   "metadata": {
    "ExecuteTime": {
     "end_time": "2022-02-28T18:33:23.039416Z",
     "start_time": "2022-02-28T18:33:23.025478Z"
    }
   },
   "outputs": [
    {
     "data": {
      "text/plain": [
       "(9012616.574386522, 1.3219318007054123e-24)"
      ]
     },
     "execution_count": 13,
     "metadata": {},
     "output_type": "execute_result"
    }
   ],
   "source": [
    "rss1, rss2 = np.power(y - yhat_1, 2).sum(), np.power(y - yhat_2, 2).sum()\n",
    "rss1, rss2"
   ]
  },
  {
   "cell_type": "markdown",
   "metadata": {
    "ExecuteTime": {
     "end_time": "2022-02-28T16:32:26.467199Z",
     "start_time": "2022-02-28T16:32:26.449269Z"
    }
   },
   "source": [
    "##### MSE"
   ]
  },
  {
   "cell_type": "code",
   "execution_count": 14,
   "metadata": {
    "ExecuteTime": {
     "end_time": "2022-02-28T18:33:23.054662Z",
     "start_time": "2022-02-28T18:33:23.040591Z"
    }
   },
   "outputs": [
    {
     "data": {
      "text/plain": [
       "(180252.33148773044, 2.6438636014108245e-26)"
      ]
     },
     "execution_count": 14,
     "metadata": {},
     "output_type": "execute_result"
    }
   ],
   "source": [
    "np.power(y - yhat_1, 2).mean(), np.power(y - yhat_2, 2).mean()"
   ]
  },
  {
   "cell_type": "markdown",
   "metadata": {},
   "source": [
    "##### R2"
   ]
  },
  {
   "cell_type": "code",
   "execution_count": 15,
   "metadata": {
    "ExecuteTime": {
     "end_time": "2022-02-28T18:33:23.069848Z",
     "start_time": "2022-02-28T18:33:23.055736Z"
    }
   },
   "outputs": [
    {
     "data": {
      "text/plain": [
       "(0.6028186773641016, 1.0)"
      ]
     },
     "execution_count": 15,
     "metadata": {},
     "output_type": "execute_result"
    }
   ],
   "source": [
    "1-rss1/tss, 1-rss2/tss"
   ]
  },
  {
   "cell_type": "markdown",
   "metadata": {},
   "source": [
    "### Train-Test Split"
   ]
  },
  {
   "cell_type": "code",
   "execution_count": 16,
   "metadata": {
    "ExecuteTime": {
     "end_time": "2022-02-28T18:33:23.085060Z",
     "start_time": "2022-02-28T18:33:23.070951Z"
    }
   },
   "outputs": [],
   "source": [
    "train_test_ratio = 0.80"
   ]
  },
  {
   "cell_type": "code",
   "execution_count": 17,
   "metadata": {
    "ExecuteTime": {
     "end_time": "2022-02-28T18:33:23.100493Z",
     "start_time": "2022-02-28T18:33:23.087450Z"
    }
   },
   "outputs": [
    {
     "data": {
      "text/plain": [
       "40"
      ]
     },
     "execution_count": 17,
     "metadata": {},
     "output_type": "execute_result"
    }
   ],
   "source": [
    "train_cnt = round(train_test_ratio * x.shape[0])\n",
    "train_cnt"
   ]
  },
  {
   "cell_type": "markdown",
   "metadata": {},
   "source": [
    "#### By Index"
   ]
  },
  {
   "cell_type": "code",
   "execution_count": 18,
   "metadata": {
    "ExecuteTime": {
     "end_time": "2022-02-28T18:33:23.116088Z",
     "start_time": "2022-02-28T18:33:23.102008Z"
    }
   },
   "outputs": [],
   "source": [
    "train_x, test_x = x[:train_cnt], x[train_cnt:]\n",
    "train_y, test_y = y[:train_cnt], y[train_cnt:]"
   ]
  },
  {
   "cell_type": "code",
   "execution_count": 19,
   "metadata": {
    "ExecuteTime": {
     "end_time": "2022-02-28T18:33:23.131749Z",
     "start_time": "2022-02-28T18:33:23.118150Z"
    }
   },
   "outputs": [],
   "source": [
    "poly_1 = np.polyfit(train_x, train_y, 1)\n",
    "poly_2 = np.polyfit(train_x, train_y, 2)"
   ]
  },
  {
   "cell_type": "code",
   "execution_count": 20,
   "metadata": {
    "ExecuteTime": {
     "end_time": "2022-02-28T18:33:23.147269Z",
     "start_time": "2022-02-28T18:33:23.134169Z"
    }
   },
   "outputs": [],
   "source": [
    "poly_1 = np.poly1d(poly_1)\n",
    "poly_2 = np.poly1d(poly_2)"
   ]
  },
  {
   "cell_type": "code",
   "execution_count": 21,
   "metadata": {
    "ExecuteTime": {
     "end_time": "2022-02-28T18:33:23.162755Z",
     "start_time": "2022-02-28T18:33:23.148614Z"
    }
   },
   "outputs": [],
   "source": [
    "test_yhat_1 = poly_1(test_x)\n",
    "test_yhat_2 = poly_2(test_x)"
   ]
  },
  {
   "cell_type": "code",
   "execution_count": 22,
   "metadata": {
    "ExecuteTime": {
     "end_time": "2022-02-28T18:33:23.287586Z",
     "start_time": "2022-02-28T18:33:23.164261Z"
    }
   },
   "outputs": [
    {
     "data": {
      "image/png": "[encoded data removed]",
      "text/plain": [
       "<Figure size 432x288 with 1 Axes>"
      ]
     },
     "metadata": {
      "needs_background": "light"
     },
     "output_type": "display_data"
    }
   ],
   "source": [
    "plt.scatter(x, y)\n",
    "\n",
    "plt.plot(train_x, poly_1(train_x))\n",
    "plt.plot(train_x, poly_2(train_x))\n",
    "\n",
    "plt.plot(test_x, test_yhat_1)\n",
    "plt.plot(test_x, test_yhat_2)\n",
    "\n",
    "plt.show()"
   ]
  },
  {
   "cell_type": "code",
   "execution_count": 23,
   "metadata": {
    "ExecuteTime": {
     "end_time": "2022-02-28T18:33:23.302845Z",
     "start_time": "2022-02-28T18:33:23.289174Z"
    }
   },
   "outputs": [
    {
     "data": {
      "text/plain": [
       "(1407975.8210583138, 1.5683069764192644e-23)"
      ]
     },
     "execution_count": 23,
     "metadata": {},
     "output_type": "execute_result"
    }
   ],
   "source": [
    "# MSE\n",
    "np.power(test_y - test_yhat_1, 2).mean(), np.power(test_y - test_yhat_2, 2).mean()"
   ]
  },
  {
   "cell_type": "markdown",
   "metadata": {},
   "source": [
    "#### Random Sampling v1"
   ]
  },
  {
   "cell_type": "code",
   "execution_count": 24,
   "metadata": {
    "ExecuteTime": {
     "end_time": "2022-02-28T18:33:23.318712Z",
     "start_time": "2022-02-28T18:33:23.303932Z"
    }
   },
   "outputs": [
    {
     "data": {
      "text/plain": [
       "(array([13, 39, 30, 45, 17, 48, 26, 25, 32, 19, 12,  4, 37,  8,  3,  6, 41,\n",
       "        46, 47, 15,  9, 16, 24, 34, 31,  0, 44, 27, 33,  5, 29, 11, 36,  1,\n",
       "        21,  2, 43, 35, 23, 40]),\n",
       " array([ 7, 10, 14, 18, 20, 22, 28, 38, 42, 49]))"
      ]
     },
     "execution_count": 24,
     "metadata": {},
     "output_type": "execute_result"
    }
   ],
   "source": [
    "np.random.seed(42)\n",
    "train_ids = np.random.choice(range(x.shape[0]), size=train_cnt, replace=False)\n",
    "\n",
    "test_ids = np.setdiff1d(range(x.shape[0]), train_ids)\n",
    "\n",
    "train_ids, test_ids"
   ]
  },
  {
   "cell_type": "code",
   "execution_count": 25,
   "metadata": {
    "ExecuteTime": {
     "end_time": "2022-02-28T18:33:23.334058Z",
     "start_time": "2022-02-28T18:33:23.320461Z"
    }
   },
   "outputs": [],
   "source": [
    "train_x, train_y = x[train_ids], y[train_ids]\n",
    "test_x, test_y = x[test_ids], y[test_ids]"
   ]
  },
  {
   "cell_type": "code",
   "execution_count": 26,
   "metadata": {
    "ExecuteTime": {
     "end_time": "2022-02-28T18:33:23.349536Z",
     "start_time": "2022-02-28T18:33:23.336131Z"
    }
   },
   "outputs": [],
   "source": [
    "poly_1 = np.polyfit(train_x, train_y, 1)\n",
    "poly_2 = np.polyfit(train_x, train_y, 2)"
   ]
  },
  {
   "cell_type": "code",
   "execution_count": 27,
   "metadata": {
    "ExecuteTime": {
     "end_time": "2022-02-28T18:33:23.364710Z",
     "start_time": "2022-02-28T18:33:23.351203Z"
    }
   },
   "outputs": [],
   "source": [
    "poly_1 = np.poly1d(poly_1)\n",
    "poly_2 = np.poly1d(poly_2)"
   ]
  },
  {
   "cell_type": "code",
   "execution_count": 28,
   "metadata": {
    "ExecuteTime": {
     "end_time": "2022-02-28T18:33:23.380245Z",
     "start_time": "2022-02-28T18:33:23.369178Z"
    }
   },
   "outputs": [],
   "source": [
    "test_yhat_1 = poly_1(test_x)\n",
    "test_yhat_2 = poly_2(test_x)"
   ]
  },
  {
   "cell_type": "code",
   "execution_count": 29,
   "metadata": {
    "ExecuteTime": {
     "end_time": "2022-02-28T18:33:23.472131Z",
     "start_time": "2022-02-28T18:33:23.381256Z"
    }
   },
   "outputs": [
    {
     "data": {
      "image/png": "[encoded data removed]",
      "text/plain": [
       "<Figure size 432x288 with 1 Axes>"
      ]
     },
     "metadata": {
      "needs_background": "light"
     },
     "output_type": "display_data"
    }
   ],
   "source": [
    "plt.scatter(x, y)\n",
    "\n",
    "# plt.scatter(train_x, poly_1(train_x))\n",
    "# plt.scatter(train_x, poly_2(train_x))\n",
    "\n",
    "plt.scatter(test_x, test_yhat_1)\n",
    "plt.scatter(test_x, test_yhat_2)\n",
    "\n",
    "plt.show()"
   ]
  },
  {
   "cell_type": "code",
   "execution_count": 30,
   "metadata": {
    "ExecuteTime": {
     "end_time": "2022-02-28T18:33:23.487462Z",
     "start_time": "2022-02-28T18:33:23.473441Z"
    }
   },
   "outputs": [
    {
     "data": {
      "text/plain": [
       "(190675.03987694386, 1.5203331262202812e-24)"
      ]
     },
     "execution_count": 30,
     "metadata": {},
     "output_type": "execute_result"
    }
   ],
   "source": [
    "np.power(test_y - test_yhat_1, 2).mean(), np.power(test_y - test_yhat_2, 2).mean()"
   ]
  },
  {
   "cell_type": "markdown",
   "metadata": {},
   "source": [
    "#### Random Sampling v2"
   ]
  },
  {
   "cell_type": "code",
   "execution_count": 31,
   "metadata": {
    "ExecuteTime": {
     "end_time": "2022-02-28T18:33:23.503547Z",
     "start_time": "2022-02-28T18:33:23.488437Z"
    }
   },
   "outputs": [
    {
     "data": {
      "text/plain": [
       "array([0, 1, 0, 0, 0, 0, 0, 1, 0, 0, 0, 1, 1, 0, 0, 0, 0, 0, 0, 0, 0, 0,\n",
       "       0, 0, 0, 0, 0, 0, 0, 0, 0, 0, 0, 1, 1, 1, 0, 0, 0, 0, 0, 0, 0, 1,\n",
       "       0, 0, 0, 0, 0, 0])"
      ]
     },
     "execution_count": 31,
     "metadata": {},
     "output_type": "execute_result"
    }
   ],
   "source": [
    "np.random.seed(42)\n",
    "train_array = np.random.choice([0, 1],\n",
    "                               size=x.shape[0],\n",
    "                               p=[train_test_ratio, 1-train_test_ratio])\n",
    "train_array"
   ]
  },
  {
   "cell_type": "code",
   "execution_count": 32,
   "metadata": {
    "ExecuteTime": {
     "end_time": "2022-02-28T18:33:23.518864Z",
     "start_time": "2022-02-28T18:33:23.504801Z"
    }
   },
   "outputs": [
    {
     "data": {
      "text/plain": [
       "(array([ 0,  2,  3,  4,  5,  6,  8,  9, 10, 13, 14, 15, 16, 17, 18, 19, 20,\n",
       "        21, 22, 23, 24, 25, 26, 27, 28, 29, 30, 31, 32, 36, 37, 38, 39, 40,\n",
       "        41, 42, 44, 45, 46, 47, 48, 49]),\n",
       " array([ 1,  7, 11, 12, 33, 34, 35, 43]))"
      ]
     },
     "execution_count": 32,
     "metadata": {},
     "output_type": "execute_result"
    }
   ],
   "source": [
    "train_ids = np.arange(x.shape[0])[train_array == 0]\n",
    "test_ids = np.arange(x.shape[0])[train_array == 1]\n",
    "train_ids, test_ids"
   ]
  },
  {
   "cell_type": "code",
   "execution_count": 33,
   "metadata": {
    "ExecuteTime": {
     "end_time": "2022-02-28T18:33:23.534861Z",
     "start_time": "2022-02-28T18:33:23.520185Z"
    }
   },
   "outputs": [],
   "source": [
    "train_x, train_y = x[train_ids], y[train_ids]\n",
    "test_x, test_y = x[test_ids], y[test_ids]"
   ]
  },
  {
   "cell_type": "code",
   "execution_count": 34,
   "metadata": {
    "ExecuteTime": {
     "end_time": "2022-02-28T18:33:23.549492Z",
     "start_time": "2022-02-28T18:33:23.537389Z"
    }
   },
   "outputs": [
    {
     "data": {
      "text/plain": [
       "((42,), (8,))"
      ]
     },
     "execution_count": 34,
     "metadata": {},
     "output_type": "execute_result"
    }
   ],
   "source": [
    "train_x.shape, test_x.shape"
   ]
  },
  {
   "cell_type": "code",
   "execution_count": 35,
   "metadata": {
    "ExecuteTime": {
     "end_time": "2022-02-28T18:33:23.564703Z",
     "start_time": "2022-02-28T18:33:23.551520Z"
    }
   },
   "outputs": [],
   "source": [
    "poly_1 = np.polyfit(train_x, train_y, 1)\n",
    "poly_2 = np.polyfit(train_x, train_y, 2)"
   ]
  },
  {
   "cell_type": "code",
   "execution_count": 36,
   "metadata": {
    "ExecuteTime": {
     "end_time": "2022-02-28T18:33:23.579880Z",
     "start_time": "2022-02-28T18:33:23.565811Z"
    }
   },
   "outputs": [],
   "source": [
    "poly_1 = np.poly1d(poly_1)\n",
    "poly_2 = np.poly1d(poly_2)"
   ]
  },
  {
   "cell_type": "code",
   "execution_count": 37,
   "metadata": {
    "ExecuteTime": {
     "end_time": "2022-02-28T18:33:23.595891Z",
     "start_time": "2022-02-28T18:33:23.579880Z"
    }
   },
   "outputs": [],
   "source": [
    "test_yhat_1 = poly_1(test_x)\n",
    "test_yhat_2 = poly_2(test_x)"
   ]
  },
  {
   "cell_type": "code",
   "execution_count": 38,
   "metadata": {
    "ExecuteTime": {
     "end_time": "2022-02-28T18:33:23.735197Z",
     "start_time": "2022-02-28T18:33:23.597929Z"
    }
   },
   "outputs": [
    {
     "data": {
      "image/png": "[encoded data removed]",
      "text/plain": [
       "<Figure size 432x288 with 1 Axes>"
      ]
     },
     "metadata": {
      "needs_background": "light"
     },
     "output_type": "display_data"
    }
   ],
   "source": [
    "plt.scatter(x, y)\n",
    "\n",
    "plt.scatter(train_x, poly_1(train_x))\n",
    "plt.scatter(train_x, poly_2(train_x))\n",
    "\n",
    "plt.scatter(test_x, test_yhat_1)\n",
    "plt.scatter(test_x, test_yhat_2)\n",
    "\n",
    "plt.show()"
   ]
  },
  {
   "cell_type": "code",
   "execution_count": 39,
   "metadata": {
    "ExecuteTime": {
     "end_time": "2022-02-28T18:33:23.750387Z",
     "start_time": "2022-02-28T18:33:23.736201Z"
    }
   },
   "outputs": [
    {
     "data": {
      "text/plain": [
       "(140973.08078511184, 2.791416459206438e-24)"
      ]
     },
     "execution_count": 39,
     "metadata": {},
     "output_type": "execute_result"
    }
   ],
   "source": [
    "# MSE\n",
    "np.power(test_y - test_yhat_1, 2).mean(), np.power(test_y - test_yhat_2, 2).mean()"
   ]
  },
  {
   "cell_type": "markdown",
   "metadata": {},
   "source": [
    "## New Functions"
   ]
  },
  {
   "cell_type": "markdown",
   "metadata": {},
   "source": [
    "### [np.polyfit()](https://numpy.org/doc/stable/reference/generated/numpy.polyfit.html)\n",
    "`np.polyfit()`\n"
   ]
  },
  {
   "cell_type": "markdown",
   "metadata": {},
   "source": [
    "### [np.poly1d()](https://numpy.org/doc/stable/reference/generated/numpy.poly1d.html)\n",
    "`np.poly1d()`"
   ]
  },
  {
   "cell_type": "markdown",
   "metadata": {},
   "source": [
    "### [np.random.choice()](https://numpy.org/doc/stable/reference/random/generated/numpy.random.choice.html)\n",
    "`np.random.choice()`"
   ]
  },
  {
   "cell_type": "markdown",
   "metadata": {},
   "source": [
    "### [np.setdiff1d()](https://numpy.org/doc/stable/reference/generated/numpy.setdiff1d.html)\n",
    "`np.setdiff1d()`"
   ]
  },
  {
   "cell_type": "code",
   "execution_count": null,
   "metadata": {},
   "outputs": [],
   "source": []
  },
  {
   "cell_type": "markdown",
   "metadata": {},
   "source": [
    "## Exercises"
   ]
  },
  {
   "cell_type": "markdown",
   "metadata": {},
   "source": [
    "### Linear Regression\n",
    "Without using `np.polyfit()` and `np.poly1d()` for simple linear regression (first order polynomial) manually calculate:\n",
    "- $\\hat{\\beta}_1 = \\frac{\\sum(X_i – \\bar{X}) (Y_i – \\bar{Y})} {\\sum(X_i – \\bar{X})^2}$\n",
    "- $\\hat{\\beta}_0 = \\bar{Y} – \\hat{\\beta}_1 \\bar{X}$\n",
    "\n",
    "after calculating $\\beta$ coefficients, then calculate $\\hat{y} = \\hat{\\beta}_1 \\times x + \\hat{\\beta}_0$ and with produced results, calculate:\n",
    "- Residual Sum of Squares (RSS)\n",
    "- Total Sum of Squares (TSS)\n",
    "- $R^2$"
   ]
  },
  {
   "cell_type": "code",
   "execution_count": 40,
   "metadata": {
    "ExecuteTime": {
     "end_time": "2022-02-28T18:33:23.766159Z",
     "start_time": "2022-02-28T18:33:23.752939Z"
    }
   },
   "outputs": [],
   "source": [
    "x_mean = x.mean()\n",
    "y_mean = y.mean()"
   ]
  },
  {
   "cell_type": "markdown",
   "metadata": {},
   "source": [
    "#### Beta_1"
   ]
  },
  {
   "cell_type": "code",
   "execution_count": 41,
   "metadata": {
    "ExecuteTime": {
     "end_time": "2022-02-28T18:33:23.781971Z",
     "start_time": "2022-02-28T18:33:23.767752Z"
    }
   },
   "outputs": [
    {
     "data": {
      "text/plain": [
       "-24.000000000000004"
      ]
     },
     "execution_count": 41,
     "metadata": {},
     "output_type": "execute_result"
    }
   ],
   "source": [
    "beta_1 = sum((x - x_mean) * (y - y_mean))/ sum((x - x_mean) ** 2)\n",
    "beta_1"
   ]
  },
  {
   "cell_type": "markdown",
   "metadata": {},
   "source": [
    "#### Beta_0"
   ]
  },
  {
   "cell_type": "code",
   "execution_count": 42,
   "metadata": {
    "ExecuteTime": {
     "end_time": "2022-02-28T18:33:23.797602Z",
     "start_time": "2022-02-28T18:33:23.783537Z"
    }
   },
   "outputs": [
    {
     "data": {
      "text/plain": [
       "1530.9591836734694"
      ]
     },
     "execution_count": 42,
     "metadata": {},
     "output_type": "execute_result"
    }
   ],
   "source": [
    "beta_0 = y_mean - beta_1 * x_mean\n",
    "beta_0"
   ]
  },
  {
   "cell_type": "markdown",
   "metadata": {},
   "source": [
    "#### Y_hat"
   ]
  },
  {
   "cell_type": "code",
   "execution_count": 43,
   "metadata": {
    "ExecuteTime": {
     "end_time": "2022-02-28T18:33:23.812989Z",
     "start_time": "2022-02-28T18:33:23.799613Z"
    }
   },
   "outputs": [],
   "source": [
    "yhat = beta_1 * x + beta_0"
   ]
  },
  {
   "cell_type": "code",
   "execution_count": 44,
   "metadata": {
    "ExecuteTime": {
     "end_time": "2022-02-28T18:33:23.921265Z",
     "start_time": "2022-02-28T18:33:23.815000Z"
    }
   },
   "outputs": [
    {
     "data": {
      "image/png": "[encoded data removed]",
      "text/plain": [
       "<Figure size 432x288 with 1 Axes>"
      ]
     },
     "metadata": {
      "needs_background": "light"
     },
     "output_type": "display_data"
    }
   ],
   "source": [
    "plt.scatter(x, y)\n",
    "\n",
    "plt.scatter(x, yhat)\n",
    "\n",
    "plt.show()"
   ]
  },
  {
   "cell_type": "markdown",
   "metadata": {},
   "source": [
    "#### RSS, TSS"
   ]
  },
  {
   "cell_type": "code",
   "execution_count": 45,
   "metadata": {
    "ExecuteTime": {
     "end_time": "2022-02-28T18:33:23.937079Z",
     "start_time": "2022-02-28T18:33:23.922889Z"
    }
   },
   "outputs": [
    {
     "data": {
      "text/plain": [
       "(9012616.574386522, 22691441.06418244)"
      ]
     },
     "execution_count": 45,
     "metadata": {},
     "output_type": "execute_result"
    }
   ],
   "source": [
    "rss = np.power(y - yhat, 2).sum()\n",
    "tss = np.power(y - y_mean, 2).sum()\n",
    "rss, tss"
   ]
  },
  {
   "cell_type": "markdown",
   "metadata": {},
   "source": [
    "#### R-Squared"
   ]
  },
  {
   "cell_type": "code",
   "execution_count": 46,
   "metadata": {
    "ExecuteTime": {
     "end_time": "2022-02-28T18:33:23.952147Z",
     "start_time": "2022-02-28T18:33:23.938080Z"
    }
   },
   "outputs": [
    {
     "data": {
      "text/plain": [
       "0.6028186773641016"
      ]
     },
     "execution_count": 46,
     "metadata": {},
     "output_type": "execute_result"
    }
   ],
   "source": [
    "r_squared = 1 - rss / tss\n",
    "r_squared"
   ]
  },
  {
   "cell_type": "code",
   "execution_count": 47,
   "metadata": {
    "ExecuteTime": {
     "end_time": "2022-02-28T18:33:23.967217Z",
     "start_time": "2022-02-28T18:33:23.953148Z"
    }
   },
   "outputs": [
    {
     "data": {
      "text/plain": [
       "array([[ 1.        , -0.77641399],\n",
       "       [-0.77641399,  1.        ]])"
      ]
     },
     "execution_count": 47,
     "metadata": {},
     "output_type": "execute_result"
    }
   ],
   "source": [
    "np.corrcoef(x, y)"
   ]
  },
  {
   "cell_type": "code",
   "execution_count": 48,
   "metadata": {
    "ExecuteTime": {
     "end_time": "2022-02-28T18:33:23.982874Z",
     "start_time": "2022-02-28T18:33:23.968698Z"
    }
   },
   "outputs": [
    {
     "data": {
      "text/plain": [
       "0.6028186773641008"
      ]
     },
     "execution_count": 48,
     "metadata": {},
     "output_type": "execute_result"
    }
   ],
   "source": [
    "np.corrcoef(x, y)[0, 1] ** 2"
   ]
  },
  {
   "cell_type": "markdown",
   "metadata": {},
   "source": [
    "### Linear Plot\n",
    "for produced results build linear plot with scattered dots.\n",
    "\n",
    "hint: to draw line on the plane two dots are necessary"
   ]
  },
  {
   "cell_type": "code",
   "execution_count": 49,
   "metadata": {
    "ExecuteTime": {
     "end_time": "2022-02-28T18:33:23.998461Z",
     "start_time": "2022-02-28T18:33:23.984831Z"
    }
   },
   "outputs": [],
   "source": [
    "x_dots = np.array([x.min(), x.max()])\n",
    "yhat_dots = beta_1 * x_dots + beta_0"
   ]
  },
  {
   "cell_type": "code",
   "execution_count": 50,
   "metadata": {
    "ExecuteTime": {
     "end_time": "2022-02-28T18:33:24.089809Z",
     "start_time": "2022-02-28T18:33:23.999486Z"
    },
    "scrolled": true
   },
   "outputs": [
    {
     "data": {
      "image/png": "[encoded data removed]",
      "text/plain": [
       "<Figure size 432x288 with 1 Axes>"
      ]
     },
     "metadata": {
      "needs_background": "light"
     },
     "output_type": "display_data"
    }
   ],
   "source": [
    "plt.scatter(x, y)\n",
    "\n",
    "plt.plot(x_dots, yhat_dots, 'r--')\n",
    "\n",
    "plt.show()"
   ]
  },
  {
   "cell_type": "markdown",
   "metadata": {},
   "source": [
    "## DRY - Don't Repeat Yourself"
   ]
  },
  {
   "cell_type": "code",
   "execution_count": 51,
   "metadata": {
    "ExecuteTime": {
     "end_time": "2022-02-28T18:33:24.105117Z",
     "start_time": "2022-02-28T18:33:24.092006Z"
    }
   },
   "outputs": [],
   "source": [
    "def reg_model(x, y, deg=1):\n",
    "    reg_poly = np.polyfit(x, y, deg)\n",
    "    reg_poly = np.poly1d(reg_poly)\n",
    "    return reg_poly\n",
    "\n",
    "poly_1 = reg_model(x, y)\n",
    "poly_2 = reg_model(x, y, 2)\n",
    "\n",
    "yhat_1 = poly_1(x)"
   ]
  },
  {
   "cell_type": "markdown",
   "metadata": {},
   "source": [
    "## Matrix Version\n",
    "\n",
    "Do It Yourself\n",
    "\n",
    "$\\beta = (X^TX)^{-1}(X^Ty)$"
   ]
  },
  {
   "cell_type": "code",
   "execution_count": null,
   "metadata": {},
   "outputs": [],
   "source": []
  }
 ],
 "metadata": {
  "kernelspec": {
   "display_name": "Python 3 (ipykernel)",
   "language": "python",
   "name": "python3"
  },
  "language_info": {
   "codemirror_mode": {
    "name": "ipython",
    "version": 3
   },
   "file_extension": ".py",
   "mimetype": "text/x-python",
   "name": "python",
   "nbconvert_exporter": "python",
   "pygments_lexer": "ipython3",
   "version": "3.9.7"
  },
  "toc": {
   "base_numbering": 1,
   "nav_menu": {},
   "number_sections": true,
   "sideBar": true,
   "skip_h1_title": true,
   "title_cell": "Table of Contents",
   "title_sidebar": "Contents",
   "toc_cell": false,
   "toc_position": {
    "height": "calc(100% - 180px)",
    "left": "10px",
    "top": "150px",
    "width": "273.2px"
   },
   "toc_section_display": true,
   "toc_window_display": true
  }
 },
 "nbformat": 4,
 "nbformat_minor": 4
}
