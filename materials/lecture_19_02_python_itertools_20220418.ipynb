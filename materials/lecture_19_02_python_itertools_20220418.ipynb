{
 "cells": [
  {
   "cell_type": "markdown",
   "id": "fd5b8b5d",
   "metadata": {},
   "source": [
    "# Python Itertools\n",
    "\n",
    "* [Documentation](https://docs.python.org/3/library/itertools.html)\n",
    "* [Real Python](https://realpython.com/python-itertools/)\n"
   ]
  },
  {
   "cell_type": "code",
   "execution_count": 1,
   "id": "cdc931cd",
   "metadata": {
    "ExecuteTime": {
     "end_time": "2022-04-17T05:23:32.768512Z",
     "start_time": "2022-04-17T05:23:32.748266Z"
    }
   },
   "outputs": [],
   "source": [
    "import itertools"
   ]
  },
  {
   "cell_type": "markdown",
   "id": "a66a3bf3",
   "metadata": {},
   "source": [
    "## Combinatoric iterators:"
   ]
  },
  {
   "cell_type": "markdown",
   "id": "85f612a7",
   "metadata": {},
   "source": [
    "### Product\n",
    "\n",
    "$$ A \\times B = \\{(a,b)|a \\in A, b \\in B \\}$$"
   ]
  },
  {
   "cell_type": "code",
   "execution_count": 2,
   "id": "40c96a73",
   "metadata": {
    "ExecuteTime": {
     "end_time": "2022-04-17T05:23:32.799328Z",
     "start_time": "2022-04-17T05:23:32.769557Z"
    }
   },
   "outputs": [
    {
     "data": {
      "text/plain": [
       "[('A', 'X'),\n",
       " ('A', 'Y'),\n",
       " ('A', 'Z'),\n",
       " ('B', 'X'),\n",
       " ('B', 'Y'),\n",
       " ('B', 'Z'),\n",
       " ('C', 'X'),\n",
       " ('C', 'Y'),\n",
       " ('C', 'Z')]"
      ]
     },
     "execution_count": 2,
     "metadata": {},
     "output_type": "execute_result"
    }
   ],
   "source": [
    "[(x, y) for x in 'ABC' for y in 'XYZ']"
   ]
  },
  {
   "cell_type": "code",
   "execution_count": 3,
   "id": "458b10f3",
   "metadata": {
    "ExecuteTime": {
     "end_time": "2022-04-17T05:23:32.814295Z",
     "start_time": "2022-04-17T05:23:32.801209Z"
    }
   },
   "outputs": [
    {
     "data": {
      "text/plain": [
       "[('A', 'X'),\n",
       " ('A', 'Y'),\n",
       " ('A', 'Z'),\n",
       " ('B', 'X'),\n",
       " ('B', 'Y'),\n",
       " ('B', 'Z'),\n",
       " ('C', 'X'),\n",
       " ('C', 'Y'),\n",
       " ('C', 'Z')]"
      ]
     },
     "execution_count": 3,
     "metadata": {},
     "output_type": "execute_result"
    }
   ],
   "source": [
    "prod = list(itertools.product('ABC', 'XYZ'))\n",
    "prod"
   ]
  },
  {
   "cell_type": "code",
   "execution_count": 4,
   "id": "f2738e1e",
   "metadata": {
    "ExecuteTime": {
     "end_time": "2022-04-17T05:23:32.829780Z",
     "start_time": "2022-04-17T05:23:32.815186Z"
    }
   },
   "outputs": [
    {
     "data": {
      "text/plain": [
       "[('A', 'A'),\n",
       " ('A', 'B'),\n",
       " ('A', 'C'),\n",
       " ('B', 'A'),\n",
       " ('B', 'B'),\n",
       " ('B', 'C'),\n",
       " ('C', 'A'),\n",
       " ('C', 'B'),\n",
       " ('C', 'C')]"
      ]
     },
     "execution_count": 4,
     "metadata": {},
     "output_type": "execute_result"
    }
   ],
   "source": [
    "[(x, y) for x in 'ABC' for y in 'ABC']"
   ]
  },
  {
   "cell_type": "code",
   "execution_count": 5,
   "id": "058bf818",
   "metadata": {
    "ExecuteTime": {
     "end_time": "2022-04-17T05:23:32.844978Z",
     "start_time": "2022-04-17T05:23:32.832046Z"
    }
   },
   "outputs": [
    {
     "data": {
      "text/plain": [
       "[('A', 'A'),\n",
       " ('A', 'B'),\n",
       " ('A', 'C'),\n",
       " ('B', 'A'),\n",
       " ('B', 'B'),\n",
       " ('B', 'C'),\n",
       " ('C', 'A'),\n",
       " ('C', 'B'),\n",
       " ('C', 'C')]"
      ]
     },
     "execution_count": 5,
     "metadata": {},
     "output_type": "execute_result"
    }
   ],
   "source": [
    "prod = list(itertools.product('ABC', repeat=2))\n",
    "prod"
   ]
  },
  {
   "cell_type": "markdown",
   "id": "0113512f",
   "metadata": {},
   "source": [
    "### Permutations\n",
    "\n",
    "$$ ^nP_k=P(n,k)=\\frac{n!}{(n-k)!} $$"
   ]
  },
  {
   "cell_type": "code",
   "execution_count": 6,
   "id": "9ffb9392",
   "metadata": {
    "ExecuteTime": {
     "end_time": "2022-04-17T05:23:32.860827Z",
     "start_time": "2022-04-17T05:23:32.846969Z"
    }
   },
   "outputs": [
    {
     "data": {
      "text/plain": [
       "[('A', 'B'), ('A', 'C'), ('B', 'A'), ('B', 'C'), ('C', 'A'), ('C', 'B')]"
      ]
     },
     "execution_count": 6,
     "metadata": {},
     "output_type": "execute_result"
    }
   ],
   "source": [
    "perm = list(itertools.permutations('ABC', 2))\n",
    "perm\n"
   ]
  },
  {
   "cell_type": "markdown",
   "id": "6d6b2c38",
   "metadata": {},
   "source": [
    "### Combinations\n",
    "$$ ^nC_k=C(n,k)=\\frac{n!}{k!(n-k)!} $$"
   ]
  },
  {
   "cell_type": "code",
   "execution_count": 7,
   "id": "7196e634",
   "metadata": {
    "ExecuteTime": {
     "end_time": "2022-04-17T05:23:32.891936Z",
     "start_time": "2022-04-17T05:23:32.877839Z"
    }
   },
   "outputs": [
    {
     "data": {
      "text/plain": [
       "[('A', 'B'), ('A', 'C'), ('B', 'C')]"
      ]
     },
     "execution_count": 7,
     "metadata": {},
     "output_type": "execute_result"
    }
   ],
   "source": [
    "comb = list(itertools.combinations('ABC', 2))\n",
    "comb\n"
   ]
  },
  {
   "cell_type": "markdown",
   "id": "70c46260",
   "metadata": {},
   "source": [
    "### Combinations with replacement"
   ]
  },
  {
   "cell_type": "code",
   "execution_count": 8,
   "id": "5b377630",
   "metadata": {
    "ExecuteTime": {
     "end_time": "2022-04-17T05:23:32.891936Z",
     "start_time": "2022-04-17T05:23:32.877839Z"
    }
   },
   "outputs": [
    {
     "data": {
      "text/plain": [
       "[('A', 'A'), ('A', 'B'), ('A', 'C'), ('B', 'B'), ('B', 'C'), ('C', 'C')]"
      ]
     },
     "execution_count": 8,
     "metadata": {},
     "output_type": "execute_result"
    }
   ],
   "source": [
    "comb_wr = list(itertools.combinations_with_replacement('ABC', 2))\n",
    "comb_wr\n"
   ]
  },
  {
   "cell_type": "code",
   "execution_count": null,
   "id": "379694be",
   "metadata": {},
   "outputs": [],
   "source": []
  }
 ],
 "metadata": {
  "kernelspec": {
   "display_name": "Python 3 (ipykernel)",
   "language": "python",
   "name": "python3"
  },
  "language_info": {
   "codemirror_mode": {
    "name": "ipython",
    "version": 3
   },
   "file_extension": ".py",
   "mimetype": "text/x-python",
   "name": "python",
   "nbconvert_exporter": "python",
   "pygments_lexer": "ipython3",
   "version": "3.9.7"
  },
  "toc": {
   "base_numbering": 1,
   "nav_menu": {},
   "number_sections": true,
   "sideBar": true,
   "skip_h1_title": false,
   "title_cell": "Table of Contents",
   "title_sidebar": "Contents",
   "toc_cell": false,
   "toc_position": {},
   "toc_section_display": true,
   "toc_window_display": false
  }
 },
 "nbformat": 4,
 "nbformat_minor": 5
}
