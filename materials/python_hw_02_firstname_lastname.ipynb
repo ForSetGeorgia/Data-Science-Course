{
 "cells": [
  {
   "cell_type": "markdown",
   "id": "2f193497",
   "metadata": {},
   "source": [
    "# 1\n",
    "დაწერეთ ფუნქცია `play()` რომელიც მოცემული `n` რიცხვისთვის სიმბოლოებით დაბეჭდავს სამკუთხედს შემდეგნაირად:\n",
    "\n",
    "`play(4)`\n",
    "\n",
    "```\n",
    "********\n",
    "***|\\***\n",
    "***| \\**\n",
    "***|  \\*\n",
    "***|  /*\n",
    "***| /**\n",
    "***|/***\n",
    "********\n",
    "```"
   ]
  },
  {
   "cell_type": "code",
   "execution_count": null,
   "id": "0b30618b",
   "metadata": {},
   "outputs": [],
   "source": []
  },
  {
   "cell_type": "markdown",
   "id": "1cbd5584",
   "metadata": {},
   "source": [
    "# 2\n",
    "დაწერეთ `calc()` ფუნქცია რომელიც string პარამეტრად მიიღებს `<რიცხვი1> <ოპერაცია> <რიცხვი2> =` და პასუხად დააბრუნებს შედეგს.\n",
    "\n",
    "მაგალითად `calc('3 * 4 =')`\n",
    "\n",
    "`12`"
   ]
  },
  {
   "cell_type": "code",
   "execution_count": null,
   "id": "0b6d8a54",
   "metadata": {},
   "outputs": [],
   "source": []
  },
  {
   "cell_type": "markdown",
   "id": "b7f56fe9",
   "metadata": {},
   "source": [
    "# 3\n",
    "დაწერეთ ფუნქცია, რომელიც მოცემული რიცხვისთვის დააბრუნებს რიცხვს, რომლის კენტ პოზიციაზე მყოფ ციფრებს შებრუნებულად დაალაგებს.\n",
    "\n",
    "* input: 3 => output: 3\n",
    "* input: 12 => output: 12\n",
    "* input: 123 => output: 321\n",
    "* input: 1234 => output: 3214\n",
    "* input: 12345 => output: 52341"
   ]
  },
  {
   "cell_type": "code",
   "execution_count": null,
   "id": "5e41f224",
   "metadata": {},
   "outputs": [],
   "source": []
  },
  {
   "cell_type": "markdown",
   "id": "426f27b5",
   "metadata": {},
   "source": [
    "# 4\n",
    "დაწერეთ ფუნქცია, რომელიც შეამოწმებს თუ რამდენად ძლიერია პაროლი შემდეგი პირობებით:\n",
    "\n",
    "- \"ძალიან სუსტი\" პაროლი შედგება მხოლოდ ციფრებისგან და სიმბოლოების რაოდენობა ნაკლებია 8-ზე;\n",
    "- \"სუსტი\" პაროლი შედგება მხოლოდ ლათინური ასოებისგან და სიმბოლოების რაოდენობა ნაკლებია 8-ზე;\n",
    "- \"ძლიერი\" პაროლი შედგება ასოებისგან, ასევე შეიცავს ერთ ციფრს მაინც, და სიმბოლოების რაოდენობა არის სულ მცირე 8;\n",
    "- \"ძალიან ძლიერი\" პაროლი შედგება ასოებისგან, ციფრებისგან, სპეციალური სიმბოლოებისგან (`.,?;:!@*()-_+=`) და სიმბოლოების რაოდენობა არის სულ მცირე 8.\n",
    "- თუ ისეთი კომბინაციაა, რომ 1:1-ში არ მიესადაგება ჩამოთვლილ პუნქტებს, კლასიფიცირდება როგორც უარესი. მაგალითად თუ 8-ზე მეტი სიმბოლოა, მაგრამ ყველა ციფრია, უნდა იყოს \"ძალიან სუსტი\""
   ]
  },
  {
   "cell_type": "code",
   "execution_count": null,
   "id": "33edd25d",
   "metadata": {},
   "outputs": [],
   "source": []
  }
 ],
 "metadata": {
  "kernelspec": {
   "display_name": "Python 3 (ipykernel)",
   "language": "python",
   "name": "python3"
  },
  "language_info": {
   "codemirror_mode": {
    "name": "ipython",
    "version": 3
   },
   "file_extension": ".py",
   "mimetype": "text/x-python",
   "name": "python",
   "nbconvert_exporter": "python",
   "pygments_lexer": "ipython3",
   "version": "3.9.7"
  },
  "toc": {
   "base_numbering": 1,
   "nav_menu": {},
   "number_sections": true,
   "sideBar": true,
   "skip_h1_title": false,
   "title_cell": "Table of Contents",
   "title_sidebar": "Contents",
   "toc_cell": false,
   "toc_position": {},
   "toc_section_display": true,
   "toc_window_display": false
  }
 },
 "nbformat": 4,
 "nbformat_minor": 5
}
